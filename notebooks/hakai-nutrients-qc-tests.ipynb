{
  "cells": [
    {
      "cell_type": "markdown",
      "metadata": {
        "id": "drTfPyUcat-7"
      },
      "source": [
        "# Hakai Nutrient QA-QC \n",
        "---\n",
        "# Start Notebook\n",
        "## Install packages \n",
        "Google colab servers has already a few commonly used packages installed. To install those missing, which are specific toh Hakai let's run the following commands:"
      ]
    },
    {
      "cell_type": "code",
      "execution_count": null,
      "metadata": {
        "colab": {
          "base_uri": "https://localhost:8080/"
        },
        "id": "YBG0H2NJM9d8",
        "outputId": "04f41e63-49f3-4a56-aac8-78f77238ef7f"
      },
      "outputs": [],
      "source": [
        "!uv sync\n",
        "%env LOG_LEVEL=ERROR"
      ]
    },
    {
      "cell_type": "markdown",
      "metadata": {
        "id": "qWFrvE7mNDoS"
      },
      "source": [
        "## Import the python packages needed"
      ]
    },
    {
      "cell_type": "code",
      "execution_count": null,
      "metadata": {
        "id": "h0_KIcJKMnTj"
      },
      "outputs": [],
      "source": [
        "# Let's load pandas for working with the data in table\n",
        "import pandas as pd \n",
        "import numpy as np\n",
        "\n",
        "# Let's load seaborn to plot the data\n",
        "import plotly.express as px\n",
        "import plotly.graph_objects as go\n",
        "from plotly.subplots import make_subplots\n",
        "\n",
        "# This to install the hakai api tool and be able to download some data from hakai's database\n",
        "from hakai_api import Client\n",
        "\n",
        "# Install ioos_qc which is used to qc data\n",
        "from ioos_qc import qartod\n",
        "\n",
        "from ipywidgets import interact, interactive, fixed, interact_manual\n",
        "from ipywidgets import widgets, HBox, VBox\n",
        "# import time\n",
        "\n",
        "from hakai_qc.flags import flag_color_map, flag_qartod_to_hakai\n",
        "from  hakai_qc.qc import qc_dataframe"
      ]
    },
    {
      "cell_type": "markdown",
      "metadata": {
        "id": "Ta-D7LqDb5y4"
      },
      "source": [
        "# Define some project standards and get Hakai API credentials "
      ]
    },
    {
      "cell_type": "code",
      "execution_count": null,
      "metadata": {
        "colab": {
          "base_uri": "https://localhost:8080/"
        },
        "id": "b4RQtYkXb5y4",
        "outputId": "c77bdea5-e715-42e2-e882-f94bd3e058c9"
      },
      "outputs": [],
      "source": [
        "# And the interesting variables to use from the Hakai database\n",
        "nutrient_variables = ['no2_no3_um','sio2','po4']\n",
        "\n",
        "pd.options.display.max_columns = 100\n",
        "client = Client(auth_flow=\"desktop\")"
      ]
    },
    {
      "cell_type": "markdown",
      "metadata": {
        "id": "npJYsy0b3dyJ"
      },
      "source": [
        "# Download data from the Hakai database\n",
        "For more information regarding the Hakai API, go [here](https://github.com/HakaiInstitute/hakai-api).\n",
        "\n",
        "You can find a list of all the data type endpoints [here](http://hakaiinstitute.github.io/hakai-api/#endpoints)."
      ]
    },
    {
      "cell_type": "code",
      "execution_count": null,
      "metadata": {
        "colab": {
          "base_uri": "https://localhost:8080/",
          "height": 549
        },
        "id": "EIh2QFfg3e1h",
        "outputId": "08a53918-b0e5-48a2-872b-a8550d75dd8a"
      },
      "outputs": [],
      "source": [
        "# Let's retrieve the endpoint to retrieve nutrients data:\n",
        "endpointUrl = '/eims/views/output/nutrients'\n",
        "site_id = 'QU39'\n",
        "site_id = '1015 OUTLET'\n",
        "start_time = '2022-06-11'\n",
        "# end_time = '2026-06-11'\n",
        "# We'll retrieve data only associated with QU39 between January 1st 2019 to January 1st 2020\n",
        "filterUrl = 'site_id={0}&collected>{1}&limit=-1'.format(\n",
        "    site_id, start_time\n",
        ")\n",
        "# filterUrl = 'collected>{0}&limit=-1'.format(\n",
        "#     start_time\n",
        "# )\n",
        "\n",
        "# Make a data request for sampling stations\n",
        "url = f'{client.api_root}/{endpointUrl}?{filterUrl}'\n",
        "response = client.get(url)\n",
        "df = pd.DataFrame(response.json())\n",
        "df_original = df.copy()\n",
        "original_columns = df.columns\n",
        "print(f'{len(df)} records downloaded')\n",
        "df.head()"
      ]
    },
    {
      "cell_type": "code",
      "execution_count": null,
      "metadata": {
        "id": "Y65s9jnlQ1Ej"
      },
      "outputs": [],
      "source": [
        "# Let's convert the collected time to a datetime object variable called  time \n",
        "#  and extract the from those datetime objects the year and month \n",
        "df['time'] = pd.to_datetime(df['collected'],utc=True).dt.tz_localize(None)\n",
        "df['year'] = df['time'].dt.year\n",
        "df['month'] = df['time'].dt.month\n",
        "df['dayoftheyear'] = pd.to_timedelta(df['time'].dt.dayofyear, unit='d')\n",
        "\n",
        "# Define a depth variable which is: \n",
        "#   - pressure_transducer_depth (if available)\n",
        "#   - OR line_out_depth\n",
        "df['depth'] = df['pressure_transducer_depth'].fillna(df['line_out_depth'])"
      ]
    },
    {
      "cell_type": "markdown",
      "metadata": {
        "id": "UyxDCvmCV8oC"
      },
      "source": [
        "# Review Replicates\n",
        "## Pool Standard Deviation\n"
      ]
    },
    {
      "cell_type": "code",
      "execution_count": null,
      "metadata": {
        "colab": {
          "base_uri": "https://localhost:8080/"
        },
        "id": "OY0-mPhPWEFO",
        "outputId": "70e42dce-ee9d-4fd3-f522-b271bf1635d5"
      },
      "outputs": [],
      "source": [
        " # Let's create a pooled standard deviation function\n",
        "def pooled_standard_deviation(df_to_review,count_col='count',std_col='std'):\n",
        "    # Keep only records that have replicates\n",
        "    df_replicates = df_to_review[df_to_review[count_col]>1]\n",
        "    upper =  df_replicates[count_col].sub(1).mul(df_replicates[std_col].pow(2)).sum()\n",
        "    lower = df_replicates[count_col].sub(1).sum()\n",
        "    return np.sqrt(upper/lower)\n",
        "\n",
        "# Get pool standard deviation values from replicates\n",
        "df_grouped = df.groupby(['site_id','line_out_depth','collected'])[['no2_no3_um','sio2','po4']].agg(['mean','std','count'])\n",
        "\n",
        "# printresults\n",
        "for var in nutrient_variables:\n",
        "    pool_std = pooled_standard_deviation(df_grouped[var])\n",
        "    print('{0} pool.std.: {1}'.format(var,pool_std))"
      ]
    },
    {
      "cell_type": "code",
      "execution_count": null,
      "metadata": {},
      "outputs": [],
      "source": [
        "def pool_std(stds,counts):\n",
        "    upper =np.sum(np.subtract(counts,1)*np.power(stds,2))\n",
        "    lower = np.subtract(np.sum(counts),len(counts))\n",
        "    return np.sqrt((upper/lower))\n",
        "\n",
        "def pool_std(stds,counts):\n",
        "    upper = (counts.sub(1).mul(stds.pow(2))).sum()\n",
        "    lower = (counts.sum()-len(counts)).sum()\n",
        "    return np.sqrt(upper/lower)\n",
        "\n",
        "pool_std(pd.Series([4.222321,5.823036,5.249778]),pd.Series([20,75,35]))"
      ]
    },
    {
      "cell_type": "code",
      "execution_count": null,
      "metadata": {},
      "outputs": [],
      "source": [
        "df_grouped"
      ]
    },
    {
      "cell_type": "code",
      "execution_count": null,
      "metadata": {},
      "outputs": [],
      "source": [
        "#df_stats = df_grouped.swaplevel(-1,0,axis='columns')\n",
        "#df_stats\n",
        "#df_stats.loc[(df_stats['count']>1).all(axis='columns')].groupby(level=1).apply(lambda x: pool_std(x.std,x.count))"
      ]
    },
    {
      "cell_type": "markdown",
      "metadata": {
        "id": "iPkHSoC3WTrO"
      },
      "source": [
        "## Replicates Standard Deviation Distribution\n",
        "Present the distribution of the standard deviations the replicate samples for each line_out_depth."
      ]
    },
    {
      "cell_type": "code",
      "execution_count": null,
      "metadata": {
        "colab": {
          "base_uri": "https://localhost:8080/",
          "height": 1000
        },
        "id": "SrarVMQlQep2",
        "outputId": "bf0b2744-6345-407a-a051-c72969923012"
      },
      "outputs": [],
      "source": [
        "replicates = df_grouped.stack(level=0).dropna(subset=['std']).sort_index(level=1)\n",
        "replicates.index.names = ['site_id', 'line_out_depth', 'collected', 'nutrients']\n",
        "\n",
        "fig = px.histogram(replicates.reset_index(),\n",
        "              x='std',color='line_out_depth', hover_name='collected',\n",
        "              facet_row='nutrients')\n",
        "fig.update_layout(width=1400, height=1500)\n",
        "fig.update_xaxes(matches=None)\n",
        "fig.for_each_xaxis(lambda xaxis: xaxis.update(showticklabels=True)) \n",
        "fig.update_yaxes(matches=None)\n",
        "fig.for_each_yaxis(lambda yaxis: yaxis.update(showticklabels=True))\n",
        "fig.show()"
      ]
    },
    {
      "cell_type": "markdown",
      "metadata": {
        "id": "lhKj_vzjNM1_"
      },
      "source": [
        "# Time series QARTOD tests\n",
        "Review each depth time series for a station and run timeseries specific test on them. The configuarion dictionary below, list of each variables and depth ranges the tests that will be applied.\n"
      ]
    },
    {
      "cell_type": "markdown",
      "metadata": {
        "id": "vRnAgR09WasV"
      },
      "source": [
        "## Set QARTOD Tests Configuration"
      ]
    },
    {
      "cell_type": "code",
      "execution_count": null,
      "metadata": {
        "id": "OlzvmaEhAad0"
      },
      "outputs": [],
      "source": [
        "nutrients_qc_configs= {\n",
        "    \"-5 < depth < 50\": \"\"\"\n",
        "        contexts:\n",
        "                -   window:\n",
        "                        starting: 2010-01-01T00:00:00\n",
        "                        ending: null\n",
        "                    streams:\n",
        "                        no2_no3_um:\n",
        "                            qartod:\n",
        "                                gross_range_test:\n",
        "                                    suspect_span: [0, 36]\n",
        "                                    fail_span: [0, 40]\n",
        "                        po4:\n",
        "                            qartod:\n",
        "                                gross_range_test:\n",
        "                                    suspect_span: [0, 3]\n",
        "                                    fail_span: [0, 4]\n",
        "                        sio2:\n",
        "                            qartod:\n",
        "                                gross_range_test:\n",
        "                                    suspect_span: [0,80]\n",
        "                                    fail_span: [0,100]\n",
        "        \"\"\"\n",
        "    ,\n",
        "    \"50<=depth\": \"\"\"\n",
        "        contexts:\n",
        "             -  window:\n",
        "                    starting: 2010-01-01T00:00:00\n",
        "                    ending: null\n",
        "                streams:\n",
        "                    no2_no3_um:\n",
        "                        qartod:\n",
        "                            gross_range_test:\n",
        "                                suspect_span: [0, 36]\n",
        "                                fail_span: [0, 40]\n",
        "                            spike_test:\n",
        "                                suspect_threshold: 2\n",
        "                                fail_threshold: 3\n",
        "                                method: 'differential'\n",
        "                    po4:\n",
        "                        qartod:\n",
        "                            gross_range_test:\n",
        "                                suspect_span: [0, 3]\n",
        "                                fail_span: [0, 4]\n",
        "                            spike_test:\n",
        "                                suspect_threshold: 0.2\n",
        "                                fail_threshold: 0.4\n",
        "                                method: 'differential'\n",
        "                    sio2:\n",
        "                        qartod:\n",
        "                            gross_range_test:\n",
        "                                suspect_span: [0,80]\n",
        "                                fail_span: [0,100]\n",
        "                            spike_test:\n",
        "                                suspect_threshold: 8\n",
        "                                fail_threshold: 12\n",
        "                                method: 'differential'\n",
        "        \"\"\"\n",
        "}"
      ]
    },
    {
      "cell_type": "markdown",
      "metadata": {
        "id": "buMYUgqZWf3m"
      },
      "source": [
        "## Run QARTOD Tests on Depth TimeSeries\n"
      ]
    },
    {
      "cell_type": "code",
      "execution_count": null,
      "metadata": {
        "id": "JenNrAM5R0Ro"
      },
      "outputs": [],
      "source": [
        "# Run QARTOD tests\n",
        "overwrite_existing_flags = True\n",
        "#overwrite_existing_flags = False\n",
        "df = qc_dataframe(df.drop(columns=[col for col in df.columns if 'qartod' in col]),configs=nutrients_qc_configs,groupby=['site_id','line_out_depth'])\n",
        "print(df[['no2_no3_um','no2_no3_flag','po4','po4_flag','sio2','sio2_flag']])\n",
        "df = df.set_index(['index']).sort_index()\n",
        "df['year'] = df['year'].astype(int)\n",
        "# aggregate flags\n",
        "for var in ['no2_no3_um','po4','sio2']:\n",
        "    agg_flag = f\"{var}_qartod_aggregate\"\n",
        "    df.loc[:,agg_flag] = qartod.qartod_compare(df.filter(like=var+'_qartod_').fillna(9).astype(int).transpose().to_numpy())\n",
        "    # Map to hakai convention and update empty flags\n",
        "    var_flag = \"no2_no3_flag\" if var == 'no2_no3_um' else f\"{var}_flag\"\n",
        "    if overwrite_existing_flags:\n",
        "        df.loc[:,var_flag] = df[agg_flag].replace(flag_qartod_to_hakai)\n",
        "    else:\n",
        "        df.loc[:,var_flag] = df[var_flag].fillna(df[agg_flag].replace(flag_qartod_to_hakai))\n",
        "\n",
        "\n",
        "# Apply lower than detection limit flag as BDL\n",
        "df.loc[df['no2_no3_um']<0.036 ,'no2_no3_um_flag']='BDL'\n",
        "df.loc[df['po4']<0.032 ,'po4_flag']='BDL'\n",
        "df.loc[df['sio2']<0.1 ,'sio2_flag']='BDL'\n"
      ]
    },
    {
      "cell_type": "markdown",
      "metadata": {
        "id": "LjTS4p56WQuL"
      },
      "source": [
        "## Review QARTOD Results"
      ]
    },
    {
      "cell_type": "code",
      "execution_count": null,
      "metadata": {
        "colab": {
          "base_uri": "https://localhost:8080/"
        },
        "id": "Ba_9ILJEQep3",
        "outputId": "231587c3-b635-4dc7-d6f6-4d9a000f6092"
      },
      "outputs": [],
      "source": [
        "df.columns"
      ]
    },
    {
      "cell_type": "code",
      "execution_count": null,
      "metadata": {
        "colab": {
          "base_uri": "https://localhost:8080/",
          "height": 779,
          "referenced_widgets": [
            "b680c36751ba43e2beefaa698ef651a3",
            "61964a8de56b4193a04bcaddaf93dd8f",
            "3817adc9a5de442ca736089d481be6ea",
            "6d4740b9f2394d2baadccf4543eb25da",
            "61f1fb6382664201bf015eb7bb29ce85",
            "2162866c50024f4190dc6fce77cd2a75",
            "9493ae9960f94df58c143d7ad68baf9d",
            "074509fd8f52439d8d732f078d3bfdcc",
            "7ad3435abeb447a2aa3c6414e2156963",
            "c79ab52eb85e41c8ab65bdcdc8c83f92"
          ]
        },
        "id": "qvg39Ry3_j05",
        "outputId": "2fcd4e09-3e23-4fb0-c7d9-60efdd8349da"
      },
      "outputs": [],
      "source": [
        "# flag_color_map = {key:value['Color'] for key,value in review.flag_conventions['HAKAI'].items()}\n",
        "\n",
        "line_out_depths = line_out_depth=df['line_out_depth'].drop_duplicates().sort_values().tolist()\n",
        "line_out_depth_selector = widgets.SelectMultiple(\n",
        "    options=line_out_depths,\n",
        "    value=[line_out_depths[0]],\n",
        "    description='line_out_depth',\n",
        ")\n",
        "line_out_depths[0]\n",
        "def make_qartod_plot_review(var, line_out_depth, site):\n",
        "    flag_vars = df.filter(regex='flag|qartod').columns.tolist()\n",
        "    df_site = df[df['site_id']==site]\n",
        "    fig = px.line(df_site[df_site['line_out_depth'].isin(line_out_depth)].sort_values(['time',f\"{var}_qartod_aggregate\"]),\n",
        "                x='time',y=var,\n",
        "                color=f\"{var}_flag\" if var!='no2_no3_um' else \"no2_no3_flag\", \n",
        "                symbol='quality_level',\n",
        "                hover_data=['hakai_id']+flag_vars,\n",
        "                color_discrete_map=flag_color_map)\n",
        "    for trace in fig.data:\n",
        "        if 'AV' not in trace.name:\n",
        "            trace.mode = 'markers'\n",
        "\n",
        "    fig.update_layout(\n",
        "        height=600,\n",
        "        width=1200,\n",
        "    )\n",
        "    return fig.show()\n",
        "interact(make_qartod_plot_review, var=['sio2','po4','no2_no3_um'],line_out_depth=line_out_depth_selector, site=df['site_id'].sort_values().unique())"
      ]
    },
    {
      "cell_type": "code",
      "execution_count": null,
      "metadata": {},
      "outputs": [],
      "source": []
    },
    {
      "cell_type": "markdown",
      "metadata": {
        "id": "OrrxkA1ibuQe"
      },
      "source": [
        "# Red field ratio"
      ]
    },
    {
      "cell_type": "code",
      "execution_count": null,
      "metadata": {
        "colab": {
          "base_uri": "https://localhost:8080/",
          "height": 542
        },
        "id": "udxm_piWbpt4",
        "outputId": "22d6ca23-8801-4593-ae95-ec9f10b0b21d"
      },
      "outputs": [],
      "source": [
        "def get_red_field_plot(var,slope_limit,max_depth):\n",
        "  labels= {'sio2':f'SiO2 (uM)', 'po4':'PO4 (uM)', 'line_out_depth':'Bottle Target Depth (m)'}\n",
        "  figs=px.scatter(df.query(\"line_out_depth<@max_depth\"),\n",
        "                x=var,\n",
        "                y='no2_no3_um',\n",
        "                color='line_out_depth', \n",
        "                hover_data=['hakai_id','date'], \n",
        "                template='simple_white',\n",
        "                title=labels[var],\n",
        "                labels=labels, \n",
        "                facet_col='year')\n",
        "\n",
        "  for id, item in enumerate(figs.data):\n",
        "    figs.add_trace(go.Scatter(x = [0, slope_limit[0]],\n",
        "                              y =  [0, slope_limit[1]],\n",
        "                              mode='lines',\n",
        "                              line_color='red',\n",
        "                              showlegend=False\n",
        "                              ),\n",
        "                  row=1,\n",
        "                  col=id+1)\n",
        "  return figs\n",
        "\n",
        "get_red_field_plot('po4',[2.1875,35],100)"
      ]
    },
    {
      "cell_type": "code",
      "execution_count": null,
      "metadata": {
        "colab": {
          "base_uri": "https://localhost:8080/",
          "height": 542
        },
        "id": "K5FV0Ik_Qep4",
        "outputId": "d4f47fd7-c152-4b6c-87e3-62466e031412"
      },
      "outputs": [],
      "source": [
        "get_red_field_plot('sio2',[32.8125,35],100)"
      ]
    },
    {
      "cell_type": "markdown",
      "metadata": {
        "id": "bA8BjU52dL80"
      },
      "source": [
        "# Review Interannual Variability\n",
        "Let's compute the average value measured for each depth and the associated standard deviation.\n",
        "\n",
        "## Compute the seasonal variability\n",
        "### Development \n",
        "Generate for each line_out_depth a seasonal variability model\n",
        "\n"
      ]
    },
    {
      "cell_type": "code",
      "execution_count": null,
      "metadata": {
        "id": "VxVLvhYswsIB"
      },
      "outputs": [],
      "source": [
        "# Generate a reference depth variable\n",
        "df['reference_depth'] = df['line_out_depth']\n",
        "df.loc[df['reference_depth']>230, 'reference_depth'] = 260 # Let's group all data below 230 in the same group\n",
        "df = df.sort_values('reference_depth')\n",
        "df['reference_depth'] = df['reference_depth'].astype(str)"
      ]
    },
    {
      "cell_type": "code",
      "execution_count": null,
      "metadata": {
        "id": "WDQ-DSEwwnxk"
      },
      "outputs": [],
      "source": [
        "# Reseample data to a standard grid for each year starting on Jan 1st. Average values within the same grid\n",
        "grid_window = '14D'\n",
        "df_resampled = pd.DataFrame()\n",
        "resampled = []\n",
        "groupby = ['site_id','year','reference_depth']\n",
        "for index,df_group in df.groupby(['site_id','year','reference_depth']):\n",
        "    df_temp = df_group.resample(grid_window,on='time',origin=pd.to_datetime(f\"{index[1]}-01-01 00:00:00\")).mean(numeric_only=True)\n",
        "    df_temp[groupby] = index\n",
        "    resampled += [df_temp]\n",
        "\n",
        "df_resampled = pd.concat(resampled).reset_index()\n",
        "df_resampled['dayoftheyear'] = df_resampled['time'].dt.dayofyear\n",
        "\n",
        "# For each similar day of the year compute the interannual variability\n",
        "df_interannual = df_resampled.drop(columns=['time']).groupby(['site_id','reference_depth','dayoftheyear']).agg(['mean','std']).reset_index()\n",
        "\n",
        "# Center each window pandas resample give start of the window\n",
        "df_interannual['dayoftheyear'] = df_interannual['dayoftheyear'] + pd.to_timedelta(grid_window).days/2 "
      ]
    },
    {
      "cell_type": "code",
      "execution_count": null,
      "metadata": {
        "id": "GdPov_lw10l4"
      },
      "outputs": [],
      "source": [
        "# Generate Upper and Lower limits based on standard deviation\n",
        "alpha = 2\n",
        "for var in nutrient_variables:\n",
        "    df_interannual[(var,'lower_limit')] = df_interannual[var]['mean'] - alpha*df_interannual[var]['std']\n",
        "    df_interannual[(var,'upper_limit')] = df_interannual[var]['mean'] + alpha*df_interannual[var]['std']"
      ]
    },
    {
      "cell_type": "code",
      "execution_count": null,
      "metadata": {
        "colab": {
          "base_uri": "https://localhost:8080/",
          "height": 831,
          "referenced_widgets": [
            "46b8128cf43f43fe9e306c4aeb336e7e",
            "8875094b957c4daa958d9ae944bb38da",
            "5ad1063d28444e31b6c62b8f12349f6c",
            "810c2f3edd204081bf32d296b10b9bb8",
            "db4bbb536f7244e8b77af68be8f8f911",
            "036ad62fac8f42619ed582370fed1604",
            "a20202af287e438b96f730f03256d2b4",
            "f6f23a2956044ba287fad3c5c5067fe5",
            "81f75f5796664bb6b8660404e9c0dad7",
            "8673c71c859f44e385d2fbb422e7344d",
            "2117226ee9b5462b843c00792bb1b18c",
            "7b5ba981983641e2a266bc5b6f216426",
            "d3d1be2055404496aee525c6bc706fea"
          ]
        },
        "id": "Z8QTtUSAoyz2",
        "outputId": "6d19f613-9919-47e3-8f4b-727990f3adee"
      },
      "outputs": [],
      "source": [
        "\n",
        "def plot_seasonal(reference_depth,year,site,variable):\n",
        "    df_filtered  = df_interannual.loc[(df_interannual['reference_depth'] == reference_depth) & (df_interannual['site_id']==site)]\n",
        "    df_data_filtered = df.loc[(df['reference_depth'] == reference_depth) & (df['year'] == year) & (df['site_id'] == site)].copy()\n",
        "    df_data_filtered['dayoftheyear'] = df_data_filtered['dayoftheyear'].dt.days\n",
        "\n",
        "    fig = go.Figure()\n",
        "    fig.add_trace(go.Scatter(x=df_filtered['dayoftheyear'],y=df_filtered[variable]['mean'],name='interannual mean',line_color='black'))\n",
        "    fig.add_trace(go.Scatter(x=df_filtered['dayoftheyear'],y=df_filtered[variable]['upper_limit'],line_color='lightgrey',mode=None,name=f'interannual mean + {alpha}*STD'))\n",
        "    fig.add_trace(go.Scatter(x=df_filtered['dayoftheyear'],y=df_filtered[variable]['lower_limit'],line_color='lightgrey',fill='tonexty',mode=None,name=f'interannual mean - {alpha}*STD'))\n",
        "    fig_data = px.line(df_data_filtered.sort_values(['reference_depth','dayoftheyear']),\n",
        "                       x='dayoftheyear',y=variable,\n",
        "                       line_dash='year',\n",
        "                       color='no2_no3_flag' if variable =='no2_no3_um' else f\"{variable}_flag\",\n",
        "                       hover_data=['hakai_id'],\n",
        "                       color_discrete_map=flag_color_map)\n",
        "    \n",
        "    for item in fig_data.data:\n",
        "        # If AV add a line between markers\n",
        "        if 'AV' in item['name']:\n",
        "            item['mode'] = 'lines+markers'\n",
        "        else:\n",
        "            item['mode'] = 'markers'\n",
        "\n",
        "        fig.add_trace(item)\n",
        "        \n",
        "    fig.update_yaxes(title=variable)\n",
        "    fig.update_xaxes(title='Day Of The Year')\n",
        "    fig.update_layout(width=1500,\n",
        "                      title='Interannual variability')\n",
        "    fig.show()\n",
        "\n",
        "year_selector = widgets.SelectMultiple(\n",
        "    options=df['year'].sort_values().unique(),\n",
        "    value=[df['year'].sort_values().unique()[0]],\n",
        "    description=\"Select Year(s)\",\n",
        ")\n",
        "depth_selector = widgets.SelectMultiple(\n",
        "    options=df['reference_depth'].unique(),\n",
        "    value=[df['reference_depth'].unique()[0]],\n",
        "    description=\"Select depths\",\n",
        ")\n",
        "site_selector = widgets.SelectMultiple(\n",
        "    options=df['site_id'].unique(),\n",
        "    value=[df['site_id'].unique()[0]],\n",
        "    description=\"Select Site(s)\",\n",
        ")\n",
        "interact(plot_seasonal,\n",
        "         reference_depth= df['reference_depth'].unique(),\n",
        "         year=df['year'].sort_values().unique(),\n",
        "         site=df['site_id'].sort_values().unique(),\n",
        "         variable=nutrient_variables)"
      ]
    },
    {
      "cell_type": "markdown",
      "metadata": {
        "id": "axhPlUJmy9ib"
      },
      "source": [
        "## Make Monthly Box Plots"
      ]
    },
    {
      "cell_type": "code",
      "execution_count": null,
      "metadata": {
        "colab": {
          "base_uri": "https://localhost:8080/",
          "height": 639,
          "referenced_widgets": [
            "ab4766b90f0744809e2befdea860d2c6",
            "8c046998f7424f919032f640c655e81e",
            "7f248242652f41b58cd1269d71e395d9",
            "af026e3ec2a3482283c5a5ba1f3a0497",
            "b7c38a51c3414e1683c5f9b4ffa5ac23",
            "73aea1a7ac644c4dabd20974609eedb1",
            "c472e22593c240cca2e3b9fb32778a38",
            "236d792b7dd34c04ae74668854085858",
            "7fd4fae8d61343c989f66c8f778887df",
            "0c1e25552c0945d8960599da93b7cb46"
          ]
        },
        "id": "-BY1001bRRRb",
        "outputId": "a656abd7-1667-4739-8240-6523dc96f495"
      },
      "outputs": [],
      "source": [
        "def make_boxplot_per_depth(var,reference_depth,site):\n",
        "    # Show the seasonality of the data, averaged per month for all years\n",
        "    #  and give the interannual box pot statistic\n",
        "    fig = px.box(df.query(f\"reference_depth == '{reference_depth}' and site_id == '{site}'\"),\n",
        "                 x='month',y=var,hover_data=['hakai_id'])\n",
        "    fig.update_layout(width=1500)\n",
        "    return fig.show()\n",
        "    \n",
        "interact(make_boxplot_per_depth,\n",
        "         var=nutrient_variables, \n",
        "         reference_depth = df['reference_depth'].unique(),\n",
        "         site=df['site_id'].sort_values().unique(),\n",
        "        )"
      ]
    },
    {
      "cell_type": "markdown",
      "metadata": {
        "id": "FrxHk7PRhrCU"
      },
      "source": [
        "# Create Aggregated Suggested Flag\n"
      ]
    },
    {
      "cell_type": "markdown",
      "metadata": {
        "id": "DqD1n7GicLNF"
      },
      "source": [
        "## Review Profiles"
      ]
    },
    {
      "cell_type": "code",
      "execution_count": null,
      "metadata": {
        "colab": {
          "base_uri": "https://localhost:8080/",
          "height": 687,
          "referenced_widgets": [
            "790f63a70158499388b19cdc940e55b2",
            "401d3c49227343438c42fe1f13515111",
            "bf2f84c3fc2e4b61b1d2c5c295d574ee",
            "a150b579b58f441ea73661c167a22287",
            "8786d96a84fa4b5d83e2ebb6aa06ed98",
            "e3153979a99949fe816b4d9625e971f9",
            "7db4e935664f42478aebbf87973299b1"
          ]
        },
        "id": "KJe76PAbb5zG",
        "outputId": "ef01e3ce-7dec-41ce-c371-77899adbeb52"
      },
      "outputs": [],
      "source": [
        "# Plot profile\n",
        "group_profile_by = 'date'\n",
        "profile_list = widgets.SelectMultiple(\n",
        "    options=df[group_profile_by].sort_values().drop_duplicates(),\n",
        "    value=(df[group_profile_by].iloc[0],),\n",
        "    description=\"Select Profiles\",\n",
        "    disabled=False,\n",
        ")\n",
        "def make_profile_plot(profiles):\n",
        "    # Filter only selected profiles\n",
        "    # df_selected = df[df['date'].isin(profiles)]\n",
        "    df_temp = df[df['date'].isin(profiles)].sort_values(['site_id','date','depth'])\n",
        "    sites = df_temp['site_id'].unique()\n",
        "    fig = []\n",
        "    # print(df_temp[['site_id','no2_no3_flag','sio2_flag','po4_flag'] + nutrient_variables ])\n",
        "    for site in sites:\n",
        "        for var in nutrient_variables:\n",
        "            df_site = df_temp[df_temp['site_id']==site].sort_values(['site_id','date','depth'])\n",
        "            fig.append(px.line(df_site,x=var,y='depth',color=f\"{var}_flag\" if var!= \"no2_no3_um\" else \"no2_no3_flag\",hover_data=['hakai_id'], color_discrete_map=flag_color_map))\n",
        "    \n",
        "    \n",
        "    subfig = make_subplots(rows=len(sites), cols=3, row_titles=sites.tolist())\n",
        "    kk=1\n",
        "    i=1\n",
        "    for item in fig:\n",
        "        for subitem in item.data:\n",
        "            if kk>1 or i>1:\n",
        "                subitem.showlegend=False\n",
        "            subfig.add_trace(subitem,row=i,col=kk)\n",
        "            subfig.update_xaxes(title_text=nutrient_variables[kk-1], row=i, col=kk)\n",
        "            kk += 1\n",
        "            if kk>3:\n",
        "                kk=1\n",
        "        subfig.update_yaxes(title_text='Depth (m)', row=i, col=1)\n",
        "        if kk==1:\n",
        "            i+=1\n",
        "    subfig.update_yaxes(autorange=\"reversed\")\n",
        "    subfig.update_xaxes(matches=None)\n",
        "    subfig.update_traces(mode='markers+lines')\n",
        "    subfig.update_layout(width=1500, height=400*len(df_temp['site_id'].unique()))\n",
        "    return subfig\n",
        "\n",
        "interact(make_profile_plot, profiles=profile_list)"
      ]
    },
    {
      "cell_type": "markdown",
      "metadata": {
        "id": "NClDiGQzcOWp"
      },
      "source": [
        "## Review Timeseries"
      ]
    },
    {
      "cell_type": "markdown",
      "metadata": {
        "id": "E6B2v-gTcR5k"
      },
      "source": [
        "# Get List of Sample Flagged"
      ]
    },
    {
      "cell_type": "code",
      "execution_count": null,
      "metadata": {
        "colab": {
          "base_uri": "https://localhost:8080/",
          "height": 455
        },
        "id": "fCtsCVkvb5zH",
        "outputId": "7787d197-85f7-450e-fc57-baa3c58fe546"
      },
      "outputs": [],
      "source": [
        "# Show me the data flagged\n",
        "df.loc[df[['no2_no3_flag','sio2_flag','po4_flag']].isin(['SVC','SVD','BDL']).any(axis='columns')][['date','hakai_id','no2_no3_flag','sio2_flag','po4_flag']]"
      ]
    },
    {
      "cell_type": "markdown",
      "metadata": {
        "id": "oJpECkHEb5zI"
      },
      "source": [
        "# Save Result to Hakai Portal Compatible Excel Format"
      ]
    },
    {
      "cell_type": "code",
      "execution_count": null,
      "metadata": {
        "id": "HHZlDM2eb5zI"
      },
      "outputs": [],
      "source": [
        "df_output = df[original_columns]\n",
        "\n",
        "# Rename Columns to Match Portal Output\n",
        "# Drop unchanged rows\n",
        "\n",
        "###ATTENTION### The output has not yet been tested with the Hakai API.\n",
        "df_output.to_excel('Hakai_Nutrient_Revision_{0}.xlsx'.format(pd.Timestamp.now().isoformat().replace(':','')))\n"
      ]
    },
    {
      "cell_type": "markdown",
      "metadata": {
        "id": "8gcjADvDb5zI"
      },
      "source": [
        "# Report Figures"
      ]
    },
    {
      "cell_type": "markdown",
      "metadata": {
        "id": "fkn5FGmeVx_-"
      },
      "source": [
        "## Contour plot"
      ]
    },
    {
      "cell_type": "code",
      "execution_count": null,
      "metadata": {
        "colab": {
          "base_uri": "https://localhost:8080/",
          "height": 607,
          "referenced_widgets": [
            "4d1c8e0abcb14648aa5ebab6466de22b",
            "3cb20eceb95b41f8aaaf62ee4a0d3154",
            "d93eee9679944e7cbfe4f1f488f878d0",
            "6af5a514267146b5850470183f167109",
            "d5f51ac4e24948a2bb403d91e1b2f90f",
            "70c00e759b8644cc85a667b57f2213c2",
            "0b34b2c8819d472e9d891a9abfa5d61a"
          ]
        },
        "id": "dMKg0hufkwAs",
        "outputId": "fca78b5d-8e69-4836-b695-575b8adfa2ff"
      },
      "outputs": [],
      "source": [
        "# Plot contourf interpolate linearly over the x axis and maximum over two NaN values\n",
        "def get_contour(var, site):\n",
        "    df_site = df[df['site_id']==site]\n",
        "    df_pivot = pd.pivot_table(df_site,values=var,index='line_out_depth',columns='date',aggfunc='mean').interpolate(axis='index',limit=4).sort_index(axis=0).sort_index(axis=1).interpolate(axis='columns',limit=3)\n",
        "    fig = go.Figure(data =\n",
        "        go.Contour(z=df_pivot.values,x=df_pivot.columns,y=df_pivot.index.values,\n",
        "                colorbar=dict(title=dict(text=var)),\n",
        "                colorscale='RdYlGn',\n",
        "                ncontours=10,\n",
        "                contours_coloring='heatmap'\n",
        "                #,connectgaps=True\n",
        "                ))\n",
        "    fig.update_yaxes(title='Depth (m)',autorange=\"reversed\",linecolor='black',mirror=True,\n",
        "                    ticks='outside',showline=True)\n",
        "    fig.update_xaxes(linecolor='black',mirror=True,ticks='outside',showline=True)\n",
        "    fig.update_layout(width=1500)\n",
        "    fig.show()\n",
        "\n",
        "interact(get_contour,var=nutrient_variables, site=df['site_id'].sort_values().unique())"
      ]
    },
    {
      "cell_type": "markdown",
      "metadata": {
        "id": "xIUkenhwgrCR"
      },
      "source": [
        "## Scatter with colorbar"
      ]
    },
    {
      "cell_type": "code",
      "execution_count": null,
      "metadata": {
        "colab": {
          "base_uri": "https://localhost:8080/",
          "height": 542
        },
        "id": "NxPHp98Uk2pg",
        "outputId": "d4c99808-beaf-4bec-f8b8-273003deba6a"
      },
      "outputs": [],
      "source": [
        "## Scatter with colorbar\n",
        "fig = px.scatter(df.dropna(subset=['no2_no3_um'],axis=0),x='time',y='depth',\n",
        "                 color='no2_no3_um',color_continuous_scale='RdYlGn',\n",
        "                 hover_name='hakai_id')\n",
        "fig.update_yaxes(title='Depth (m)',autorange=\"reversed\",linecolor='black',mirror=True,\n",
        "                 ticks='outside')\n",
        "fig.update_xaxes(linecolor='black',mirror=True,ticks='outside',showline=True)\n",
        "fig.show()"
      ]
    },
    {
      "cell_type": "code",
      "execution_count": null,
      "metadata": {
        "colab": {
          "base_uri": "https://localhost:8080/",
          "height": 542
        },
        "id": "7ZOQDyqSb5zJ",
        "outputId": "508877b6-7a45-4a3c-a97b-a96665ceb22c"
      },
      "outputs": [],
      "source": [
        "# Add scatter per depth\n",
        "px.scatter(df.sort_values(['line_out_depth','time']),\n",
        "           x='time',\n",
        "           y='no2_no3_um',\n",
        "           color='depth',\n",
        "           color_continuous_scale=px.colors.sequential.YlOrRd,\n",
        "           hover_data=['hakai_id'])"
      ]
    },
    {
      "cell_type": "code",
      "execution_count": null,
      "metadata": {
        "id": "Ew29Q6096E1a"
      },
      "outputs": [],
      "source": []
    }
  ],
  "metadata": {
    "colab": {
      "name": "run-hakai-nutrients-tests.ipynb",
      "provenance": []
    },
    "kernelspec": {
      "display_name": "hakai-oceanography-qc-tools",
      "language": "python",
      "name": "python3"
    },
    "language_info": {
      "codemirror_mode": {
        "name": "ipython",
        "version": 3
      },
      "file_extension": ".py",
      "mimetype": "text/x-python",
      "name": "python",
      "nbconvert_exporter": "python",
      "pygments_lexer": "ipython3",
      "version": "3.10.13"
    },
    "widgets": {
      "application/vnd.jupyter.widget-state+json": {
        "036ad62fac8f42619ed582370fed1604": {
          "model_module": "@jupyter-widgets/base",
          "model_module_version": "1.2.0",
          "model_name": "LayoutModel",
          "state": {
            "_model_module": "@jupyter-widgets/base",
            "_model_module_version": "1.2.0",
            "_model_name": "LayoutModel",
            "_view_count": null,
            "_view_module": "@jupyter-widgets/base",
            "_view_module_version": "1.2.0",
            "_view_name": "LayoutView",
            "align_content": null,
            "align_items": null,
            "align_self": null,
            "border": null,
            "bottom": null,
            "display": null,
            "flex": null,
            "flex_flow": null,
            "grid_area": null,
            "grid_auto_columns": null,
            "grid_auto_flow": null,
            "grid_auto_rows": null,
            "grid_column": null,
            "grid_gap": null,
            "grid_row": null,
            "grid_template_areas": null,
            "grid_template_columns": null,
            "grid_template_rows": null,
            "height": null,
            "justify_content": null,
            "justify_items": null,
            "left": null,
            "margin": null,
            "max_height": null,
            "max_width": null,
            "min_height": null,
            "min_width": null,
            "object_fit": null,
            "object_position": null,
            "order": null,
            "overflow": null,
            "overflow_x": null,
            "overflow_y": null,
            "padding": null,
            "right": null,
            "top": null,
            "visibility": null,
            "width": null
          }
        },
        "074509fd8f52439d8d732f078d3bfdcc": {
          "model_module": "@jupyter-widgets/base",
          "model_module_version": "1.2.0",
          "model_name": "LayoutModel",
          "state": {
            "_model_module": "@jupyter-widgets/base",
            "_model_module_version": "1.2.0",
            "_model_name": "LayoutModel",
            "_view_count": null,
            "_view_module": "@jupyter-widgets/base",
            "_view_module_version": "1.2.0",
            "_view_name": "LayoutView",
            "align_content": null,
            "align_items": null,
            "align_self": null,
            "border": null,
            "bottom": null,
            "display": null,
            "flex": null,
            "flex_flow": null,
            "grid_area": null,
            "grid_auto_columns": null,
            "grid_auto_flow": null,
            "grid_auto_rows": null,
            "grid_column": null,
            "grid_gap": null,
            "grid_row": null,
            "grid_template_areas": null,
            "grid_template_columns": null,
            "grid_template_rows": null,
            "height": null,
            "justify_content": null,
            "justify_items": null,
            "left": null,
            "margin": null,
            "max_height": null,
            "max_width": null,
            "min_height": null,
            "min_width": null,
            "object_fit": null,
            "object_position": null,
            "order": null,
            "overflow": null,
            "overflow_x": null,
            "overflow_y": null,
            "padding": null,
            "right": null,
            "top": null,
            "visibility": null,
            "width": null
          }
        },
        "0b34b2c8819d472e9d891a9abfa5d61a": {
          "model_module": "@jupyter-widgets/base",
          "model_module_version": "1.2.0",
          "model_name": "LayoutModel",
          "state": {
            "_model_module": "@jupyter-widgets/base",
            "_model_module_version": "1.2.0",
            "_model_name": "LayoutModel",
            "_view_count": null,
            "_view_module": "@jupyter-widgets/base",
            "_view_module_version": "1.2.0",
            "_view_name": "LayoutView",
            "align_content": null,
            "align_items": null,
            "align_self": null,
            "border": null,
            "bottom": null,
            "display": null,
            "flex": null,
            "flex_flow": null,
            "grid_area": null,
            "grid_auto_columns": null,
            "grid_auto_flow": null,
            "grid_auto_rows": null,
            "grid_column": null,
            "grid_gap": null,
            "grid_row": null,
            "grid_template_areas": null,
            "grid_template_columns": null,
            "grid_template_rows": null,
            "height": null,
            "justify_content": null,
            "justify_items": null,
            "left": null,
            "margin": null,
            "max_height": null,
            "max_width": null,
            "min_height": null,
            "min_width": null,
            "object_fit": null,
            "object_position": null,
            "order": null,
            "overflow": null,
            "overflow_x": null,
            "overflow_y": null,
            "padding": null,
            "right": null,
            "top": null,
            "visibility": null,
            "width": null
          }
        },
        "0c1e25552c0945d8960599da93b7cb46": {
          "model_module": "@jupyter-widgets/base",
          "model_module_version": "1.2.0",
          "model_name": "LayoutModel",
          "state": {
            "_model_module": "@jupyter-widgets/base",
            "_model_module_version": "1.2.0",
            "_model_name": "LayoutModel",
            "_view_count": null,
            "_view_module": "@jupyter-widgets/base",
            "_view_module_version": "1.2.0",
            "_view_name": "LayoutView",
            "align_content": null,
            "align_items": null,
            "align_self": null,
            "border": null,
            "bottom": null,
            "display": null,
            "flex": null,
            "flex_flow": null,
            "grid_area": null,
            "grid_auto_columns": null,
            "grid_auto_flow": null,
            "grid_auto_rows": null,
            "grid_column": null,
            "grid_gap": null,
            "grid_row": null,
            "grid_template_areas": null,
            "grid_template_columns": null,
            "grid_template_rows": null,
            "height": null,
            "justify_content": null,
            "justify_items": null,
            "left": null,
            "margin": null,
            "max_height": null,
            "max_width": null,
            "min_height": null,
            "min_width": null,
            "object_fit": null,
            "object_position": null,
            "order": null,
            "overflow": null,
            "overflow_x": null,
            "overflow_y": null,
            "padding": null,
            "right": null,
            "top": null,
            "visibility": null,
            "width": null
          }
        },
        "2117226ee9b5462b843c00792bb1b18c": {
          "model_module": "@jupyter-widgets/base",
          "model_module_version": "1.2.0",
          "model_name": "LayoutModel",
          "state": {
            "_model_module": "@jupyter-widgets/base",
            "_model_module_version": "1.2.0",
            "_model_name": "LayoutModel",
            "_view_count": null,
            "_view_module": "@jupyter-widgets/base",
            "_view_module_version": "1.2.0",
            "_view_name": "LayoutView",
            "align_content": null,
            "align_items": null,
            "align_self": null,
            "border": null,
            "bottom": null,
            "display": null,
            "flex": null,
            "flex_flow": null,
            "grid_area": null,
            "grid_auto_columns": null,
            "grid_auto_flow": null,
            "grid_auto_rows": null,
            "grid_column": null,
            "grid_gap": null,
            "grid_row": null,
            "grid_template_areas": null,
            "grid_template_columns": null,
            "grid_template_rows": null,
            "height": null,
            "justify_content": null,
            "justify_items": null,
            "left": null,
            "margin": null,
            "max_height": null,
            "max_width": null,
            "min_height": null,
            "min_width": null,
            "object_fit": null,
            "object_position": null,
            "order": null,
            "overflow": null,
            "overflow_x": null,
            "overflow_y": null,
            "padding": null,
            "right": null,
            "top": null,
            "visibility": null,
            "width": null
          }
        },
        "2162866c50024f4190dc6fce77cd2a75": {
          "model_module": "@jupyter-widgets/base",
          "model_module_version": "1.2.0",
          "model_name": "LayoutModel",
          "state": {
            "_model_module": "@jupyter-widgets/base",
            "_model_module_version": "1.2.0",
            "_model_name": "LayoutModel",
            "_view_count": null,
            "_view_module": "@jupyter-widgets/base",
            "_view_module_version": "1.2.0",
            "_view_name": "LayoutView",
            "align_content": null,
            "align_items": null,
            "align_self": null,
            "border": null,
            "bottom": null,
            "display": null,
            "flex": null,
            "flex_flow": null,
            "grid_area": null,
            "grid_auto_columns": null,
            "grid_auto_flow": null,
            "grid_auto_rows": null,
            "grid_column": null,
            "grid_gap": null,
            "grid_row": null,
            "grid_template_areas": null,
            "grid_template_columns": null,
            "grid_template_rows": null,
            "height": null,
            "justify_content": null,
            "justify_items": null,
            "left": null,
            "margin": null,
            "max_height": null,
            "max_width": null,
            "min_height": null,
            "min_width": null,
            "object_fit": null,
            "object_position": null,
            "order": null,
            "overflow": null,
            "overflow_x": null,
            "overflow_y": null,
            "padding": null,
            "right": null,
            "top": null,
            "visibility": null,
            "width": null
          }
        },
        "236d792b7dd34c04ae74668854085858": {
          "model_module": "@jupyter-widgets/base",
          "model_module_version": "1.2.0",
          "model_name": "LayoutModel",
          "state": {
            "_model_module": "@jupyter-widgets/base",
            "_model_module_version": "1.2.0",
            "_model_name": "LayoutModel",
            "_view_count": null,
            "_view_module": "@jupyter-widgets/base",
            "_view_module_version": "1.2.0",
            "_view_name": "LayoutView",
            "align_content": null,
            "align_items": null,
            "align_self": null,
            "border": null,
            "bottom": null,
            "display": null,
            "flex": null,
            "flex_flow": null,
            "grid_area": null,
            "grid_auto_columns": null,
            "grid_auto_flow": null,
            "grid_auto_rows": null,
            "grid_column": null,
            "grid_gap": null,
            "grid_row": null,
            "grid_template_areas": null,
            "grid_template_columns": null,
            "grid_template_rows": null,
            "height": null,
            "justify_content": null,
            "justify_items": null,
            "left": null,
            "margin": null,
            "max_height": null,
            "max_width": null,
            "min_height": null,
            "min_width": null,
            "object_fit": null,
            "object_position": null,
            "order": null,
            "overflow": null,
            "overflow_x": null,
            "overflow_y": null,
            "padding": null,
            "right": null,
            "top": null,
            "visibility": null,
            "width": null
          }
        },
        "3817adc9a5de442ca736089d481be6ea": {
          "model_module": "@jupyter-widgets/controls",
          "model_module_version": "1.5.0",
          "model_name": "SelectMultipleModel",
          "state": {
            "_dom_classes": [],
            "_model_module": "@jupyter-widgets/controls",
            "_model_module_version": "1.5.0",
            "_model_name": "SelectMultipleModel",
            "_options_labels": [
              "0",
              "5",
              "10",
              "20",
              "30",
              "40",
              "50",
              "75",
              "100",
              "150",
              "200",
              "250",
              "260",
              "265"
            ],
            "_view_count": null,
            "_view_module": "@jupyter-widgets/controls",
            "_view_module_version": "1.5.0",
            "_view_name": "SelectMultipleView",
            "description": "line_out_depth",
            "description_tooltip": null,
            "disabled": false,
            "index": [
              1,
              2
            ],
            "layout": "IPY_MODEL_074509fd8f52439d8d732f078d3bfdcc",
            "rows": 5,
            "style": "IPY_MODEL_7ad3435abeb447a2aa3c6414e2156963"
          }
        },
        "3cb20eceb95b41f8aaaf62ee4a0d3154": {
          "model_module": "@jupyter-widgets/controls",
          "model_module_version": "1.5.0",
          "model_name": "DropdownModel",
          "state": {
            "_dom_classes": [],
            "_model_module": "@jupyter-widgets/controls",
            "_model_module_version": "1.5.0",
            "_model_name": "DropdownModel",
            "_options_labels": [
              "no2_no3_um",
              "sio2",
              "po4"
            ],
            "_view_count": null,
            "_view_module": "@jupyter-widgets/controls",
            "_view_module_version": "1.5.0",
            "_view_name": "DropdownView",
            "description": "var",
            "description_tooltip": null,
            "disabled": false,
            "index": 0,
            "layout": "IPY_MODEL_d5f51ac4e24948a2bb403d91e1b2f90f",
            "style": "IPY_MODEL_70c00e759b8644cc85a667b57f2213c2"
          }
        },
        "401d3c49227343438c42fe1f13515111": {
          "model_module": "@jupyter-widgets/controls",
          "model_module_version": "1.5.0",
          "model_name": "SelectMultipleModel",
          "state": {
            "_dom_classes": [],
            "_model_module": "@jupyter-widgets/controls",
            "_model_module_version": "1.5.0",
            "_model_name": "SelectMultipleModel",
            "_options_labels": [
              "2015-03-18",
              "2015-03-24",
              "2015-03-31",
              "2015-04-06",
              "2015-04-14",
              "2015-04-22",
              "2015-05-01",
              "2015-05-05",
              "2015-05-13",
              "2015-05-21",
              "2015-05-26",
              "2015-06-03",
              "2015-06-15",
              "2015-06-24",
              "2015-06-30",
              "2015-07-07",
              "2015-07-22",
              "2015-07-28",
              "2015-08-05",
              "2015-08-12",
              "2015-08-20",
              "2015-08-25",
              "2015-09-02",
              "2015-09-09",
              "2015-09-15",
              "2015-09-22",
              "2015-09-28",
              "2015-10-06",
              "2015-10-14",
              "2015-10-20",
              "2015-10-27",
              "2015-11-03",
              "2015-11-10",
              "2015-11-18",
              "2015-11-25",
              "2015-12-11",
              "2015-12-16",
              "2016-01-05",
              "2016-01-13",
              "2016-01-19",
              "2016-01-28",
              "2016-02-02",
              "2016-02-09",
              "2016-02-16",
              "2016-02-23",
              "2016-03-15",
              "2016-03-22",
              "2016-03-29",
              "2016-04-01",
              "2016-04-04",
              "2016-04-08",
              "2016-04-14",
              "2016-04-28",
              "2016-05-09",
              "2016-05-19",
              "2016-05-30",
              "2016-06-06",
              "2016-06-09",
              "2016-06-20",
              "2016-06-30",
              "2016-07-11",
              "2016-07-21",
              "2016-08-01",
              "2016-08-11",
              "2016-08-22",
              "2016-09-01",
              "2016-09-11",
              "2016-09-22",
              "2016-10-02",
              "2016-10-12",
              "2016-10-22",
              "2016-11-09",
              "2016-11-15",
              "2016-11-26",
              "2016-12-03",
              "2016-12-15",
              "2017-01-08",
              "2017-01-15",
              "2017-01-26",
              "2017-02-17",
              "2017-02-25",
              "2017-03-15",
              "2017-03-30",
              "2017-04-07",
              "2017-04-11",
              "2017-04-20",
              "2017-04-24",
              "2017-05-02",
              "2017-05-08",
              "2017-05-17",
              "2017-05-29",
              "2017-06-05",
              "2017-06-12",
              "2017-06-19",
              "2017-06-29",
              "2017-07-07",
              "2017-07-11",
              "2017-07-12",
              "2017-07-17",
              "2017-07-24",
              "2017-08-04",
              "2017-08-08",
              "2017-08-15",
              "2017-08-21",
              "2017-08-29",
              "2017-09-05",
              "2017-09-12",
              "2017-09-18",
              "2017-09-26",
              "2017-10-03",
              "2017-10-11",
              "2017-10-20",
              "2017-10-24",
              "2017-10-31",
              "2017-11-08",
              "2017-11-16",
              "2017-11-20",
              "2017-11-27",
              "2017-12-06",
              "2017-12-11",
              "2018-01-03",
              "2018-01-09",
              "2018-01-22",
              "2018-01-31",
              "2018-02-06",
              "2018-02-13",
              "2018-02-19",
              "2018-02-27",
              "2018-03-06",
              "2018-03-13",
              "2018-03-20",
              "2018-03-27",
              "2018-04-04",
              "2018-04-12",
              "2018-04-17",
              "2018-04-24",
              "2018-05-02",
              "2018-05-08",
              "2018-05-15",
              "2018-05-22",
              "2018-05-29",
              "2018-06-05",
              "2018-06-11",
              "2018-06-18",
              "2018-06-26",
              "2018-07-11",
              "2018-07-16",
              "2018-07-23",
              "2018-07-31",
              "2018-08-09",
              "2018-08-14",
              "2018-08-21",
              "2018-08-29",
              "2018-09-04",
              "2018-09-13",
              "2018-09-18",
              "2018-09-25",
              "2018-10-04",
              "2018-10-09",
              "2018-10-16",
              "2018-10-24",
              "2018-10-30",
              "2018-11-07",
              "2018-11-16",
              "2018-11-19",
              "2018-11-28",
              "2018-12-04",
              "2019-01-16",
              "2019-01-23",
              "2019-01-29",
              "2019-02-05",
              "2019-02-12",
              "2019-02-21",
              "2019-02-26",
              "2019-03-05",
              "2019-03-12",
              "2019-03-20",
              "2019-03-27",
              "2019-04-02",
              "2019-04-10",
              "2019-05-02",
              "2019-05-09",
              "2019-05-22",
              "2019-05-29",
              "2019-06-04",
              "2019-06-20",
              "2019-06-25",
              "2019-07-03",
              "2019-07-09",
              "2019-07-13",
              "2019-07-18",
              "2019-07-24",
              "2019-07-30",
              "2019-08-07",
              "2019-08-15",
              "2019-08-20",
              "2019-08-29",
              "2019-09-04",
              "2019-09-19",
              "2019-09-24",
              "2019-10-09",
              "2019-10-18",
              "2019-10-30",
              "2019-11-05",
              "2019-11-13",
              "2019-11-20",
              "2019-11-26",
              "2019-12-03",
              "2019-12-13",
              "2020-01-08",
              "2020-01-28",
              "2020-02-05",
              "2020-02-18",
              "2020-02-26",
              "2020-03-06",
              "2020-03-12",
              "2020-03-18",
              "2020-04-17",
              "2020-04-29",
              "2020-05-14",
              "2020-05-26",
              "2020-06-04",
              "2020-06-11",
              "2020-06-17",
              "2020-06-25",
              "2020-06-30",
              "2020-07-09",
              "2020-07-15",
              "2020-07-22",
              "2020-07-29",
              "2020-08-04",
              "2020-08-13",
              "2020-08-19",
              "2020-08-26",
              "2020-09-01",
              "2020-09-10",
              "2020-09-16",
              "2020-09-22",
              "2020-09-29",
              "2020-10-08",
              "2020-10-14",
              "2020-10-20",
              "2020-10-30",
              "2020-11-05",
              "2020-11-10",
              "2020-11-19",
              "2020-12-01",
              "2020-12-08",
              "2020-12-17",
              "2021-01-06",
              "2021-01-13",
              "2021-01-20",
              "2021-01-27",
              "2021-02-04",
              "2021-02-10",
              "2021-02-19",
              "2021-02-23",
              "2021-03-09",
              "2021-03-16",
              "2021-03-26",
              "2021-03-30",
              "2021-04-05",
              "2021-04-14",
              "2021-04-19",
              "2021-04-26",
              "2021-05-04",
              "2021-05-18",
              "2021-05-19",
              "2021-05-20",
              "2021-05-28",
              "2021-06-01",
              "2021-06-09",
              "2021-06-15",
              "2021-06-22",
              "2021-06-28",
              "2021-07-06",
              "2021-07-13",
              "2021-07-20",
              "2021-07-21",
              "2021-07-22",
              "2021-07-27",
              "2021-08-03",
              "2021-08-10",
              "2021-08-17",
              "2021-08-24",
              "2021-09-01",
              "2021-09-02",
              "2021-09-08",
              "2021-09-21",
              "2021-09-28",
              "2021-10-05",
              "2021-10-19",
              "2021-10-28",
              "2021-11-10",
              "2021-11-17",
              "2021-11-26",
              "2021-11-29",
              "2021-12-08",
              "2021-12-14",
              "2022-01-05",
              "2022-01-13",
              "2022-01-15",
              "2022-01-17",
              "2022-01-24",
              "2022-02-01",
              "2022-02-08",
              "2022-02-18",
              "2022-02-24",
              "2022-03-03",
              "2022-03-08",
              "2022-03-15",
              "2022-03-24",
              "2022-03-29",
              "2022-03-30",
              "2022-04-07",
              "2022-04-13",
              "2022-04-21",
              "2022-04-26",
              "2022-05-03",
              "2022-05-10",
              "2022-05-17",
              "2022-05-24",
              "2022-05-31",
              "2022-06-07"
            ],
            "_view_count": null,
            "_view_module": "@jupyter-widgets/controls",
            "_view_module_version": "1.5.0",
            "_view_name": "SelectMultipleView",
            "description": "Select Profiles",
            "description_tooltip": null,
            "disabled": false,
            "index": [
              160
            ],
            "layout": "IPY_MODEL_8786d96a84fa4b5d83e2ebb6aa06ed98",
            "rows": 5,
            "style": "IPY_MODEL_e3153979a99949fe816b4d9625e971f9"
          }
        },
        "46b8128cf43f43fe9e306c4aeb336e7e": {
          "model_module": "@jupyter-widgets/controls",
          "model_module_version": "1.5.0",
          "model_name": "VBoxModel",
          "state": {
            "_dom_classes": [
              "widget-interact"
            ],
            "_model_module": "@jupyter-widgets/controls",
            "_model_module_version": "1.5.0",
            "_model_name": "VBoxModel",
            "_view_count": null,
            "_view_module": "@jupyter-widgets/controls",
            "_view_module_version": "1.5.0",
            "_view_name": "VBoxView",
            "box_style": "",
            "children": [
              "IPY_MODEL_8875094b957c4daa958d9ae944bb38da",
              "IPY_MODEL_5ad1063d28444e31b6c62b8f12349f6c",
              "IPY_MODEL_810c2f3edd204081bf32d296b10b9bb8",
              "IPY_MODEL_db4bbb536f7244e8b77af68be8f8f911"
            ],
            "layout": "IPY_MODEL_036ad62fac8f42619ed582370fed1604"
          }
        },
        "4d1c8e0abcb14648aa5ebab6466de22b": {
          "model_module": "@jupyter-widgets/controls",
          "model_module_version": "1.5.0",
          "model_name": "VBoxModel",
          "state": {
            "_dom_classes": [
              "widget-interact"
            ],
            "_model_module": "@jupyter-widgets/controls",
            "_model_module_version": "1.5.0",
            "_model_name": "VBoxModel",
            "_view_count": null,
            "_view_module": "@jupyter-widgets/controls",
            "_view_module_version": "1.5.0",
            "_view_name": "VBoxView",
            "box_style": "",
            "children": [
              "IPY_MODEL_3cb20eceb95b41f8aaaf62ee4a0d3154",
              "IPY_MODEL_d93eee9679944e7cbfe4f1f488f878d0"
            ],
            "layout": "IPY_MODEL_6af5a514267146b5850470183f167109"
          }
        },
        "5ad1063d28444e31b6c62b8f12349f6c": {
          "model_module": "@jupyter-widgets/controls",
          "model_module_version": "1.5.0",
          "model_name": "SelectMultipleModel",
          "state": {
            "_dom_classes": [],
            "_model_module": "@jupyter-widgets/controls",
            "_model_module_version": "1.5.0",
            "_model_name": "SelectMultipleModel",
            "_options_labels": [
              "2015",
              "2016",
              "2017",
              "2018",
              "2019",
              "2020",
              "2021",
              "2022"
            ],
            "_view_count": null,
            "_view_module": "@jupyter-widgets/controls",
            "_view_module_version": "1.5.0",
            "_view_name": "SelectMultipleView",
            "description": "Select Year(s)",
            "description_tooltip": null,
            "disabled": false,
            "index": [
              1
            ],
            "layout": "IPY_MODEL_81f75f5796664bb6b8660404e9c0dad7",
            "rows": 5,
            "style": "IPY_MODEL_8673c71c859f44e385d2fbb422e7344d"
          }
        },
        "61964a8de56b4193a04bcaddaf93dd8f": {
          "model_module": "@jupyter-widgets/controls",
          "model_module_version": "1.5.0",
          "model_name": "DropdownModel",
          "state": {
            "_dom_classes": [],
            "_model_module": "@jupyter-widgets/controls",
            "_model_module_version": "1.5.0",
            "_model_name": "DropdownModel",
            "_options_labels": [
              "sio2",
              "po4",
              "no2_no3_um"
            ],
            "_view_count": null,
            "_view_module": "@jupyter-widgets/controls",
            "_view_module_version": "1.5.0",
            "_view_name": "DropdownView",
            "description": "var",
            "description_tooltip": null,
            "disabled": false,
            "index": 0,
            "layout": "IPY_MODEL_2162866c50024f4190dc6fce77cd2a75",
            "style": "IPY_MODEL_9493ae9960f94df58c143d7ad68baf9d"
          }
        },
        "61f1fb6382664201bf015eb7bb29ce85": {
          "model_module": "@jupyter-widgets/base",
          "model_module_version": "1.2.0",
          "model_name": "LayoutModel",
          "state": {
            "_model_module": "@jupyter-widgets/base",
            "_model_module_version": "1.2.0",
            "_model_name": "LayoutModel",
            "_view_count": null,
            "_view_module": "@jupyter-widgets/base",
            "_view_module_version": "1.2.0",
            "_view_name": "LayoutView",
            "align_content": null,
            "align_items": null,
            "align_self": null,
            "border": null,
            "bottom": null,
            "display": null,
            "flex": null,
            "flex_flow": null,
            "grid_area": null,
            "grid_auto_columns": null,
            "grid_auto_flow": null,
            "grid_auto_rows": null,
            "grid_column": null,
            "grid_gap": null,
            "grid_row": null,
            "grid_template_areas": null,
            "grid_template_columns": null,
            "grid_template_rows": null,
            "height": null,
            "justify_content": null,
            "justify_items": null,
            "left": null,
            "margin": null,
            "max_height": null,
            "max_width": null,
            "min_height": null,
            "min_width": null,
            "object_fit": null,
            "object_position": null,
            "order": null,
            "overflow": null,
            "overflow_x": null,
            "overflow_y": null,
            "padding": null,
            "right": null,
            "top": null,
            "visibility": null,
            "width": null
          }
        },
        "6af5a514267146b5850470183f167109": {
          "model_module": "@jupyter-widgets/base",
          "model_module_version": "1.2.0",
          "model_name": "LayoutModel",
          "state": {
            "_model_module": "@jupyter-widgets/base",
            "_model_module_version": "1.2.0",
            "_model_name": "LayoutModel",
            "_view_count": null,
            "_view_module": "@jupyter-widgets/base",
            "_view_module_version": "1.2.0",
            "_view_name": "LayoutView",
            "align_content": null,
            "align_items": null,
            "align_self": null,
            "border": null,
            "bottom": null,
            "display": null,
            "flex": null,
            "flex_flow": null,
            "grid_area": null,
            "grid_auto_columns": null,
            "grid_auto_flow": null,
            "grid_auto_rows": null,
            "grid_column": null,
            "grid_gap": null,
            "grid_row": null,
            "grid_template_areas": null,
            "grid_template_columns": null,
            "grid_template_rows": null,
            "height": null,
            "justify_content": null,
            "justify_items": null,
            "left": null,
            "margin": null,
            "max_height": null,
            "max_width": null,
            "min_height": null,
            "min_width": null,
            "object_fit": null,
            "object_position": null,
            "order": null,
            "overflow": null,
            "overflow_x": null,
            "overflow_y": null,
            "padding": null,
            "right": null,
            "top": null,
            "visibility": null,
            "width": null
          }
        },
        "6d4740b9f2394d2baadccf4543eb25da": {
          "model_module": "@jupyter-widgets/output",
          "model_module_version": "1.0.0",
          "model_name": "OutputModel",
          "state": {
            "_dom_classes": [],
            "_model_module": "@jupyter-widgets/output",
            "_model_module_version": "1.0.0",
            "_model_name": "OutputModel",
            "_view_count": null,
            "_view_module": "@jupyter-widgets/output",
            "_view_module_version": "1.0.0",
            "_view_name": "OutputView",
            "layout": "IPY_MODEL_c79ab52eb85e41c8ab65bdcdc8c83f92",
            "msg_id": "",
            "outputs": [
              {
                "data": {
                  "text/html": "<html>\n<head><meta charset=\"utf-8\" /></head>\n<body>\n    <div>            <script src=\"https://cdnjs.cloudflare.com/ajax/libs/mathjax/2.7.5/MathJax.js?config=TeX-AMS-MML_SVG\"></script><script type=\"text/javascript\">if (window.MathJax) {MathJax.Hub.Config({SVG: {font: \"STIX-Web\"}});}</script>                <script type=\"text/javascript\">window.PlotlyConfig = {MathJaxConfig: 'local'};</script>\n        <script src=\"https://cdn.plot.ly/plotly-2.8.3.min.js\"></script>                <div id=\"d474ef7b-f224-43d0-8503-4cf0d3a980e8\" class=\"plotly-graph-div\" style=\"height:600px; width:1200px;\"></div>            <script type=\"text/javascript\">                                    window.PLOTLYENV=window.PLOTLYENV || {};                                    if (document.getElementById(\"d474ef7b-f224-43d0-8503-4cf0d3a980e8\")) {                    Plotly.newPlot(                        \"d474ef7b-f224-43d0-8503-4cf0d3a980e8\",                        [{\"customdata\":[[\"QNUT383\",null,\"AV\",\"AV\",\"AV\",\"AV\",\"AV\",\"AV\",\"AV\",\"AV\",null,null,null,null,null,\"Results\",null,1,1,1,null,null,null,1,1,1,null],[\"QNUT384\",null,\"AV\",\"AV\",\"AV\",\"AV\",\"AV\",\"AV\",\"AV\",\"AV\",null,null,null,null,null,\"Results\",null,1,1,1,null,null,null,1,1,1,null],[\"QNUT447\",null,\"AV\",\"AV\",\"AV\",\"AV\",\"AV\",\"AV\",\"AV\",\"AV\",null,null,null,null,null,\"Results\",null,1,1,1,null,null,null,1,1,1,null],[\"QNUT448\",null,\"AV\",\"AV\",\"AV\",\"AV\",\"AV\",\"AV\",\"AV\",\"AV\",null,null,null,null,null,\"Results\",null,1,1,1,null,null,null,1,1,1,null],[\"QNUT450\",null,\"AV\",\"AV\",\"AV\",\"AV\",\"AV\",\"AV\",\"AV\",\"AV\",null,null,null,null,null,\"Results\",null,1,1,1,null,null,null,1,1,1,null],[\"QNUT481\",null,\"AV\",\"AV\",\"AV\",\"AV\",\"AV\",\"AV\",\"AV\",\"AV\",null,null,null,null,null,\"Results\",null,1,1,1,null,null,null,1,1,1,null],[\"QNUT482\",null,\"AV\",\"AV\",\"AV\",\"AV\",\"AV\",\"AV\",\"AV\",\"AV\",null,null,null,null,null,\"Results\",null,1,1,1,null,null,null,1,1,1,null],[\"QNUT540\",null,\"AV\",\"AV\",\"AV\",\"AV\",\"AV\",\"AV\",\"AV\",\"AV\",null,null,null,null,null,\"Results\",null,1,1,1,null,null,null,1,1,1,null],[\"QNUT541\",null,\"AV\",\"AV\",\"AV\",\"AV\",\"AV\",\"AV\",\"AV\",\"AV\",null,null,null,null,null,\"Results\",null,1,1,1,null,null,null,1,1,1,null],[\"QNUT549\",null,\"AV\",\"AV\",\"AV\",\"AV\",\"AV\",\"AV\",\"AV\",\"AV\",null,null,null,null,null,\"Results\",null,1,1,1,null,null,null,1,1,1,null],[\"QNUT550\",null,\"AV\",\"AV\",\"AV\",\"AV\",\"AV\",\"AV\",\"AV\",\"AV\",null,null,null,null,null,\"Results\",null,1,1,1,null,null,null,1,1,1,null],[\"QNUT585\",null,\"AV\",\"AV\",\"AV\",\"AV\",\"AV\",\"AV\",\"AV\",\"AV\",null,null,null,null,null,\"Results\",null,1,1,1,null,null,null,1,1,1,null],[\"QNUT586\",null,\"AV\",\"AV\",\"AV\",\"AV\",\"AV\",\"AV\",\"AV\",\"AV\",null,null,null,null,null,\"Results\",null,1,1,1,null,null,null,1,1,1,null],[\"QNUT646\",null,\"AV\",\"AV\",\"AV\",\"AV\",\"AV\",\"AV\",\"AV\",\"AV\",null,null,null,null,null,\"Results\",null,1,1,1,null,null,null,1,1,1,null],[\"QNUT647\",null,\"AV\",\"AV\",\"AV\",\"AV\",\"AV\",\"AV\",\"AV\",\"AV\",null,null,null,null,null,\"Results\",null,1,1,1,null,null,null,1,1,1,null],[\"QNUT666\",null,\"AV\",\"AV\",\"AV\",\"AV\",\"AV\",\"AV\",\"AV\",\"AV\",null,null,null,null,null,\"Results\",null,1,1,1,null,null,null,1,1,1,null],[\"QNUT667\",null,\"AV\",\"AV\",\"AV\",\"AV\",\"AV\",\"AV\",\"AV\",\"AV\",null,null,null,null,null,\"Results\",null,1,1,1,null,null,null,1,1,1,null],[\"QNUT737\",null,\"AV\",\"AV\",\"AV\",\"AV\",\"AV\",\"AV\",\"AV\",\"AV\",null,null,null,null,null,\"Results\",null,1,1,1,null,null,null,1,1,1,\"BDL\"],[\"QNUT738\",null,\"AV\",\"AV\",\"AV\",\"AV\",\"AV\",\"AV\",\"AV\",\"AV\",null,null,null,null,null,\"Results\",null,1,1,1,null,null,null,1,1,1,null],[\"QNUT813\",null,\"AV\",\"AV\",\"AV\",\"AV\",\"AV\",\"AV\",\"AV\",\"AV\",null,null,null,null,null,\"Results\",null,1,1,1,null,null,null,1,1,1,\"BDL\"],[\"QNUT814\",null,\"AV\",\"AV\",\"AV\",\"AV\",\"AV\",\"AV\",\"AV\",\"AV\",null,null,null,null,null,\"Results\",null,1,1,1,null,null,null,1,1,1,null],[\"QNUT793\",null,\"AV\",\"AV\",\"AV\",\"AV\",\"AV\",\"AV\",\"AV\",\"AV\",null,null,null,null,null,\"Results\",null,1,1,1,null,null,null,1,1,1,null],[\"QNUT794\",null,\"AV\",\"AV\",\"AV\",\"AV\",\"AV\",\"AV\",\"AV\",\"AV\",null,null,null,null,null,\"Results\",null,1,1,1,null,null,null,1,1,1,null],[\"QNUT841\",null,\"AV\",\"AV\",\"AV\",\"AV\",\"AV\",\"AV\",\"AV\",\"AV\",null,null,null,null,null,\"Results\",null,1,1,1,null,null,null,1,1,1,\"BDL\"],[\"QNUT842\",null,\"AV\",\"AV\",\"AV\",\"AV\",\"AV\",\"AV\",\"AV\",\"AV\",null,null,null,null,null,\"Results\",null,1,1,1,null,null,null,1,1,1,null],[\"QNUT848\",null,\"AV\",\"AV\",\"AV\",\"AV\",\"AV\",\"AV\",\"AV\",\"AV\",null,null,null,null,null,\"Results\",null,1,1,1,null,null,null,1,1,1,null],[\"QNUT895\",null,\"AV\",\"AV\",\"AV\",\"AV\",\"AV\",\"AV\",\"AV\",\"AV\",null,null,null,null,null,\"Results\",null,1,1,1,null,null,null,1,1,1,null],[\"QNUT1013\",null,\"AV\",\"AV\",\"AV\",\"AV\",\"AV\",\"AV\",\"AV\",\"AV\",null,null,null,null,null,\"Results\",null,1,1,1,null,null,null,1,1,1,\"BDL\"],[\"QNUT1014\",null,\"AV\",\"AV\",\"AV\",\"AV\",\"AV\",\"AV\",\"AV\",\"AV\",null,null,null,null,null,\"Results\",null,1,1,1,null,null,null,1,1,1,null],[\"QNUT953\",null,\"AV\",\"AV\",\"AV\",\"AV\",\"AV\",\"AV\",\"AV\",\"AV\",null,null,null,null,null,\"Results\",null,1,1,1,null,null,null,1,1,1,null],[\"QNUT954\",null,\"AV\",\"AV\",\"AV\",\"AV\",\"AV\",\"AV\",\"AV\",\"AV\",null,null,null,null,null,\"Results\",null,1,1,1,null,null,null,1,1,1,null],[\"QNUT1040\",null,\"AV\",\"AV\",\"AV\",\"AV\",\"AV\",\"AV\",\"AV\",\"AV\",null,null,null,null,null,\"Results\",null,1,1,1,null,null,null,1,1,1,null],[\"QNUT1041\",null,\"AV\",\"AV\",\"AV\",\"AV\",\"AV\",\"AV\",\"AV\",\"AV\",null,null,null,null,null,\"Results\",null,1,1,1,null,null,null,1,1,1,null],[\"QNUT1058\",null,\"AV\",\"AV\",\"AV\",\"AV\",\"AV\",\"AV\",\"AV\",\"AV\",null,null,null,null,null,\"Results\",null,1,1,1,null,null,null,1,1,1,null],[\"QNUT1059\",null,\"AV\",\"AV\",\"AV\",\"AV\",\"AV\",\"AV\",\"AV\",\"AV\",null,null,null,null,null,\"Results\",null,1,1,1,null,null,null,1,1,1,null],[\"QNUT1124\",null,\"AV\",\"AV\",\"AV\",\"AV\",\"AV\",\"AV\",\"AV\",\"AV\",null,null,null,null,null,\"Results\",null,1,1,1,null,null,null,1,1,1,null],[\"QNUT1125\",null,\"AV\",\"AV\",\"AV\",\"AV\",\"AV\",\"AV\",\"AV\",\"AV\",null,null,null,null,null,\"Results\",null,1,1,1,null,null,null,1,1,1,null],[\"QNUT1143\",null,\"AV\",\"AV\",\"AV\",\"AV\",\"AV\",\"AV\",\"AV\",\"AV\",null,null,null,null,null,\"Results\",null,1,1,1,null,null,null,1,1,1,null],[\"QNUT1144\",null,\"AV\",\"AV\",\"AV\",\"AV\",\"AV\",\"AV\",\"AV\",\"AV\",null,null,null,null,null,\"Results\",null,1,1,1,null,null,null,1,1,1,null],[\"QNUT1162\",null,\"AV\",\"AV\",\"AV\",\"AV\",\"AV\",\"AV\",\"AV\",\"AV\",null,null,null,null,null,\"Results\",null,1,1,1,null,null,null,1,1,1,null],[\"QNUT1163\",null,\"AV\",\"AV\",\"AV\",\"AV\",\"AV\",\"AV\",\"AV\",\"AV\",null,null,null,null,null,\"Results\",null,1,1,1,null,null,null,1,1,1,null],[\"QNUT1181\",null,\"AV\",\"AV\",\"AV\",\"AV\",\"AV\",\"AV\",\"AV\",\"AV\",null,null,null,null,null,\"Results\",null,1,1,1,null,null,null,1,1,1,null],[\"QNUT1182\",null,\"AV\",\"AV\",\"AV\",\"AV\",\"AV\",\"AV\",\"AV\",\"AV\",null,null,null,null,null,\"Results\",null,1,1,1,null,null,null,1,1,1,null],[\"QNUT1250\",null,\"AV\",\"AV\",\"AV\",\"AV\",\"AV\",\"AV\",\"AV\",\"AV\",null,null,null,null,null,\"Results\",null,1,1,1,null,null,null,1,1,1,null],[\"QNUT1251\",null,\"AV\",\"AV\",\"AV\",\"AV\",\"AV\",\"AV\",\"AV\",\"AV\",null,null,null,null,null,\"Results\",null,1,1,1,null,null,null,1,1,1,null],[\"QNUT1270\",null,\"AV\",\"AV\",\"AV\",\"AV\",\"AV\",\"AV\",\"AV\",\"AV\",null,null,null,null,null,\"Results\",null,1,1,1,null,null,null,1,1,1,null],[\"QNUT1271\",null,\"AV\",\"AV\",\"AV\",\"AV\",\"AV\",\"AV\",\"AV\",\"AV\",null,null,null,null,null,\"Results\",null,1,1,1,null,null,null,1,1,1,null],[\"QNUT1328\",null,\"AV\",\"AV\",\"AV\",\"AV\",\"AV\",\"AV\",\"AV\",\"AV\",null,null,null,null,null,\"Results\",null,1,1,1,null,null,null,1,1,1,null],[\"QNUT1327\",null,\"AV\",\"AV\",\"AV\",\"AV\",\"AV\",\"AV\",\"AV\",\"AV\",null,null,null,null,null,\"Results\",null,1,1,1,null,null,null,1,1,1,null],[\"QNUT1351\",null,\"AV\",\"AV\",\"AV\",\"AV\",\"AV\",\"AV\",\"AV\",\"AV\",null,null,null,null,null,\"Results\",null,1,1,1,null,null,null,1,1,1,null],[\"QNUT1352\",null,\"AV\",\"AV\",\"AV\",\"AV\",\"AV\",\"AV\",\"AV\",\"AV\",null,null,null,null,null,\"Results\",null,1,1,1,null,null,null,1,1,1,null],[\"QNUT1289\",null,\"AV\",\"AV\",\"AV\",\"AV\",\"AV\",\"AV\",\"AV\",\"AV\",null,null,null,null,null,\"Results\",null,1,1,1,null,null,null,1,1,1,null],[\"QNUT1290\",null,\"AV\",\"AV\",\"AV\",\"AV\",\"AV\",\"AV\",\"AV\",\"AV\",null,null,null,null,null,\"Results\",null,1,1,1,null,null,null,1,1,1,null],[\"QNUT1382\",null,\"AV\",\"AV\",\"AV\",\"AV\",\"AV\",\"AV\",\"AV\",\"AV\",null,null,null,null,null,\"Results\",null,1,1,1,null,null,null,1,1,1,null],[\"QNUT1383\",null,\"AV\",\"AV\",\"AV\",\"AV\",\"AV\",\"AV\",\"AV\",\"AV\",null,null,null,null,null,\"Results\",null,1,1,1,null,null,null,1,1,1,null],[\"QNUT1398\",null,\"AV\",\"AV\",\"AV\",\"AV\",\"AV\",\"AV\",\"AV\",\"AV\",null,null,null,null,null,\"Results\",null,1,1,1,null,null,null,1,1,1,null],[\"QNUT1402\",null,\"AV\",\"AV\",\"AV\",\"AV\",\"AV\",\"AV\",\"AV\",\"AV\",null,null,null,null,null,\"Results\",null,1,1,1,null,null,null,1,1,1,null],[\"QNUT1447\",null,\"AV\",\"AV\",\"AV\",\"AV\",\"AV\",\"AV\",\"AV\",\"AV\",null,null,null,null,null,\"Results\",null,1,1,1,null,null,null,1,1,1,null],[\"QNUT1445\",null,\"AV\",\"AV\",\"AV\",\"AV\",\"AV\",\"AV\",\"AV\",\"AV\",null,null,null,null,null,\"Results\",null,1,1,1,null,null,null,1,1,1,null],[\"QNUT1426\",null,\"AV\",\"AV\",\"AV\",\"AV\",\"AV\",\"AV\",\"AV\",\"AV\",null,null,null,null,null,\"Results\",null,1,1,1,null,null,null,1,1,1,null],[\"QNUT1427\",null,\"AV\",\"AV\",\"AV\",\"AV\",\"AV\",\"AV\",\"AV\",\"AV\",null,null,null,null,null,\"Results\",null,1,1,1,null,null,null,1,1,1,null],[\"QNUT1474\",null,\"AV\",\"AV\",\"AV\",\"AV\",\"AV\",\"AV\",\"AV\",\"AV\",null,null,null,null,null,\"Results\",null,1,1,1,null,null,null,1,1,1,null],[\"QNUT1475\",null,\"AV\",\"AV\",\"AV\",\"AV\",\"AV\",\"AV\",\"AV\",\"AV\",null,null,null,null,null,\"Results\",null,1,1,1,null,null,null,1,1,1,null],[\"QNUT1494\",null,\"AV\",\"AV\",\"AV\",\"AV\",\"AV\",\"AV\",\"AV\",\"AV\",null,null,null,null,null,\"Results\",null,1,1,1,null,null,null,1,1,1,null],[\"QNUT1495\",null,\"AV\",\"AV\",\"AV\",\"AV\",\"AV\",\"AV\",\"AV\",\"AV\",null,null,null,null,null,\"Results\",null,1,1,1,null,null,null,1,1,1,null],[\"QNUT1523\",null,\"AV\",\"AV\",\"AV\",\"AV\",\"AV\",\"AV\",\"AV\",\"AV\",null,null,null,null,null,\"Results\",null,1,1,1,null,null,null,1,1,1,null],[\"QNUT1524\",null,\"AV\",\"AV\",\"AV\",\"AV\",\"AV\",\"AV\",\"AV\",\"AV\",null,null,null,null,null,\"Results\",null,1,1,1,null,null,null,1,1,1,null],[\"QNUT1533\",null,\"AV\",\"AV\",\"AV\",\"AV\",\"AV\",\"AV\",\"AV\",\"AV\",null,null,null,null,null,\"Results\",null,1,1,1,null,null,null,1,1,1,null],[\"QNUT1535\",null,\"AV\",\"AV\",\"AV\",\"AV\",\"AV\",\"AV\",\"AV\",\"AV\",null,null,null,null,null,\"Results\",null,1,1,1,null,null,null,1,1,1,null],[\"QNUT1620\",null,\"AV\",\"AV\",\"AV\",\"AV\",\"AV\",\"AV\",\"AV\",\"AV\",null,null,null,null,null,\"Results\",null,1,1,1,null,null,null,1,1,1,null],[\"QNUT1619\",null,\"AV\",\"AV\",\"AV\",\"AV\",\"AV\",\"AV\",\"AV\",\"AV\",null,null,null,null,null,\"Results\",null,1,1,1,null,null,null,1,1,1,null],[\"QNUT1661\",null,\"AV\",\"AV\",\"AV\",\"AV\",\"AV\",\"AV\",\"AV\",\"AV\",null,null,null,null,null,\"Results\",null,1,1,1,null,null,null,1,1,1,null],[\"QNUT1662\",null,\"AV\",\"AV\",\"AV\",\"AV\",\"AV\",\"AV\",\"AV\",\"AV\",null,null,null,null,null,\"Results\",null,1,1,1,null,null,null,1,1,1,null],[\"QNUT1684\",null,\"AV\",\"AV\",\"AV\",\"AV\",\"AV\",\"AV\",\"AV\",\"AV\",null,null,null,null,null,\"Results\",null,1,1,1,null,null,null,1,1,1,null],[\"QNUT1685\",null,\"AV\",\"AV\",\"AV\",\"AV\",\"AV\",\"AV\",\"AV\",\"AV\",null,null,null,null,null,\"Results\",null,1,1,1,null,null,null,1,1,1,null],[\"QNUT1747\",null,\"AV\",\"AV\",\"AV\",\"AV\",\"AV\",\"AV\",\"AV\",\"AV\",null,null,null,null,null,\"Results\",null,1,1,1,null,null,null,1,1,1,null],[\"QNUT1748\",null,\"AV\",\"AV\",\"AV\",\"AV\",\"AV\",\"AV\",\"AV\",\"AV\",null,null,null,null,null,\"Results\",null,1,1,1,null,null,null,1,1,1,null],[\"QNUT1755\",null,\"AV\",\"AV\",\"AV\",\"AV\",\"AV\",\"AV\",\"AV\",\"AV\",null,null,null,null,null,\"Results\",null,1,1,1,null,null,null,1,1,1,null],[\"QNUT1756\",null,\"AV\",\"AV\",\"AV\",\"AV\",\"AV\",\"AV\",\"AV\",\"AV\",null,null,null,null,null,\"Results\",null,1,1,1,null,null,null,1,1,1,null],[\"QNUT1834\",null,\"AV\",\"AV\",\"AV\",\"AV\",\"AV\",\"AV\",\"AV\",\"AV\",null,null,null,null,null,\"Results\",null,1,1,1,null,null,null,1,1,1,null],[\"QNUT1835\",null,\"AV\",\"AV\",\"AV\",\"AV\",\"AV\",\"AV\",\"AV\",\"AV\",null,null,null,null,null,\"Results\",null,1,1,1,null,null,null,1,1,1,null],[\"QNUT1816\",null,\"AV\",\"AV\",\"AV\",\"AV\",\"AV\",\"AV\",\"AV\",\"AV\",null,null,null,null,null,\"Results\",null,1,1,1,null,null,null,1,1,1,null],[\"QNUT1817\",null,\"AV\",\"AV\",\"AV\",\"AV\",\"AV\",\"AV\",\"AV\",\"AV\",null,null,null,null,null,\"Results\",null,1,1,1,null,null,null,1,1,1,null],[\"QNUT1864\",null,\"AV\",\"AV\",\"AV\",\"AV\",\"AV\",\"AV\",\"AV\",\"AV\",null,null,null,null,null,\"Results\",null,1,1,1,null,null,null,1,1,1,null],[\"QNUT1865\",null,\"AV\",\"AV\",\"AV\",\"AV\",\"AV\",\"AV\",\"AV\",\"AV\",null,null,null,null,null,\"Results\",null,1,1,1,null,null,null,1,1,1,null],[\"QNUT1938\",null,\"AV\",\"AV\",\"AV\",\"AV\",\"AV\",\"AV\",\"AV\",\"AV\",null,null,null,null,null,\"Results\",null,1,1,1,null,null,null,1,1,1,null],[\"QNUT1915\",null,\"AV\",\"AV\",\"AV\",\"AV\",\"AV\",\"AV\",\"AV\",\"AV\",null,null,null,null,null,\"Results\",null,1,1,1,null,null,null,1,1,1,null],[\"QNUT1916\",null,\"AV\",\"AV\",\"AV\",\"AV\",\"AV\",\"AV\",\"AV\",\"AV\",null,null,null,null,null,\"Results\",null,1,1,1,null,null,null,1,1,1,null],[\"QNUT2010\",null,\"AV\",\"AV\",\"AV\",\"AV\",\"AV\",\"AV\",\"AV\",\"AV\",null,null,null,null,null,\"Results\",null,1,1,1,null,null,null,1,1,1,null],[\"QNUT2011\",null,\"AV\",\"AV\",\"AV\",\"AV\",\"AV\",\"AV\",\"AV\",\"AV\",null,null,null,null,null,\"Results\",null,1,1,1,null,null,null,1,1,1,null],[\"QNUT1975\",null,\"AV\",\"AV\",\"AV\",\"AV\",\"AV\",\"AV\",\"AV\",\"AV\",null,null,null,null,null,\"Results\",null,1,1,1,null,null,null,1,1,1,null],[\"QNUT1976\",null,\"AV\",\"AV\",\"AV\",\"AV\",\"AV\",\"AV\",\"AV\",\"AV\",null,null,null,null,null,\"Results\",null,1,1,1,null,null,null,1,1,1,null],[\"QNUT1967\",null,\"AV\",\"AV\",\"AV\",\"AV\",\"AV\",\"AV\",\"AV\",\"AV\",null,null,null,null,null,\"Results\",null,1,1,1,null,null,null,1,1,1,null],[\"QNUT2016\",null,\"AV\",\"AV\",\"AV\",\"AV\",\"AV\",\"AV\",\"AV\",\"AV\",null,null,null,null,null,\"Results\",null,1,1,1,null,null,null,1,1,1,null],[\"QNUT2034\",null,\"AV\",\"AV\",\"AV\",\"AV\",\"AV\",\"AV\",\"AV\",\"AV\",null,null,null,null,null,\"Results\",null,1,1,1,null,null,null,1,1,1,null],[\"QNUT2035\",null,\"AV\",\"AV\",\"AV\",\"AV\",\"AV\",\"AV\",\"AV\",\"AV\",null,null,null,null,null,\"Results\",null,1,1,1,null,null,null,1,1,1,null],[\"QNUT2108\",null,\"AV\",\"AV\",\"AV\",\"AV\",\"AV\",\"AV\",\"AV\",\"AV\",null,null,null,null,null,\"Results\",null,1,1,1,null,null,null,1,1,1,null],[\"QNUT2112\",null,\"AV\",\"AV\",\"AV\",\"AV\",\"AV\",\"AV\",\"AV\",\"AV\",null,null,null,null,null,\"Results\",null,1,1,1,null,null,null,1,1,1,null],[\"QNUT2113\",null,\"AV\",\"AV\",\"AV\",\"AV\",\"AV\",\"AV\",\"AV\",\"AV\",null,null,null,null,null,\"Results\",null,1,1,1,null,null,null,1,1,1,null],[\"QNUT2087\",null,\"AV\",\"AV\",\"AV\",\"AV\",\"AV\",\"AV\",\"AV\",\"AV\",null,null,null,null,null,\"Results\",null,1,1,1,null,null,null,1,1,1,null],[\"QNUT2088\",null,\"AV\",\"AV\",\"AV\",\"AV\",\"AV\",\"AV\",\"AV\",\"AV\",null,null,null,null,null,\"Results\",null,1,1,1,null,null,null,1,1,1,null],[\"QNUT2085\",null,\"AV\",\"AV\",\"AV\",\"AV\",\"AV\",\"AV\",\"AV\",\"AV\",null,null,null,null,null,\"Results\",null,1,1,1,null,null,null,1,1,1,null],[\"QNUT2091\",null,\"AV\",\"AV\",\"AV\",\"AV\",\"AV\",\"AV\",\"AV\",\"AV\",null,null,null,null,null,\"Results\",null,1,1,1,null,null,null,1,1,1,null],[\"QNUT2154\",null,\"AV\",\"AV\",\"AV\",\"AV\",\"AV\",\"AV\",\"AV\",\"AV\",null,null,null,null,null,\"Results\",null,1,1,1,null,null,null,1,1,1,null],[\"QNUT2155\",null,\"AV\",\"AV\",\"AV\",\"AV\",\"AV\",\"AV\",\"AV\",\"AV\",null,null,null,null,null,\"Results\",null,1,1,1,null,null,null,1,1,1,null],[\"QNUT1926\",null,\"AV\",\"AV\",\"AV\",\"AV\",\"AV\",\"AV\",\"AV\",\"AV\",null,null,null,null,null,\"Results\",null,1,1,1,null,null,null,1,1,1,null],[\"QNUT1935\",null,\"AV\",\"AV\",\"AV\",\"AV\",\"AV\",\"AV\",\"AV\",\"AV\",null,null,null,null,null,\"Results\",null,1,1,1,null,null,null,1,1,1,null],[\"QNUT2184\",null,\"AV\",\"AV\",\"AV\",\"AV\",\"AV\",\"AV\",\"AV\",\"AV\",null,null,null,null,null,\"Results\",null,1,1,1,null,null,null,1,1,1,null],[\"QNUT2185\",null,\"AV\",\"AV\",\"AV\",\"AV\",\"AV\",\"AV\",\"AV\",\"AV\",null,null,null,null,null,\"Results\",null,1,1,1,null,null,null,1,1,1,null],[\"QNUT2165\",null,\"AV\",null,null,null,null,null,\"BDL\",\"AV\",null,null,null,null,null,\"Results\",null,1,1,1,null,null,null,1,1,1,null],[\"QNUT2166\",null,\"AV\",null,null,null,null,null,\"BDL\",\"AV\",null,null,null,null,null,\"Results\",null,1,1,1,null,null,null,1,1,1,null],[\"QNUT2179\",null,\"AV\",null,null,null,null,null,\"AV\",\"AV\",null,null,null,null,null,\"Results\",null,1,1,1,null,null,null,1,1,1,null],[\"QNUT2180\",null,\"AV\",null,null,null,null,null,\"AV\",\"AV\",null,null,null,null,null,\"Results\",null,1,1,1,null,null,null,1,1,1,null],[\"QNUT2258\",null,\"AV\",null,null,null,null,null,\"AV\",\"AV\",null,null,null,null,null,\"Results\",null,1,1,1,null,null,null,1,1,1,null],[\"QNUT2257\",null,\"AV\",null,null,null,null,null,\"AV\",\"AV\",null,null,null,null,null,\"Results\",null,1,1,1,null,null,null,1,1,1,null],[\"QNUT2240\",null,\"AV\",null,null,null,null,null,\"AV\",\"AV\",null,null,null,null,null,\"Results\",null,1,1,1,null,null,null,1,1,1,null],[\"QNUT2241\",null,\"AV\",null,null,null,null,null,\"AV\",\"AV\",null,null,null,null,null,\"Results\",null,1,1,1,null,null,null,1,1,1,null],[\"QNUT2266\",null,\"AV\",null,null,null,null,null,\"AV\",\"AV\",null,null,null,null,null,\"Results\",null,1,1,1,null,null,null,1,1,1,null],[\"QNUT2265\",null,\"AV\",null,null,null,null,null,\"AV\",\"AV\",null,null,null,null,null,\"Results\",null,1,1,1,null,null,null,1,1,1,null],[\"QNUT2293\",null,\"AV\",null,null,null,null,null,\"AV\",\"AV\",null,null,null,null,null,\"Results\",null,1,1,1,null,null,null,1,1,1,null],[\"QNUT2297\",null,\"AV\",null,null,null,null,null,\"AV\",\"AV\",null,null,null,null,null,\"Results\",null,1,1,1,null,null,null,1,1,1,null],[\"QNUT2341\",null,\"AV\",null,null,null,null,null,\"AV\",\"AV\",null,null,null,null,null,\"Results\",null,1,1,1,null,null,null,1,1,1,null],[\"QNUT2335\",null,\"AV\",null,null,null,null,null,\"AV\",\"AV\",null,null,null,null,null,\"Results\",null,1,1,1,null,null,null,1,1,1,null],[\"QNUT2369\",null,\"AV\",\"AV\",\"AV\",\"AV\",\"AV\",\"AV\",\"AV\",\"AV\",null,null,null,null,null,\"Results\",null,1,1,1,null,null,null,1,1,1,null],[\"QNUT2352\",null,\"AV\",\"AV\",\"AV\",\"AV\",\"AV\",\"AV\",\"AV\",\"AV\",null,null,null,null,null,\"Results\",null,1,1,1,null,null,null,1,1,1,null],[\"QNUT2467\",null,\"AV\",\"AV\",\"AV\",\"AV\",\"AV\",\"AV\",\"AV\",\"AV\",null,null,null,null,null,\"Results\",null,1,1,1,null,null,null,1,1,1,null],[\"QNUT2468\",null,\"AV\",\"AV\",\"AV\",\"AV\",\"AV\",\"AV\",\"AV\",\"AV\",null,null,null,null,null,\"Results\",null,1,1,1,null,null,null,1,1,1,null],[\"QNUT2434\",null,\"AV\",\"AV\",\"AV\",\"AV\",\"AV\",\"AV\",\"AV\",\"AV\",null,null,null,null,null,\"Results\",null,1,1,1,null,null,null,1,1,1,null],[\"QNUT2435\",null,\"AV\",\"AV\",\"AV\",\"AV\",\"AV\",\"AV\",\"AV\",\"AV\",null,null,null,null,null,\"Results\",null,1,1,1,null,null,null,1,1,1,null],[\"QNUT2388\",null,\"AV\",\"AV\",\"AV\",\"AV\",\"AV\",\"AV\",\"AV\",\"AV\",null,null,null,null,null,\"Results\",null,1,1,1,null,null,null,1,1,1,null],[\"QNUT2389\",null,\"AV\",\"AV\",\"AV\",\"AV\",\"AV\",\"AV\",\"AV\",\"AV\",null,null,null,null,null,\"Results\",null,1,1,1,null,null,null,1,1,1,null],[\"QNUT2397\",null,\"AV\",\"AV\",\"AV\",\"AV\",\"AV\",\"AV\",\"AV\",\"AV\",null,null,null,null,null,\"Results\",null,1,1,1,null,null,null,1,1,1,null],[\"QNUT2398\",null,\"AV\",\"AV\",\"AV\",\"AV\",\"AV\",\"AV\",\"AV\",\"AV\",null,null,null,null,null,\"Results\",null,1,1,1,null,null,null,1,1,1,null],[\"QNUT2522\",null,\"AV\",\"AV\",\"AV\",\"AV\",\"AV\",\"AV\",\"AV\",\"AV\",null,null,null,null,null,\"Results\",null,1,1,1,null,null,null,1,1,1,null],[\"QNUT2523\",null,\"AV\",\"AV\",\"AV\",\"AV\",\"AV\",\"AV\",\"AV\",\"AV\",null,null,null,null,null,\"Results\",null,1,1,1,null,null,null,1,1,1,null],[\"QNUT2499\",null,\"AV\",\"AV\",\"AV\",\"AV\",\"AV\",\"AV\",\"AV\",\"AV\",null,null,null,null,null,\"Results\",null,1,1,1,null,null,null,1,1,1,null],[\"QNUT2500\",null,\"AV\",\"AV\",\"AV\",\"AV\",\"AV\",\"AV\",\"AV\",\"AV\",null,null,null,null,null,\"Results\",null,1,1,1,null,null,null,1,1,1,null],[\"QNUT2477\",null,\"AV\",\"AV\",\"AV\",\"AV\",\"AV\",\"AV\",\"AV\",\"AV\",null,null,null,null,null,\"Results\",null,1,1,1,null,null,null,1,1,1,null],[\"QNUT2478\",null,\"AV\",\"AV\",\"AV\",\"AV\",\"AV\",\"AV\",\"AV\",\"AV\",null,null,null,null,null,\"Results\",null,1,1,1,null,null,null,1,1,1,null],[\"QNUT2567\",null,\"AV\",\"AV\",\"AV\",\"AV\",\"AV\",\"AV\",\"AV\",\"AV\",null,null,null,null,null,\"Results\",null,1,1,1,null,null,null,1,1,1,null],[\"QNUT2568\",null,\"AV\",\"AV\",\"AV\",\"AV\",\"AV\",\"AV\",\"AV\",\"AV\",null,null,null,null,null,\"Results\",null,1,1,1,null,null,null,1,1,1,null],[\"QNUT2579\",null,\"AV\",\"AV\",\"AV\",\"AV\",\"AV\",\"AV\",\"AV\",\"AV\",null,null,null,null,null,\"Results\",null,1,1,1,null,null,null,1,1,1,null],[\"QNUT2580\",null,\"AV\",\"AV\",\"AV\",\"AV\",\"AV\",\"AV\",\"AV\",\"AV\",null,null,null,null,null,\"Results\",null,1,1,1,null,null,null,1,1,1,null],[\"QNUT2604\",null,\"AV\",\"AV\",\"AV\",\"AV\",\"AV\",\"AV\",\"AV\",\"AV\",null,null,null,null,null,\"Results\",null,1,1,1,null,null,null,1,1,1,null],[\"QNUT2605\",null,\"AV\",\"AV\",\"AV\",\"AV\",\"AV\",\"AV\",\"AV\",\"AV\",null,null,null,null,null,\"Results\",null,1,1,1,null,null,null,1,1,1,null],[\"QNUT2643\",null,\"AV\",\"AV\",\"AV\",\"AV\",\"AV\",\"AV\",\"AV\",\"AV\",null,null,null,null,null,\"Results\",null,1,1,1,null,null,null,1,1,1,null],[\"QNUT2644\",null,\"AV\",\"AV\",\"AV\",\"AV\",\"AV\",\"AV\",\"AV\",\"AV\",null,null,null,null,null,\"Results\",null,1,1,1,null,null,null,1,1,1,null],[\"QNUT2666\",null,\"AV\",\"AV\",\"AV\",\"AV\",\"AV\",\"AV\",\"AV\",\"AV\",null,null,null,null,null,\"Results\",null,1,1,1,null,null,null,1,1,1,null],[\"QNUT2667\",null,\"AV\",\"AV\",\"AV\",\"AV\",\"AV\",\"AV\",\"AV\",\"AV\",null,null,null,null,null,\"Results\",null,1,1,1,null,null,null,1,1,1,null],[\"QNUT2680\",null,\"AV\",\"AV\",\"AV\",\"AV\",\"AV\",\"AV\",\"AV\",\"AV\",null,null,null,null,null,\"Results\",null,1,1,1,null,null,null,1,1,1,null],[\"QNUT2681\",null,\"AV\",\"AV\",\"AV\",\"AV\",\"AV\",\"AV\",\"AV\",\"AV\",null,null,null,null,null,\"Results\",null,1,1,1,null,null,null,1,1,1,null],[\"QNUT2704\",null,\"AV\",\"AV\",\"AV\",\"AV\",\"AV\",\"AV\",\"AV\",\"AV\",null,null,null,null,null,\"Results\",null,1,1,1,null,null,null,1,1,1,null],[\"QNUT2705\",null,\"AV\",\"AV\",\"AV\",\"AV\",\"AV\",\"AV\",\"AV\",\"AV\",null,null,null,null,null,\"Results\",null,1,1,1,null,null,null,1,1,1,null],[\"QNUT2751\",null,\"AV\",\"AV\",\"AV\",\"AV\",\"AV\",\"AV\",\"AV\",\"AV\",null,null,null,null,null,\"Results\",null,1,1,1,null,null,null,1,1,1,null],[\"QNUT2752\",null,\"AV\",\"AV\",\"AV\",\"AV\",\"AV\",\"AV\",\"AV\",\"AV\",null,null,null,null,null,\"Results\",null,1,1,1,null,null,null,1,1,1,null],[\"QNUT2765\",null,\"AV\",\"AV\",\"AV\",\"AV\",\"AV\",\"AV\",\"AV\",\"AV\",null,null,null,null,null,\"Results\",null,1,1,1,null,null,null,1,1,1,null],[\"QNUT2766\",null,\"AV\",\"AV\",\"AV\",\"AV\",\"AV\",\"AV\",\"AV\",\"AV\",null,null,null,null,null,\"Results\",null,1,1,1,null,null,null,1,1,1,null],[\"QNUT2801\",null,\"AV\",\"AV\",\"AV\",\"AV\",\"AV\",\"AV\",\"AV\",\"AV\",null,null,null,null,null,\"Results\",null,1,1,1,null,null,null,1,1,1,null],[\"QNUT2802\",null,\"AV\",\"AV\",\"AV\",\"AV\",\"AV\",\"AV\",\"AV\",\"AV\",null,null,null,null,null,\"Results\",null,1,1,1,null,null,null,1,1,1,null],[\"QNUT2817\",null,\"AV\",\"AV\",\"AV\",\"AV\",\"AV\",\"AV\",\"AV\",\"AV\",null,null,null,null,null,\"Results\",null,1,1,1,null,null,null,1,1,1,null],[\"QNUT2818\",null,\"AV\",\"AV\",\"AV\",\"AV\",\"AV\",\"AV\",\"AV\",\"AV\",null,null,null,null,null,\"Results\",null,1,1,1,null,null,null,1,1,1,null],[\"QNUT2860\",null,\"AV\",\"AV\",\"AV\",\"AV\",\"AV\",\"AV\",\"AV\",\"AV\",null,null,null,null,null,\"Results\",null,1,1,1,null,null,null,1,1,1,null],[\"QNUT2861\",null,\"AV\",\"AV\",\"AV\",\"AV\",\"AV\",\"AV\",\"AV\",\"AV\",null,null,null,null,null,\"Results\",null,1,1,1,null,null,null,1,1,1,null],[\"QNUT2884\",null,\"AV\",\"AV\",\"AV\",\"AV\",\"AV\",\"AV\",\"AV\",\"AV\",null,null,null,null,null,\"Results\",null,1,1,1,null,null,null,1,1,1,null],[\"QNUT2885\",null,\"AV\",\"AV\",\"AV\",\"AV\",\"AV\",\"AV\",\"AV\",\"AV\",null,null,null,null,null,\"Results\",null,1,1,1,null,null,null,1,1,1,null],[\"QNUT2911\",null,\"AV\",\"AV\",\"AV\",\"AV\",\"AV\",\"AV\",\"AV\",\"AV\",null,null,null,null,null,\"Results\",null,1,1,1,null,null,null,1,1,1,null],[\"QNUT2912\",null,\"AV\",\"AV\",\"AV\",\"AV\",\"AV\",\"AV\",\"AV\",\"AV\",null,null,null,null,null,\"Results\",null,1,1,1,null,null,null,1,1,1,null],[\"QNUT2929\",null,\"AV\",\"AV\",\"AV\",\"AV\",\"AV\",\"AV\",\"AV\",\"AV\",null,null,null,null,null,\"Results\",null,1,1,1,null,null,null,1,1,1,null],[\"QNUT2930\",null,\"AV\",\"AV\",\"AV\",\"AV\",\"AV\",\"AV\",\"AV\",\"AV\",null,null,null,null,null,\"Results\",null,1,1,1,null,null,null,1,1,1,null],[\"QNUT2943\",null,\"AV\",\"AV\",\"AV\",\"AV\",\"AV\",\"AV\",\"AV\",\"AV\",null,null,null,null,null,\"Results\",null,1,1,1,null,null,null,1,1,1,null],[\"QNUT2944\",null,\"AV\",\"AV\",\"AV\",\"AV\",\"AV\",\"AV\",\"AV\",\"AV\",null,null,null,null,null,\"Results\",null,1,1,1,null,null,null,1,1,1,null],[\"QNUT2965\",null,\"AV\",\"AV\",\"AV\",\"AV\",\"AV\",\"AV\",\"AV\",\"AV\",null,null,null,null,null,\"Results\",null,1,1,1,null,null,null,1,1,1,null],[\"QNUT2966\",null,\"AV\",\"AV\",\"AV\",\"AV\",\"AV\",\"AV\",\"AV\",\"AV\",null,null,null,null,null,\"Results\",null,1,1,1,null,null,null,1,1,1,null],[\"QNUT2989\",null,\"AV\",\"AV\",\"AV\",\"AV\",\"AV\",\"AV\",\"AV\",\"AV\",null,null,null,null,null,\"Results\",null,1,1,1,null,null,null,1,1,1,null],[\"QNUT2990\",null,\"AV\",\"AV\",\"AV\",\"AV\",\"AV\",\"AV\",\"AV\",\"AV\",null,null,null,null,null,\"Results\",null,1,1,1,null,null,null,1,1,1,null],[\"QNUT3000\",null,\"AV\",\"AV\",\"AV\",\"AV\",\"AV\",\"AV\",\"AV\",\"AV\",null,null,null,null,null,\"Results\",null,1,1,1,null,null,null,1,1,1,null],[\"QNUT2988\",null,\"AV\",\"AV\",\"AV\",\"AV\",\"AV\",\"AV\",\"AV\",\"AV\",null,null,null,null,null,\"Results\",null,1,1,1,null,null,null,1,1,1,null],[\"QNUT3013\",null,\"AV\",\"AV\",\"AV\",\"AV\",\"AV\",\"AV\",\"AV\",\"AV\",null,null,null,null,null,\"Results\",null,1,1,1,null,null,null,1,1,1,null],[\"QNUT3014\",null,\"AV\",\"AV\",\"AV\",\"AV\",\"AV\",\"AV\",\"AV\",\"AV\",null,null,null,null,null,\"Results\",null,1,1,1,null,null,null,1,1,1,null],[\"QNUT3039\",null,\"AV\",\"AV\",\"AV\",\"AV\",\"AV\",\"AV\",\"AV\",\"AV\",null,null,null,null,null,\"Results\",null,1,1,1,null,null,null,1,1,1,null],[\"QNUT3040\",null,\"AV\",\"AV\",\"AV\",\"AV\",\"AV\",\"AV\",\"AV\",\"AV\",null,null,null,null,null,\"Results\",null,1,1,1,null,null,null,1,1,1,null],[\"QNUT3066\",null,\"AV\",\"AV\",\"AV\",\"AV\",\"AV\",\"AV\",\"AV\",\"AV\",null,null,null,null,null,\"Results\",null,1,1,1,null,null,null,1,1,1,null],[\"QNUT3067\",null,\"AV\",\"AV\",\"AV\",\"AV\",\"AV\",\"AV\",\"AV\",\"AV\",null,null,null,null,null,\"Results\",null,1,1,1,null,null,null,1,1,1,null],[\"QNUT3095\",null,\"AV\",\"AV\",\"AV\",\"AV\",\"AV\",\"AV\",\"AV\",\"AV\",null,null,null,null,null,\"Results\",null,1,1,1,null,null,null,1,1,1,null],[\"QNUT3096\",null,\"AV\",\"AV\",\"AV\",\"AV\",\"AV\",\"AV\",\"AV\",\"AV\",null,null,null,null,null,\"Results\",null,1,1,1,null,null,null,1,1,1,null],[\"QNUT3124\",null,\"AV\",\"AV\",\"AV\",\"AV\",\"AV\",\"AV\",\"AV\",\"AV\",null,null,null,null,null,\"Results\",null,1,1,1,null,null,null,1,1,1,null],[\"QNUT3125\",null,\"AV\",\"AV\",\"AV\",\"AV\",\"AV\",\"AV\",\"AV\",\"AV\",null,null,null,null,null,\"Results\",null,1,1,1,null,null,null,1,1,1,null],[\"QNUT3136\",null,\"AV\",\"AV\",\"AV\",\"AV\",\"AV\",\"AV\",\"AV\",\"AV\",null,null,null,null,null,\"Results\",null,1,1,1,null,null,null,1,1,1,null],[\"QNUT3137\",null,\"AV\",\"AV\",\"AV\",\"AV\",\"AV\",\"AV\",\"AV\",\"AV\",null,null,null,null,null,\"Results\",null,1,1,1,null,null,null,1,1,1,null],[\"QNUT3162\",null,\"AV\",\"AV\",\"AV\",\"AV\",\"AV\",\"AV\",\"AV\",\"AV\",null,null,null,null,null,\"Results\",null,1,1,1,null,null,null,1,1,1,null],[\"QNUT3163\",null,\"AV\",\"AV\",\"AV\",\"AV\",\"AV\",\"AV\",\"AV\",\"AV\",null,null,null,null,null,\"Results\",null,1,1,1,null,null,null,1,1,1,null],[\"QNUT3219\",null,\"AV\",\"AV\",\"AV\",\"AV\",\"AV\",\"AV\",\"AV\",\"AV\",null,null,null,null,null,\"Results\",null,1,1,1,null,null,null,1,1,1,null],[\"QNUT3220\",null,\"AV\",\"AV\",\"AV\",\"AV\",\"AV\",\"AV\",\"AV\",\"AV\",null,null,null,null,null,\"Results\",null,1,1,1,null,null,null,1,1,1,null],[\"QNUT3198\",null,\"AV\",\"AV\",\"AV\",\"AV\",\"AV\",\"AV\",\"AV\",\"AV\",null,null,null,null,null,\"Results\",null,1,1,1,null,null,null,1,1,1,null],[\"QNUT3199\",null,\"AV\",\"AV\",\"AV\",\"AV\",\"AV\",\"AV\",\"AV\",\"AV\",null,null,null,null,null,\"Results\",null,1,1,1,null,null,null,1,1,1,null],[\"QNUT3324\",null,\"AV\",\"AV\",\"AV\",\"AV\",\"AV\",\"AV\",\"AV\",\"AV\",null,null,null,null,null,\"Results\",null,1,1,1,null,null,null,1,1,1,null],[\"QNUT3224\",null,\"AV\",\"AV\",\"AV\",\"AV\",\"AV\",\"AV\",\"AV\",\"AV\",null,null,null,null,null,\"Results\",null,1,1,1,null,null,null,1,1,1,null],[\"QNUT3225\",null,\"AV\",\"AV\",\"AV\",\"AV\",\"AV\",\"AV\",\"AV\",\"AV\",null,null,null,null,null,\"Results\",null,1,1,1,null,null,null,1,1,1,null],[\"QNUT3241\",null,\"AV\",\"AV\",\"AV\",\"AV\",\"AV\",\"AV\",\"AV\",\"AV\",null,null,null,null,null,\"Results\",null,1,1,1,null,null,null,1,1,1,null],[\"QNUT3242\",null,\"AV\",\"AV\",\"AV\",\"AV\",\"AV\",\"AV\",\"AV\",\"AV\",null,null,null,null,null,\"Results\",null,1,1,1,null,null,null,1,1,1,null],[\"QNUT3279\",null,\"AV\",\"AV\",\"AV\",\"AV\",\"AV\",\"AV\",\"AV\",\"AV\",null,null,null,null,null,\"Results\",null,1,1,1,null,null,null,1,1,1,null],[\"QNUT3280\",null,\"AV\",\"AV\",\"AV\",\"AV\",\"AV\",\"AV\",\"AV\",\"AV\",null,null,null,null,null,\"Results\",null,1,1,1,null,null,null,1,1,1,null],[\"QNUT3290\",null,\"AV\",\"AV\",\"AV\",\"AV\",\"AV\",\"AV\",\"AV\",\"AV\",null,null,null,null,null,\"Results\",null,1,1,1,null,null,null,1,1,1,null],[\"QNUT3291\",null,\"AV\",\"AV\",\"AV\",\"AV\",\"AV\",\"AV\",\"AV\",\"AV\",null,null,null,null,null,\"Results\",null,1,1,1,null,null,null,1,1,1,null],[\"QNUT3316\",null,\"AV\",\"AV\",\"AV\",\"AV\",\"AV\",\"AV\",\"AV\",\"AV\",null,null,null,null,null,\"Results\",null,1,1,1,null,null,null,1,1,1,null],[\"QNUT3317\",null,\"AV\",\"AV\",\"AV\",\"AV\",\"AV\",\"AV\",\"AV\",\"AV\",null,null,null,null,null,\"Results\",null,1,1,1,null,null,null,1,1,1,null],[\"QNUT3331\",null,\"AV\",\"AV\",\"AV\",\"AV\",\"AV\",\"AV\",\"AV\",\"AV\",null,null,null,null,null,\"Results\",null,1,1,1,null,null,null,1,1,1,null],[\"QNUT3332\",null,\"AV\",\"AV\",\"AV\",\"AV\",\"AV\",\"AV\",\"AV\",\"AV\",null,null,null,null,null,\"Results\",null,1,1,1,null,null,null,1,1,1,null],[\"QNUT3355\",null,\"AV\",\"AV\",\"AV\",\"AV\",\"AV\",\"AV\",\"AV\",\"AV\",null,null,null,null,null,\"Results\",null,1,1,1,null,null,null,1,1,1,null],[\"QNUT3356\",null,\"AV\",\"AV\",\"AV\",\"AV\",\"AV\",\"AV\",\"AV\",\"AV\",null,null,null,null,null,\"Results\",null,1,1,1,null,null,null,1,1,1,null],[\"QNUT3367\",null,\"AV\",\"AV\",\"AV\",\"AV\",\"AV\",\"AV\",\"AV\",\"AV\",null,null,null,null,null,\"Results\",null,1,1,1,null,null,null,1,1,1,null],[\"QNUT3368\",null,\"AV\",\"AV\",\"AV\",\"AV\",\"AV\",\"AV\",\"AV\",\"AV\",null,null,null,null,null,\"Results\",null,1,1,1,null,null,null,1,1,1,null],[\"QNUT3387\",null,\"AV\",\"AV\",\"AV\",\"AV\",\"AV\",\"AV\",\"AV\",\"AV\",null,null,null,null,null,\"Results\",null,1,1,1,null,null,null,1,1,1,null],[\"QNUT3388\",null,\"AV\",\"AV\",\"AV\",\"AV\",\"AV\",\"AV\",\"AV\",\"AV\",null,null,null,null,null,\"Results\",null,1,1,1,null,null,null,1,1,1,null],[\"QNUT3250\",null,\"AV\",\"AV\",\"AV\",\"AV\",\"AV\",\"AV\",\"AV\",\"AV\",null,null,null,null,null,\"Results\",null,1,1,1,null,null,null,1,1,1,null],[\"QNUT3251\",null,\"AV\",\"AV\",\"AV\",\"AV\",\"AV\",\"AV\",\"AV\",\"AV\",null,null,null,null,null,\"Results\",null,1,1,1,null,null,null,1,1,1,null],[\"QNUT3262\",null,\"AV\",\"AV\",\"AV\",\"AV\",\"AV\",\"AV\",\"AV\",\"AV\",null,null,null,null,null,\"Results\",null,1,1,1,null,null,null,1,1,1,null],[\"QNUT3263\",null,\"AV\",\"AV\",\"AV\",\"AV\",\"AV\",\"AV\",\"AV\",\"AV\",null,null,null,null,null,\"Results\",null,1,1,1,null,null,null,1,1,1,null],[\"QNUT3441\",null,\"AV\",\"AV\",\"AV\",\"AV\",\"AV\",\"AV\",\"AV\",\"AV\",null,null,null,null,null,\"Results\",null,1,1,1,null,null,null,1,1,1,null],[\"QNUT3442\",null,\"AV\",\"AV\",\"AV\",\"AV\",\"AV\",\"AV\",\"AV\",\"AV\",null,null,null,null,null,\"Results\",null,1,1,1,null,null,null,1,1,1,null],[\"QNUT3458\",null,\"AV\",\"AV\",\"AV\",\"AV\",\"AV\",\"AV\",\"AV\",\"AV\",null,null,null,null,null,\"Results\",null,1,1,1,null,null,null,1,1,1,null],[\"QNUT3459\",null,\"AV\",\"AV\",\"AV\",\"AV\",\"AV\",\"AV\",\"AV\",\"AV\",null,null,null,null,null,\"Results\",null,1,1,1,null,null,null,1,1,1,null],[\"QNUT3472\",null,\"AV\",\"AV\",\"AV\",\"AV\",\"AV\",\"AV\",\"AV\",\"AV\",null,null,null,null,null,\"Results\",null,1,1,1,null,null,null,1,1,1,null],[\"QNUT3473\",null,\"AV\",\"AV\",\"AV\",\"AV\",\"AV\",\"AV\",\"AV\",\"AV\",null,null,null,null,null,\"Results\",null,1,1,1,null,null,null,1,1,1,null],[\"QNUT3496\",null,\"AV\",\"AV\",\"AV\",\"AV\",\"AV\",\"AV\",\"AV\",\"AV\",null,null,null,null,null,\"Results\",null,1,1,1,null,null,null,1,1,1,null],[\"QNUT3497\",null,\"AV\",\"AV\",\"AV\",\"AV\",\"AV\",\"AV\",\"AV\",\"AV\",null,null,null,null,null,\"Results\",null,1,1,1,null,null,null,1,1,1,null],[\"QNUT3511\",null,\"AV\",\"AV\",\"AV\",\"AV\",\"AV\",\"AV\",\"AV\",\"AV\",null,null,null,null,null,\"Results\",null,1,1,1,null,null,null,1,1,1,null],[\"QNUT3512\",null,\"AV\",\"AV\",\"AV\",\"AV\",\"AV\",\"AV\",\"AV\",\"AV\",null,null,null,null,null,\"Results\",null,1,1,1,null,null,null,1,1,1,null],[\"QNUT3523\",null,\"AV\",\"AV\",\"AV\",\"AV\",\"AV\",\"AV\",\"AV\",\"AV\",null,null,null,null,null,\"Results\",null,1,1,1,null,null,null,1,1,1,null],[\"QNUT3524\",null,\"AV\",\"AV\",\"AV\",\"AV\",\"AV\",\"AV\",\"AV\",\"AV\",null,null,null,null,null,\"Results\",null,1,1,1,null,null,null,1,1,1,null],[\"QNUT3627\",null,\"AV\",\"AV\",\"AV\",\"AV\",\"AV\",\"AV\",\"AV\",\"AV\",null,null,null,null,null,\"Results\",null,1,1,1,null,null,null,1,1,1,null],[\"QNUT3628\",null,\"AV\",\"AV\",\"AV\",\"AV\",\"AV\",\"AV\",\"AV\",\"AV\",null,null,null,null,null,\"Results\",null,1,1,1,null,null,null,1,1,1,null],[\"QNUT3649\",null,\"AV\",\"AV\",\"AV\",\"AV\",\"AV\",\"AV\",\"AV\",\"AV\",null,null,null,null,null,\"Results\",null,1,1,1,null,null,null,1,1,1,null],[\"QNUT3650\",null,\"AV\",\"AV\",\"AV\",\"AV\",\"AV\",\"AV\",\"AV\",\"AV\",null,null,null,null,null,\"Results\",null,1,1,1,null,null,null,1,1,1,null],[\"QNUT3663\",null,\"AV\",\"AV\",\"AV\",\"AV\",\"AV\",\"AV\",\"AV\",\"AV\",null,null,null,null,null,\"Results\",null,1,1,1,null,null,null,1,1,1,null],[\"QNUT3664\",null,\"AV\",\"AV\",\"AV\",\"AV\",\"AV\",\"AV\",\"AV\",\"AV\",null,null,null,null,null,\"Results\",null,1,1,1,null,null,null,1,1,1,null],[\"QNUT3678\",null,\"AV\",\"AV\",\"AV\",\"AV\",\"AV\",\"AV\",\"AV\",\"AV\",null,null,null,null,null,\"Results\",null,1,1,1,null,null,null,1,1,1,null],[\"QNUT3679\",null,\"AV\",\"AV\",\"AV\",\"AV\",\"AV\",\"AV\",\"AV\",\"AV\",null,null,null,null,null,\"Results\",null,1,1,1,null,null,null,1,1,1,null],[\"QNUT3692\",null,\"AV\",\"AV\",\"AV\",\"AV\",\"AV\",\"AV\",\"AV\",\"AV\",null,null,null,null,null,\"Results\",null,1,1,1,null,null,null,1,1,1,null],[\"QNUT3693\",null,\"AV\",\"AV\",\"AV\",\"AV\",\"AV\",\"AV\",\"AV\",\"AV\",null,null,null,null,null,\"Results\",null,1,1,1,null,null,null,1,1,1,null],[\"QNUT3715\",null,\"AV\",\"AV\",\"AV\",\"AV\",\"AV\",\"AV\",\"AV\",\"AV\",null,null,null,null,null,\"Results\",null,1,1,1,null,null,null,1,1,1,null],[\"QNUT3716\",null,\"AV\",\"AV\",\"AV\",\"AV\",\"AV\",\"AV\",\"AV\",\"AV\",null,null,null,null,null,\"Results\",null,1,1,1,null,null,null,1,1,1,null],[\"QNUT3730\",null,\"AV\",\"AV\",\"AV\",\"AV\",\"AV\",\"AV\",\"AV\",\"AV\",null,null,null,null,null,\"Results\",null,1,1,1,null,null,null,1,1,1,null],[\"QNUT3731\",null,\"AV\",\"AV\",\"AV\",\"AV\",\"AV\",\"AV\",\"AV\",\"AV\",null,null,null,null,null,\"Results\",null,1,1,1,null,null,null,1,1,1,null],[\"QNUT3740\",null,\"AV\",\"AV\",\"AV\",\"AV\",\"AV\",\"AV\",\"AV\",\"AV\",null,null,null,null,null,\"Results\",null,1,1,1,null,null,null,1,1,1,null],[\"QNUT3741\",null,\"AV\",\"AV\",\"AV\",\"AV\",\"AV\",\"AV\",\"AV\",\"AV\",null,null,null,null,null,\"Results\",null,1,1,1,null,null,null,1,1,1,null],[\"QNUT3771\",null,\"AV\",\"AV\",\"AV\",\"AV\",\"AV\",\"AV\",\"AV\",\"AV\",null,null,null,null,null,\"Results\",null,1,1,1,null,null,null,1,1,1,null],[\"QNUT3772\",null,\"AV\",\"AV\",\"AV\",\"AV\",\"AV\",\"AV\",\"AV\",\"AV\",null,null,null,null,null,\"Results\",null,1,1,1,null,null,null,1,1,1,null],[\"QNUT3785\",null,\"AV\",\"AV\",\"AV\",\"AV\",\"AV\",\"AV\",\"AV\",\"AV\",null,null,null,null,null,\"Results\",null,1,1,1,null,null,null,1,1,1,null],[\"QNUT3786\",null,\"AV\",\"AV\",\"AV\",\"AV\",\"AV\",\"AV\",\"AV\",\"AV\",null,null,null,null,null,\"Results\",null,1,1,1,null,null,null,1,1,1,null],[\"QNUT3804\",null,\"AV\",\"AV\",\"AV\",\"AV\",\"AV\",\"AV\",\"AV\",\"AV\",null,null,null,null,null,\"Results\",null,1,1,1,null,null,null,1,1,1,null],[\"QNUT3805\",null,\"AV\",\"AV\",\"AV\",\"AV\",\"AV\",\"AV\",\"AV\",\"AV\",null,null,null,null,null,\"Results\",null,1,1,1,null,null,null,1,1,1,null],[\"QNUT3825\",null,\"AV\",\"AV\",\"AV\",\"AV\",\"AV\",\"AV\",\"AV\",\"AV\",null,null,null,null,null,\"Results\",null,1,1,1,null,null,null,1,1,1,null],[\"QNUT3826\",null,\"AV\",\"AV\",\"AV\",\"AV\",\"AV\",\"AV\",\"AV\",\"AV\",null,null,null,null,null,\"Results\",null,1,1,1,null,null,null,1,1,1,null],[\"QNUT3849\",null,\"AV\",\"AV\",\"AV\",\"AV\",\"AV\",\"AV\",\"AV\",\"AV\",null,null,null,null,null,\"Results\",null,1,1,1,null,null,null,1,1,1,null],[\"QNUT3850\",null,\"AV\",\"AV\",\"AV\",\"AV\",\"AV\",\"AV\",\"AV\",\"AV\",null,null,null,null,null,\"Results\",null,1,1,1,null,null,null,1,1,1,null],[\"QNUT3863\",null,\"AV\",\"AV\",\"AV\",\"AV\",\"AV\",\"AV\",\"AV\",\"AV\",null,null,null,null,null,\"Results\",null,1,1,1,null,null,null,1,1,1,null],[\"QNUT3864\",null,\"AV\",\"AV\",\"AV\",\"AV\",\"AV\",\"AV\",\"AV\",\"AV\",null,null,null,null,null,\"Results\",null,1,1,1,null,null,null,1,1,1,null],[\"QNUT3877\",null,\"AV\",\"AV\",\"AV\",\"AV\",\"AV\",\"AV\",\"AV\",\"AV\",null,null,null,null,null,\"Results\",null,1,1,1,null,null,null,1,1,1,null],[\"QNUT3878\",null,\"AV\",\"AV\",\"AV\",\"AV\",\"AV\",\"AV\",\"AV\",\"AV\",null,null,null,null,null,\"Results\",null,1,1,1,null,null,null,1,1,1,null],[\"QNUT3911\",null,\"AV\",\"AV\",\"AV\",\"AV\",\"AV\",\"AV\",\"AV\",\"AV\",null,null,null,null,null,\"Results\",null,1,1,1,null,null,null,1,1,1,null],[\"QNUT3912\",null,\"AV\",\"AV\",\"AV\",\"AV\",\"AV\",\"AV\",\"AV\",\"AV\",null,null,null,null,null,\"Results\",null,1,1,1,null,null,null,1,1,1,null],[\"QNUT3925\",null,\"AV\",\"AV\",\"AV\",\"AV\",\"AV\",\"AV\",\"AV\",\"AV\",null,null,null,null,null,\"Results\",null,1,1,1,null,null,null,1,1,1,null],[\"QNUT3924\",null,\"AV\",\"AV\",\"AV\",\"AV\",\"AV\",\"AV\",\"AV\",\"AV\",null,null,null,null,null,\"Results\",null,1,1,1,null,null,null,1,1,1,null],[\"QNUT3937\",null,\"AV\",\"AV\",\"AV\",\"AV\",\"AV\",\"AV\",\"AV\",\"AV\",null,null,null,null,null,\"Results\",null,1,1,1,null,null,null,1,1,1,null],[\"QNUT3938\",null,\"AV\",\"AV\",\"AV\",\"AV\",\"AV\",\"AV\",\"AV\",\"AV\",null,null,null,null,null,\"Results\",null,1,1,1,null,null,null,1,1,1,null],[\"QNUT3977\",null,\"AV\",\"AV\",\"AV\",\"AV\",\"AV\",\"AV\",\"AV\",\"AV\",null,null,null,null,null,\"Results\",null,1,1,1,null,null,null,1,1,1,null],[\"QNUT3978\",null,\"AV\",\"AV\",\"AV\",\"AV\",\"AV\",\"AV\",\"AV\",\"AV\",null,null,null,null,null,\"Results\",null,1,1,1,null,null,null,1,1,1,null],[\"QNUT3996\",null,\"AV\",\"AV\",\"AV\",\"AV\",\"AV\",\"AV\",\"AV\",\"AV\",null,null,null,null,null,\"Results\",null,1,1,1,null,null,null,1,1,1,null],[\"QNUT3997\",null,\"AV\",\"AV\",\"AV\",\"AV\",\"AV\",\"AV\",\"AV\",\"AV\",null,null,null,null,null,\"Results\",null,1,1,1,null,null,null,1,1,1,null],[\"QNUT4020\",null,\"AV\",\"AV\",\"AV\",\"AV\",\"AV\",\"AV\",\"AV\",\"AV\",null,null,null,null,null,\"Results\",null,1,1,1,null,null,null,1,1,1,null],[\"QNUT4021\",null,\"AV\",\"AV\",\"AV\",\"AV\",\"AV\",\"AV\",\"AV\",\"AV\",null,null,null,null,null,\"Results\",null,1,1,1,null,null,null,1,1,1,null],[\"QNUT4032\",null,\"BDL\",null,null,null,null,null,\"AV\",\"AV\",null,null,null,null,null,\"Results\",null,1,1,1,null,null,null,1,1,1,\"BDL\"],[\"QNUT4033\",null,\"AV\",\"AV\",\"AV\",\"AV\",\"AV\",\"AV\",\"AV\",\"AV\",null,null,null,null,null,\"Results\",null,1,1,1,null,null,null,1,1,1,null],[\"QNUT4056\",null,\"AV\",\"AV\",\"AV\",\"AV\",\"AV\",\"AV\",\"AV\",\"AV\",null,null,null,null,null,\"Results\",null,1,1,1,null,null,null,1,1,1,null],[\"QNUT4057\",null,\"AV\",\"AV\",\"AV\",\"AV\",\"AV\",\"AV\",\"AV\",\"AV\",null,null,null,null,null,\"Results\",null,1,1,1,null,null,null,1,1,1,null],[\"QNUT4070\",null,\"AV\",\"AV\",\"AV\",\"AV\",\"AV\",\"AV\",\"AV\",\"AV\",null,null,null,null,null,\"Results\",null,1,1,1,null,null,null,1,1,1,null],[\"QNUT4071\",null,\"AV\",\"AV\",\"AV\",\"AV\",\"AV\",\"AV\",\"AV\",\"AV\",null,null,null,null,null,\"Results\",null,1,1,1,null,null,null,1,1,1,null],[\"QNUT4084\",null,\"AV\",\"AV\",\"AV\",\"AV\",\"AV\",\"AV\",\"AV\",\"AV\",null,null,null,null,null,\"Results\",null,1,1,1,null,null,null,1,1,1,null],[\"QNUT4085\",null,\"AV\",\"AV\",\"AV\",\"AV\",\"AV\",\"AV\",\"AV\",\"AV\",null,null,null,null,null,\"Results\",null,1,1,1,null,null,null,1,1,1,null],[\"QNUT4096\",null,\"AV\",\"AV\",\"AV\",\"AV\",\"AV\",\"AV\",\"AV\",\"AV\",null,null,null,null,null,\"Results\",null,1,1,1,null,null,null,1,1,1,null],[\"QNUT4097\",null,\"AV\",\"AV\",\"AV\",\"AV\",\"AV\",\"AV\",\"AV\",\"AV\",null,null,null,null,null,\"Results\",null,1,1,1,null,null,null,1,1,1,null],[\"QNUT4119\",null,\"AV\",\"AV\",\"AV\",\"AV\",\"AV\",\"AV\",\"AV\",\"AV\",null,null,null,null,null,\"Results\",null,1,1,1,null,null,null,1,1,1,null],[\"QNUT4120\",null,\"AV\",\"AV\",\"AV\",\"AV\",\"AV\",\"AV\",\"AV\",\"AV\",null,null,null,null,null,\"Results\",null,1,1,1,null,null,null,1,1,1,null],[\"QNUT4150\",null,\"AV\",\"AV\",\"AV\",\"AV\",\"AV\",\"AV\",\"AV\",\"AV\",null,null,null,null,null,\"Results\",null,1,1,1,null,null,null,1,1,1,null],[\"QNUT4151\",null,\"AV\",\"AV\",\"AV\",\"AV\",\"AV\",\"AV\",\"AV\",\"AV\",null,null,null,null,null,\"Results\",null,1,1,1,null,null,null,1,1,1,null],[\"QNUT4165\",null,\"AV\",\"AV\",\"AV\",\"AV\",\"AV\",\"AV\",\"AV\",\"AV\",null,null,null,null,null,\"Results\",null,1,1,1,null,null,null,1,1,1,null],[\"QNUT4166\",null,\"AV\",\"AV\",\"AV\",\"AV\",\"AV\",\"AV\",\"AV\",\"AV\",null,null,null,null,null,\"Results\",null,1,1,1,null,null,null,1,1,1,null],[\"QNUT4179\",null,\"AV\",\"AV\",\"AV\",\"AV\",\"AV\",\"AV\",\"AV\",\"AV\",null,null,null,null,null,\"Results\",null,1,1,1,null,null,null,1,1,1,null],[\"QNUT4180\",null,\"AV\",\"AV\",\"AV\",\"AV\",\"AV\",\"AV\",\"AV\",\"AV\",null,null,null,null,null,\"Results\",null,1,1,1,null,null,null,1,1,1,null],[\"QNUT4219\",null,\"AV\",\"AV\",\"AV\",\"AV\",\"AV\",\"AV\",\"AV\",\"AV\",null,null,null,null,null,\"Results\",null,1,1,1,null,null,null,1,1,1,null],[\"QNUT4220\",null,\"AV\",\"AV\",\"AV\",\"AV\",\"AV\",\"AV\",\"AV\",\"AV\",null,null,null,null,null,\"Results\",null,1,1,1,null,null,null,1,1,1,null],[\"QNUT4235\",null,\"AV\",\"AV\",\"AV\",\"AV\",\"AV\",\"AV\",\"AV\",\"AV\",null,null,null,null,null,\"Results\",null,1,1,1,null,null,null,1,1,1,null],[\"QNUT4236\",null,\"AV\",\"AV\",\"AV\",\"AV\",\"AV\",\"AV\",\"AV\",\"AV\",null,null,null,null,null,\"Results\",null,1,1,1,null,null,null,1,1,1,null],[\"QNUT4472\",null,\"AV\",\"AV\",\"AV\",\"AV\",\"AV\",\"AV\",\"AV\",\"AV\",null,null,null,null,null,\"Results\",null,1,1,1,null,null,null,1,1,1,\"BDL\"],[\"QNUT4473\",null,\"AV\",\"AV\",\"AV\",\"AV\",\"AV\",\"AV\",\"AV\",\"AV\",null,null,null,null,null,\"Results\",null,1,1,1,null,null,null,1,1,1,null],[\"QNUT4484\",null,\"AV\",\"AV\",\"AV\",\"AV\",\"AV\",\"AV\",\"AV\",\"AV\",null,null,null,null,null,\"Results\",null,1,1,1,null,null,null,1,1,1,null],[\"QNUT4485\",null,\"AV\",\"AV\",\"AV\",\"AV\",\"AV\",\"AV\",\"AV\",\"AV\",null,null,null,null,null,\"Results\",null,1,1,1,null,null,null,1,1,1,null],[\"QNUT4521\",null,\"AV\",\"AV\",\"AV\",\"AV\",\"AV\",\"AV\",\"AV\",\"AV\",null,null,null,null,null,\"Results\",null,1,1,1,null,null,null,1,1,1,null],[\"QNUT4522\",null,\"AV\",\"AV\",\"AV\",\"AV\",\"AV\",\"AV\",\"AV\",\"AV\",null,null,null,null,null,\"Results\",null,1,1,1,null,null,null,1,1,1,null],[\"QNUT4534\",null,\"AV\",\"AV\",\"AV\",\"AV\",\"AV\",\"AV\",\"AV\",\"AV\",null,null,null,null,null,\"Results\",null,1,1,1,null,null,null,1,1,1,null],[\"QNUT4533\",null,\"AV\",\"AV\",\"AV\",\"AV\",\"AV\",\"AV\",\"AV\",\"AV\",null,null,null,null,null,\"Results\",null,1,1,1,null,null,null,1,1,1,null],[\"QNUT4561\",null,\"AV\",\"AV\",\"AV\",\"AV\",\"AV\",\"AV\",\"AV\",\"AV\",null,null,null,null,null,\"Results\",null,1,1,1,null,null,null,1,1,1,null],[\"QNUT4562\",null,\"AV\",\"AV\",\"AV\",\"AV\",\"AV\",\"AV\",\"AV\",\"AV\",null,null,null,null,null,\"Results\",null,1,1,1,null,null,null,1,1,1,null],[\"QNUT4573\",null,\"AV\",\"AV\",\"AV\",\"AV\",\"AV\",\"AV\",\"AV\",\"AV\",null,null,null,null,null,\"Results\",null,1,1,1,null,null,null,1,1,1,null],[\"QNUT4574\",null,\"AV\",\"AV\",\"AV\",\"AV\",\"AV\",\"AV\",\"AV\",\"AV\",null,null,null,null,null,\"Results\",null,1,1,1,null,null,null,1,1,1,null],[\"QNUT4605\",null,\"AV\",\"AV\",\"AV\",\"AV\",\"AV\",\"AV\",\"AV\",\"AV\",null,null,null,null,null,\"Results\",null,1,1,1,null,null,null,1,1,1,null],[\"QNUT4606\",null,\"AV\",\"AV\",\"AV\",\"AV\",\"AV\",\"AV\",\"AV\",\"AV\",null,null,null,null,null,\"Results\",null,1,1,1,null,null,null,1,1,1,null],[\"QNUT4724\",null,\"AV\",\"AV\",\"AV\",\"AV\",\"AV\",\"AV\",\"AV\",\"AV\",null,null,null,null,null,\"Results\",null,1,1,1,null,null,null,1,1,1,null],[\"QNUT4725\",null,\"AV\",\"AV\",\"AV\",\"AV\",\"AV\",\"AV\",\"AV\",\"AV\",null,null,null,null,null,\"Results\",null,1,1,1,null,null,null,1,1,1,null],[\"QNUT4739\",null,\"AV\",\"AV\",\"AV\",\"AV\",\"AV\",\"AV\",\"AV\",\"AV\",null,null,null,null,null,\"Results\",null,1,1,1,null,null,null,1,1,1,null],[\"QNUT4740\",null,\"AV\",\"AV\",\"AV\",\"AV\",\"AV\",\"AV\",\"AV\",\"AV\",null,null,null,null,null,\"Results\",null,1,1,1,null,null,null,1,1,1,null],[\"QNUT4765\",null,\"AV\",\"AV\",\"AV\",\"AV\",\"AV\",\"AV\",\"AV\",\"AV\",null,null,null,null,null,\"Results\",null,1,1,1,null,null,null,1,1,1,null],[\"QNUT4766\",null,\"AV\",\"AV\",\"AV\",\"AV\",\"AV\",\"AV\",\"AV\",\"AV\",null,null,null,null,null,\"Results\",null,1,1,1,null,null,null,1,1,1,null],[\"QNUT4780\",null,\"AV\",\"AV\",\"AV\",\"AV\",\"AV\",\"AV\",\"AV\",\"AV\",null,null,null,null,null,\"Results\",null,1,1,1,null,null,null,1,1,1,null],[\"QNUT4781\",null,\"AV\",\"AV\",\"AV\",\"AV\",\"AV\",\"AV\",\"AV\",\"AV\",null,null,null,null,null,\"Results\",null,1,1,1,null,null,null,1,1,1,null],[\"QNUT4797\",null,\"AV\",\"AV\",\"AV\",\"AV\",\"AV\",\"AV\",\"AV\",\"AV\",null,null,null,null,null,\"Results\",null,1,1,1,null,null,null,1,1,1,null],[\"QNUT4798\",null,\"AV\",\"AV\",\"AV\",\"AV\",\"AV\",\"AV\",\"AV\",\"AV\",null,null,null,null,null,\"Results\",null,1,1,1,null,null,null,1,1,1,null],[\"QNUT4822\",null,\"AV\",\"AV\",\"AV\",\"AV\",\"AV\",\"AV\",\"AV\",\"AV\",null,null,null,null,null,\"Results\",null,1,1,1,null,null,null,1,1,1,null],[\"QNUT4823\",null,\"AV\",\"AV\",\"AV\",\"AV\",\"AV\",\"AV\",\"AV\",\"AV\",null,null,null,null,null,\"Results\",null,1,1,1,null,null,null,1,1,1,null],[\"QNUT4836\",null,\"AV\",\"AV\",\"AV\",\"AV\",\"AV\",\"AV\",\"AV\",\"AV\",null,null,null,null,null,\"Results\",null,1,1,1,null,null,null,1,1,1,null],[\"QNUT4837\",null,\"AV\",\"AV\",\"AV\",\"AV\",\"AV\",\"AV\",\"AV\",\"AV\",null,null,null,null,null,\"Results\",null,1,1,1,null,null,null,1,1,1,null],[\"QNUT4795\",null,\"AV\",\"AV\",\"AV\",\"AV\",\"AV\",\"AV\",\"AV\",\"AV\",null,null,null,null,null,\"Results\",null,1,1,1,null,null,null,1,1,1,null],[\"QNUT4856\",null,\"AV\",\"AV\",\"AV\",\"AV\",\"AV\",\"AV\",\"AV\",\"AV\",null,null,null,null,null,\"Results\",null,1,1,1,null,null,null,1,1,1,null],[\"QNUT4867\",null,\"AV\",\"AV\",\"AV\",\"AV\",\"AV\",\"AV\",\"AV\",\"AV\",null,null,null,null,null,\"Results\",null,1,1,1,null,null,null,1,1,1,null],[\"QNUT4868\",null,\"AV\",\"AV\",\"AV\",\"AV\",\"AV\",\"AV\",\"AV\",\"AV\",null,null,null,null,null,\"Results\",null,1,1,1,null,null,null,1,1,1,null],[\"QNUT4889\",null,\"AV\",\"AV\",\"AV\",\"AV\",\"AV\",\"AV\",\"AV\",\"AV\",null,null,null,null,null,\"Results\",null,1,1,1,null,null,null,1,1,1,null],[\"QNUT4890\",null,\"AV\",\"AV\",\"AV\",\"AV\",\"AV\",\"AV\",\"AV\",\"AV\",null,null,null,null,null,\"Results\",null,1,1,1,null,null,null,1,1,1,null],[\"QNUT4903\",null,\"AV\",\"AV\",\"AV\",\"AV\",\"AV\",\"AV\",\"AV\",\"AV\",null,null,null,null,null,\"Results\",null,1,1,1,null,null,null,1,1,1,null],[\"QNUT4904\",null,\"AV\",\"AV\",\"AV\",\"AV\",\"AV\",\"AV\",\"AV\",\"AV\",null,null,null,null,null,\"Results\",null,1,1,1,null,null,null,1,1,1,null],[\"QNUT4937\",null,\"AV\",\"AV\",\"AV\",\"AV\",\"AV\",\"AV\",\"AV\",\"AV\",null,null,null,null,null,\"Results\",null,1,1,1,null,null,null,1,1,1,null],[\"QNUT4938\",null,\"AV\",\"AV\",\"AV\",\"AV\",\"AV\",\"AV\",\"AV\",\"AV\",null,null,null,null,null,\"Results\",null,1,1,1,null,null,null,1,1,1,null],[\"QNUT4949\",null,\"AV\",\"AV\",\"AV\",\"AV\",\"AV\",\"AV\",\"AV\",\"AV\",null,null,null,null,null,\"Results\",null,1,1,1,null,null,null,1,1,1,null],[\"QNUT4950\",null,\"AV\",\"AV\",\"AV\",\"AV\",\"AV\",\"AV\",\"AV\",\"AV\",null,null,null,null,null,\"Results\",null,1,1,1,null,null,null,1,1,1,null],[\"QNUT4975\",null,\"AV\",\"AV\",\"AV\",\"AV\",\"AV\",\"AV\",\"AV\",\"AV\",null,null,null,null,null,\"Results\",null,1,1,1,null,null,null,1,1,1,null],[\"QNUT4976\",null,\"AV\",\"AV\",\"AV\",\"AV\",\"AV\",\"AV\",\"AV\",\"AV\",null,null,null,null,null,\"Results\",null,1,1,1,null,null,null,1,1,1,null],[\"QNUT4987\",null,\"AV\",\"AV\",\"AV\",\"AV\",\"AV\",\"AV\",\"AV\",\"AV\",null,null,null,null,null,\"Results\",null,1,1,1,null,null,null,1,1,1,null],[\"QNUT4988\",null,\"AV\",\"AV\",\"AV\",\"AV\",\"AV\",\"AV\",\"AV\",\"AV\",null,null,null,null,null,\"Results\",null,1,1,1,null,null,null,1,1,1,null],[\"QNUT4999\",null,\"AV\",\"AV\",\"AV\",\"AV\",\"AV\",\"AV\",\"AV\",\"AV\",null,null,null,null,null,\"Results\",null,1,1,1,null,null,null,1,1,1,null],[\"QNUT5000\",null,\"AV\",\"AV\",\"AV\",\"AV\",\"AV\",\"AV\",\"AV\",\"AV\",null,null,null,null,null,\"Results\",null,1,1,1,null,null,null,1,1,1,null],[\"QNUT5014\",null,\"AV\",\"AV\",\"AV\",\"AV\",\"AV\",\"AV\",\"AV\",\"AV\",null,null,null,null,null,\"Results\",null,1,1,1,null,null,null,1,1,1,null],[\"QNUT5013\",null,\"AV\",\"AV\",\"AV\",\"AV\",\"AV\",\"AV\",\"AV\",\"AV\",null,null,null,null,null,\"Results\",null,1,1,1,null,null,null,1,1,1,null],[\"QNUT5037\",null,\"AV\",\"AV\",\"AV\",\"AV\",\"AV\",\"AV\",\"AV\",\"AV\",null,null,null,null,null,\"Results\",null,1,1,1,null,null,null,1,1,1,null],[\"QNUT5038\",null,\"AV\",\"AV\",\"AV\",\"AV\",\"AV\",\"AV\",\"AV\",\"AV\",null,null,null,null,null,\"Results\",null,1,1,1,null,null,null,1,1,1,null],[\"QNUT5025\",null,\"AV\",\"AV\",\"AV\",\"AV\",\"AV\",\"AV\",\"AV\",\"AV\",null,null,null,null,null,\"Results\",null,1,1,1,null,null,null,1,1,1,null],[\"QNUT5026\",null,\"AV\",\"AV\",\"AV\",\"AV\",\"AV\",\"AV\",\"AV\",\"AV\",null,null,null,null,null,\"Results\",null,1,1,1,null,null,null,1,1,1,null],[\"QNUT5057\",null,\"AV\",\"AV\",\"AV\",\"AV\",\"AV\",\"AV\",\"AV\",\"AV\",null,null,null,null,null,\"Results\",null,1,1,1,null,null,null,1,1,1,null],[\"QNUT5058\",null,\"AV\",\"AV\",\"AV\",\"AV\",\"AV\",\"AV\",\"AV\",\"AV\",null,null,null,null,null,\"Results\",null,1,1,1,null,null,null,1,1,1,null],[\"QNUT5066\",null,\"AV\",\"AV\",\"AV\",\"AV\",\"AV\",\"AV\",\"AV\",\"AV\",null,null,null,null,null,\"Results\",null,1,1,1,null,null,null,1,1,1,null],[\"QNUT5063\",null,\"AV\",\"AV\",\"AV\",\"AV\",\"AV\",\"AV\",\"AV\",\"AV\",null,null,null,null,null,\"Results\",null,1,1,1,null,null,null,1,1,1,null],[\"QNUT5079\",null,\"AV\",\"AV\",\"AV\",\"AV\",\"AV\",\"AV\",\"AV\",\"AV\",null,null,null,null,null,\"Results\",null,1,1,1,null,null,null,1,1,1,null],[\"QNUT5080\",null,\"AV\",\"AV\",\"AV\",\"AV\",\"AV\",\"AV\",\"AV\",\"AV\",null,null,null,null,null,\"Results\",null,1,1,1,null,null,null,1,1,1,null],[\"QNUT5087\",null,\"AV\",\"AV\",\"AV\",\"AV\",\"AV\",\"AV\",\"AV\",\"AV\",null,null,null,null,null,\"Results\",null,1,1,1,null,null,null,1,1,1,null],[\"QNUT5088\",null,\"AV\",\"AV\",\"AV\",\"AV\",\"AV\",\"AV\",\"AV\",\"AV\",null,null,null,null,null,\"Results\",null,1,1,1,null,null,null,1,1,1,null],[\"QNUT5099\",null,\"BDL\",null,null,null,null,null,\"AV\",\"AV\",null,null,null,null,null,\"Results\",null,1,1,1,null,null,null,1,1,1,\"BDL\"],[\"QNUT5100\",null,\"AV\",null,null,null,null,null,\"AV\",\"AV\",null,null,null,null,null,\"Results\",null,1,1,1,null,null,null,1,1,1,null],[\"QNUT5131\",null,\"AV\",\"AV\",\"AV\",\"AV\",\"AV\",\"AV\",\"AV\",\"AV\",null,null,null,null,null,\"Results\",null,1,1,1,null,null,null,1,1,1,null],[\"QNUT5132\",null,\"AV\",\"AV\",\"AV\",\"AV\",\"AV\",\"AV\",\"AV\",\"AV\",null,null,null,null,null,\"Results\",null,1,1,1,null,null,null,1,1,1,null],[\"QNUT5149\",null,\"AV\",\"AV\",\"AV\",\"AV\",\"AV\",\"AV\",\"AV\",\"AV\",null,null,null,null,null,\"Results\",null,1,1,1,null,null,null,1,1,1,null],[\"QNUT5145\",null,\"AV\",\"AV\",\"AV\",\"AV\",\"AV\",\"AV\",\"AV\",\"AV\",null,null,null,null,null,\"Results\",null,1,1,1,null,null,null,1,1,1,null],[\"QNUT5157\",null,\"AV\",\"AV\",\"AV\",\"AV\",\"AV\",\"AV\",\"AV\",\"AV\",null,null,null,null,null,\"Results\",null,1,1,1,null,null,null,1,1,1,null],[\"QNUT5158\",null,\"AV\",\"AV\",\"AV\",\"AV\",\"AV\",\"AV\",\"AV\",\"AV\",null,null,null,null,null,\"Results\",null,1,1,1,null,null,null,1,1,1,null],[\"QNUT5325\",null,\"AV\",\"AV\",\"AV\",\"AV\",\"AV\",\"AV\",\"AV\",\"AV\",null,null,null,null,null,\"Results\",null,1,1,1,null,null,null,1,1,1,null],[\"QNUT5326\",null,\"AV\",\"AV\",\"AV\",\"AV\",\"AV\",\"AV\",\"AV\",\"AV\",null,null,null,null,null,\"Results\",null,1,1,1,null,null,null,1,1,1,null],[\"QNUT5337\",null,\"AV\",\"AV\",\"AV\",\"AV\",\"AV\",\"AV\",\"AV\",\"AV\",null,null,null,null,null,\"Results\",null,1,1,1,null,null,null,1,1,1,null],[\"QNUT5338\",null,\"AV\",\"AV\",\"AV\",\"AV\",\"AV\",\"AV\",\"AV\",\"AV\",null,null,null,null,null,\"Results\",null,1,1,1,null,null,null,1,1,1,null],[\"QNUT5415\",null,\"AV\",\"AV\",\"AV\",\"AV\",\"AV\",\"AV\",\"AV\",\"AV\",null,null,null,null,null,\"Results\",null,1,1,1,null,null,null,1,1,1,null],[\"QNUT5416\",null,\"AV\",\"AV\",\"AV\",\"AV\",\"AV\",\"AV\",\"AV\",\"AV\",null,null,null,null,null,\"Results\",null,1,1,1,null,null,null,1,1,1,null],[\"QNUT5457\",null,\"AV\",\"AV\",\"AV\",\"AV\",\"AV\",\"AV\",\"AV\",\"AV\",null,null,null,null,null,\"Results\",null,1,1,1,null,null,null,1,1,1,null],[\"QNUT5449\",null,\"AV\",\"AV\",\"AV\",\"AV\",\"AV\",\"AV\",\"AV\",\"AV\",null,null,null,null,null,\"Results\",null,1,1,1,null,null,null,1,1,1,null],[\"QNUT5450\",null,\"AV\",\"AV\",\"AV\",\"AV\",\"AV\",\"AV\",\"AV\",\"AV\",null,null,null,null,null,\"Results\",null,1,1,1,null,null,null,1,1,1,null],[\"QNUT5505\",null,\"AV\",\"AV\",\"AV\",\"AV\",\"AV\",\"AV\",\"AV\",\"AV\",null,null,null,null,null,\"Results\",null,1,1,1,null,null,null,1,1,1,null],[\"QNUT5458\",null,\"AV\",\"AV\",\"AV\",\"AV\",\"AV\",\"AV\",\"AV\",\"AV\",null,null,null,null,null,\"Results\",null,1,1,1,null,null,null,1,1,1,null],[\"QNUT5514\",null,\"BDL\",null,null,null,null,null,\"AV\",\"AV\",null,null,null,null,null,\"Results\",null,1,1,1,null,null,null,1,1,1,\"BDL\"],[\"QNUT5515\",null,\"BDL\",null,null,null,null,null,\"AV\",\"AV\",null,null,null,null,null,\"Results\",null,1,1,1,null,null,null,1,1,1,\"BDL\"],[\"QNUT5522\",null,\"AV\",\"AV\",\"AV\",\"AV\",\"AV\",\"AV\",\"AV\",\"AV\",null,null,null,null,null,\"Results\",null,1,1,1,null,null,null,1,1,1,null],[\"QNUT5523\",null,\"AV\",\"AV\",\"AV\",\"AV\",\"AV\",\"AV\",\"AV\",\"AV\",null,null,null,null,null,\"Results\",null,1,1,1,null,null,null,1,1,1,null],[\"QNUT5594\",null,\"AV\",null,null,null,null,null,\"AV\",\"AV\",null,null,null,null,null,\"Results\",null,1,1,1,null,null,null,1,1,1,null],[\"QNUT5595\",null,\"AV\",null,null,null,null,null,\"AV\",\"AV\",null,null,null,null,null,\"Results\",null,1,1,1,null,null,null,1,1,1,null],[\"QNUT5571\",null,\"AV\",null,null,null,null,null,\"AV\",\"AV\",null,null,null,null,null,\"Results\",null,1,1,1,null,null,null,1,1,1,null],[\"QNUT5572\",null,\"AV\",null,null,null,null,null,\"AV\",\"AV\",null,null,null,null,null,\"Results\",null,1,1,1,null,null,null,1,1,1,null],[\"QNUT5621\",null,\"AV\",null,null,null,null,null,\"AV\",\"AV\",null,null,null,null,null,\"Results\",null,1,1,1,null,null,null,1,1,1,null],[\"QNUT5622\",null,\"AV\",null,null,null,null,null,\"AV\",\"AV\",null,null,null,null,null,\"Results\",null,1,1,1,null,null,null,1,1,1,null],[\"QNUT5660\",null,\"AV\",null,null,null,null,null,\"AV\",\"AV\",null,null,null,null,null,\"Results\",null,1,1,1,null,null,null,1,1,1,null],[\"QNUT5661\",null,\"AV\",null,null,null,null,null,\"AV\",\"AV\",null,null,null,null,null,\"Results\",null,1,1,1,null,null,null,1,1,1,null],[\"QNUT5662\",null,\"AV\",null,null,null,null,null,\"AV\",\"AV\",null,null,null,null,null,\"Results\",null,1,1,1,null,null,null,1,1,1,null],[\"QNUT5663\",null,\"AV\",null,null,null,null,null,\"AV\",\"AV\",null,null,null,null,null,\"Results\",null,1,1,1,null,null,null,1,1,1,null],[\"QNUT5674\",null,\"AV\",null,null,null,null,null,\"AV\",\"AV\",null,null,null,null,null,\"Results\",null,1,1,1,null,null,null,1,1,1,null],[\"QNUT5675\",null,\"AV\",null,null,null,null,null,\"AV\",\"AV\",null,null,null,null,null,\"Results\",null,1,1,1,null,null,null,1,1,1,null],[\"QNUT5676\",null,\"AV\",null,null,null,null,null,\"AV\",\"AV\",null,null,null,null,null,\"Results\",null,1,1,1,null,null,null,1,1,1,null],[\"QNUT5677\",null,\"AV\",null,null,null,null,null,\"AV\",\"AV\",null,null,null,null,null,\"Results\",null,1,1,1,null,null,null,1,1,1,null],[\"QNUT5630\",null,\"AV\",null,null,null,null,null,\"AV\",\"AV\",null,null,null,null,null,\"Results\",null,1,1,1,null,null,null,1,1,1,null],[\"QNUT5631\",null,\"AV\",null,null,null,null,null,\"AV\",\"AV\",null,null,null,null,null,\"Results\",null,1,1,1,null,null,null,1,1,1,null],[\"QNUT5632\",null,\"AV\",null,null,null,null,null,\"AV\",\"AV\",null,null,null,null,null,\"Results\",null,1,1,1,null,null,null,1,1,1,null],[\"QNUT5633\",null,\"AV\",null,null,null,null,null,\"AV\",\"AV\",null,null,null,null,null,\"Results\",null,1,1,1,null,null,null,1,1,1,null],[\"QNUT5654\",null,\"AV\",null,null,null,null,null,\"AV\",\"AV\",null,null,null,null,null,\"Results\",null,1,1,1,null,null,null,1,1,1,null],[\"QNUT5655\",null,\"AV\",null,null,null,null,null,\"AV\",\"AV\",null,null,null,null,null,\"Results\",null,1,1,1,null,null,null,1,1,1,null],[\"QNUT5656\",null,\"AV\",null,null,null,null,null,\"AV\",\"AV\",null,null,null,null,null,\"Results\",null,1,1,1,null,null,null,1,1,1,null],[\"QNUT5691\",null,\"AV\",null,null,null,null,null,\"AV\",\"AV\",null,null,null,null,null,\"Results\",null,1,1,1,null,null,null,1,1,1,null],[\"QNUT5706\",null,\"AV\",null,null,null,null,null,\"AV\",\"AV\",null,null,null,null,null,\"Results\",null,1,1,1,null,null,null,1,1,1,null],[\"QNUT5707\",null,\"AV\",null,null,null,null,null,\"AV\",\"AV\",null,null,null,null,null,\"Results\",null,1,1,1,null,null,null,1,1,1,null],[\"QNUT5708\",null,\"AV\",null,null,null,null,null,\"AV\",\"AV\",null,null,null,null,null,\"Results\",null,1,1,1,null,null,null,1,1,1,null],[\"QNUT5709\",null,\"AV\",\"AV\",\"AV\",\"AV\",\"AV\",\"AV\",\"AV\",\"AV\",null,null,null,null,null,\"Results\",null,1,1,1,null,null,null,1,1,1,null],[\"QNUT5734\",null,\"AV\",\"AV\",\"AV\",\"AV\",\"AV\",\"AV\",\"AV\",\"AV\",null,null,null,null,null,\"Results\",null,1,1,1,null,null,null,1,1,1,null],[\"QNUT5735\",null,\"AV\",\"AV\",\"AV\",\"AV\",\"AV\",\"AV\",\"AV\",\"AV\",null,null,null,null,null,\"Results\",null,1,1,1,null,null,null,1,1,1,null],[\"QNUT5745\",null,\"AV\",\"AV\",\"AV\",\"AV\",\"AV\",\"AV\",\"AV\",\"AV\",null,null,null,null,null,\"Results\",null,1,1,1,null,null,null,1,1,1,null],[\"QNUT5746\",null,\"AV\",\"AV\",\"AV\",\"AV\",\"AV\",\"AV\",\"AV\",\"AV\",null,null,null,null,null,\"Results\",null,1,1,1,null,null,null,1,1,1,null],[\"QNUT5411\",null,\"AV\",\"AV\",\"AV\",\"AV\",\"AV\",\"AV\",\"AV\",\"AV\",null,null,null,null,null,\"Results\",null,1,1,1,null,null,null,1,1,1,null],[\"QNUT5412\",null,\"AV\",\"AV\",\"AV\",\"AV\",\"AV\",\"AV\",\"AV\",\"AV\",null,null,null,null,null,\"Results\",null,1,1,1,null,null,null,1,1,1,null],[\"QNUT5413\",null,\"AV\",\"AV\",\"AV\",\"AV\",\"AV\",\"AV\",\"AV\",\"AV\",null,null,null,null,null,\"Results\",null,1,1,1,null,null,null,1,1,1,null],[\"QNUT5747\",null,\"AV\",\"AV\",\"AV\",\"AV\",\"AV\",\"AV\",\"AV\",\"AV\",null,null,null,null,null,\"Results\",null,1,1,1,null,null,null,1,1,1,null],[\"QNUT5771\",null,\"AV\",\"AV\",\"AV\",\"AV\",\"AV\",\"AV\",\"AV\",\"AV\",null,null,null,null,null,\"Results\",null,1,1,1,null,null,null,1,1,1,null],[\"QNUT5772\",null,\"AV\",\"AV\",\"AV\",\"AV\",\"AV\",\"AV\",\"AV\",\"AV\",null,null,null,null,null,\"Results\",null,1,1,1,null,null,null,1,1,1,null],[\"QNUT5773\",null,\"AV\",\"AV\",\"AV\",\"AV\",\"AV\",\"AV\",\"AV\",\"AV\",null,null,null,null,null,\"Results\",null,1,1,1,null,null,null,1,1,1,null],[\"QNUT5774\",null,\"AV\",\"AV\",\"AV\",\"AV\",\"AV\",\"AV\",\"AV\",\"AV\",null,null,null,null,null,\"Results\",null,1,1,1,null,null,null,1,1,1,null],[\"QNUT5624\",null,\"AV\",\"AV\",\"AV\",\"AV\",\"AV\",\"AV\",\"AV\",\"AV\",null,null,null,null,null,\"Results\",null,1,1,1,null,null,null,1,1,1,null],[\"QNUT5788\",null,\"AV\",\"AV\",\"AV\",\"AV\",\"AV\",\"AV\",\"AV\",\"AV\",null,null,null,null,null,\"Results\",null,1,1,1,null,null,null,1,1,1,null],[\"QNUT5867\",null,\"AV\",\"AV\",\"AV\",\"AV\",\"AV\",\"AV\",\"AV\",\"AV\",null,null,null,null,null,\"Results\",null,1,1,1,null,null,null,1,1,1,null],[\"QNUT5868\",null,\"AV\",\"AV\",\"AV\",\"AV\",\"AV\",\"AV\",\"AV\",\"AV\",null,null,null,null,null,\"Results\",null,1,1,1,null,null,null,1,1,1,null],[\"QNUT5901\",null,\"AV\",\"AV\",\"AV\",\"AV\",\"AV\",\"AV\",\"AV\",\"AV\",null,null,null,null,null,\"Results\",null,1,1,1,null,null,null,1,1,1,null],[\"QNUT5902\",null,\"AV\",\"AV\",\"AV\",\"AV\",\"AV\",\"AV\",\"AV\",\"AV\",null,null,null,null,null,\"Results\",null,1,1,1,null,null,null,1,1,1,null],[\"QNUT5903\",null,\"AV\",\"AV\",\"AV\",\"AV\",\"AV\",\"AV\",\"AV\",\"AV\",null,null,null,null,null,\"Results\",null,1,1,1,null,null,null,1,1,1,null],[\"QNUT5904\",null,\"AV\",\"AV\",\"AV\",\"AV\",\"AV\",\"AV\",\"AV\",\"AV\",null,null,null,null,null,\"Results\",null,1,1,1,null,null,null,1,1,1,null],[\"QNUT5921\",null,\"AV\",\"AV\",\"AV\",\"AV\",\"AV\",\"AV\",\"AV\",\"AV\",null,null,null,null,null,\"Results\",null,1,1,1,null,null,null,1,1,1,null],[\"QNUT5922\",null,\"AV\",\"AV\",\"AV\",\"AV\",\"AV\",\"AV\",\"AV\",\"AV\",null,null,null,null,null,\"Results\",null,1,1,1,null,null,null,1,1,1,null],[\"QNUT5923\",null,\"AV\",\"AV\",\"AV\",\"AV\",\"AV\",\"AV\",\"AV\",\"AV\",null,null,null,null,null,\"Results\",null,1,1,1,null,null,null,1,1,1,null],[\"QNUT5924\",null,\"AV\",\"AV\",\"AV\",\"AV\",\"AV\",\"AV\",\"AV\",\"AV\",null,null,null,null,null,\"Results\",null,1,1,1,null,null,null,1,1,1,null],[\"QNUT6013\",null,\"AV\",\"AV\",\"AV\",\"AV\",\"AV\",\"AV\",\"AV\",\"AV\",null,null,null,null,null,\"Results\",null,1,1,1,null,null,null,1,1,1,null],[\"QNUT6014\",null,\"AV\",\"AV\",\"AV\",\"AV\",\"AV\",\"AV\",\"AV\",\"AV\",null,null,null,null,null,\"Results\",null,1,1,1,null,null,null,1,1,1,null],[\"QNUT6020\",null,\"AV\",\"AV\",\"AV\",\"AV\",\"AV\",\"AV\",\"AV\",\"AV\",null,null,null,null,null,\"Results\",null,1,1,1,null,null,null,1,1,1,null],[\"QNUT6021\",null,\"AV\",\"AV\",\"AV\",\"AV\",\"AV\",\"AV\",\"AV\",\"AV\",null,null,null,null,null,\"Results\",null,1,1,1,null,null,null,1,1,1,null],[\"QNUT6035\",null,\"AV\",\"AV\",\"AV\",\"AV\",\"AV\",\"AV\",\"AV\",\"AV\",null,null,null,null,null,\"Results\",null,1,1,1,null,null,null,1,1,1,null],[\"QNUT6036\",null,\"AV\",\"AV\",\"AV\",\"AV\",\"AV\",\"AV\",\"AV\",\"AV\",null,null,null,null,null,\"Results\",null,1,1,1,null,null,null,1,1,1,null],[\"QNUT6037\",null,\"AV\",\"AV\",\"AV\",\"AV\",\"AV\",\"AV\",\"AV\",\"AV\",null,null,null,null,null,\"Results\",null,1,1,1,null,null,null,1,1,1,null],[\"QNUT6038\",null,\"AV\",\"AV\",\"AV\",\"AV\",\"AV\",\"AV\",\"AV\",\"AV\",null,null,null,null,null,\"Results\",null,1,1,1,null,null,null,1,1,1,null],[\"QNUT6061\",null,\"AV\",\"AV\",\"AV\",\"AV\",\"AV\",\"AV\",\"AV\",\"AV\",null,null,null,null,null,\"Results\",null,1,1,1,null,null,null,1,1,1,null],[\"QNUT6062\",null,\"AV\",\"AV\",\"AV\",\"AV\",\"AV\",\"AV\",\"AV\",\"AV\",null,null,null,null,null,\"Results\",null,1,1,1,null,null,null,1,1,1,null],[\"QNUT6063\",null,\"AV\",\"AV\",\"AV\",\"AV\",\"AV\",\"AV\",\"AV\",\"AV\",null,null,null,null,null,\"Results\",null,1,1,1,null,null,null,1,1,1,null],[\"QNUT6064\",null,\"AV\",\"AV\",\"AV\",\"AV\",\"AV\",\"AV\",\"AV\",\"AV\",null,null,null,null,null,\"Results\",null,1,1,1,null,null,null,1,1,1,null],[\"QNUT6081\",null,\"AV\",\"AV\",\"AV\",\"AV\",\"AV\",\"AV\",\"AV\",\"AV\",null,null,null,null,null,\"Results\",null,1,1,1,null,null,null,1,1,1,null],[\"QNUT6082\",null,\"AV\",\"AV\",\"AV\",\"AV\",\"AV\",\"AV\",\"AV\",\"AV\",null,null,null,null,null,\"Results\",null,1,1,1,null,null,null,1,1,1,null],[\"QNUT6088\",null,\"AV\",\"AV\",\"AV\",\"AV\",\"AV\",\"AV\",\"AV\",\"AV\",null,null,null,null,null,\"Results\",null,1,1,1,null,null,null,1,1,1,null],[\"QNUT6089\",null,\"AV\",\"AV\",\"AV\",\"AV\",\"AV\",\"AV\",\"AV\",\"AV\",null,null,null,null,null,\"Results\",null,1,1,1,null,null,null,1,1,1,null],[\"QNUT6095\",null,\"AV\",\"AV\",\"AV\",\"AV\",\"AV\",\"AV\",\"AV\",\"AV\",null,null,null,null,null,\"Results\",null,1,1,1,null,null,null,1,1,1,null],[\"QNUT6096\",null,\"AV\",\"AV\",\"AV\",\"AV\",\"AV\",\"AV\",\"AV\",\"AV\",null,null,null,null,null,\"Results\",null,1,1,1,null,null,null,1,1,1,null],[\"QNUT6097\",null,\"AV\",\"AV\",\"AV\",\"AV\",\"AV\",\"AV\",\"AV\",\"AV\",null,null,null,null,null,\"Results\",null,1,1,1,null,null,null,1,1,1,null],[\"QNUT6098\",null,\"AV\",\"AV\",\"AV\",\"AV\",\"AV\",\"AV\",\"AV\",\"AV\",null,null,null,null,null,\"Results\",null,1,1,1,null,null,null,1,1,1,null],[\"QNUT6113\",null,\"AV\",\"AV\",\"AV\",\"AV\",\"AV\",\"AV\",\"AV\",\"AV\",null,null,null,null,null,\"Results\",null,1,1,1,null,null,null,1,1,1,null],[\"QNUT6114\",null,\"AV\",\"AV\",\"AV\",\"AV\",\"AV\",\"AV\",\"AV\",\"AV\",null,null,null,null,null,\"Results\",null,1,1,1,null,null,null,1,1,1,null],[\"QNUT6115\",null,\"AV\",\"AV\",\"AV\",\"AV\",\"AV\",\"AV\",\"AV\",\"AV\",null,null,null,null,null,\"Results\",null,1,1,1,null,null,null,1,1,1,null],[\"QNUT6116\",null,\"AV\",\"AV\",\"AV\",\"AV\",\"AV\",\"AV\",\"AV\",\"AV\",null,null,null,null,null,\"Results\",null,1,1,1,null,null,null,1,1,1,null],[\"QNUT6131\",null,\"AV\",\"AV\",\"AV\",\"AV\",\"AV\",\"AV\",\"AV\",\"AV\",null,null,null,null,null,\"Results\",null,1,1,1,null,null,null,1,1,1,null],[\"QNUT6132\",null,\"AV\",\"AV\",\"AV\",\"AV\",\"AV\",\"AV\",\"AV\",\"AV\",null,null,null,null,null,\"Results\",null,1,1,1,null,null,null,1,1,1,null],[\"QNUT6133\",null,\"AV\",\"AV\",\"AV\",\"AV\",\"AV\",\"AV\",\"AV\",\"AV\",null,null,null,null,null,\"Results\",null,1,1,1,null,null,null,1,1,1,null],[\"QNUT6134\",null,\"AV\",\"AV\",\"AV\",\"AV\",\"AV\",\"AV\",\"AV\",\"AV\",null,null,null,null,null,\"Results\",null,1,1,1,null,null,null,1,1,1,null],[\"QNUT6163\",null,\"AV\",\"AV\",\"AV\",\"AV\",\"AV\",\"AV\",\"AV\",\"AV\",null,null,null,null,null,\"Results\",null,1,1,1,null,null,null,1,1,1,null],[\"QNUT6164\",null,\"AV\",\"AV\",\"AV\",\"AV\",\"AV\",\"AV\",\"AV\",\"AV\",null,null,null,null,null,\"Results\",null,1,1,1,null,null,null,1,1,1,null],[\"QNUT6165\",null,\"AV\",\"AV\",\"AV\",\"AV\",\"AV\",\"AV\",\"AV\",\"AV\",null,null,null,null,null,\"Results\",null,1,1,1,null,null,null,1,1,1,null],[\"QNUT6166\",null,\"AV\",\"AV\",\"AV\",\"AV\",\"AV\",\"AV\",\"AV\",\"AV\",null,null,null,null,null,\"Results\",null,1,1,1,null,null,null,1,1,1,null],[\"QNUT6195\",null,\"AV\",\"AV\",\"AV\",\"AV\",\"AV\",\"AV\",\"AV\",\"AV\",null,null,null,null,null,\"Results\",null,1,1,1,null,null,null,1,1,1,null],[\"QNUT6196\",null,\"AV\",\"AV\",\"AV\",\"AV\",\"AV\",\"AV\",\"AV\",\"AV\",null,null,null,null,null,\"Results\",null,1,1,1,null,null,null,1,1,1,null],[\"QNUT6197\",null,\"AV\",\"AV\",\"AV\",\"AV\",\"AV\",\"AV\",\"AV\",\"AV\",null,null,null,null,null,\"Results\",null,1,1,1,null,null,null,1,1,1,null],[\"QNUT6198\",null,\"AV\",\"AV\",\"AV\",\"AV\",\"AV\",\"AV\",\"AV\",\"AV\",null,null,null,null,null,\"Results\",null,1,1,1,null,null,null,1,1,1,null],[\"QNUT6181\",null,\"AV\",\"AV\",\"AV\",\"AV\",\"AV\",\"AV\",\"AV\",\"AV\",null,null,null,null,null,\"Results\",null,1,1,1,null,null,null,1,1,1,null],[\"QNUT6283\",null,\"AV\",\"AV\",\"AV\",\"AV\",\"AV\",\"AV\",\"AV\",\"AV\",null,null,null,null,null,\"Results\",null,1,1,1,null,null,null,1,1,1,null],[\"QNUT6284\",null,\"AV\",\"AV\",\"AV\",\"AV\",\"AV\",\"AV\",\"AV\",\"AV\",null,null,null,null,null,\"Results\",null,1,1,1,null,null,null,1,1,1,null],[\"QNUT6285\",null,\"AV\",\"AV\",\"AV\",\"AV\",\"AV\",\"AV\",\"AV\",\"AV\",null,null,null,null,null,\"Results\",null,1,1,1,null,null,null,1,1,1,null],[\"QNUT6182\",null,\"AV\",\"AV\",\"AV\",\"AV\",\"AV\",\"AV\",\"AV\",\"AV\",null,null,null,null,null,\"Results\",null,1,1,1,null,null,null,1,1,1,null],[\"QNUT6183\",null,\"AV\",\"AV\",\"AV\",\"AV\",\"AV\",\"AV\",\"AV\",\"AV\",null,null,null,null,null,\"Results\",null,1,1,1,null,null,null,1,1,1,null],[\"QNUT6184\",null,\"AV\",\"AV\",\"AV\",\"AV\",\"AV\",\"AV\",\"AV\",\"AV\",null,null,null,null,null,\"Results\",null,1,1,1,null,null,null,1,1,1,null],[\"QNUT6286\",null,\"AV\",\"AV\",\"AV\",\"AV\",\"AV\",\"AV\",\"AV\",\"AV\",null,null,null,null,null,\"Results\",null,1,1,1,null,null,null,1,1,1,null],[\"QNUT6230\",null,\"AV\",\"AV\",\"AV\",\"AV\",\"AV\",\"AV\",\"AV\",\"AV\",null,null,null,null,null,\"Results\",null,1,1,1,null,null,null,1,1,1,null],[\"QNUT6231\",null,\"AV\",\"AV\",\"AV\",\"AV\",\"AV\",\"AV\",\"AV\",\"AV\",null,null,null,null,null,\"Results\",null,1,1,1,null,null,null,1,1,1,null],[\"QNUT6232\",null,\"AV\",\"AV\",\"AV\",\"AV\",\"AV\",\"AV\",\"AV\",\"AV\",null,null,null,null,null,\"Results\",null,1,1,1,null,null,null,1,1,1,null],[\"QNUT6233\",null,\"AV\",\"AV\",\"AV\",\"AV\",\"AV\",\"AV\",\"AV\",\"AV\",null,null,null,null,null,\"Results\",null,1,1,1,null,null,null,1,1,1,null],[\"QNUT6234\",null,\"AV\",\"AV\",\"AV\",\"AV\",\"AV\",\"AV\",\"AV\",\"AV\",null,null,null,null,null,\"Results\",null,1,1,1,null,null,null,1,1,1,null],[\"QNUT6235\",null,\"AV\",\"AV\",\"AV\",\"AV\",\"AV\",\"AV\",\"AV\",\"AV\",null,null,null,null,null,\"Results\",null,1,1,1,null,null,null,1,1,1,null],[\"QNUT6236\",null,\"AV\",\"AV\",\"AV\",\"AV\",\"AV\",\"AV\",\"AV\",\"AV\",null,null,null,null,null,\"Results\",null,1,1,1,null,null,null,1,1,1,null],[\"QNUT6237\",null,\"AV\",\"AV\",\"AV\",\"AV\",\"AV\",\"AV\",\"AV\",\"AV\",null,null,null,null,null,\"Results\",null,1,1,1,null,null,null,1,1,1,null],[\"QNUT6314\",null,\"AV\",\"AV\",\"AV\",\"AV\",\"AV\",\"AV\",\"AV\",\"AV\",null,null,null,null,null,\"Results\",null,1,1,1,null,null,null,1,1,1,null],[\"QNUT6315\",null,\"AV\",\"AV\",\"AV\",\"AV\",\"AV\",\"AV\",\"AV\",\"AV\",null,null,null,null,null,\"Results\",null,1,1,1,null,null,null,1,1,1,null],[\"QNUT6316\",null,\"AV\",\"AV\",\"AV\",\"AV\",\"AV\",\"AV\",\"AV\",\"AV\",null,null,null,null,null,\"Results\",null,1,1,1,null,null,null,1,1,1,null],[\"QNUT6317\",null,\"AV\",\"AV\",\"AV\",\"AV\",\"AV\",\"AV\",\"AV\",\"AV\",null,null,null,null,null,\"Results\",null,1,1,1,null,null,null,1,1,1,null],[\"QNUT6318\",null,\"AV\",\"AV\",\"AV\",\"AV\",\"AV\",\"AV\",\"AV\",\"AV\",null,null,null,null,null,\"Results\",null,1,1,1,null,null,null,1,1,1,null],[\"QNUT6319\",null,\"AV\",\"AV\",\"AV\",\"AV\",\"AV\",\"AV\",\"AV\",\"AV\",null,null,null,null,null,\"Results\",null,1,1,1,null,null,null,1,1,1,null],[\"QNUT6320\",null,\"AV\",\"AV\",\"AV\",\"AV\",\"AV\",\"AV\",\"AV\",\"AV\",null,null,null,null,null,\"Results\",null,1,1,1,null,null,null,1,1,1,null],[\"QNUT6321\",null,\"AV\",\"AV\",\"AV\",\"AV\",\"AV\",\"AV\",\"AV\",\"AV\",null,null,null,null,null,\"Results\",null,1,1,1,null,null,null,1,1,1,null],[\"QNUT6346\",null,\"AV\",\"AV\",\"AV\",\"AV\",\"AV\",\"AV\",\"AV\",\"AV\",null,null,null,null,null,\"Results\",null,1,1,1,null,null,null,1,1,1,null],[\"QNUT6347\",null,\"AV\",\"AV\",\"AV\",\"AV\",\"AV\",\"AV\",\"AV\",\"AV\",null,null,null,null,null,\"Results\",null,1,1,1,null,null,null,1,1,1,null],[\"QNUT6348\",null,\"AV\",\"AV\",\"AV\",\"AV\",\"AV\",\"AV\",\"AV\",\"AV\",null,null,null,null,null,\"Results\",null,1,1,1,null,null,null,1,1,1,null],[\"QNUT6349\",null,\"AV\",\"AV\",\"AV\",\"AV\",\"AV\",\"AV\",\"AV\",\"AV\",null,null,null,null,null,\"Results\",null,1,1,1,null,null,null,1,1,1,null],[\"QNUT6350\",null,\"AV\",\"AV\",\"AV\",\"AV\",\"AV\",\"AV\",\"AV\",\"AV\",null,null,null,null,null,\"Results\",null,1,1,1,null,null,null,1,1,1,null],[\"QNUT6351\",null,\"AV\",\"AV\",\"AV\",\"AV\",\"AV\",\"AV\",\"AV\",\"AV\",null,null,null,null,null,\"Results\",null,1,1,1,null,null,null,1,1,1,null],[\"QNUT6352\",null,\"AV\",\"AV\",\"AV\",\"AV\",\"AV\",\"AV\",\"AV\",\"AV\",null,null,null,null,null,\"Results\",null,1,1,1,null,null,null,1,1,1,null],[\"QNUT6353\",null,\"AV\",\"AV\",\"AV\",\"AV\",\"AV\",\"AV\",\"AV\",\"AV\",null,null,null,null,null,\"Results\",null,1,1,1,null,null,null,1,1,1,null],[\"QNUT6397\",null,\"AV\",\"AV\",\"AV\",\"AV\",\"AV\",\"AV\",\"AV\",\"AV\",null,null,null,null,null,\"Results\",null,1,1,1,null,null,null,1,1,1,null],[\"QNUT6398\",null,\"AV\",\"AV\",\"AV\",\"AV\",\"AV\",\"AV\",\"AV\",\"AV\",null,null,null,null,null,\"Results\",null,1,1,1,null,null,null,1,1,1,null],[\"QNUT6399\",null,\"AV\",\"AV\",\"AV\",\"AV\",\"AV\",\"AV\",\"AV\",\"AV\",null,null,null,null,null,\"Results\",null,1,1,1,null,null,null,1,1,1,null],[\"QNUT6400\",null,\"AV\",\"AV\",\"AV\",\"AV\",\"AV\",\"AV\",\"AV\",\"AV\",null,null,null,null,null,\"Results\",null,1,1,1,null,null,null,1,1,1,null],[\"QNUT6425\",null,\"AV\",\"AV\",\"AV\",\"AV\",\"AV\",\"AV\",\"AV\",\"AV\",null,null,null,null,null,\"Results\",null,1,1,1,null,null,null,1,1,1,null],[\"QNUT6443\",null,\"SVD\",null,null,null,null,null,\"AV\",\"AV\",null,null,null,null,null,\"Results\",null,4,1,1,null,null,null,4,1,1,\"BDL\"],[\"QNUT6444\",null,\"AV\",null,null,null,null,null,\"AV\",\"AV\",null,null,null,null,null,\"Results\",null,1,1,1,null,null,null,1,1,1,null],[\"QNUT6445\",null,\"AV\",null,null,null,null,null,\"AV\",\"AV\",null,null,null,null,null,\"Results\",null,1,1,1,null,null,null,1,1,1,null],[\"QNUT6446\",null,\"AV\",null,null,null,null,null,\"AV\",\"AV\",null,null,null,null,null,\"Results\",null,1,1,1,null,null,null,1,1,1,null],[\"QNUT6461\",null,\"AV\",null,null,null,null,null,\"AV\",\"AV\",null,null,null,null,null,\"Results\",null,1,1,1,null,null,null,1,1,1,null],[\"QNUT6462\",null,\"AV\",null,null,null,null,null,\"AV\",\"AV\",null,null,null,null,null,\"Results\",null,1,1,1,null,null,null,1,1,1,null],[\"QNUT6463\",null,\"AV\",null,null,null,null,null,\"AV\",\"AV\",null,null,null,null,null,\"Results\",null,1,1,1,null,null,null,1,1,1,null],[\"QNUT6464\",null,\"AV\",\"AV\",\"AV\",\"AV\",\"AV\",\"AV\",\"AV\",\"AV\",null,null,null,null,null,\"Results\",null,1,1,1,null,null,null,1,1,1,null],[\"QNUT6480\",null,\"AV\",\"AV\",\"AV\",\"AV\",\"AV\",\"AV\",\"AV\",\"AV\",null,null,null,null,null,\"Results\",null,1,1,1,null,null,null,1,1,1,null],[\"QNUT6481\",null,\"AV\",\"AV\",\"AV\",\"AV\",\"AV\",\"AV\",\"AV\",\"AV\",null,null,null,null,null,\"Results\",null,1,1,1,null,null,null,1,1,1,null],[\"QNUT6482\",null,\"AV\",\"AV\",\"AV\",\"AV\",\"AV\",\"AV\",\"AV\",\"AV\",null,null,null,null,null,\"Results\",null,1,1,1,null,null,null,1,1,1,null],[\"QNUT6483\",null,\"AV\",\"AV\",\"AV\",\"AV\",\"AV\",\"AV\",\"AV\",\"AV\",null,null,null,null,null,\"Results\",null,1,1,1,null,null,null,1,1,1,null],[\"QNUT6494\",null,\"AV\",\"AV\",\"AV\",\"AV\",\"AV\",\"AV\",\"AV\",\"AV\",null,null,null,null,null,\"Results\",null,1,1,1,null,null,null,1,1,1,null],[\"QNUT6495\",null,\"AV\",\"AV\",\"AV\",\"AV\",\"AV\",\"AV\",\"AV\",\"AV\",null,null,null,null,null,\"Results\",null,1,1,1,null,null,null,1,1,1,null],[\"QNUT6496\",null,\"AV\",\"AV\",\"AV\",\"AV\",\"AV\",\"AV\",\"AV\",\"AV\",null,null,null,null,null,\"Results\",null,1,1,1,null,null,null,1,1,1,null],[\"QNUT6497\",null,\"AV\",\"AV\",\"AV\",\"AV\",\"AV\",\"AV\",\"AV\",\"AV\",null,null,null,null,null,\"Results\",null,1,1,1,null,null,null,1,1,1,null],[\"QNUT6512\",null,\"AV\",\"AV\",\"AV\",\"AV\",\"AV\",\"AV\",\"AV\",\"AV\",null,null,null,null,null,\"Results\",null,1,1,1,null,null,null,1,1,1,null],[\"QNUT6513\",null,\"AV\",\"AV\",\"AV\",\"AV\",\"AV\",\"AV\",\"AV\",\"AV\",null,null,null,null,null,\"Results\",null,1,1,1,null,null,null,1,1,1,null]],\"hovertemplate\":\"sio2_flag=%{customdata[9]}<br>quality_level=Technicianmr<br>time=%{x}<br>sio2=%{y}<br>hakai_id=%{customdata[0]}<br>nh4__flag=%{customdata[1]}<br>no2_no3_flag=%{customdata[2]}<br>tp_flag=%{customdata[3]}<br>tdp_flag=%{customdata[4]}<br>tn_flag=%{customdata[5]}<br>tdn_flag=%{customdata[6]}<br>srp_flag=%{customdata[7]}<br>po4_flag=%{customdata[8]}<br>po4pfilt_flag=%{customdata[10]}<br>no3nfilt_flag=%{customdata[11]}<br>po4punfl_flag=%{customdata[12]}<br>no3nunfl_flag=%{customdata[13]}<br>nh4nunfl_flag=%{customdata[14]}<br>row_flag=%{customdata[15]}<br>metadata_qc_flag=%{customdata[16]}<br>no2_no3_um_qartod_gross_range_test=%{customdata[17]}<br>po4_qartod_gross_range_test=%{customdata[18]}<br>sio2_qartod_gross_range_test=%{customdata[19]}<br>no2_no3_um_qartod_spike_test=%{customdata[20]}<br>po4_qartod_spike_test=%{customdata[21]}<br>sio2_qartod_spike_test=%{customdata[22]}<br>no2_no3_um_qartod_aggregate=%{customdata[23]}<br>po4_qartod_aggregate=%{customdata[24]}<br>sio2_qartod_aggregate=%{customdata[25]}<br>no2_no3_um_flag=%{customdata[26]}<extra></extra>\",\"legendgroup\":\"AV, Technicianmr\",\"line\":{\"color\":\"#2ECC40\",\"dash\":\"solid\"},\"marker\":{\"symbol\":\"circle\"},\"mode\":\"markers+lines\",\"name\":\"AV, Technicianmr\",\"orientation\":\"v\",\"showlegend\":true,\"x\":[\"2015-03-18T16:02:55\",\"2015-03-18T16:02:55\",\"2015-03-24T16:04:16\",\"2015-03-24T16:04:16\",\"2015-03-24T16:04:16\",\"2015-03-31T15:57:34\",\"2015-03-31T15:57:34\",\"2015-04-06T15:44:21\",\"2015-04-06T15:44:21\",\"2015-04-14T15:33:48\",\"2015-04-14T15:33:48\",\"2015-04-22T15:24:33\",\"2015-04-22T15:24:33\",\"2015-05-01T14:32:56\",\"2015-05-01T14:32:56\",\"2015-05-05T14:51:55\",\"2015-05-05T14:51:55\",\"2015-05-13T14:24:01\",\"2015-05-13T14:24:01\",\"2015-05-21T14:46:54\",\"2015-05-21T14:46:54\",\"2015-05-26T13:40:03\",\"2015-05-26T13:40:03\",\"2015-06-03T14:10:05\",\"2015-06-03T14:10:05\",\"2015-06-15T13:51:34\",\"2015-06-15T13:51:34\",\"2015-06-24T13:33:50\",\"2015-06-24T13:33:50\",\"2015-06-30T14:17:18\",\"2015-06-30T14:17:18\",\"2015-07-07T13:47:54\",\"2015-07-07T13:47:54\",\"2015-07-22T14:45:53\",\"2015-07-22T14:45:53\",\"2015-07-28T15:00:36\",\"2015-07-28T15:00:36\",\"2015-08-05T14:30:36\",\"2015-08-05T14:30:36\",\"2015-08-12T15:05:47\",\"2015-08-12T15:05:47\",\"2015-08-20T15:22:40\",\"2015-08-20T15:22:40\",\"2015-08-25T15:20:17\",\"2015-08-25T15:20:17\",\"2015-09-02T15:02:08\",\"2015-09-02T15:02:08\",\"2015-09-09T15:17:46\",\"2015-09-09T15:17:46\",\"2015-09-15T15:32:19\",\"2015-09-15T15:32:19\",\"2015-09-22T16:19:16\",\"2015-09-22T16:19:16\",\"2015-09-28T15:49:13\",\"2015-09-28T15:49:13\",\"2015-10-06T16:00:45\",\"2015-10-06T16:00:45\",\"2015-10-14T16:51:53\",\"2015-10-14T16:51:53\",\"2015-10-20T15:58:01\",\"2015-10-20T15:58:01\",\"2015-10-27T15:53:04\",\"2015-10-27T15:53:04\",\"2015-11-03T18:10:18\",\"2015-11-03T18:10:18\",\"2015-11-10T15:50:06\",\"2015-11-10T15:50:06\",\"2015-11-18T18:18:37\",\"2015-11-18T18:18:37\",\"2015-11-25T22:33:13\",\"2015-11-25T22:33:13\",\"2015-12-11T18:37:24\",\"2015-12-11T18:37:24\",\"2015-12-16T17:29:18\",\"2015-12-16T17:29:18\",\"2016-01-05T19:10:05\",\"2016-01-05T19:10:05\",\"2016-01-13T17:21:43\",\"2016-01-13T17:21:43\",\"2016-01-19T17:23:12\",\"2016-01-19T17:23:12\",\"2016-01-28T17:41:40\",\"2016-01-28T17:41:40\",\"2016-02-02T17:29:32\",\"2016-02-02T17:29:32\",\"2016-02-09T18:45:41\",\"2016-02-16T18:31:55\",\"2016-02-16T18:31:55\",\"2016-02-23T19:04:02\",\"2016-02-23T19:04:02\",\"2016-03-15T16:24:07\",\"2016-03-15T16:24:07\",\"2016-03-22T16:37:08\",\"2016-03-22T16:37:08\",\"2016-03-29T15:53:53\",\"2016-03-29T15:53:53\",\"2016-04-01T17:10:01\",\"2016-04-01T17:10:01\",\"2016-04-01T17:10:01\",\"2016-04-04T18:09:59\",\"2016-04-04T18:09:59\",\"2016-04-08T16:01:43\",\"2016-04-08T16:01:43\",\"2016-04-14T16:09:58\",\"2016-04-14T16:09:58\",\"2016-04-28T16:27:35\",\"2016-04-28T16:27:35\",\"2016-05-09T15:35:45\",\"2016-05-09T15:35:45\",\"2016-05-19T14:45:56\",\"2016-05-19T14:45:56\",\"2016-05-30T16:07:04\",\"2016-05-30T16:07:04\",\"2016-06-06T21:30:45\",\"2016-06-06T21:30:45\",\"2016-06-09T15:47:17\",\"2016-06-09T15:47:17\",\"2016-06-20T16:21:03\",\"2016-06-20T16:21:03\",\"2016-07-01T03:35:17\",\"2016-07-01T03:35:17\",\"2016-07-11T14:44:29\",\"2016-07-11T14:44:29\",\"2016-07-21T14:52:18\",\"2016-07-21T14:52:18\",\"2016-08-01T15:44:32\",\"2016-08-01T15:44:32\",\"2016-08-11T15:47:11\",\"2016-08-11T15:47:11\",\"2016-08-22T15:22:51\",\"2016-08-22T15:22:51\",\"2016-09-01T15:01:30\",\"2016-09-01T15:01:30\",\"2016-09-11T16:03:02\",\"2016-09-11T16:03:02\",\"2016-09-22T18:15:48\",\"2016-09-22T18:15:48\",\"2016-10-02T17:03:04\",\"2016-10-02T17:03:04\",\"2016-10-12T17:23:21\",\"2016-10-12T17:23:21\",\"2016-10-22T18:59:31\",\"2016-10-22T18:59:31\",\"2016-11-09T18:27:42\",\"2016-11-09T18:27:42\",\"2016-11-15T18:31:26\",\"2016-11-15T18:31:26\",\"2016-11-26T19:00:17\",\"2016-11-26T19:00:17\",\"2016-12-03T18:25:17\",\"2016-12-03T18:25:17\",\"2016-12-15T19:43:58\",\"2016-12-15T19:43:58\",\"2017-01-08T19:11:49\",\"2017-01-08T19:11:49\",\"2017-01-15T19:20:14\",\"2017-01-15T19:20:14\",\"2017-01-26T17:46:03\",\"2017-01-26T17:46:03\",\"2017-02-17T17:52:21\",\"2017-02-17T17:52:21\",\"2017-02-25T17:38:38\",\"2017-02-25T17:38:38\",\"2017-03-15T16:08:38\",\"2017-03-15T16:08:38\",\"2017-03-30T15:52:00\",\"2017-03-30T15:52:00\",\"2017-04-07T15:16:43\",\"2017-04-07T15:16:43\",\"2017-04-11T15:31:54\",\"2017-04-11T15:31:54\",\"2017-04-20T15:18:43\",\"2017-04-20T15:18:43\",\"2017-04-24T15:19:36\",\"2017-04-24T15:19:36\",\"2017-05-02T15:12:51\",\"2017-05-02T15:12:51\",\"2017-05-08T15:41:00\",\"2017-05-08T15:41:00\",\"2017-05-17T15:56:11\",\"2017-05-17T15:56:11\",\"2017-05-29T14:43:28\",\"2017-05-29T14:43:28\",\"2017-06-05T14:55:04\",\"2017-06-05T14:55:04\",\"2017-06-12T15:05:38\",\"2017-06-12T15:05:38\",\"2017-06-19T14:45:21\",\"2017-06-19T14:54:51\",\"2017-06-29T14:33:34\",\"2017-06-29T14:33:34\",\"2017-07-07T14:15:44\",\"2017-07-07T14:15:44\",\"2017-07-11T15:15:50\",\"2017-07-11T15:15:50\",\"2017-07-12T15:07:33\",\"2017-07-17T15:27:12\",\"2017-07-17T15:27:12\",\"2017-07-24T16:15:54\",\"2017-07-24T16:15:54\",\"2017-08-04T15:23:26\",\"2017-08-04T15:23:26\",\"2017-08-08T16:27:02\",\"2017-08-08T16:27:02\",\"2017-08-15T15:27:44\",\"2017-08-15T15:27:44\",\"2017-08-21T17:09:34\",\"2017-08-21T17:09:34\",\"2017-08-29T16:15:53\",\"2017-08-29T16:15:53\",\"2017-09-05T17:02:12\",\"2017-09-05T17:02:12\",\"2017-09-12T16:29:24\",\"2017-09-12T16:29:24\",\"2017-09-18T17:16:57\",\"2017-09-18T17:16:57\",\"2017-09-26T17:02:38\",\"2017-09-26T17:02:38\",\"2017-10-03T17:06:21\",\"2017-10-03T17:06:21\",\"2017-10-11T17:04:19\",\"2017-10-11T17:04:19\",\"2017-10-20T16:51:36\",\"2017-10-20T16:51:36\",\"2017-10-24T17:02:50\",\"2017-10-24T17:02:50\",\"2017-10-31T18:04:32\",\"2017-10-31T18:04:32\",\"2017-11-08T18:05:47\",\"2017-11-08T18:05:47\",\"2017-11-16T18:01:19\",\"2017-11-16T18:01:19\",\"2017-11-20T17:52:57\",\"2017-11-20T17:52:57\",\"2017-11-27T18:00:40\",\"2017-11-27T18:00:40\",\"2017-12-06T18:26:20\",\"2017-12-06T18:26:20\",\"2017-12-11T19:54:56\",\"2017-12-11T19:54:56\",\"2018-01-03T19:07:22\",\"2018-01-03T19:07:22\",\"2018-01-09T19:26:32\",\"2018-01-09T19:26:32\",\"2018-01-22T18:29:51\",\"2018-01-22T18:29:51\",\"2018-01-31T18:00:19\",\"2018-01-31T18:00:19\",\"2018-02-06T18:21:49\",\"2018-02-06T18:21:49\",\"2018-02-13T19:18:31\",\"2018-02-13T19:18:31\",\"2018-02-19T19:09:43\",\"2018-02-19T19:09:43\",\"2018-02-27T18:15:14\",\"2018-02-27T18:15:14\",\"2018-03-06T18:15:10\",\"2018-03-06T18:15:10\",\"2018-03-13T17:34:54\",\"2018-03-13T17:34:54\",\"2018-03-20T16:57:41\",\"2018-03-20T16:57:41\",\"2018-03-27T17:16:10\",\"2018-03-27T17:16:10\",\"2018-04-12T17:31:02\",\"2018-04-12T17:31:02\",\"2018-04-17T16:56:02\",\"2018-04-17T16:56:02\",\"2018-04-24T16:50:44\",\"2018-04-24T16:50:44\",\"2018-05-02T17:16:53\",\"2018-05-02T17:16:53\",\"2018-05-08T16:03:14\",\"2018-05-08T16:03:14\",\"2018-05-15T16:31:10\",\"2018-05-15T16:31:10\",\"2018-05-22T14:41:31\",\"2018-05-22T14:41:31\",\"2018-05-29T18:05:48\",\"2018-05-29T18:05:48\",\"2018-06-05T15:17:08\",\"2018-06-05T15:17:08\",\"2018-06-11T16:32:01\",\"2018-06-11T16:32:01\",\"2018-06-18T17:00:11\",\"2018-06-18T17:00:11\",\"2018-06-26T15:50:02\",\"2018-06-26T15:50:02\",\"2018-07-11T15:53:33\",\"2018-07-11T15:53:33\",\"2018-07-16T15:01:25\",\"2018-07-16T15:01:25\",\"2018-07-23T14:55:41\",\"2018-07-23T14:55:41\",\"2018-07-31T14:22:38\",\"2018-07-31T14:22:38\",\"2018-08-09T15:05:08\",\"2018-08-09T15:05:08\",\"2018-08-14T17:01:40\",\"2018-08-14T17:01:40\",\"2018-08-21T16:17:31\",\"2018-08-21T17:09:35\",\"2018-08-29T16:47:55\",\"2018-08-29T16:47:55\",\"2018-09-04T16:18:08\",\"2018-09-04T16:18:08\",\"2018-09-13T15:38:08\",\"2018-09-13T15:38:08\",\"2018-09-18T15:21:20\",\"2018-09-18T15:21:20\",\"2018-09-25T16:40:32\",\"2018-09-25T16:40:32\",\"2018-10-04T16:20:44\",\"2018-10-04T16:20:44\",\"2018-10-09T17:46:38\",\"2018-10-09T17:46:38\",\"2018-10-16T16:40:03\",\"2018-10-16T16:40:03\",\"2018-10-24T16:43:05\",\"2018-10-24T16:43:05\",\"2018-10-30T16:08:32\",\"2018-10-30T16:08:32\",\"2018-11-07T16:21:10\",\"2018-11-07T16:21:10\",\"2018-11-16T17:37:27\",\"2018-11-16T17:37:27\",\"2018-11-19T18:48:23\",\"2018-11-19T18:48:23\",\"2018-11-28T17:58:39\",\"2018-11-28T17:58:39\",\"2018-12-04T16:54:05\",\"2018-12-04T16:54:05\",\"2019-01-16T18:07:08\",\"2019-01-16T18:07:08\",\"2019-01-23T17:30:38\",\"2019-01-23T17:30:38\",\"2019-01-29T17:53:43\",\"2019-01-29T17:53:43\",\"2019-02-05T18:06:17\",\"2019-02-05T18:06:17\",\"2019-02-12T18:27:15\",\"2019-02-12T19:30:00\",\"2019-02-21T18:05:49\",\"2019-02-21T18:05:49\",\"2019-02-26T17:50:25\",\"2019-02-26T17:50:25\",\"2019-03-05T17:37:44\",\"2019-03-05T17:37:44\",\"2019-03-12T16:13:28\",\"2019-03-12T16:13:28\",\"2019-03-20T16:58:21\",\"2019-03-20T16:58:21\",\"2019-03-27T18:12:06\",\"2019-03-27T18:12:06\",\"2019-04-02T18:38:27\",\"2019-04-02T18:38:27\",\"2019-04-10T18:11:36\",\"2019-04-10T18:11:36\",\"2019-05-02T17:22:24\",\"2019-05-02T17:22:24\",\"2019-05-09T18:02:38\",\"2019-05-09T18:02:38\",\"2019-05-22T17:50:50\",\"2019-05-22T17:50:50\",\"2019-05-29T16:41:15\",\"2019-05-29T16:41:15\",\"2019-06-04T16:48:50\",\"2019-06-04T16:48:50\",\"2019-06-20T16:06:40\",\"2019-06-25T19:37:40\",\"2019-06-25T19:37:40\",\"2019-07-03T17:29:43\",\"2019-07-03T17:29:43\",\"2019-07-09T18:55:03\",\"2019-07-09T18:55:03\",\"2019-07-18T17:28:20\",\"2019-07-18T17:28:20\",\"2019-07-24T16:59:10\",\"2019-07-24T16:59:10\",\"2019-07-30T16:45:11\",\"2019-07-30T16:45:11\",\"2019-07-30T16:45:11\",\"2019-07-30T16:45:11\",\"2019-08-07T17:46:07\",\"2019-08-07T17:46:07\",\"2019-08-07T17:46:07\",\"2019-08-07T17:46:07\",\"2019-08-15T17:28:46\",\"2019-08-15T17:28:46\",\"2019-08-15T17:28:46\",\"2019-08-15T17:28:46\",\"2019-08-20T18:25:50\",\"2019-08-20T18:25:50\",\"2019-08-20T18:25:50\",\"2019-08-20T18:25:50\",\"2019-08-29T17:55:58\",\"2019-08-29T17:55:58\",\"2019-08-29T17:55:58\",\"2019-08-29T17:55:58\",\"2019-09-04T18:16:30\",\"2019-09-04T18:16:30\",\"2019-09-04T18:16:30\",\"2019-09-04T18:16:30\",\"2019-09-19T16:44:39\",\"2019-09-19T16:44:39\",\"2019-09-19T16:44:39\",\"2019-09-19T16:44:39\",\"2019-09-24T19:14:04\",\"2019-09-24T19:14:04\",\"2019-09-24T19:14:04\",\"2019-09-24T19:14:04\",\"2019-10-09T17:25:50\",\"2019-10-09T17:25:50\",\"2019-10-09T17:25:50\",\"2019-10-09T17:25:50\",\"2019-10-18T16:46:19\",\"2019-10-18T16:46:19\",\"2019-10-18T16:46:19\",\"2019-10-18T16:46:19\",\"2019-10-30T17:06:09\",\"2019-10-30T17:06:09\",\"2019-10-30T17:06:09\",\"2019-10-30T17:06:09\",\"2019-11-05T18:35:29\",\"2019-11-05T18:35:29\",\"2019-11-05T18:35:29\",\"2019-11-05T18:35:29\",\"2019-11-13T17:59:00\",\"2019-11-13T17:59:00\",\"2019-11-13T17:59:00\",\"2019-11-13T17:59:00\",\"2019-11-20T18:24:46\",\"2019-11-20T18:24:46\",\"2019-11-20T18:24:46\",\"2019-11-20T18:24:46\",\"2019-11-26T18:09:45\",\"2019-11-26T18:09:45\",\"2019-11-26T18:09:45\",\"2019-11-26T18:09:45\",\"2019-12-03T17:15:55\",\"2019-12-03T17:15:55\",\"2019-12-03T17:15:55\",\"2019-12-03T17:15:55\",\"2019-12-13T18:03:58\",\"2019-12-13T18:03:58\",\"2019-12-13T18:03:58\",\"2019-12-13T18:03:58\",\"2020-01-08T18:44:00\",\"2020-01-08T18:44:00\",\"2020-01-08T18:44:00\",\"2020-01-08T18:44:00\",\"2020-01-28T17:53:51\",\"2020-01-28T17:53:51\",\"2020-01-28T17:53:51\",\"2020-01-28T17:53:51\",\"2020-02-05T18:36:51\",\"2020-02-05T18:36:51\",\"2020-02-05T18:36:51\",\"2020-02-05T18:36:51\",\"2020-02-18T17:58:18\",\"2020-02-18T17:58:18\",\"2020-02-18T17:58:18\",\"2020-02-18T17:58:18\",\"2020-02-26T19:03:43\",\"2020-02-26T19:03:43\",\"2020-02-26T19:03:43\",\"2020-02-26T19:03:43\",\"2020-02-26T19:03:43\",\"2020-02-26T19:03:43\",\"2020-02-26T19:03:43\",\"2020-02-26T19:03:43\",\"2020-03-06T17:59:00\",\"2020-03-06T17:59:00\",\"2020-03-06T17:59:00\",\"2020-03-06T17:59:00\",\"2020-03-06T17:59:00\",\"2020-03-06T17:59:00\",\"2020-03-06T17:59:00\",\"2020-03-06T17:59:00\",\"2020-03-12T16:44:00\",\"2020-03-12T16:44:00\",\"2020-03-12T16:44:00\",\"2020-03-12T16:44:00\",\"2020-03-12T16:44:00\",\"2020-03-12T16:44:00\",\"2020-03-12T16:44:00\",\"2020-03-12T16:44:00\",\"2020-03-18T17:37:10\",\"2020-03-18T17:37:10\",\"2020-03-18T17:37:10\",\"2020-03-18T17:37:10\",\"2020-03-18T17:37:10\",\"2020-03-18T17:37:10\",\"2020-03-18T17:37:10\",\"2020-03-18T17:37:10\",\"2020-04-17T18:57:00\",\"2020-04-17T18:57:00\",\"2020-04-17T18:57:00\",\"2020-04-17T18:57:00\",\"2020-04-29T18:13:00\",\"2020-05-14T16:34:00\",\"2020-05-14T16:34:00\",\"2020-05-14T16:34:00\",\"2020-05-14T16:34:00\",\"2020-05-26T16:39:00\",\"2020-05-26T16:39:00\",\"2020-05-26T16:39:00\",\"2020-05-26T16:39:00\",\"2020-06-04T17:46:00\",\"2020-06-04T17:46:00\",\"2020-06-04T17:46:00\",\"2020-06-04T17:46:00\",\"2020-06-11T17:01:15\",\"2020-06-11T17:01:15\",\"2020-06-11T17:01:15\",\"2020-06-11T17:01:15\",\"2020-06-17T17:02:00\",\"2020-06-17T17:02:00\"],\"xaxis\":\"x\",\"y\":[12.3966463072534,12.6940251337884,19.3140922434672,20.2536541088091,22.1444635122279,25.1399217060009,25.5007440365729,23.829,25.8119856823081,4.44450734990046,6.97979571668499,8.639,32.271,6.01205155252885,10.4988512881694,4.35973802805351,7.06488832018984,1.691,9.934,0.562,4.839,2.93,1.112,6.236,4.947,41.7002960450413,45.8685464381721,3.67598549566841,4.42216398544851,14.481653476147,37.4592553959372,43.6419663641144,49.4274702323618,39.0322458457128,34.5573845002026,30.1842111553615,31.5374404833084,41.668231558976,48.264553054383,18.5747844220571,23.5608828464571,37.4395029553539,43.7103661166124,19.8577210572689,40.4548293631464,25.6014904199276,26.6871539673969,18.0539648555838,20.9295428930761,45.1867399605811,48.6702357882039,35.5866203633407,35.7290858082379,37.7037652151826,40.9391583926241,29.1407842914386,43.7815369706216,35.53998127029,35.6747978552135,41.3745723360838,39.1938516983217,48.2652784232354,50.9558605769571,39.4307424221884,38.0281454084667,39.3965816147903,39.5905702288557,45.4752236056,44.6400501256374,52.289534051093,51.8386036378387,49.7333702036481,49.7364044127453,50.2872898471804,49.3672151595371,51.0640698462385,52.006983994674,51.2794450003295,52.7186923611865,54.601636777185,54.449431446913,53.5983940999193,49.7856612345045,50.5467547358697,49.6982372507934,51.2606298463057,49.6349573247875,48.3960571620181,50.2740511550296,50.4137310368842,50.0254616192054,51.3303294285961,49.4186115419594,50.3388577863819,48.6957234903044,51.4836189675299,3.73122514717415,3.22510786216043,3.25434319325728,2.38935167747295,7.55728909627499,3.17143861143284,8.64413944485478,5.98722030230781,6.3398960457784,9.64381797541418,14.8924063557965,35.1451826656375,38.0746699385957,1.53854995418669,1.08712122338483,0.139899590146963,0.946292233971692,1.54812549874304,4.16282881324887,4.30396435086342,11.2949096899229,7.31351829722535,10.2349101132342,24.9337262432859,41.1862187311254,20.3360464677484,21.406115187573,23.7184317241401,26.6343177304065,43.2452219567083,46.9736491568821,8.81536226718294,21.971613893283,31.4431913652858,36.5798653503417,11.9301688978465,11.0111811822561,18.9411529721377,22.1034206152765,33.9335340634544,34.3729261780082,36.6049634167502,39.140277103671,42.2050354988205,43.5895008908977,48.2711728915997,47.7464283945256,51.1811853983757,51.5171241636349,51.5583866992321,53.3552904782266,51.9042553779258,54.3602649061744,53.4876840620189,54.0274210058067,53.3853790967249,54.9605532527158,55.8979619193583,54.4031863897377,54.3521983573531,55.5554130991659,56.7649281990951,56.4028746015911,56.0463046060238,55.450747244253,53.7011346188587,53.667071673293,40.5197405202774,41.0461987097876,20.5260703755206,20.4450490495014,17.6416831501943,22.3157930009795,25.5626942701765,26.1799220265673,4.37118177346394,14.0669256866619,0.855287820921702,1.01814764825904,1.57711162680619,2.80434797000713,1.76413656403762,3.6524402387649,3.3806767021772,3.66727362023169,32.5113971010461,37.8080513263651,1.80033502427554,1.90574975364975,8.59659497854417,18.4961100772605,12.4716033953066,12.8204845563212,22.3470172132301,35.7858341508455,20.6982491949603,25.2227814782964,23.3896600843228,34.4932888762421,15.9999295563925,11.0815471790294,11.8878084848025,16.3882519925756,30.8211495895741,31.0101991080584,43.372204570581,35.2029462030762,46.8122302796421,25.0116626467757,27.091087752732,21.5571833269097,34.0432948640947,31.3908822916357,42.3170453304747,24.4691347241443,42.1031645097989,37.5725275726921,36.7867548293306,36.4269934288118,40.2192256011418,38.2586502566992,38.961767798822,34.7597761327921,45.3623013347436,30.3850470881403,33.7392235419645,41.3084282486364,42.1266843741238,36.7875990194896,37.4508514183877,37.3243425796633,30.5736576697892,46.2499549892555,49.2832222733992,48.7907480110771,50.1714128845957,43.5408352024981,44.1092068876281,45.371688008926,46.1108353423916,46.9672384522749,45.5255041323487,47.884960310022,47.7821295915372,51.027,50.09,52.313,50.542,53.8403090736743,54.1843096802224,52.5755692944356,49.9161609181383,49.7727146531851,49.78248923408,53.9074541479077,54.7948040557859,53.8797930449626,51.1185358349931,49.2989960870172,51.4092531045678,45.7744568032671,47.7119439110161,46.008618672871,51.7027386424349,0.599095776521613,19.7218979377879,23.6245184986014,23.8364891941477,11.1333672374307,14.583989503899,18.9947347409094,19.1248019795864,14.4373052096602,17.512362716756,14.3901756491487,18.3340101234769,6.90092740858656,11.6833781948198,14.8763770369432,18.685621763789,17.5414534977446,12.692447005088,24.8872482728855,30.2055673392737,22.4660612608217,23.0058468348348,28.1178014076903,27.0360082866745,38.2452949546071,44.5959420446354,30.5456911163046,30.2903596023222,33.844439936581,41.9975707952145,47.2031523800327,47.7069719142164,29.6176287806898,19.6196390119059,1.0656962229146,1.32087239582713,13.5086363998655,17.959542604103,28.1753103491921,37.362782648317,41.2530950688819,35.4557390391285,15.4348030500003,21.854927441626,6.33608207831081,41.340208803806,27.5980412936128,28.2255641927973,21.7389663948047,24.6941230288749,20.7164704414041,32.9681387915625,31.7602091595345,36.9698974705218,34.3979282708955,34.8615560761164,35.6026914619585,44.0009894421718,34.5956519671273,37.0927485900031,42.4468769112471,44.4265691977739,40.585877754432,41.4882868326195,37.9451033101234,41.5336155691799,36.7800581448266,39.4417125810551,43.1519966554703,43.97640492575,44.4466186783574,45.62046208504,54.6028277813155,55.4484045760298,56.6583057139373,56.4268306560935,55.9747898306295,55.1173118996349,59.282460856671,58.9691347456928,55.6335189681517,52.0861306240932,48.6231241999357,50.3236516238527,51.8697027196094,53.229787900948,53.1424662863443,54.1097715935656,25.5491735602484,31.7819269934566,26.6984325914816,35.3169289693549,10.4694256107258,11.1772222258531,1.98680113711829,25.5352772875151,21.6855310675915,23.6608430453571,39.4806608440863,40.4079773022153,45.1996124818891,47.1484774999002,6.62874966211176,6.866129118544,16.201817036915,25.1379082447032,18.2036806330495,24.0981032477708,40.711948445022,28.4567178214379,36.9330920962447,23.3479866223875,21.3526292739823,26.1571530423798,25.4628056804291,27.5853430193292,37.3036844914042,31.8717126274415,41.6406805574777,39.6473956346624,47.8413917482702,47.5779861406334,47.5562640388841,33.5797923474725,39.7747226685801,39.8258300834738,40.0355331670711,21.1514159337546,37.045077953278,36.5480650170339,35.6740624889239,28.5226199054775,35.1820017990111,35.9967788963431,36.4816318937738,44.2768878732414,51.08446490817,52.4655475923968,52.6472295503598,22.2026662643909,37.6002551394891,38.1077830001097,38.5519351989569,32.1126148694514,33.6090273112757,33.5886722069005,33.538208317014,32.916531977048,33.4638191027939,33.5161992768623,33.153907953428,41.3019474549208,41.6129842680373,41.5885323236733,41.3913265442378,45.1876038374361,45.4137898907551,45.4287977795733,45.1528958596295,47.6425992564871,48.4169858237155,48.4813837678117,48.4230777530795,44.8708857006831,45.7227602203244,45.0767394649683,45.0102313698074,42.5398661589048,44.8703806952673,44.5917115944377,45.1883668061421,46.1733126157214,47.5999017230554,48.1772772156347,48.2986422452324,48.0942029509613,47.9713525816617,48.5646636419703,48.0324717435266,50.092075070789,51.2005167059614,50.9825435028496,49.0258751690316,48.0178266735066,49.4349000922402,49.8433505947707,49.4080353845293,53.7546522588173,54.484249626373,53.0748923317381,54.0628798245233,53.9374502035389,54.6104532829895,54.3718510143054,54.8614678210936,52.3995562967783,52.605742000547,51.2201781566914,51.7097018967428,51.7364734010912,51.4688316749897,52.2270967290739,52.6484726852737,53.9548814021526,53.6935258522594,52.2332415841525,52.4672316762423,52.7378508086685,53.3739488271224,53.568821826098,53.6645435320553,52.6769423188336,52.4388495011154,52.6284315303764,51.8219708670272,52.8660063695182,53.6499948350785,53.946426038746,53.5780379894538,51.2644446227383,51.2040995830293,51.8051345724499,52.6174627693927,52.7854242298733,51.7594533783514,50.393336387742,51.1732132576519,15.3164720619631,14.0690817194504,15.1207435028018,15.3004388421147,26.3557940828098,26.0908497935232,25.9672896948256,26.8509776768862,30.4064428067558,31.7022715058506,31.3009624647848,31.4223722241017,21.4173676047336,21.8883851427121,27.5201171234322,27.3012592423788,27.6732293006431,20.9966695039484,25.7907556923307,25.8840589667771,25.7170002424508,18.089103470924,19.6977737008467,19.9654012822695,20.0205795324423,25.3879934596751,27.925369371336,27.9072547583321,27.7577955512689,25.0617883914151,24.0725324310091],\"yaxis\":\"y\",\"type\":\"scatter\"},{\"customdata\":[[\"QNUT6533\",null,\"AV\",null,null,null,null,null,\"AV\",\"AV\",null,null,null,null,null,\"Results\",null,1,1,1,null,null,null,1,1,1,null],[\"QNUT6534\",null,\"AV\",null,null,null,null,null,\"AV\",\"AV\",null,null,null,null,null,\"Results\",null,1,1,1,null,null,null,1,1,1,null],[\"QNUT6535\",null,\"AV\",null,null,null,null,null,\"AV\",\"AV\",null,null,null,null,null,\"Results\",null,1,1,1,null,null,null,1,1,1,null],[\"QNUT6536\",null,\"AV\",null,null,null,null,null,\"AV\",\"AV\",null,null,null,null,null,\"Results\",null,1,1,1,null,null,null,1,1,1,null],[\"QNUT6551\",null,\"AV\",null,null,null,null,null,\"AV\",\"AV\",null,null,null,null,null,\"Results\",null,1,1,1,null,null,null,1,1,1,null],[\"QNUT6552\",null,\"AV\",null,null,null,null,null,\"AV\",\"AV\",null,null,null,null,null,\"Results\",null,1,1,1,null,null,null,1,1,1,null],[\"QNUT6556\",null,\"AV\",null,null,null,null,null,\"AV\",\"AV\",null,null,null,null,null,\"Results\",null,1,1,1,null,null,null,1,1,1,null],[\"QNUT6557\",null,\"AV\",null,null,null,null,null,\"AV\",\"AV\",null,null,null,null,null,\"Results\",null,1,1,1,null,null,null,1,1,1,null],[\"QNUT6576\",null,\"AV\",null,null,null,null,null,\"AV\",\"AV\",null,null,null,null,null,\"Results\",null,1,1,1,null,null,null,1,1,1,null],[\"QNUT6577\",null,\"AV\",null,null,null,null,null,\"AV\",\"AV\",null,null,null,null,null,\"Results\",null,1,1,1,null,null,null,1,1,1,null],[\"QNUT6578\",null,\"AV\",null,null,null,null,null,\"AV\",\"AV\",null,null,null,null,null,\"Results\",null,1,1,1,null,null,null,1,1,1,null],[\"QNUT6579\",null,\"AV\",null,null,null,null,null,\"AV\",\"AV\",null,null,null,null,null,\"Results\",null,1,1,1,null,null,null,1,1,1,null],[\"QNUT6615\",null,\"AV\",null,null,null,null,null,\"AV\",\"AV\",null,null,null,null,null,\"Results\",null,1,1,1,null,null,null,1,1,1,null],[\"QNUT6614\",null,\"AV\",null,null,null,null,null,\"AV\",\"AV\",null,null,null,null,null,\"Results\",null,1,1,1,null,null,null,1,1,1,null],[\"QNUT6616\",null,\"AV\",null,null,null,null,null,\"AV\",\"AV\",null,null,null,null,null,\"Results\",null,1,1,1,null,null,null,1,1,1,null],[\"QNUT6618\",null,\"AV\",null,null,null,null,null,\"AV\",\"AV\",null,null,null,null,null,\"Results\",null,1,1,1,null,null,null,1,1,1,null],[\"QNUT6565\",null,\"AV\",null,null,null,null,null,\"AV\",\"AV\",null,null,null,null,null,\"Results\",null,1,1,1,null,null,null,1,1,1,null],[\"QNUT6566\",null,\"AV\",null,null,null,null,null,\"AV\",\"AV\",null,null,null,null,null,\"Results\",null,1,1,1,null,null,null,1,1,1,null],[\"QNUT6593\",null,\"AV\",null,null,null,null,null,\"AV\",\"AV\",null,null,null,null,null,\"Results\",null,1,1,1,null,null,null,1,1,1,null],[\"QNUT6594\",null,\"AV\",null,null,null,null,null,\"AV\",\"AV\",null,null,null,null,null,\"Results\",null,1,1,1,null,null,null,1,1,1,null],[\"QNUT6627\",null,\"AV\",null,null,null,null,null,\"AV\",\"AV\",null,null,null,null,null,\"Results\",null,1,1,1,null,null,null,1,1,1,null],[\"QNUT6628\",null,\"AV\",null,null,null,null,null,\"AV\",\"AV\",null,null,null,null,null,\"Results\",null,1,1,1,null,null,null,1,1,1,null],[\"QNUT6629\",null,\"AV\",null,null,null,null,null,\"AV\",\"AV\",null,null,null,null,null,\"Results\",null,1,1,1,null,null,null,1,1,1,null],[\"QNUT6630\",null,\"AV\",null,null,null,null,null,\"AV\",\"AV\",null,null,null,null,null,\"Results\",null,1,1,1,null,null,null,1,1,1,null],[\"QNUT6641\",null,\"AV\",null,null,null,null,null,\"AV\",\"AV\",null,null,null,null,null,\"Results\",null,1,1,1,null,null,null,1,1,1,null],[\"QNUT6642\",null,\"AV\",null,null,null,null,null,\"AV\",\"AV\",null,null,null,null,null,\"Results\",null,1,1,1,null,null,null,1,1,1,null],[\"QNUT6643\",null,\"AV\",null,null,null,null,null,\"AV\",\"AV\",null,null,null,null,null,\"Results\",null,1,1,1,null,null,null,1,1,1,null],[\"QNUT6644\",null,\"AV\",null,null,null,null,null,\"AV\",\"AV\",null,null,null,null,null,\"Results\",null,1,1,1,null,null,null,1,1,1,null],[\"QNUT6659\",null,\"AV\",null,null,null,null,null,\"AV\",\"AV\",null,null,null,null,null,\"Results\",null,1,1,1,null,null,null,1,1,1,null],[\"QNUT6660\",null,\"AV\",null,null,null,null,null,\"AV\",\"AV\",null,null,null,null,null,\"Results\",null,1,1,1,null,null,null,1,1,1,null],[\"QNUT6661\",null,\"AV\",null,null,null,null,null,\"AV\",\"AV\",null,null,null,null,null,\"Results\",null,1,1,1,null,null,null,1,1,1,null],[\"QNUT6662\",null,\"AV\",null,null,null,null,null,\"AV\",\"AV\",null,null,null,null,null,\"Results\",null,1,1,1,null,null,null,1,1,1,null],[\"QNUT6685\",null,\"AV\",null,null,null,null,null,\"AV\",\"AV\",null,null,null,null,null,\"Results\",null,1,1,1,null,null,null,1,1,1,null],[\"QNUT6686\",null,\"AV\",null,null,null,null,null,\"AV\",\"AV\",null,null,null,null,null,\"Results\",null,1,1,1,null,null,null,1,1,1,null],[\"QNUT6687\",null,\"AV\",null,null,null,null,null,\"AV\",\"AV\",null,null,null,null,null,\"Results\",null,1,1,1,null,null,null,1,1,1,null],[\"QNUT6688\",null,\"AV\",null,null,null,null,null,\"AV\",\"AV\",null,null,null,null,null,\"Results\",null,1,1,1,null,null,null,1,1,1,null],[\"QNUT6753\",null,\"AV\",null,null,null,null,null,\"AV\",\"AV\",null,null,null,null,null,\"Results\",null,1,1,1,null,null,null,1,1,1,null],[\"QNUT6754\",null,\"AV\",null,null,null,null,null,\"AV\",\"AV\",null,null,null,null,null,\"Results\",null,1,1,1,null,null,null,1,1,1,null],[\"QNUT6755\",null,\"AV\",null,null,null,null,null,\"AV\",\"AV\",null,null,null,null,null,\"Results\",null,1,1,1,null,null,null,1,1,1,null],[\"QNUT6756\",null,\"AV\",null,null,null,null,null,\"AV\",\"AV\",null,null,null,null,null,\"Results\",null,1,1,1,null,null,null,1,1,1,null],[\"QNUT6768\",null,\"AV\",null,null,null,null,null,\"AV\",\"AV\",null,null,null,null,null,\"Results\",null,1,1,1,null,null,null,1,1,1,null],[\"QNUT6769\",null,\"AV\",null,null,null,null,null,\"AV\",\"AV\",null,null,null,null,null,\"Results\",null,1,1,1,null,null,null,1,1,1,null],[\"QNUT6770\",null,\"AV\",null,null,null,null,null,\"AV\",\"AV\",null,null,null,null,null,\"Results\",null,1,1,1,null,null,null,1,1,1,null],[\"QNUT6767\",null,\"AV\",null,null,null,null,null,\"AV\",\"AV\",null,null,null,null,null,\"Results\",null,1,1,1,null,null,null,1,1,1,null],[\"QNUT6783\",null,\"AV\",null,null,null,null,null,\"AV\",\"AV\",null,null,null,null,null,\"Results\",null,1,1,1,null,null,null,1,1,1,\"BDL\"],[\"QNUT6784\",null,\"AV\",null,null,null,null,null,\"AV\",\"AV\",null,null,null,null,null,\"Results\",null,1,1,1,null,null,null,1,1,1,null],[\"QNUT6785\",null,\"AV\",null,null,null,null,null,\"AV\",\"AV\",null,null,null,null,null,\"Results\",null,1,1,1,null,null,null,1,1,1,null],[\"QNUT6786\",null,\"AV\",null,null,null,null,null,\"AV\",\"AV\",null,null,null,null,null,\"Results\",null,1,1,1,null,null,null,1,1,1,null],[\"QNUT6823\",null,\"AV\",null,null,null,null,null,\"AV\",\"AV\",null,null,null,null,null,\"Results\",null,1,1,1,null,null,null,1,1,1,null],[\"QNUT6824\",null,\"AV\",null,null,null,null,null,\"AV\",\"AV\",null,null,null,null,null,\"Results\",null,1,1,1,null,null,null,1,1,1,null],[\"QNUT6825\",null,\"AV\",null,null,null,null,null,\"AV\",\"AV\",null,null,null,null,null,\"Results\",null,1,1,1,null,null,null,1,1,1,null],[\"QNUT6826\",null,\"AV\",null,null,null,null,null,\"AV\",\"AV\",null,null,null,null,null,\"Results\",null,1,1,1,null,null,null,1,1,1,null],[\"QNUT6841\",null,\"AV\",null,null,null,null,null,\"AV\",\"AV\",null,null,null,null,null,\"Results\",null,1,1,1,null,null,null,1,1,1,null],[\"QNUT6842\",null,\"AV\",null,null,null,null,null,\"AV\",\"AV\",null,null,null,null,null,\"Results\",null,1,1,1,null,null,null,1,1,1,null],[\"QNUT6843\",null,\"AV\",null,null,null,null,null,\"AV\",\"AV\",null,null,null,null,null,\"Results\",null,1,1,1,null,null,null,1,1,1,null],[\"QNUT6844\",null,\"AV\",null,null,null,null,null,\"AV\",\"AV\",null,null,null,null,null,\"Results\",null,1,1,1,null,null,null,1,1,1,null],[\"QNUT6855\",null,\"AV\",null,null,null,null,null,\"AV\",\"AV\",null,null,null,null,null,\"Results\",null,1,1,1,null,null,null,1,1,1,null],[\"QNUT6856\",null,\"AV\",null,null,null,null,null,\"AV\",\"AV\",null,null,null,null,null,\"Results\",null,1,1,1,null,null,null,1,1,1,null],[\"QNUT6857\",null,\"AV\",null,null,null,null,null,\"AV\",\"AV\",null,null,null,null,null,\"Results\",null,1,1,1,null,null,null,1,1,1,null],[\"QNUT6858\",null,\"AV\",null,null,null,null,null,\"AV\",\"AV\",null,null,null,null,null,\"Results\",null,1,1,1,null,null,null,1,1,1,null],[\"QNUT6873\",null,\"AV\",null,null,null,null,null,\"AV\",\"AV\",null,null,null,null,null,\"Results\",null,1,1,1,null,null,null,1,1,1,null],[\"QNUT6874\",null,\"AV\",null,null,null,null,null,\"AV\",\"AV\",null,null,null,null,null,\"Results\",null,1,1,1,null,null,null,1,1,1,null],[\"QNUT6875\",null,\"AV\",null,null,null,null,null,\"AV\",\"AV\",null,null,null,null,null,\"Results\",null,1,1,1,null,null,null,1,1,1,null],[\"QNUT6876\",null,\"AV\",null,null,null,null,null,\"AV\",\"AV\",null,null,null,null,null,\"Results\",null,1,1,1,null,null,null,1,1,1,null],[\"QNUT6887\",null,\"AV\",null,null,null,null,null,\"AV\",\"AV\",null,null,null,null,null,\"Results\",null,1,1,1,null,null,null,1,1,1,null],[\"QNUT6888\",null,\"AV\",null,null,null,null,null,\"AV\",\"AV\",null,null,null,null,null,\"Results\",null,1,1,1,null,null,null,1,1,1,null],[\"QNUT6889\",null,\"AV\",null,null,null,null,null,\"AV\",\"AV\",null,null,null,null,null,\"Results\",null,1,1,1,null,null,null,1,1,1,null],[\"QNUT6890\",null,\"AV\",null,null,null,null,null,\"AV\",\"AV\",null,null,null,null,null,\"Results\",null,1,1,1,null,null,null,1,1,1,null],[\"QNUT6915\",null,\"AV\",null,null,null,null,null,\"AV\",\"AV\",null,null,null,null,null,\"Results\",null,1,1,1,null,null,null,1,1,1,null],[\"QNUT6916\",null,\"AV\",null,null,null,null,null,\"AV\",\"AV\",null,null,null,null,null,\"Results\",null,1,1,1,null,null,null,1,1,1,null],[\"QNUT6917\",null,\"AV\",null,null,null,null,null,\"AV\",\"AV\",null,null,null,null,null,\"Results\",null,1,1,1,null,null,null,1,1,1,null],[\"QNUT6918\",null,\"AV\",null,null,null,null,null,\"AV\",\"AV\",null,null,null,null,null,\"Results\",null,1,1,1,null,null,null,1,1,1,null],[\"QNUT6929\",null,\"AV\",null,null,null,null,null,\"AV\",\"AV\",null,null,null,null,null,\"Results\",null,1,1,1,null,null,null,1,1,1,null],[\"QNUT6930\",null,\"AV\",null,null,null,null,null,\"AV\",\"AV\",null,null,null,null,null,\"Results\",null,1,1,1,null,null,null,1,1,1,null],[\"QNUT6931\",null,\"AV\",null,null,null,null,null,\"AV\",\"AV\",null,null,null,null,null,\"Results\",null,1,1,1,null,null,null,1,1,1,null],[\"QNUT6932\",null,\"AV\",null,null,null,null,null,\"AV\",\"AV\",null,null,null,null,null,\"Results\",null,1,1,1,null,null,null,1,1,1,null],[\"QNUT6947\",null,\"AV\",null,null,null,null,null,\"AV\",\"AV\",null,null,null,null,null,\"Results\",null,1,1,1,null,null,null,1,1,1,null],[\"QNUT6948\",null,\"AV\",null,null,null,null,null,\"AV\",\"AV\",null,null,null,null,null,\"Results\",null,1,1,1,null,null,null,1,1,1,null],[\"QNUT6949\",null,\"AV\",null,null,null,null,null,\"AV\",\"AV\",null,null,null,null,null,\"Results\",null,1,1,1,null,null,null,1,1,1,null],[\"QNUT6950\",null,\"AV\",null,null,null,null,null,\"AV\",\"AV\",null,null,null,null,null,\"Results\",null,1,1,1,null,null,null,1,1,1,null],[\"QNUT6961\",null,\"AV\",null,null,null,null,null,\"AV\",\"AV\",null,null,null,null,null,\"Results\",null,1,1,1,null,null,null,1,1,1,null],[\"QNUT6962\",null,\"AV\",null,null,null,null,null,\"AV\",\"AV\",null,null,null,null,null,\"Results\",null,1,1,1,null,null,null,1,1,1,null],[\"QNUT6963\",null,\"AV\",null,null,null,null,null,\"AV\",\"AV\",null,null,null,null,null,\"Results\",null,1,1,1,null,null,null,1,1,1,null],[\"QNUT6964\",null,\"AV\",null,null,null,null,null,\"AV\",\"AV\",null,null,null,null,null,\"Results\",null,1,1,1,null,null,null,1,1,1,null],[\"QNUT6979\",null,\"AV\",null,null,null,null,null,\"AV\",\"AV\",null,null,null,null,null,\"Results\",null,1,1,1,null,null,null,1,1,1,null],[\"QNUT6980\",null,\"AV\",null,null,null,null,null,\"AV\",\"AV\",null,null,null,null,null,\"Results\",null,1,1,1,null,null,null,1,1,1,null],[\"QNUT6981\",null,\"AV\",null,null,null,null,null,\"AV\",\"AV\",null,null,null,null,null,\"Results\",null,1,1,1,null,null,null,1,1,1,null],[\"QNUT6982\",null,\"AV\",null,null,null,null,null,\"AV\",\"AV\",null,null,null,null,null,\"Results\",null,1,1,1,null,null,null,1,1,1,null],[\"QNUT7005\",null,\"AV\",null,null,null,null,null,\"AV\",\"AV\",null,null,null,null,null,\"Results\",null,1,1,1,null,null,null,1,1,1,null],[\"QNUT7006\",null,\"AV\",null,null,null,null,null,\"AV\",\"AV\",null,null,null,null,null,\"Results\",null,1,1,1,null,null,null,1,1,1,null],[\"QNUT7007\",null,\"AV\",null,null,null,null,null,\"AV\",\"AV\",null,null,null,null,null,\"Results\",null,1,1,1,null,null,null,1,1,1,null],[\"QNUT7008\",null,\"AV\",null,null,null,null,null,\"AV\",\"AV\",null,null,null,null,null,\"Results\",null,1,1,1,null,null,null,1,1,1,null],[\"QNUT7023\",null,\"AV\",null,null,null,null,null,\"AV\",\"AV\",null,null,null,null,null,\"Results\",null,1,1,1,null,null,null,1,1,1,null],[\"QNUT7024\",null,\"AV\",null,null,null,null,null,\"AV\",\"AV\",null,null,null,null,null,\"Results\",null,1,1,1,null,null,null,1,1,1,null],[\"QNUT7025\",null,\"AV\",null,null,null,null,null,\"AV\",\"AV\",null,null,null,null,null,\"Results\",null,1,1,1,null,null,null,1,1,1,null],[\"QNUT7026\",null,\"AV\",null,null,null,null,null,\"AV\",\"AV\",null,null,null,null,null,\"Results\",null,1,1,1,null,null,null,1,1,1,null],[\"QNUT7041\",null,\"AV\",null,null,null,null,null,\"AV\",\"AV\",null,null,null,null,null,\"Results\",null,1,1,1,null,null,null,1,1,1,null],[\"QNUT7042\",null,\"AV\",null,null,null,null,null,\"AV\",\"AV\",null,null,null,null,null,\"Results\",null,1,1,1,null,null,null,1,1,1,null],[\"QNUT7051\",null,\"AV\",null,null,null,null,null,\"AV\",\"AV\",null,null,null,null,null,\"Results\",null,1,1,1,null,null,null,1,1,1,null],[\"QNUT7052\",null,\"AV\",null,null,null,null,null,\"AV\",\"AV\",null,null,null,null,null,\"Results\",null,1,1,1,null,null,null,1,1,1,null],[\"QNUT7055\",null,\"AV\",null,null,null,null,null,\"AV\",\"AV\",null,null,null,null,null,\"Results\",null,1,1,1,null,null,null,1,1,1,null],[\"QNUT7056\",null,\"AV\",null,null,null,null,null,\"AV\",\"AV\",null,null,null,null,null,\"Results\",null,1,1,1,null,null,null,1,1,1,null],[\"QNUT7057\",null,\"AV\",null,null,null,null,null,\"AV\",\"AV\",null,null,null,null,null,\"Results\",null,1,1,1,null,null,null,1,1,1,null],[\"QNUT7058\",null,\"AV\",null,null,null,null,null,\"AV\",\"AV\",null,null,null,null,null,\"Results\",null,1,1,1,null,null,null,1,1,1,null],[\"QNUT7073\",null,\"AV\",null,null,null,null,null,\"AV\",\"AV\",null,null,null,null,null,\"Results\",null,1,1,1,null,null,null,1,1,1,null],[\"QNUT7074\",null,\"AV\",null,null,null,null,null,\"AV\",\"AV\",null,null,null,null,null,\"Results\",null,1,1,1,null,null,null,1,1,1,null],[\"QNUT7075\",null,\"AV\",null,null,null,null,null,\"AV\",\"AV\",null,null,null,null,null,\"Results\",null,1,1,1,null,null,null,1,1,1,null],[\"QNUT7076\",null,\"AV\",null,null,null,null,null,\"AV\",\"AV\",null,null,null,null,null,\"Results\",null,1,1,1,null,null,null,1,1,1,null],[\"QNUT7087\",null,\"AV\",null,null,null,null,null,\"AV\",\"AV\",null,null,null,null,null,\"Results\",null,1,1,1,null,null,null,1,1,1,null],[\"QNUT7088\",null,\"AV\",null,null,null,null,null,\"AV\",\"AV\",null,null,null,null,null,\"Results\",null,1,1,1,null,null,null,1,1,1,null],[\"QNUT7089\",null,\"AV\",null,null,null,null,null,\"AV\",\"AV\",null,null,null,null,null,\"Results\",null,1,1,1,null,null,null,1,1,1,null],[\"QNUT7090\",null,\"AV\",null,null,null,null,null,\"AV\",\"AV\",null,null,null,null,null,\"Results\",null,1,1,1,null,null,null,1,1,1,null],[\"QNUT7105\",null,\"AV\",null,null,null,null,null,\"AV\",\"AV\",null,null,null,null,null,\"Results\",null,1,1,1,null,null,null,1,1,1,null],[\"QNUT7106\",null,\"AV\",null,null,null,null,null,\"AV\",\"AV\",null,null,null,null,null,\"Results\",null,1,1,1,null,null,null,1,1,1,null],[\"QNUT7107\",null,\"AV\",null,null,null,null,null,\"AV\",\"AV\",null,null,null,null,null,\"Results\",null,1,1,1,null,null,null,1,1,1,null],[\"QNUT7108\",null,\"AV\",null,null,null,null,null,\"AV\",\"AV\",null,null,null,null,null,\"Results\",null,1,1,1,null,null,null,1,1,1,null],[\"QNUT7119\",null,\"AV\",null,null,null,null,null,\"AV\",\"AV\",null,null,null,null,null,\"Results\",null,1,1,1,null,null,null,1,1,1,null],[\"QNUT7122\",null,\"AV\",null,null,null,null,null,\"AV\",\"AV\",null,null,null,null,null,\"Results\",null,1,1,1,null,null,null,1,1,1,null],[\"QNUT7132\",null,\"AV\",null,null,null,null,null,\"AV\",\"AV\",null,null,null,null,null,\"Results\",null,1,1,1,null,null,null,1,1,1,null],[\"QNUT7133\",null,\"AV\",null,null,null,null,null,\"AV\",\"AV\",null,null,null,null,null,\"Results\",null,1,1,1,null,null,null,1,1,1,null],[\"QNUT7143\",null,\"AV\",null,null,null,null,null,\"AV\",\"AV\",null,null,null,null,null,\"Results\",null,1,1,1,null,null,null,1,1,1,null],[\"QNUT7144\",null,\"AV\",null,null,null,null,null,\"AV\",\"AV\",null,null,null,null,null,\"Results\",null,1,1,1,null,null,null,1,1,1,null],[\"QNUT7169\",null,\"AV\",null,null,null,null,null,\"AV\",\"AV\",null,null,null,null,null,\"Results\",null,1,1,1,null,null,null,1,1,1,null],[\"QNUT7170\",null,\"AV\",null,null,null,null,null,\"AV\",\"AV\",null,null,null,null,null,\"Results\",null,1,1,1,null,null,null,1,1,1,null],[\"QNUT7309\",null,\"AV\",null,null,null,null,null,\"AV\",\"AV\",null,null,null,null,null,\"Results\",null,1,1,1,null,null,null,1,1,1,null],[\"QNUT7310\",null,\"AV\",null,null,null,null,null,\"AV\",\"AV\",null,null,null,null,null,\"Results\",null,1,1,1,null,null,null,1,1,1,null],[\"QNUT7323\",null,\"AV\",null,null,null,null,null,\"AV\",\"AV\",null,null,null,null,null,\"Results\",null,1,1,1,null,null,null,1,1,1,null],[\"QNUT7324\",null,\"AV\",null,null,null,null,null,\"AV\",\"AV\",null,null,null,null,null,\"Results\",null,1,1,1,null,null,null,1,1,1,null],[\"QNUT7349\",null,\"AV\",null,null,null,null,null,\"AV\",\"AV\",null,null,null,null,null,\"Results\",null,1,1,1,null,null,null,1,1,1,null],[\"QNUT7350\",null,\"AV\",null,null,null,null,null,\"AV\",\"AV\",null,null,null,null,null,\"Results\",null,1,1,1,null,null,null,1,1,1,null],[\"QNUT7359\",null,\"AV\",null,null,null,null,null,\"AV\",\"AV\",null,null,null,null,null,\"Results\",null,1,1,1,null,null,null,1,1,1,null],[\"QNUT7360\",null,\"AV\",null,null,null,null,null,\"AV\",\"AV\",null,null,null,null,null,\"Results\",null,1,1,1,null,null,null,1,1,1,null],[\"QNUT7373\",null,\"AV\",null,null,null,null,null,\"AV\",\"AV\",null,null,null,null,null,\"Results\",null,1,1,1,null,null,null,1,1,1,null],[\"QNUT7374\",null,\"AV\",null,null,null,null,null,\"AV\",\"AV\",null,null,null,null,null,\"Results\",null,1,1,1,null,null,null,1,1,1,null],[\"QNUT7383\",null,\"AV\",null,null,null,null,null,\"AV\",\"AV\",null,null,null,null,null,\"Results\",null,1,1,1,null,null,null,1,1,1,\"BDL\"],[\"QNUT7384\",null,\"AV\",null,null,null,null,null,\"AV\",\"AV\",null,null,null,null,null,\"Results\",null,1,1,1,null,null,null,1,1,1,null],[\"QNUT7409\",null,\"AV\",null,null,null,null,null,\"AV\",\"AV\",null,null,null,null,null,\"Results\",null,1,1,1,null,null,null,1,1,1,null],[\"QNUT7410\",null,\"AV\",null,null,null,null,null,\"AV\",\"AV\",null,null,null,null,null,\"Results\",null,1,1,1,null,null,null,1,1,1,null],[\"QNUT7412\",null,\"AV\",null,null,null,null,null,\"AV\",\"AV\",null,null,null,null,null,\"Results\",null,1,1,1,null,null,null,1,1,1,null],[\"QNUT7413\",null,\"AV\",null,null,null,null,null,\"AV\",\"AV\",null,null,null,null,null,\"Results\",null,1,1,1,null,null,null,1,1,1,null],[\"QNUT7426\",null,\"AV\",null,null,null,null,null,\"AV\",\"AV\",null,null,null,null,null,\"Results\",null,1,1,1,null,null,null,1,1,1,null],[\"QNUT7427\",null,\"AV\",null,null,null,null,null,\"AV\",\"AV\",null,null,null,null,null,\"Results\",null,1,1,1,null,null,null,1,1,1,null],[\"QNUT7428\",null,\"AV\",null,null,null,null,null,\"AV\",\"AV\",null,null,null,null,null,\"Results\",null,1,1,1,null,null,null,1,1,1,null],[\"QNUT7429\",null,\"AV\",null,null,null,null,null,\"AV\",\"AV\",null,null,null,null,null,\"Results\",null,1,1,1,null,null,null,1,1,1,null],[\"QNUT8133\",null,\"AV\",null,null,null,null,null,\"AV\",\"AV\",null,null,null,null,null,\"Results\",null,1,1,1,null,null,null,1,1,1,null],[\"QNUT8134\",null,\"AV\",null,null,null,null,null,\"AV\",\"AV\",null,null,null,null,null,\"Results\",null,1,1,1,null,null,null,1,1,1,null],[\"QNUT7448\",null,\"AV\",null,null,null,null,null,\"AV\",\"AV\",null,null,null,null,null,\"Results\",null,1,1,1,null,null,null,1,1,1,null],[\"QNUT7449\",null,\"AV\",null,null,null,null,null,\"AV\",\"AV\",null,null,null,null,null,\"Results\",null,1,1,1,null,null,null,1,1,1,null],[\"QNUT8138\",null,\"AV\",null,null,null,null,null,\"AV\",\"AV\",null,null,null,null,null,\"Results\",null,1,1,1,null,null,null,1,1,1,null],[\"QNUT8139\",null,\"AV\",null,null,null,null,null,\"AV\",\"AV\",null,null,null,null,null,\"Results\",null,1,1,1,null,null,null,1,1,1,null],[\"QNUT8143\",null,\"AV\",null,null,null,null,null,\"AV\",\"AV\",null,null,null,null,null,\"Results\",null,1,1,1,null,null,null,1,1,1,null],[\"QNUT8144\",null,\"AV\",null,null,null,null,null,\"AV\",\"AV\",null,null,null,null,null,\"Results\",null,1,1,1,null,null,null,1,1,1,null],[\"QNUT7462\",null,\"AV\",null,null,null,null,null,\"AV\",\"AV\",null,null,null,null,null,\"Results\",null,1,1,1,null,null,null,1,1,1,null],[\"QNUT7463\",null,\"AV\",null,null,null,null,null,\"AV\",\"AV\",null,null,null,null,null,\"Results\",null,1,1,1,null,null,null,1,1,1,null],[\"QNUT7476\",null,\"AV\",null,null,null,null,null,\"AV\",\"AV\",null,null,null,null,null,\"Results\",null,1,1,1,null,null,null,1,1,1,null],[\"QNUT7477\",null,\"AV\",null,null,null,null,null,\"AV\",\"AV\",null,null,null,null,null,\"Results\",null,1,1,1,null,null,null,1,1,1,null],[\"QNUT7486\",null,\"AV\",null,null,null,null,null,\"AV\",\"AV\",null,null,null,null,null,\"Results\",null,1,1,1,null,null,null,1,1,1,null],[\"QNUT7487\",null,\"AV\",null,null,null,null,null,\"AV\",\"AV\",null,null,null,null,null,\"Results\",null,1,1,1,null,null,null,1,1,1,null],[\"QNUT7513\",null,\"AV\",null,null,null,null,null,\"AV\",\"AV\",null,null,null,null,null,\"Results\",null,1,1,1,null,null,null,1,1,1,null],[\"QNUT7512\",null,\"AV\",null,null,null,null,null,\"AV\",\"AV\",null,null,null,null,null,\"Results\",null,1,1,1,null,null,null,1,1,1,null],[\"QNUT7522\",null,\"AV\",null,null,null,null,null,\"AV\",\"AV\",null,null,null,null,null,\"Results\",null,1,1,1,null,null,null,1,1,1,null],[\"QNUT7523\",null,\"AV\",null,null,null,null,null,\"AV\",\"AV\",null,null,null,null,null,\"Results\",null,1,1,1,null,null,null,1,1,1,null],[\"QNUT7548\",null,\"AV\",null,null,null,null,null,\"AV\",\"AV\",null,null,null,null,null,\"Results\",null,1,1,1,null,null,null,1,1,1,null],[\"QNUT7549\",null,\"AV\",null,null,null,null,null,\"AV\",\"AV\",null,null,null,null,null,\"Results\",null,1,1,1,null,null,null,1,1,1,null],[\"QNUT7560\",null,\"AV\",null,null,null,null,null,\"AV\",\"AV\",null,null,null,null,null,\"Results\",null,1,1,1,null,null,null,1,1,1,null],[\"QNUT7561\",null,\"AV\",null,null,null,null,null,\"AV\",\"AV\",null,null,null,null,null,\"Results\",null,1,1,1,null,null,null,1,1,1,null],[\"QNUT7586\",null,\"AV\",null,null,null,null,null,\"AV\",\"AV\",null,null,null,null,null,\"Results\",null,1,1,1,null,null,null,1,1,1,null],[\"QNUT7587\",null,\"AV\",null,null,null,null,null,\"AV\",\"AV\",null,null,null,null,null,\"Results\",null,1,1,1,null,null,null,1,1,1,null],[\"QNUT7588\",null,\"AV\",null,null,null,null,null,\"AV\",\"AV\",null,null,null,null,null,\"Results\",null,1,1,1,null,null,null,1,1,1,null],[\"QNUT7589\",null,\"AV\",null,null,null,null,null,\"AV\",\"AV\",null,null,null,null,null,\"Results\",null,1,1,1,null,null,null,1,1,1,null],[\"QNUT7572\",null,\"AV\",null,null,null,null,null,\"AV\",\"AV\",null,null,null,null,null,\"Results\",null,1,1,1,null,null,null,1,1,1,null],[\"QNUT7573\",null,\"AV\",null,null,null,null,null,\"AV\",\"AV\",null,null,null,null,null,\"Results\",null,1,1,1,null,null,null,1,1,1,null],[\"QNUT7742\",null,\"AV\",null,null,null,null,null,\"AV\",\"AV\",null,null,null,null,null,\"Results\",null,1,1,1,null,null,null,1,1,1,null],[\"QNUT7743\",null,\"AV\",null,null,null,null,null,\"AV\",\"AV\",null,null,null,null,null,\"Results\",null,1,1,1,null,null,null,1,1,1,null],[\"QNUT7747\",null,\"AV\",null,null,null,null,null,\"AV\",\"AV\",null,null,null,null,null,\"Results\",null,1,1,1,null,null,null,1,1,1,null],[\"QNUT7748\",null,\"AV\",null,null,null,null,null,\"AV\",\"AV\",null,null,null,null,null,\"Results\",null,1,1,1,null,null,null,1,1,1,null],[\"QNUT7752\",null,\"AV\",null,null,null,null,null,\"AV\",\"AV\",null,null,null,null,null,\"Results\",null,1,1,1,null,null,null,1,1,1,null],[\"QNUT7753\",null,\"AV\",null,null,null,null,null,\"AV\",\"AV\",null,null,null,null,null,\"Results\",null,1,1,1,null,null,null,1,1,1,null],[\"QNUT8277\",null,\"AV\",null,null,null,null,null,\"AV\",\"AV\",null,null,null,null,null,\"Results\",null,1,1,1,null,null,null,1,1,1,null],[\"QNUT8278\",null,\"AV\",null,null,null,null,null,\"AV\",\"AV\",null,null,null,null,null,\"Results\",null,1,1,1,null,null,null,1,1,1,null],[\"QNUT8279\",null,\"AV\",null,null,null,null,null,\"AV\",\"AV\",null,null,null,null,null,\"Results\",null,1,1,1,null,null,null,1,1,1,null],[\"QNUT8280\",null,\"AV\",null,null,null,null,null,\"AV\",\"AV\",null,null,null,null,null,\"Results\",null,1,1,1,null,null,null,1,1,1,null],[\"QNUT8287\",null,\"AV\",null,null,null,null,null,\"AV\",\"AV\",null,null,null,null,null,\"Results\",null,1,1,1,null,null,null,1,1,1,null],[\"QNUT8288\",null,\"AV\",null,null,null,null,null,\"AV\",\"AV\",null,null,null,null,null,\"Results\",null,1,1,1,null,null,null,1,1,1,null],[\"QNUT8297\",null,\"AV\",null,null,null,null,null,\"AV\",\"AV\",null,null,null,null,null,\"Results\",null,1,1,1,null,null,null,1,1,1,null],[\"QNUT8298\",null,\"AV\",null,null,null,null,null,\"AV\",\"AV\",null,null,null,null,null,\"Not Available\",null,1,1,1,null,null,null,1,1,1,null],[\"QNUT8301\",null,\"AV\",null,null,null,null,null,\"AV\",\"AV\",null,null,null,null,null,\"Results\",null,1,1,1,null,null,null,1,1,1,null],[\"QNUT8302\",null,\"AV\",null,null,null,null,null,\"AV\",\"AV\",null,null,null,null,null,\"Results\",null,1,1,1,null,null,null,1,1,1,null],[\"QNUT8311\",null,\"AV\",null,null,null,null,null,\"AV\",\"AV\",null,null,null,null,null,\"Results\",null,1,1,1,null,null,null,1,1,1,null],[\"QNUT8312\",null,\"AV\",null,null,null,null,null,\"AV\",\"AV\",null,null,null,null,null,\"Results\",null,1,1,1,null,null,null,1,1,1,null],[\"QNUT8323\",null,\"AV\",null,null,null,null,null,\"AV\",\"AV\",null,null,null,null,null,\"Results\",null,1,1,1,null,null,null,1,1,1,null],[\"QNUT8324\",null,\"AV\",null,null,null,null,null,\"AV\",\"AV\",null,null,null,null,null,\"Results\",null,1,1,1,null,null,null,1,1,1,null],[\"QNUT8226\",null,\"AV\",null,null,null,null,null,\"AV\",\"AV\",null,null,null,null,null,\"Results\",null,1,1,1,null,null,null,1,1,1,null],[\"QNUT8227\",null,\"AV\",null,null,null,null,null,\"AV\",\"AV\",null,null,null,null,null,\"Results\",null,1,1,1,null,null,null,1,1,1,null],[\"QNUT8231\",null,\"AV\",null,null,null,null,null,\"AV\",\"AV\",null,null,null,null,null,\"Results\",null,1,1,1,null,null,null,1,1,1,null],[\"QNUT8232\",null,\"AV\",null,null,null,null,null,\"AV\",\"AV\",null,null,null,null,null,\"Results\",null,1,1,1,null,null,null,1,1,1,null],[\"QNUT8345\",null,\"AV\",null,null,null,null,null,\"AV\",\"AV\",null,null,null,null,null,\"Results\",null,1,1,1,null,null,null,1,1,1,null],[\"QNUT8346\",null,\"AV\",null,null,null,null,null,\"AV\",\"AV\",null,null,null,null,null,\"Results\",null,1,1,1,null,null,null,1,1,1,null],[\"QNUT8359\",null,\"AV\",null,null,null,null,null,\"AV\",\"AV\",null,null,null,null,null,\"Results\",null,1,1,1,null,null,null,1,1,1,null],[\"QNUT8360\",null,\"AV\",null,null,null,null,null,\"AV\",\"AV\",null,null,null,null,null,\"Results\",null,1,1,1,null,null,null,1,1,1,null],[\"QNUT8369\",null,\"AV\",null,null,null,null,null,\"AV\",\"AV\",null,null,null,null,null,\"Results\",null,1,1,1,null,null,null,1,1,1,null],[\"QNUT8370\",null,\"AV\",null,null,null,null,null,\"AV\",\"AV\",null,null,null,null,null,\"Results\",null,1,1,1,null,null,null,1,1,1,null],[\"QNUT8395\",null,\"AV\",null,null,null,null,null,\"AV\",\"AV\",null,null,null,null,null,\"Results\",null,1,1,1,null,null,null,1,1,1,null],[\"QNUT8396\",null,\"AV\",null,null,null,null,null,\"AV\",\"AV\",null,null,null,null,null,\"Results\",null,1,1,1,null,null,null,1,1,1,null],[\"QNUT8451\",null,\"AV\",null,null,null,null,null,\"AV\",\"AV\",null,null,null,null,null,\"Results\",null,1,1,1,null,null,null,1,1,1,null],[\"QNUT8452\",null,\"AV\",null,null,null,null,null,\"AV\",\"AV\",null,null,null,null,null,\"Results\",null,1,1,1,null,null,null,1,1,1,null],[\"QNUT8461\",null,\"AV\",null,null,null,null,null,\"AV\",\"AV\",null,null,null,null,null,\"Results\",null,1,1,1,null,null,null,1,1,1,null],[\"QNUT8462\",null,\"AV\",null,null,null,null,null,\"AV\",\"AV\",null,null,null,null,null,\"Results\",null,1,1,1,null,null,null,1,1,1,null],[\"QNUT8475\",null,\"AV\",null,null,null,null,null,\"AV\",\"AV\",null,null,null,null,null,\"Results\",null,1,1,1,null,null,null,1,1,1,null],[\"QNUT8476\",null,\"AV\",null,null,null,null,null,\"AV\",\"AV\",null,null,null,null,null,\"Results\",null,1,1,1,null,null,null,1,1,1,null],[\"QNUT8501\",null,\"AV\",null,null,null,null,null,\"AV\",\"AV\",null,null,null,null,null,\"Results\",null,1,1,1,null,null,null,1,1,1,null],[\"QNUT8502\",null,\"AV\",null,null,null,null,null,\"AV\",\"AV\",null,null,null,null,null,\"Results\",null,1,1,1,null,null,null,1,1,1,null],[\"QNUT8514\",null,\"AV\",null,null,null,null,null,\"AV\",\"AV\",null,null,null,null,null,\"Results\",null,1,1,1,null,null,null,1,1,1,null],[\"QNUT8515\",null,\"AV\",null,null,null,null,null,\"AV\",\"AV\",null,null,null,null,null,\"Results\",null,1,1,1,null,null,null,1,1,1,null],[\"QNUT8536\",null,\"AV\",null,null,null,null,null,\"AV\",\"AV\",null,null,null,null,null,\"Results\",null,1,1,1,null,null,null,1,1,1,null],[\"QNUT8537\",null,\"AV\",null,null,null,null,null,\"AV\",\"AV\",null,null,null,null,null,\"Results\",null,1,1,1,null,null,null,1,1,1,null],[\"QNUT8552\",null,\"AV\",null,null,null,null,null,\"AV\",\"AV\",null,null,null,null,null,\"Results\",null,1,1,1,null,null,null,1,1,1,null],[\"QNUT8553\",null,\"AV\",null,null,null,null,null,\"AV\",\"AV\",null,null,null,null,null,\"Results\",null,1,1,1,null,null,null,1,1,1,null],[\"QNUT8561\",null,\"AV\",null,null,null,null,null,\"AV\",\"AV\",null,null,null,null,null,\"Results\",null,1,1,1,null,null,null,1,1,1,null],[\"QNUT8560\",null,\"AV\",null,null,null,null,null,\"AV\",\"AV\",null,null,null,null,null,\"Results\",null,1,1,1,null,null,null,1,1,1,null],[\"QNUT8586\",null,\"AV\",null,null,null,null,null,\"AV\",\"AV\",null,null,null,null,null,\"Results\",null,1,1,1,null,null,null,1,1,1,null],[\"QNUT8587\",null,\"AV\",null,null,null,null,null,\"AV\",\"AV\",null,null,null,null,null,\"Results\",null,1,1,1,null,null,null,1,1,1,null],[\"QNUT8596\",null,\"AV\",null,null,null,null,null,\"AV\",\"AV\",null,null,null,null,null,\"Results\",null,1,1,1,null,null,null,1,1,1,null],[\"QNUT8597\",null,\"AV\",null,null,null,null,null,\"AV\",\"AV\",null,null,null,null,null,\"Results\",null,1,1,1,null,null,null,1,1,1,null],[\"QNUT8236\",null,\"AV\",null,null,null,null,null,\"AV\",\"AV\",null,null,null,null,null,\"Results\",null,1,1,1,null,null,null,1,1,1,null],[\"QNUT8237\",null,\"AV\",null,null,null,null,null,\"AV\",\"AV\",null,null,null,null,null,\"Results\",null,1,1,1,null,null,null,1,1,1,null],[\"QNUT8244\",null,\"AV\",null,null,null,null,null,\"AV\",\"AV\",null,null,null,null,null,\"Results\",null,1,1,1,null,null,null,1,1,1,null],[\"QNUT8246\",null,\"AV\",null,null,null,null,null,\"AV\",\"AV\",null,null,null,null,null,\"Results\",null,1,1,1,null,null,null,1,1,1,null],[\"QNUT8645\",null,\"AV\",null,null,null,null,null,\"AV\",\"AV\",null,null,null,null,null,\"Results\",null,1,1,1,null,null,null,1,1,1,null],[\"QNUT8646\",null,\"AV\",null,null,null,null,null,\"AV\",\"AV\",null,null,null,null,null,\"Results\",null,1,1,1,null,null,null,1,1,1,null],[\"QNUT8610\",null,\"AV\",null,null,null,null,null,\"AV\",\"AV\",null,null,null,null,null,\"Results\",null,1,1,1,null,null,null,1,1,1,null],[\"QNUT8611\",null,\"AV\",null,null,null,null,null,\"AV\",\"AV\",null,null,null,null,null,\"Results\",null,1,1,1,null,null,null,1,1,1,null],[\"QNUT8671\",null,\"AV\",null,null,null,null,null,\"AV\",\"AV\",null,null,null,null,null,\"Results\",null,1,1,1,null,null,null,1,1,1,null],[\"QNUT8672\",null,\"AV\",null,null,null,null,null,\"AV\",\"AV\",null,null,null,null,null,\"Results\",null,1,1,1,null,null,null,1,1,1,null],[\"QNUT8686\",null,\"AV\",null,null,null,null,null,\"AV\",\"AV\",null,null,null,null,null,\"Results\",null,1,1,1,null,null,null,1,1,1,null],[\"QNUT8687\",null,\"AV\",null,null,null,null,null,\"AV\",\"AV\",null,null,null,null,null,\"Results\",null,1,1,1,null,null,null,1,1,1,null],[\"QNUT8696\",null,\"AV\",null,null,null,null,null,\"AV\",\"AV\",null,null,null,null,null,\"Results\",null,1,1,1,null,null,null,1,1,1,null],[\"QNUT8697\",null,\"AV\",null,null,null,null,null,\"AV\",\"AV\",null,null,null,null,null,\"Results\",null,1,1,1,null,null,null,1,1,1,null],[\"QNUT8709\",null,\"AV\",null,null,null,null,null,\"AV\",\"AV\",null,null,null,null,null,\"Results\",null,1,1,1,null,null,null,1,1,1,null],[\"QNUT8710\",null,\"AV\",null,null,null,null,null,\"AV\",\"AV\",null,null,null,null,null,\"Results\",null,1,1,1,null,null,null,1,1,1,null],[\"QNUT8711\",null,\"AV\",null,null,null,null,null,\"AV\",\"AV\",null,null,null,null,null,\"Results\",null,1,1,1,null,null,null,1,1,1,null],[\"QNUT8712\",null,\"AV\",null,null,null,null,null,\"AV\",\"AV\",null,null,null,null,null,\"Results\",null,1,1,1,null,null,null,1,1,1,null],[\"QNUT8719\",null,\"AV\",null,null,null,null,null,\"AV\",\"AV\",null,null,null,null,null,\"Results\",null,1,1,1,null,null,null,1,1,1,null],[\"QNUT8720\",null,\"AV\",null,null,null,null,null,\"AV\",\"AV\",null,null,null,null,null,\"Results\",null,1,1,1,null,null,null,1,1,1,null],[\"QNUT8721\",null,\"AV\",null,null,null,null,null,\"AV\",\"AV\",null,null,null,null,null,\"Results\",null,1,1,1,null,null,null,1,1,1,null],[\"QNUT8722\",null,\"AV\",null,null,null,null,null,\"AV\",\"AV\",null,null,null,null,null,\"Results\",null,1,1,1,null,null,null,1,1,1,null],[\"QNUT8733\",null,\"AV\",null,null,null,null,null,\"AV\",\"AV\",null,null,null,null,null,\"Results\",null,1,1,1,null,null,null,1,1,1,null],[\"QNUT8734\",null,\"AV\",null,null,null,null,null,\"AV\",\"AV\",null,null,null,null,null,\"Results\",null,1,1,1,null,null,null,1,1,1,null],[\"QNUT8743\",null,\"AV\",null,null,null,null,null,\"AV\",\"AV\",null,null,null,null,null,\"Results\",null,1,1,1,null,null,null,1,1,1,null],[\"QNUT8744\",null,\"AV\",null,null,null,null,null,\"AV\",\"AV\",null,null,null,null,null,\"Results\",null,1,1,1,null,null,null,1,1,1,null],[\"QNUT8757\",null,\"AV\",null,null,null,null,null,\"AV\",\"AV\",null,null,null,null,null,\"Results\",null,1,1,1,null,null,null,1,1,1,null],[\"QNUT8758\",null,\"AV\",null,null,null,null,null,\"AV\",\"AV\",null,null,null,null,null,\"Results\",null,1,1,1,null,null,null,1,1,1,null],[\"QNUT8767\",null,\"AV\",null,null,null,null,null,\"AV\",\"AV\",null,null,null,null,null,\"Results\",null,1,1,1,null,null,null,1,1,1,null],[\"QNUT8768\",null,\"AV\",null,null,null,null,null,\"AV\",\"AV\",null,null,null,null,null,\"Results\",null,1,1,1,null,null,null,1,1,1,null],[\"QNUT8250\",null,\"AV\",null,null,null,null,null,\"AV\",\"AV\",null,null,null,null,null,\"Results\",null,1,1,1,null,null,null,1,1,1,null],[\"QNUT8251\",null,\"AV\",null,null,null,null,null,\"AV\",\"AV\",null,null,null,null,null,\"Results\",null,1,1,1,null,null,null,1,1,1,null],[\"QNUT8781\",null,\"AV\",null,null,null,null,null,\"AV\",\"AV\",null,null,null,null,null,\"Results\",null,1,1,1,null,null,null,1,1,1,null],[\"QNUT8782\",null,\"AV\",null,null,null,null,null,\"AV\",\"AV\",null,null,null,null,null,\"Results\",null,1,1,1,null,null,null,1,1,1,null],[\"QNUT8791\",null,\"AV\",null,null,null,null,null,\"AV\",\"AV\",null,null,null,null,null,\"Results\",null,1,1,1,null,null,null,1,1,1,null],[\"QNUT8792\",null,\"AV\",null,null,null,null,null,\"AV\",\"AV\",null,null,null,null,null,\"Results\",null,1,1,1,null,null,null,1,1,1,null],[\"QNUT8793\",null,\"AV\",null,null,null,null,null,\"AV\",\"AV\",null,null,null,null,null,\"Results\",null,1,1,1,null,null,null,1,1,1,null],[\"QNUT8794\",null,\"AV\",null,null,null,null,null,\"AV\",\"AV\",null,null,null,null,null,\"Results\",null,1,1,1,null,null,null,1,1,1,null],[\"QNUT8807\",null,\"AV\",null,null,null,null,null,\"AV\",\"AV\",null,null,null,null,null,\"Results\",null,1,1,1,null,null,null,1,1,1,null],[\"QNUT8808\",null,\"AV\",null,null,null,null,null,\"AV\",\"AV\",null,null,null,null,null,\"Results\",null,1,1,1,null,null,null,1,1,1,null],[\"QNUT8815\",null,\"AV\",null,null,null,null,null,\"AV\",\"AV\",null,null,null,null,null,\"Results\",null,1,1,1,null,null,null,1,1,1,null],[\"QNUT8816\",null,\"AV\",null,null,null,null,null,\"AV\",\"AV\",null,null,null,null,null,\"Results\",null,1,1,1,null,null,null,1,1,1,null],[\"QNUT8817\",null,\"AV\",null,null,null,null,null,\"AV\",\"AV\",null,null,null,null,null,\"Results\",null,1,1,1,null,null,null,1,1,1,null],[\"QNUT8818\",null,\"AV\",null,null,null,null,null,\"AV\",\"AV\",null,null,null,null,null,\"Results\",null,1,1,1,null,null,null,1,1,1,null],[\"QNUT8829\",null,\"AV\",null,null,null,null,null,\"AV\",\"AV\",null,null,null,null,null,\"Results\",null,1,1,1,null,null,null,1,1,1,null],[\"QNUT8830\",null,\"AV\",null,null,null,null,null,\"AV\",\"AV\",null,null,null,null,null,\"Results\",null,1,1,1,null,null,null,1,1,1,null],[\"QNUT8839\",null,\"AV\",null,null,null,null,null,\"AV\",\"AV\",null,null,null,null,null,\"Results\",null,1,1,1,null,null,null,1,1,1,null],[\"QNUT8840\",null,\"AV\",null,null,null,null,null,\"AV\",\"AV\",null,null,null,null,null,\"Results\",null,1,1,1,null,null,null,1,1,1,null],[\"QNUT8853\",null,\"AV\",null,null,null,null,null,\"AV\",\"AV\",null,null,null,null,null,\"Results\",null,1,1,1,null,null,null,1,1,1,null],[\"QNUT8854\",null,\"AV\",null,null,null,null,null,\"AV\",\"AV\",null,null,null,null,null,\"Results\",null,1,1,1,null,null,null,1,1,1,null],[\"QNUT8863\",null,\"AV\",null,null,null,null,null,\"AV\",\"AV\",null,null,null,null,null,\"Results\",null,1,1,1,null,null,null,1,1,1,null],[\"QNUT8864\",null,\"AV\",null,null,null,null,null,\"AV\",\"AV\",null,null,null,null,null,\"Results\",null,1,1,1,null,null,null,1,1,1,null],[\"QNUT8877\",null,\"AV\",null,null,null,null,null,\"AV\",\"AV\",null,null,null,null,null,\"Results\",null,1,1,1,null,null,null,1,1,1,null],[\"QNUT8878\",null,\"AV\",null,null,null,null,null,\"AV\",\"AV\",null,null,null,null,null,\"Results\",null,1,1,1,null,null,null,1,1,1,null],[\"QNUT8887\",null,\"AV\",null,null,null,null,null,\"AV\",\"AV\",null,null,null,null,null,\"Results\",null,1,1,1,null,null,null,1,1,1,null],[\"QNUT8888\",null,\"AV\",null,null,null,null,null,\"AV\",\"AV\",null,null,null,null,null,\"Results\",null,1,1,1,null,null,null,1,1,1,null]],\"hovertemplate\":\"sio2_flag=%{customdata[9]}<br>quality_level=Technicianm<br>time=%{x}<br>sio2=%{y}<br>hakai_id=%{customdata[0]}<br>nh4__flag=%{customdata[1]}<br>no2_no3_flag=%{customdata[2]}<br>tp_flag=%{customdata[3]}<br>tdp_flag=%{customdata[4]}<br>tn_flag=%{customdata[5]}<br>tdn_flag=%{customdata[6]}<br>srp_flag=%{customdata[7]}<br>po4_flag=%{customdata[8]}<br>po4pfilt_flag=%{customdata[10]}<br>no3nfilt_flag=%{customdata[11]}<br>po4punfl_flag=%{customdata[12]}<br>no3nunfl_flag=%{customdata[13]}<br>nh4nunfl_flag=%{customdata[14]}<br>row_flag=%{customdata[15]}<br>metadata_qc_flag=%{customdata[16]}<br>no2_no3_um_qartod_gross_range_test=%{customdata[17]}<br>po4_qartod_gross_range_test=%{customdata[18]}<br>sio2_qartod_gross_range_test=%{customdata[19]}<br>no2_no3_um_qartod_spike_test=%{customdata[20]}<br>po4_qartod_spike_test=%{customdata[21]}<br>sio2_qartod_spike_test=%{customdata[22]}<br>no2_no3_um_qartod_aggregate=%{customdata[23]}<br>po4_qartod_aggregate=%{customdata[24]}<br>sio2_qartod_aggregate=%{customdata[25]}<br>no2_no3_um_flag=%{customdata[26]}<extra></extra>\",\"legendgroup\":\"AV, Technicianm\",\"line\":{\"color\":\"#2ECC40\",\"dash\":\"solid\"},\"marker\":{\"symbol\":\"diamond\"},\"mode\":\"markers+lines\",\"name\":\"AV, Technicianm\",\"orientation\":\"v\",\"showlegend\":true,\"x\":[\"2020-06-25T16:34:00\",\"2020-06-25T16:34:00\",\"2020-06-25T16:34:00\",\"2020-06-25T16:34:00\",\"2020-06-30T16:47:00\",\"2020-06-30T16:47:00\",\"2020-06-30T16:47:00\",\"2020-06-30T16:47:00\",\"2020-07-09T16:46:00\",\"2020-07-09T16:46:00\",\"2020-07-09T16:46:00\",\"2020-07-09T16:46:00\",\"2020-07-15T16:35:42\",\"2020-07-15T16:35:42\",\"2020-07-15T16:35:42\",\"2020-07-15T16:35:42\",\"2020-07-22T16:41:42\",\"2020-07-22T16:41:42\",\"2020-07-22T16:41:42\",\"2020-07-22T16:41:42\",\"2020-07-29T16:32:46\",\"2020-07-29T16:32:46\",\"2020-07-29T16:32:46\",\"2020-07-29T16:32:46\",\"2020-08-04T17:17:07\",\"2020-08-04T17:17:07\",\"2020-08-04T17:17:07\",\"2020-08-04T17:17:07\",\"2020-08-13T16:45:40\",\"2020-08-13T16:45:40\",\"2020-08-13T16:45:40\",\"2020-08-13T16:45:40\",\"2020-08-19T16:34:00\",\"2020-08-19T16:34:00\",\"2020-08-19T16:34:00\",\"2020-08-19T16:34:00\",\"2020-08-26T17:42:00\",\"2020-08-26T17:42:00\",\"2020-08-26T17:42:00\",\"2020-08-26T17:42:00\",\"2020-09-01T16:41:00\",\"2020-09-01T16:41:00\",\"2020-09-01T16:41:00\",\"2020-09-01T17:07:00\",\"2020-09-10T16:30:00\",\"2020-09-10T16:30:00\",\"2020-09-10T16:30:00\",\"2020-09-10T16:30:00\",\"2020-09-16T17:32:00\",\"2020-09-16T17:32:00\",\"2020-09-16T17:32:00\",\"2020-09-16T17:32:00\",\"2020-09-22T16:42:00\",\"2020-09-22T16:42:00\",\"2020-09-22T16:42:00\",\"2020-09-22T16:42:00\",\"2020-09-29T16:45:00\",\"2020-09-29T16:45:00\",\"2020-09-29T16:45:00\",\"2020-09-29T16:45:00\",\"2020-10-08T16:45:00\",\"2020-10-08T16:45:00\",\"2020-10-08T16:45:00\",\"2020-10-08T16:45:00\",\"2020-10-14T16:39:00\",\"2020-10-14T16:39:00\",\"2020-10-14T16:39:00\",\"2020-10-14T16:39:00\",\"2020-10-20T16:50:00\",\"2020-10-20T16:50:00\",\"2020-10-20T16:50:00\",\"2020-10-20T16:50:00\",\"2020-10-30T18:27:00\",\"2020-10-30T18:27:00\",\"2020-10-30T18:27:00\",\"2020-10-30T18:27:00\",\"2020-11-05T17:50:00\",\"2020-11-05T17:50:00\",\"2020-11-05T17:50:00\",\"2020-11-05T17:50:00\",\"2020-11-10T17:46:00\",\"2020-11-10T17:46:00\",\"2020-11-10T17:46:00\",\"2020-11-10T17:46:00\",\"2020-11-19T18:03:00\",\"2020-11-19T18:03:00\",\"2020-11-19T18:03:00\",\"2020-11-19T18:03:00\",\"2020-12-01T18:06:00\",\"2020-12-01T18:06:00\",\"2020-12-01T18:06:00\",\"2020-12-01T18:06:00\",\"2020-12-08T18:12:00\",\"2020-12-08T18:12:00\",\"2020-12-08T18:12:00\",\"2020-12-08T18:12:00\",\"2020-12-17T18:07:00\",\"2020-12-17T18:07:00\",\"2020-12-17T18:07:00\",\"2020-12-17T18:07:00\",\"2021-01-06T18:22:00\",\"2021-01-06T18:22:00\",\"2021-01-06T18:22:00\",\"2021-01-06T18:22:00\",\"2021-01-13T18:35:00\",\"2021-01-13T18:35:00\",\"2021-01-13T18:35:00\",\"2021-01-13T18:35:00\",\"2021-01-20T17:53:00\",\"2021-01-20T17:53:00\",\"2021-01-20T17:53:00\",\"2021-01-20T17:53:00\",\"2021-01-27T17:56:00\",\"2021-01-27T17:56:00\",\"2021-01-27T17:56:00\",\"2021-01-27T17:56:00\",\"2021-02-04T17:34:00\",\"2021-02-04T17:34:00\",\"2021-02-10T17:44:00\",\"2021-02-10T17:44:00\",\"2021-02-19T17:20:00\",\"2021-02-19T17:20:00\",\"2021-02-23T17:39:00\",\"2021-02-23T17:39:00\",\"2021-03-09T17:20:00\",\"2021-03-09T17:20:00\",\"2021-03-16T16:46:00\",\"2021-03-16T16:50:00\",\"2021-03-26T16:48:00\",\"2021-03-26T16:48:00\",\"2021-03-30T16:33:00\",\"2021-03-30T16:33:00\",\"2021-04-05T16:54:00\",\"2021-04-05T16:54:00\",\"2021-04-14T17:08:00\",\"2021-04-14T17:08:00\",\"2021-04-19T17:58:00\",\"2021-04-19T17:58:00\",\"2021-04-26T17:24:00\",\"2021-04-26T17:24:00\",\"2021-05-04T17:08:00\",\"2021-05-04T17:08:00\",\"2021-05-04T17:08:00\",\"2021-05-04T17:08:00\",\"2021-05-18T20:39:00\",\"2021-05-18T20:39:00\",\"2021-05-19T17:17:00\",\"2021-05-19T17:17:00\",\"2021-05-19T19:16:00\",\"2021-05-19T19:16:00\",\"2021-05-20T16:40:00\",\"2021-05-20T16:40:00\",\"2021-05-28T16:59:00\",\"2021-05-28T16:59:00\",\"2021-06-01T16:45:00\",\"2021-06-01T16:45:00\",\"2021-06-09T17:06:00\",\"2021-06-09T17:06:00\",\"2021-06-15T16:42:00\",\"2021-06-15T16:55:00\",\"2021-06-22T16:51:00\",\"2021-06-22T16:51:00\",\"2021-06-28T16:26:00\",\"2021-06-28T16:26:00\",\"2021-07-06T16:53:00\",\"2021-07-06T16:53:00\",\"2021-07-13T16:48:00\",\"2021-07-13T16:48:00\",\"2021-07-13T16:48:00\",\"2021-07-13T16:48:00\",\"2021-07-20T16:56:00\",\"2021-07-20T16:56:00\",\"2021-07-20T16:57:00\",\"2021-07-20T16:57:00\",\"2021-07-21T16:23:00\",\"2021-07-21T16:23:00\",\"2021-07-22T16:30:00\",\"2021-07-22T16:30:00\",\"2021-07-27T16:32:00\",\"2021-07-27T16:32:00\",\"2021-07-27T16:32:00\",\"2021-07-27T16:32:00\",\"2021-08-03T17:12:00\",\"2021-08-03T17:12:00\",\"2021-08-03T17:12:00\",\"2021-08-03T17:12:00\",\"2021-08-10T16:24:00\",\"2021-08-10T16:24:00\",\"2021-08-17T16:49:00\",\"2021-08-17T16:49:00\",\"2021-08-24T16:41:00\",\"2021-08-24T16:41:00\",\"2021-09-01T17:12:00\",\"2021-09-01T17:12:00\",\"2021-09-02T16:48:00\",\"2021-09-02T16:48:00\",\"2021-09-02T17:20:00\",\"2021-09-02T17:20:00\",\"2021-09-08T16:17:00\",\"2021-09-08T16:17:00\",\"2021-09-21T16:53:00\",\"2021-09-21T16:53:00\",\"2021-09-28T16:53:00\",\"2021-09-28T16:53:00\",\"2021-10-05T16:39:00\",\"2021-10-05T16:39:00\",\"2021-10-19T16:38:00\",\"2021-10-19T16:38:00\",\"2021-10-28T16:22:00\",\"2021-10-28T16:22:00\",\"2021-11-10T17:11:00\",\"2021-11-10T17:11:00\",\"2021-11-17T17:51:00\",\"2021-11-17T17:51:00\",\"2021-11-26T17:46:00\",\"2021-11-26T17:46:00\",\"2021-11-29T17:36:00\",\"2021-11-29T17:36:00\",\"2021-12-08T17:47:00\",\"2021-12-08T17:47:00\",\"2021-12-14T17:36:00\",\"2021-12-14T17:36:00\",\"2022-01-05T17:45:00\",\"2022-01-05T17:45:00\",\"2022-01-13T18:45:00\",\"2022-01-13T18:45:00\",\"2022-01-15T18:18:00\",\"2022-01-15T18:18:00\",\"2022-01-17T17:54:00\",\"2022-01-17T17:54:00\",\"2022-01-24T17:35:00\",\"2022-01-24T17:35:00\",\"2022-02-01T17:36:00\",\"2022-02-01T17:36:00\",\"2022-02-08T18:01:00\",\"2022-02-08T18:01:00\",\"2022-02-18T17:40:00\",\"2022-02-18T17:40:00\",\"2022-02-24T17:37:00\",\"2022-02-24T17:37:00\",\"2022-02-24T17:37:00\",\"2022-02-24T17:37:00\",\"2022-03-03T17:32:00\",\"2022-03-03T17:32:00\",\"2022-03-03T17:32:00\",\"2022-03-03T17:32:00\",\"2022-03-08T17:44:00\",\"2022-03-08T17:44:00\",\"2022-03-15T18:07:00\",\"2022-03-15T18:07:00\",\"2022-03-24T16:38:00\",\"2022-03-24T16:38:00\",\"2022-03-29T16:38:00\",\"2022-03-29T16:38:00\",\"2022-03-30T16:50:00\",\"2022-03-30T16:50:00\",\"2022-04-07T16:20:00\",\"2022-04-07T16:20:00\",\"2022-04-13T16:28:00\",\"2022-04-13T16:28:00\",\"2022-04-13T16:28:00\",\"2022-04-13T16:28:00\",\"2022-04-21T16:13:00\",\"2022-04-21T16:13:00\",\"2022-04-26T16:30:00\",\"2022-04-26T16:30:00\",\"2022-04-26T16:30:00\",\"2022-04-26T16:30:00\",\"2022-05-03T16:36:00\",\"2022-05-03T16:36:00\",\"2022-05-10T16:27:00\",\"2022-05-10T16:27:00\",\"2022-05-17T16:21:00\",\"2022-05-17T16:21:00\",\"2022-05-24T16:37:00\",\"2022-05-24T16:37:00\",\"2022-05-31T16:38:00\",\"2022-05-31T16:38:00\",\"2022-06-07T16:43:00\",\"2022-06-07T16:43:00\"],\"xaxis\":\"x\",\"y\":[32.8522694802657,38.78381313304445,39.34390394143736,39.255246289345145,43.31382064965265,51.82421313894633,51.54062101766417,51.97831637428388,37.77100380574749,35.55904374892183,35.236858406839104,36.83489705036661,35.20534279259624,41.176027948444464,40.9424678538896,38.853975630549954,45.19715008054869,47.2593666296651,48.26910663854751,49.5746579771321,15.716576372892062,37.02182221406557,36.65910385854043,36.87988966821594,28.60142107864751,25.218377503463078,25.608017037743213,25.897400372942194,36.438490617920344,48.38732535579287,47.28361936001932,48.67254575063427,14.840898221857978,9.991023598186882,10.134335868936729,9.941194689213884,34.640920276362756,34.640920276362756,35.67870783685716,35.091172852501984,42.212244128031,43.220239324245256,43.605186989278316,32.81808512013571,10.404556576649535,23.828999750349784,23.62922214579287,23.762942883562207,22.56936104344388,22.30514701884145,22.141466904474743,22.04957259177593,27.231860585021636,27.570367280432674,26.97074384009454,27.23402346071227,36.97793883323212,35.35453645969696,34.942996040990195,36.132658760631244,39.627342294374685,48.0071036025736,46.69074714152082,42.302273304934104,35.30087579217612,34.460552015342465,36.18610317697854,35.4254058713936,40.62435707589948,48.31093847080306,47.71142530966901,49.449371957656936,45.535248751438026,45.02790733307408,44.34787721316885,44.10837632385446,43.58517293186188,41.847896280087646,44.019776056715074,42.62897480499636,50.982885029779744,53.868313958164556,50.98136817467478,51.05802495654105,49.746558005051426,50.446266278801524,48.95613660898537,49.632344701669616,45.62757258509255,46.33479496829583,46.66939487847174,48.23802687310647,48.24764527664499,47.939364529537414,48.785090818245585,49.4918686516609,49.6287137050769,52.38992457852337,53.066996143794576,51.082921259265454,52.57995010196028,54.45069228225628,52.0575993780504,52.930264309845256,53.574493538504434,53.539959849162635,53.81768582449814,51.55557674477428,55.2673501061266,55.75755440177252,54.54943596236357,56.195078413800594,59.3112221803609,53.04896900581372,54.90474806980585,55.09512914356444,50.82581541465245,51.301555382144066,54.266991698989216,55.38966247717852,53.52141495446322,51.285104159153,45.970977292695565,47.159479810700134,50.85788714114068,53.405039152482956,50.67421060597054,51.706400426652515,43.082928949075914,43.12443738111201,42.46982668039709,42.604176212820796,21.650048535048747,23.343268479036553,4.410806362118567,6.701553035344721,1.192,5.955,19.93,36.299,16.234,18.013,18.019,17.997,40.85205805266441,45.760535545778374,35.231,42.534,32.552954562333646,36.2239522447891,43.35852263072517,45.63636349797965,6.832,6.716,8.172,8.172,10.42,12.745,14.976,15.194,35.329,51.838,21.38,30.944,23.116,43.409,22.586,22.107,22.154,37.83,14.086,13.522,13.985,13.485,13.878,20.895,15.41,33.232,17.535,40.826,40.78,40.705,40.053,45.908,45.066,45.908,10.443,34.49,36.135,35.946,27.752,49.265,2.837,28.064,7.84,33.458,21.62,36.245,17.411,26.487,31.924,32.493,38.246,38.945,36.216,38.886,44.056,45.245,47.002,47.323,46.87809756367056,47.901635506483366,47.893106505116975,50.80230224350199,49.02850855339121,48.800673352872934,49.96855687687094,49.52511464996016,50.823422913271074,49.513475411094184,50.78776936380952,50.08234655401299,51.63030695780815,52.06417570116418,51.822042674537194,50.729754382403506,51.843516087902756,52.29029155313382,52.934747008125,51.55313325690703,47.632689482707164,49.68780741865628,52.39307966735364,50.548138584808235,53.81057377286924,54.82878218158292,50.57561994949182,53.76637343970413,50.85326318826329,52.58214519706032,52.066410656235746,51.51198690127783,46.68055590361664,47.593944991661786,46.674392390333836,47.514762846815835,48.63559576209989,47.952514428538905,48.459343869883554,47.86974032727027,47.92191602186267,46.059132460189595,47.62575465090562,50.4223300843239,48.169957743972844,51.86786581198919,45.71175670307864,49.07782663598515,41.51661206555184,41.99129311029538,42.385740651958486,39.68979733227476,29.88864504306338,33.056260931515375,16.4002237640617,16.402227964376266,16.324072860106376,23.179891441014824,4.1708388196962884,10.125850835877712,9.050290914833896,29.872869280991644,12.50849408494536,15.547285889816882,13.02847095348612,21.53277860557152,18.92875659966793,19.25107415970135,14.90984040611499,16.670228095801747],\"yaxis\":\"y\",\"type\":\"scatter\"},{\"customdata\":[[\"QM3\",null,\"MV\",null,null,null,null,null,\"MV\",\"MV\",null,null,null,null,null,\"Not Available\",null,9,9,9,null,null,null,9,9,9,null],[\"QM814\",null,\"MV\",null,null,null,null,null,\"MV\",\"MV\",null,null,null,null,null,\"Not Available\",null,9,9,9,null,null,null,9,9,9,null],[\"QM815\",null,\"MV\",null,null,null,null,null,\"MV\",\"MV\",null,null,null,null,null,\"Not Available\",null,9,9,9,null,null,null,9,9,9,null],[\"QM832\",null,\"MV\",null,null,null,null,null,\"MV\",\"MV\",null,null,null,null,null,\"Not Available\",null,9,9,9,null,null,null,9,9,9,null]],\"hovertemplate\":\"sio2_flag=%{customdata[9]}<br>quality_level=Technicianmr<br>time=%{x}<br>sio2=%{y}<br>hakai_id=%{customdata[0]}<br>nh4__flag=%{customdata[1]}<br>no2_no3_flag=%{customdata[2]}<br>tp_flag=%{customdata[3]}<br>tdp_flag=%{customdata[4]}<br>tn_flag=%{customdata[5]}<br>tdn_flag=%{customdata[6]}<br>srp_flag=%{customdata[7]}<br>po4_flag=%{customdata[8]}<br>po4pfilt_flag=%{customdata[10]}<br>no3nfilt_flag=%{customdata[11]}<br>po4punfl_flag=%{customdata[12]}<br>no3nunfl_flag=%{customdata[13]}<br>nh4nunfl_flag=%{customdata[14]}<br>row_flag=%{customdata[15]}<br>metadata_qc_flag=%{customdata[16]}<br>no2_no3_um_qartod_gross_range_test=%{customdata[17]}<br>po4_qartod_gross_range_test=%{customdata[18]}<br>sio2_qartod_gross_range_test=%{customdata[19]}<br>no2_no3_um_qartod_spike_test=%{customdata[20]}<br>po4_qartod_spike_test=%{customdata[21]}<br>sio2_qartod_spike_test=%{customdata[22]}<br>no2_no3_um_qartod_aggregate=%{customdata[23]}<br>po4_qartod_aggregate=%{customdata[24]}<br>sio2_qartod_aggregate=%{customdata[25]}<br>no2_no3_um_flag=%{customdata[26]}<extra></extra>\",\"legendgroup\":\"MV, Technicianmr\",\"line\":{\"color\":\"#FFDC00\",\"dash\":\"solid\"},\"marker\":{\"symbol\":\"circle\"},\"mode\":\"markers\",\"name\":\"MV, Technicianmr\",\"orientation\":\"v\",\"showlegend\":true,\"x\":[\"2016-02-09T18:45:41\",\"2018-04-04T18:15:50\",\"2018-04-04T18:15:50\",\"2019-06-20T16:06:40\"],\"xaxis\":\"x\",\"y\":[null,null,null,null],\"yaxis\":\"y\",\"type\":\"scatter\"}],                        {\"template\":{\"data\":{\"bar\":[{\"error_x\":{\"color\":\"#2a3f5f\"},\"error_y\":{\"color\":\"#2a3f5f\"},\"marker\":{\"line\":{\"color\":\"#E5ECF6\",\"width\":0.5},\"pattern\":{\"fillmode\":\"overlay\",\"size\":10,\"solidity\":0.2}},\"type\":\"bar\"}],\"barpolar\":[{\"marker\":{\"line\":{\"color\":\"#E5ECF6\",\"width\":0.5},\"pattern\":{\"fillmode\":\"overlay\",\"size\":10,\"solidity\":0.2}},\"type\":\"barpolar\"}],\"carpet\":[{\"aaxis\":{\"endlinecolor\":\"#2a3f5f\",\"gridcolor\":\"white\",\"linecolor\":\"white\",\"minorgridcolor\":\"white\",\"startlinecolor\":\"#2a3f5f\"},\"baxis\":{\"endlinecolor\":\"#2a3f5f\",\"gridcolor\":\"white\",\"linecolor\":\"white\",\"minorgridcolor\":\"white\",\"startlinecolor\":\"#2a3f5f\"},\"type\":\"carpet\"}],\"choropleth\":[{\"colorbar\":{\"outlinewidth\":0,\"ticks\":\"\"},\"type\":\"choropleth\"}],\"contour\":[{\"colorbar\":{\"outlinewidth\":0,\"ticks\":\"\"},\"colorscale\":[[0.0,\"#0d0887\"],[0.1111111111111111,\"#46039f\"],[0.2222222222222222,\"#7201a8\"],[0.3333333333333333,\"#9c179e\"],[0.4444444444444444,\"#bd3786\"],[0.5555555555555556,\"#d8576b\"],[0.6666666666666666,\"#ed7953\"],[0.7777777777777778,\"#fb9f3a\"],[0.8888888888888888,\"#fdca26\"],[1.0,\"#f0f921\"]],\"type\":\"contour\"}],\"contourcarpet\":[{\"colorbar\":{\"outlinewidth\":0,\"ticks\":\"\"},\"type\":\"contourcarpet\"}],\"heatmap\":[{\"colorbar\":{\"outlinewidth\":0,\"ticks\":\"\"},\"colorscale\":[[0.0,\"#0d0887\"],[0.1111111111111111,\"#46039f\"],[0.2222222222222222,\"#7201a8\"],[0.3333333333333333,\"#9c179e\"],[0.4444444444444444,\"#bd3786\"],[0.5555555555555556,\"#d8576b\"],[0.6666666666666666,\"#ed7953\"],[0.7777777777777778,\"#fb9f3a\"],[0.8888888888888888,\"#fdca26\"],[1.0,\"#f0f921\"]],\"type\":\"heatmap\"}],\"heatmapgl\":[{\"colorbar\":{\"outlinewidth\":0,\"ticks\":\"\"},\"colorscale\":[[0.0,\"#0d0887\"],[0.1111111111111111,\"#46039f\"],[0.2222222222222222,\"#7201a8\"],[0.3333333333333333,\"#9c179e\"],[0.4444444444444444,\"#bd3786\"],[0.5555555555555556,\"#d8576b\"],[0.6666666666666666,\"#ed7953\"],[0.7777777777777778,\"#fb9f3a\"],[0.8888888888888888,\"#fdca26\"],[1.0,\"#f0f921\"]],\"type\":\"heatmapgl\"}],\"histogram\":[{\"marker\":{\"pattern\":{\"fillmode\":\"overlay\",\"size\":10,\"solidity\":0.2}},\"type\":\"histogram\"}],\"histogram2d\":[{\"colorbar\":{\"outlinewidth\":0,\"ticks\":\"\"},\"colorscale\":[[0.0,\"#0d0887\"],[0.1111111111111111,\"#46039f\"],[0.2222222222222222,\"#7201a8\"],[0.3333333333333333,\"#9c179e\"],[0.4444444444444444,\"#bd3786\"],[0.5555555555555556,\"#d8576b\"],[0.6666666666666666,\"#ed7953\"],[0.7777777777777778,\"#fb9f3a\"],[0.8888888888888888,\"#fdca26\"],[1.0,\"#f0f921\"]],\"type\":\"histogram2d\"}],\"histogram2dcontour\":[{\"colorbar\":{\"outlinewidth\":0,\"ticks\":\"\"},\"colorscale\":[[0.0,\"#0d0887\"],[0.1111111111111111,\"#46039f\"],[0.2222222222222222,\"#7201a8\"],[0.3333333333333333,\"#9c179e\"],[0.4444444444444444,\"#bd3786\"],[0.5555555555555556,\"#d8576b\"],[0.6666666666666666,\"#ed7953\"],[0.7777777777777778,\"#fb9f3a\"],[0.8888888888888888,\"#fdca26\"],[1.0,\"#f0f921\"]],\"type\":\"histogram2dcontour\"}],\"mesh3d\":[{\"colorbar\":{\"outlinewidth\":0,\"ticks\":\"\"},\"type\":\"mesh3d\"}],\"parcoords\":[{\"line\":{\"colorbar\":{\"outlinewidth\":0,\"ticks\":\"\"}},\"type\":\"parcoords\"}],\"pie\":[{\"automargin\":true,\"type\":\"pie\"}],\"scatter\":[{\"marker\":{\"colorbar\":{\"outlinewidth\":0,\"ticks\":\"\"}},\"type\":\"scatter\"}],\"scatter3d\":[{\"line\":{\"colorbar\":{\"outlinewidth\":0,\"ticks\":\"\"}},\"marker\":{\"colorbar\":{\"outlinewidth\":0,\"ticks\":\"\"}},\"type\":\"scatter3d\"}],\"scattercarpet\":[{\"marker\":{\"colorbar\":{\"outlinewidth\":0,\"ticks\":\"\"}},\"type\":\"scattercarpet\"}],\"scattergeo\":[{\"marker\":{\"colorbar\":{\"outlinewidth\":0,\"ticks\":\"\"}},\"type\":\"scattergeo\"}],\"scattergl\":[{\"marker\":{\"colorbar\":{\"outlinewidth\":0,\"ticks\":\"\"}},\"type\":\"scattergl\"}],\"scattermapbox\":[{\"marker\":{\"colorbar\":{\"outlinewidth\":0,\"ticks\":\"\"}},\"type\":\"scattermapbox\"}],\"scatterpolar\":[{\"marker\":{\"colorbar\":{\"outlinewidth\":0,\"ticks\":\"\"}},\"type\":\"scatterpolar\"}],\"scatterpolargl\":[{\"marker\":{\"colorbar\":{\"outlinewidth\":0,\"ticks\":\"\"}},\"type\":\"scatterpolargl\"}],\"scatterternary\":[{\"marker\":{\"colorbar\":{\"outlinewidth\":0,\"ticks\":\"\"}},\"type\":\"scatterternary\"}],\"surface\":[{\"colorbar\":{\"outlinewidth\":0,\"ticks\":\"\"},\"colorscale\":[[0.0,\"#0d0887\"],[0.1111111111111111,\"#46039f\"],[0.2222222222222222,\"#7201a8\"],[0.3333333333333333,\"#9c179e\"],[0.4444444444444444,\"#bd3786\"],[0.5555555555555556,\"#d8576b\"],[0.6666666666666666,\"#ed7953\"],[0.7777777777777778,\"#fb9f3a\"],[0.8888888888888888,\"#fdca26\"],[1.0,\"#f0f921\"]],\"type\":\"surface\"}],\"table\":[{\"cells\":{\"fill\":{\"color\":\"#EBF0F8\"},\"line\":{\"color\":\"white\"}},\"header\":{\"fill\":{\"color\":\"#C8D4E3\"},\"line\":{\"color\":\"white\"}},\"type\":\"table\"}]},\"layout\":{\"annotationdefaults\":{\"arrowcolor\":\"#2a3f5f\",\"arrowhead\":0,\"arrowwidth\":1},\"autotypenumbers\":\"strict\",\"coloraxis\":{\"colorbar\":{\"outlinewidth\":0,\"ticks\":\"\"}},\"colorscale\":{\"diverging\":[[0,\"#8e0152\"],[0.1,\"#c51b7d\"],[0.2,\"#de77ae\"],[0.3,\"#f1b6da\"],[0.4,\"#fde0ef\"],[0.5,\"#f7f7f7\"],[0.6,\"#e6f5d0\"],[0.7,\"#b8e186\"],[0.8,\"#7fbc41\"],[0.9,\"#4d9221\"],[1,\"#276419\"]],\"sequential\":[[0.0,\"#0d0887\"],[0.1111111111111111,\"#46039f\"],[0.2222222222222222,\"#7201a8\"],[0.3333333333333333,\"#9c179e\"],[0.4444444444444444,\"#bd3786\"],[0.5555555555555556,\"#d8576b\"],[0.6666666666666666,\"#ed7953\"],[0.7777777777777778,\"#fb9f3a\"],[0.8888888888888888,\"#fdca26\"],[1.0,\"#f0f921\"]],\"sequentialminus\":[[0.0,\"#0d0887\"],[0.1111111111111111,\"#46039f\"],[0.2222222222222222,\"#7201a8\"],[0.3333333333333333,\"#9c179e\"],[0.4444444444444444,\"#bd3786\"],[0.5555555555555556,\"#d8576b\"],[0.6666666666666666,\"#ed7953\"],[0.7777777777777778,\"#fb9f3a\"],[0.8888888888888888,\"#fdca26\"],[1.0,\"#f0f921\"]]},\"colorway\":[\"#636efa\",\"#EF553B\",\"#00cc96\",\"#ab63fa\",\"#FFA15A\",\"#19d3f3\",\"#FF6692\",\"#B6E880\",\"#FF97FF\",\"#FECB52\"],\"font\":{\"color\":\"#2a3f5f\"},\"geo\":{\"bgcolor\":\"white\",\"lakecolor\":\"white\",\"landcolor\":\"#E5ECF6\",\"showlakes\":true,\"showland\":true,\"subunitcolor\":\"white\"},\"hoverlabel\":{\"align\":\"left\"},\"hovermode\":\"closest\",\"mapbox\":{\"style\":\"light\"},\"paper_bgcolor\":\"white\",\"plot_bgcolor\":\"#E5ECF6\",\"polar\":{\"angularaxis\":{\"gridcolor\":\"white\",\"linecolor\":\"white\",\"ticks\":\"\"},\"bgcolor\":\"#E5ECF6\",\"radialaxis\":{\"gridcolor\":\"white\",\"linecolor\":\"white\",\"ticks\":\"\"}},\"scene\":{\"xaxis\":{\"backgroundcolor\":\"#E5ECF6\",\"gridcolor\":\"white\",\"gridwidth\":2,\"linecolor\":\"white\",\"showbackground\":true,\"ticks\":\"\",\"zerolinecolor\":\"white\"},\"yaxis\":{\"backgroundcolor\":\"#E5ECF6\",\"gridcolor\":\"white\",\"gridwidth\":2,\"linecolor\":\"white\",\"showbackground\":true,\"ticks\":\"\",\"zerolinecolor\":\"white\"},\"zaxis\":{\"backgroundcolor\":\"#E5ECF6\",\"gridcolor\":\"white\",\"gridwidth\":2,\"linecolor\":\"white\",\"showbackground\":true,\"ticks\":\"\",\"zerolinecolor\":\"white\"}},\"shapedefaults\":{\"line\":{\"color\":\"#2a3f5f\"}},\"ternary\":{\"aaxis\":{\"gridcolor\":\"white\",\"linecolor\":\"white\",\"ticks\":\"\"},\"baxis\":{\"gridcolor\":\"white\",\"linecolor\":\"white\",\"ticks\":\"\"},\"bgcolor\":\"#E5ECF6\",\"caxis\":{\"gridcolor\":\"white\",\"linecolor\":\"white\",\"ticks\":\"\"}},\"title\":{\"x\":0.05},\"xaxis\":{\"automargin\":true,\"gridcolor\":\"white\",\"linecolor\":\"white\",\"ticks\":\"\",\"title\":{\"standoff\":15},\"zerolinecolor\":\"white\",\"zerolinewidth\":2},\"yaxis\":{\"automargin\":true,\"gridcolor\":\"white\",\"linecolor\":\"white\",\"ticks\":\"\",\"title\":{\"standoff\":15},\"zerolinecolor\":\"white\",\"zerolinewidth\":2}}},\"xaxis\":{\"anchor\":\"y\",\"domain\":[0.0,1.0],\"title\":{\"text\":\"time\"}},\"yaxis\":{\"anchor\":\"x\",\"domain\":[0.0,1.0],\"title\":{\"text\":\"sio2\"}},\"legend\":{\"title\":{\"text\":\"sio2_flag, quality_level\"},\"tracegroupgap\":0},\"margin\":{\"t\":60},\"height\":600,\"width\":1200},                        {\"responsive\": true}                    ).then(function(){\n                            \nvar gd = document.getElementById('d474ef7b-f224-43d0-8503-4cf0d3a980e8');\nvar x = new MutationObserver(function (mutations, observer) {{\n        var display = window.getComputedStyle(gd).display;\n        if (!display || display === 'none') {{\n            console.log([gd, 'removed!']);\n            Plotly.purge(gd);\n            observer.disconnect();\n        }}\n}});\n\n// Listen for the removal of the full notebook cells\nvar notebookContainer = gd.closest('#notebook-container');\nif (notebookContainer) {{\n    x.observe(notebookContainer, {childList: true});\n}}\n\n// Listen for the clearing of the current output cell\nvar outputEl = gd.closest('.output');\nif (outputEl) {{\n    x.observe(outputEl, {childList: true});\n}}\n\n                        })                };                            </script>        </div>\n</body>\n</html>"
                },
                "metadata": {},
                "output_type": "display_data"
              }
            ]
          }
        },
        "70c00e759b8644cc85a667b57f2213c2": {
          "model_module": "@jupyter-widgets/controls",
          "model_module_version": "1.5.0",
          "model_name": "DescriptionStyleModel",
          "state": {
            "_model_module": "@jupyter-widgets/controls",
            "_model_module_version": "1.5.0",
            "_model_name": "DescriptionStyleModel",
            "_view_count": null,
            "_view_module": "@jupyter-widgets/base",
            "_view_module_version": "1.2.0",
            "_view_name": "StyleView",
            "description_width": ""
          }
        },
        "73aea1a7ac644c4dabd20974609eedb1": {
          "model_module": "@jupyter-widgets/base",
          "model_module_version": "1.2.0",
          "model_name": "LayoutModel",
          "state": {
            "_model_module": "@jupyter-widgets/base",
            "_model_module_version": "1.2.0",
            "_model_name": "LayoutModel",
            "_view_count": null,
            "_view_module": "@jupyter-widgets/base",
            "_view_module_version": "1.2.0",
            "_view_name": "LayoutView",
            "align_content": null,
            "align_items": null,
            "align_self": null,
            "border": null,
            "bottom": null,
            "display": null,
            "flex": null,
            "flex_flow": null,
            "grid_area": null,
            "grid_auto_columns": null,
            "grid_auto_flow": null,
            "grid_auto_rows": null,
            "grid_column": null,
            "grid_gap": null,
            "grid_row": null,
            "grid_template_areas": null,
            "grid_template_columns": null,
            "grid_template_rows": null,
            "height": null,
            "justify_content": null,
            "justify_items": null,
            "left": null,
            "margin": null,
            "max_height": null,
            "max_width": null,
            "min_height": null,
            "min_width": null,
            "object_fit": null,
            "object_position": null,
            "order": null,
            "overflow": null,
            "overflow_x": null,
            "overflow_y": null,
            "padding": null,
            "right": null,
            "top": null,
            "visibility": null,
            "width": null
          }
        },
        "790f63a70158499388b19cdc940e55b2": {
          "model_module": "@jupyter-widgets/controls",
          "model_module_version": "1.5.0",
          "model_name": "VBoxModel",
          "state": {
            "_dom_classes": [
              "widget-interact"
            ],
            "_model_module": "@jupyter-widgets/controls",
            "_model_module_version": "1.5.0",
            "_model_name": "VBoxModel",
            "_view_count": null,
            "_view_module": "@jupyter-widgets/controls",
            "_view_module_version": "1.5.0",
            "_view_name": "VBoxView",
            "box_style": "",
            "children": [
              "IPY_MODEL_401d3c49227343438c42fe1f13515111",
              "IPY_MODEL_bf2f84c3fc2e4b61b1d2c5c295d574ee"
            ],
            "layout": "IPY_MODEL_a150b579b58f441ea73661c167a22287"
          }
        },
        "7ad3435abeb447a2aa3c6414e2156963": {
          "model_module": "@jupyter-widgets/controls",
          "model_module_version": "1.5.0",
          "model_name": "DescriptionStyleModel",
          "state": {
            "_model_module": "@jupyter-widgets/controls",
            "_model_module_version": "1.5.0",
            "_model_name": "DescriptionStyleModel",
            "_view_count": null,
            "_view_module": "@jupyter-widgets/base",
            "_view_module_version": "1.2.0",
            "_view_name": "StyleView",
            "description_width": ""
          }
        },
        "7b5ba981983641e2a266bc5b6f216426": {
          "model_module": "@jupyter-widgets/controls",
          "model_module_version": "1.5.0",
          "model_name": "DescriptionStyleModel",
          "state": {
            "_model_module": "@jupyter-widgets/controls",
            "_model_module_version": "1.5.0",
            "_model_name": "DescriptionStyleModel",
            "_view_count": null,
            "_view_module": "@jupyter-widgets/base",
            "_view_module_version": "1.2.0",
            "_view_name": "StyleView",
            "description_width": ""
          }
        },
        "7db4e935664f42478aebbf87973299b1": {
          "model_module": "@jupyter-widgets/base",
          "model_module_version": "1.2.0",
          "model_name": "LayoutModel",
          "state": {
            "_model_module": "@jupyter-widgets/base",
            "_model_module_version": "1.2.0",
            "_model_name": "LayoutModel",
            "_view_count": null,
            "_view_module": "@jupyter-widgets/base",
            "_view_module_version": "1.2.0",
            "_view_name": "LayoutView",
            "align_content": null,
            "align_items": null,
            "align_self": null,
            "border": null,
            "bottom": null,
            "display": null,
            "flex": null,
            "flex_flow": null,
            "grid_area": null,
            "grid_auto_columns": null,
            "grid_auto_flow": null,
            "grid_auto_rows": null,
            "grid_column": null,
            "grid_gap": null,
            "grid_row": null,
            "grid_template_areas": null,
            "grid_template_columns": null,
            "grid_template_rows": null,
            "height": null,
            "justify_content": null,
            "justify_items": null,
            "left": null,
            "margin": null,
            "max_height": null,
            "max_width": null,
            "min_height": null,
            "min_width": null,
            "object_fit": null,
            "object_position": null,
            "order": null,
            "overflow": null,
            "overflow_x": null,
            "overflow_y": null,
            "padding": null,
            "right": null,
            "top": null,
            "visibility": null,
            "width": null
          }
        },
        "7f248242652f41b58cd1269d71e395d9": {
          "model_module": "@jupyter-widgets/controls",
          "model_module_version": "1.5.0",
          "model_name": "DropdownModel",
          "state": {
            "_dom_classes": [],
            "_model_module": "@jupyter-widgets/controls",
            "_model_module_version": "1.5.0",
            "_model_name": "DropdownModel",
            "_options_labels": [
              "0",
              "5",
              "10",
              "20",
              "30",
              "40",
              "50",
              "75",
              "100",
              "150",
              "200",
              "260"
            ],
            "_view_count": null,
            "_view_module": "@jupyter-widgets/controls",
            "_view_module_version": "1.5.0",
            "_view_name": "DropdownView",
            "description": "reference_depth",
            "description_tooltip": null,
            "disabled": false,
            "index": 0,
            "layout": "IPY_MODEL_236d792b7dd34c04ae74668854085858",
            "style": "IPY_MODEL_7fd4fae8d61343c989f66c8f778887df"
          }
        },
        "7fd4fae8d61343c989f66c8f778887df": {
          "model_module": "@jupyter-widgets/controls",
          "model_module_version": "1.5.0",
          "model_name": "DescriptionStyleModel",
          "state": {
            "_model_module": "@jupyter-widgets/controls",
            "_model_module_version": "1.5.0",
            "_model_name": "DescriptionStyleModel",
            "_view_count": null,
            "_view_module": "@jupyter-widgets/base",
            "_view_module_version": "1.2.0",
            "_view_name": "StyleView",
            "description_width": ""
          }
        },
        "810c2f3edd204081bf32d296b10b9bb8": {
          "model_module": "@jupyter-widgets/controls",
          "model_module_version": "1.5.0",
          "model_name": "DropdownModel",
          "state": {
            "_dom_classes": [],
            "_model_module": "@jupyter-widgets/controls",
            "_model_module_version": "1.5.0",
            "_model_name": "DropdownModel",
            "_options_labels": [
              "no2_no3_um",
              "sio2",
              "po4"
            ],
            "_view_count": null,
            "_view_module": "@jupyter-widgets/controls",
            "_view_module_version": "1.5.0",
            "_view_name": "DropdownView",
            "description": "variable",
            "description_tooltip": null,
            "disabled": false,
            "index": 0,
            "layout": "IPY_MODEL_2117226ee9b5462b843c00792bb1b18c",
            "style": "IPY_MODEL_7b5ba981983641e2a266bc5b6f216426"
          }
        },
        "81f75f5796664bb6b8660404e9c0dad7": {
          "model_module": "@jupyter-widgets/base",
          "model_module_version": "1.2.0",
          "model_name": "LayoutModel",
          "state": {
            "_model_module": "@jupyter-widgets/base",
            "_model_module_version": "1.2.0",
            "_model_name": "LayoutModel",
            "_view_count": null,
            "_view_module": "@jupyter-widgets/base",
            "_view_module_version": "1.2.0",
            "_view_name": "LayoutView",
            "align_content": null,
            "align_items": null,
            "align_self": null,
            "border": null,
            "bottom": null,
            "display": null,
            "flex": null,
            "flex_flow": null,
            "grid_area": null,
            "grid_auto_columns": null,
            "grid_auto_flow": null,
            "grid_auto_rows": null,
            "grid_column": null,
            "grid_gap": null,
            "grid_row": null,
            "grid_template_areas": null,
            "grid_template_columns": null,
            "grid_template_rows": null,
            "height": null,
            "justify_content": null,
            "justify_items": null,
            "left": null,
            "margin": null,
            "max_height": null,
            "max_width": null,
            "min_height": null,
            "min_width": null,
            "object_fit": null,
            "object_position": null,
            "order": null,
            "overflow": null,
            "overflow_x": null,
            "overflow_y": null,
            "padding": null,
            "right": null,
            "top": null,
            "visibility": null,
            "width": null
          }
        },
        "8673c71c859f44e385d2fbb422e7344d": {
          "model_module": "@jupyter-widgets/controls",
          "model_module_version": "1.5.0",
          "model_name": "DescriptionStyleModel",
          "state": {
            "_model_module": "@jupyter-widgets/controls",
            "_model_module_version": "1.5.0",
            "_model_name": "DescriptionStyleModel",
            "_view_count": null,
            "_view_module": "@jupyter-widgets/base",
            "_view_module_version": "1.2.0",
            "_view_name": "StyleView",
            "description_width": ""
          }
        },
        "8786d96a84fa4b5d83e2ebb6aa06ed98": {
          "model_module": "@jupyter-widgets/base",
          "model_module_version": "1.2.0",
          "model_name": "LayoutModel",
          "state": {
            "_model_module": "@jupyter-widgets/base",
            "_model_module_version": "1.2.0",
            "_model_name": "LayoutModel",
            "_view_count": null,
            "_view_module": "@jupyter-widgets/base",
            "_view_module_version": "1.2.0",
            "_view_name": "LayoutView",
            "align_content": null,
            "align_items": null,
            "align_self": null,
            "border": null,
            "bottom": null,
            "display": null,
            "flex": null,
            "flex_flow": null,
            "grid_area": null,
            "grid_auto_columns": null,
            "grid_auto_flow": null,
            "grid_auto_rows": null,
            "grid_column": null,
            "grid_gap": null,
            "grid_row": null,
            "grid_template_areas": null,
            "grid_template_columns": null,
            "grid_template_rows": null,
            "height": null,
            "justify_content": null,
            "justify_items": null,
            "left": null,
            "margin": null,
            "max_height": null,
            "max_width": null,
            "min_height": null,
            "min_width": null,
            "object_fit": null,
            "object_position": null,
            "order": null,
            "overflow": null,
            "overflow_x": null,
            "overflow_y": null,
            "padding": null,
            "right": null,
            "top": null,
            "visibility": null,
            "width": null
          }
        },
        "8875094b957c4daa958d9ae944bb38da": {
          "model_module": "@jupyter-widgets/controls",
          "model_module_version": "1.5.0",
          "model_name": "SelectMultipleModel",
          "state": {
            "_dom_classes": [],
            "_model_module": "@jupyter-widgets/controls",
            "_model_module_version": "1.5.0",
            "_model_name": "SelectMultipleModel",
            "_options_labels": [
              "0",
              "5",
              "10",
              "20",
              "30",
              "40",
              "50",
              "75",
              "100",
              "150",
              "200",
              "260"
            ],
            "_view_count": null,
            "_view_module": "@jupyter-widgets/controls",
            "_view_module_version": "1.5.0",
            "_view_name": "SelectMultipleView",
            "description": "Select depths",
            "description_tooltip": null,
            "disabled": false,
            "index": [
              3
            ],
            "layout": "IPY_MODEL_a20202af287e438b96f730f03256d2b4",
            "rows": 5,
            "style": "IPY_MODEL_f6f23a2956044ba287fad3c5c5067fe5"
          }
        },
        "8c046998f7424f919032f640c655e81e": {
          "model_module": "@jupyter-widgets/controls",
          "model_module_version": "1.5.0",
          "model_name": "DropdownModel",
          "state": {
            "_dom_classes": [],
            "_model_module": "@jupyter-widgets/controls",
            "_model_module_version": "1.5.0",
            "_model_name": "DropdownModel",
            "_options_labels": [
              "no2_no3_um",
              "sio2",
              "po4"
            ],
            "_view_count": null,
            "_view_module": "@jupyter-widgets/controls",
            "_view_module_version": "1.5.0",
            "_view_name": "DropdownView",
            "description": "var",
            "description_tooltip": null,
            "disabled": false,
            "index": 0,
            "layout": "IPY_MODEL_73aea1a7ac644c4dabd20974609eedb1",
            "style": "IPY_MODEL_c472e22593c240cca2e3b9fb32778a38"
          }
        },
        "9493ae9960f94df58c143d7ad68baf9d": {
          "model_module": "@jupyter-widgets/controls",
          "model_module_version": "1.5.0",
          "model_name": "DescriptionStyleModel",
          "state": {
            "_model_module": "@jupyter-widgets/controls",
            "_model_module_version": "1.5.0",
            "_model_name": "DescriptionStyleModel",
            "_view_count": null,
            "_view_module": "@jupyter-widgets/base",
            "_view_module_version": "1.2.0",
            "_view_name": "StyleView",
            "description_width": ""
          }
        },
        "a150b579b58f441ea73661c167a22287": {
          "model_module": "@jupyter-widgets/base",
          "model_module_version": "1.2.0",
          "model_name": "LayoutModel",
          "state": {
            "_model_module": "@jupyter-widgets/base",
            "_model_module_version": "1.2.0",
            "_model_name": "LayoutModel",
            "_view_count": null,
            "_view_module": "@jupyter-widgets/base",
            "_view_module_version": "1.2.0",
            "_view_name": "LayoutView",
            "align_content": null,
            "align_items": null,
            "align_self": null,
            "border": null,
            "bottom": null,
            "display": null,
            "flex": null,
            "flex_flow": null,
            "grid_area": null,
            "grid_auto_columns": null,
            "grid_auto_flow": null,
            "grid_auto_rows": null,
            "grid_column": null,
            "grid_gap": null,
            "grid_row": null,
            "grid_template_areas": null,
            "grid_template_columns": null,
            "grid_template_rows": null,
            "height": null,
            "justify_content": null,
            "justify_items": null,
            "left": null,
            "margin": null,
            "max_height": null,
            "max_width": null,
            "min_height": null,
            "min_width": null,
            "object_fit": null,
            "object_position": null,
            "order": null,
            "overflow": null,
            "overflow_x": null,
            "overflow_y": null,
            "padding": null,
            "right": null,
            "top": null,
            "visibility": null,
            "width": null
          }
        },
        "a20202af287e438b96f730f03256d2b4": {
          "model_module": "@jupyter-widgets/base",
          "model_module_version": "1.2.0",
          "model_name": "LayoutModel",
          "state": {
            "_model_module": "@jupyter-widgets/base",
            "_model_module_version": "1.2.0",
            "_model_name": "LayoutModel",
            "_view_count": null,
            "_view_module": "@jupyter-widgets/base",
            "_view_module_version": "1.2.0",
            "_view_name": "LayoutView",
            "align_content": null,
            "align_items": null,
            "align_self": null,
            "border": null,
            "bottom": null,
            "display": null,
            "flex": null,
            "flex_flow": null,
            "grid_area": null,
            "grid_auto_columns": null,
            "grid_auto_flow": null,
            "grid_auto_rows": null,
            "grid_column": null,
            "grid_gap": null,
            "grid_row": null,
            "grid_template_areas": null,
            "grid_template_columns": null,
            "grid_template_rows": null,
            "height": null,
            "justify_content": null,
            "justify_items": null,
            "left": null,
            "margin": null,
            "max_height": null,
            "max_width": null,
            "min_height": null,
            "min_width": null,
            "object_fit": null,
            "object_position": null,
            "order": null,
            "overflow": null,
            "overflow_x": null,
            "overflow_y": null,
            "padding": null,
            "right": null,
            "top": null,
            "visibility": null,
            "width": null
          }
        },
        "ab4766b90f0744809e2befdea860d2c6": {
          "model_module": "@jupyter-widgets/controls",
          "model_module_version": "1.5.0",
          "model_name": "VBoxModel",
          "state": {
            "_dom_classes": [
              "widget-interact"
            ],
            "_model_module": "@jupyter-widgets/controls",
            "_model_module_version": "1.5.0",
            "_model_name": "VBoxModel",
            "_view_count": null,
            "_view_module": "@jupyter-widgets/controls",
            "_view_module_version": "1.5.0",
            "_view_name": "VBoxView",
            "box_style": "",
            "children": [
              "IPY_MODEL_8c046998f7424f919032f640c655e81e",
              "IPY_MODEL_7f248242652f41b58cd1269d71e395d9",
              "IPY_MODEL_af026e3ec2a3482283c5a5ba1f3a0497"
            ],
            "layout": "IPY_MODEL_b7c38a51c3414e1683c5f9b4ffa5ac23"
          }
        },
        "af026e3ec2a3482283c5a5ba1f3a0497": {
          "model_module": "@jupyter-widgets/output",
          "model_module_version": "1.0.0",
          "model_name": "OutputModel",
          "state": {
            "_dom_classes": [],
            "_model_module": "@jupyter-widgets/output",
            "_model_module_version": "1.0.0",
            "_model_name": "OutputModel",
            "_view_count": null,
            "_view_module": "@jupyter-widgets/output",
            "_view_module_version": "1.0.0",
            "_view_name": "OutputView",
            "layout": "IPY_MODEL_0c1e25552c0945d8960599da93b7cb46",
            "msg_id": "",
            "outputs": [
              {
                "data": {
                  "text/html": "<html>\n<head><meta charset=\"utf-8\" /></head>\n<body>\n    <div>            <script src=\"https://cdnjs.cloudflare.com/ajax/libs/mathjax/2.7.5/MathJax.js?config=TeX-AMS-MML_SVG\"></script><script type=\"text/javascript\">if (window.MathJax) {MathJax.Hub.Config({SVG: {font: \"STIX-Web\"}});}</script>                <script type=\"text/javascript\">window.PlotlyConfig = {MathJaxConfig: 'local'};</script>\n        <script src=\"https://cdn.plot.ly/plotly-2.8.3.min.js\"></script>                <div id=\"c5317298-e088-4c75-a98d-e7f9a35c9f05\" class=\"plotly-graph-div\" style=\"height:525px; width:1500px;\"></div>            <script type=\"text/javascript\">                                    window.PLOTLYENV=window.PLOTLYENV || {};                                    if (document.getElementById(\"c5317298-e088-4c75-a98d-e7f9a35c9f05\")) {                    Plotly.newPlot(                        \"c5317298-e088-4c75-a98d-e7f9a35c9f05\",                        [{\"alignmentgroup\":\"True\",\"customdata\":[[\"QNUT382\"],[\"QNUT5564\"],[\"QNUT5521\"],[\"QNUT2153\"],[\"QNUT5593\"],[\"QNUT5570\"],[\"QNUT5659\"],[\"QNUT5673\"],[\"QNUT5629\"],[\"QNUT2084\"],[\"QNUT5639\"],[\"QNUT5705\"],[\"QNUT5733\"],[\"QNUT2086\"],[\"QNUT5410\"],[\"QNUT5710\"],[\"QNUT5623\"],[\"QNUT5900\"],[\"QNUT2033\"],[\"QNUT5920\"],[\"QNUT6012\"],[\"QNUT6034\"],[\"QNUT1958\"],[\"QNUT6060\"],[\"QNUT5560\"],[\"QNUT5556\"],[\"QNUT5540\"],[\"QNUT5536\"],[\"QNUT4986\"],[\"QNUT4998\"],[\"QNUT5012\"],[\"QNUT5036\"],[\"QNUT5024\"],[\"QNUT5056\"],[\"QNUT5061\"],[\"QNUT2164\"],[\"QNUT5078\"],[\"QNUT5086\"],[\"QNUT5098\"],[\"QNUT6080\"],[\"QNUT5130\"],[\"QNUT2183\"],[\"QNUT5156\"],[\"QNUT5168\"],[\"QNUT5336\"],[\"QNUT5414\"],[\"QNUT5456\"],[\"QNUT5448\"],[\"QNUT1931\"],[\"QNUT5504\"],[\"QNUT5513\"],[\"QNUT5532\"],[\"QNUT5144\"],[\"QNUT2178\"],[\"QNUT6094\"],[\"QNUT6112\"],[\"QNUT6460\"],[\"QNUT1746\"],[\"QNUT6479\"],[\"QNUT6493\"],[\"QNUT6511\"],[\"QNUT1683\"],[\"QNUT6532\"],[\"QNUT6550\"],[\"QNUT6575\"],[\"QNUT1660\"],[\"QNUT6619\"],[\"QNUT6564\"],[\"QNUT6626\"],[\"QNUT1621\"],[\"QNUT6640\"],[\"QNUT6658\"],[\"QNUT6684\"],[\"QNUT1532\"],[\"QM848\"],[\"QNUT6766\"],[\"QNUT6752\"],[\"QNUT1521\"],[\"QNUT6822\"],[\"QNUT6442\"],[\"QNUT6424\"],[\"QNUT1754\"],[\"QNUT6396\"],[\"QNUT6130\"],[\"QNUT6162\"],[\"QNUT2009\"],[\"QNUT6194\"],[\"QNUT6280\"],[\"QNUT6281\"],[\"QNUT6282\"],[\"QNUT1914\"],[\"QNUT6226\"],[\"QNUT6227\"],[\"QNUT1937\"],[\"QNUT1974\"],[\"QNUT6228\"],[\"QNUT1863\"],[\"QNUT6310\"],[\"QNUT6311\"],[\"QNUT6312\"],[\"QNUT6313\"],[\"QNUT1815\"],[\"QNUT6342\"],[\"QNUT6343\"],[\"QNUT6344\"],[\"QNUT6345\"],[\"QNUT1833\"],[\"QNUT6229\"],[\"QNUT4974\"],[\"QNUT4948\"],[\"QNUT4936\"],[\"QNUT3240\"],[\"QNUT3278\"],[\"QNUT3289\"],[\"QNUT3315\"],[\"QNUT3330\"],[\"QNUT2498\"],[\"QNUT3354\"],[\"QNUT3366\"],[\"QNUT3386\"],[\"QNUT3249\"],[\"QNUT3261\"],[\"QNUT3440\"],[\"QNUT2521\"],[\"QNUT3457\"],[\"QNUT3471\"],[\"QNUT3495\"],[\"QNUT3510\"],[\"QNUT2396\"],[\"QNUT3522\"],[\"QNUT3626\"],[\"QNUT3648\"],[\"QNUT3662\"],[\"QNUT3677\"],[\"QNUT2476\"],[\"QNUT3223\"],[\"QNUT3323\"],[\"QNUT3197\"],[\"QNUT2679\"],[\"QNUT2703\"],[\"QNUT2750\"],[\"QNUT2764\"],[\"QNUT2800\"],[\"QNUT2816\"],[\"QNUT2859\"],[\"QNUT2883\"],[\"QNUT2578\"],[\"QNUT2910\"],[\"QNUT2928\"],[\"QNUT2445\"],[\"QNUT2942\"],[\"QM809\"],[\"QNUT2964\"],[\"QNUT3012\"],[\"QNUT3038\"],[\"QNUT3065\"],[\"QNUT3094\"],[\"QNUT3123\"],[\"QNUT2566\"],[\"QNUT3135\"],[\"QNUT3161\"],[\"QNUT3218\"],[\"QM808\"],[\"QNUT3691\"],[\"QNUT3714\"],[\"QNUT3729\"],[\"QNUT4218\"],[\"QNUT4234\"],[\"QNUT2292\"],[\"QNUT4471\"],[\"QNUT4483\"],[\"QNUT4520\"],[\"QNUT4532\"],[\"QNUT4560\"],[\"QNUT4572\"],[\"QNUT2267\"],[\"QNUT4604\"],[\"QNUT4178\"],[\"QNUT4723\"],[\"QNUT4764\"],[\"QNUT4779\"],[\"QNUT2239\"],[\"QNUT4796\"],[\"QNUT4821\"],[\"QNUT4835\"],[\"QNUT4794\"],[\"QNUT4866\"],[\"QNUT4888\"],[\"QNUT2253\"],[\"QNUT4902\"],[\"QNUT4738\"],[\"QNUT6840\"],[\"QNUT4164\"],[\"QNUT2342\"],[\"QNUT3739\"],[\"QNUT3770\"],[\"QNUT3784\"],[\"QNUT3803\"],[\"QNUT2433\"],[\"QNUT3824\"],[\"QNUT3848\"],[\"QNUT3862\"],[\"QNUT3876\"],[\"QNUT3910\"],[\"QNUT3926\"],[\"QNUT4149\"],[\"QNUT2466\"],[\"QNUT3936\"],[\"QNUT3988\"],[\"QNUT3995\"],[\"QNUT2370\"],[\"QNUT4019\"],[\"QNUT4031\"],[\"QNUT4055\"],[\"QNUT4069\"],[\"QNUT4083\"],[\"QNUT4095\"],[\"QNUT4118\"],[\"QM813\"],[\"QNUT6854\"],[\"QNUT6180\"],[\"QNUT2642\"],[\"QNUT7382\"],[\"QNUT8286\"],[\"QNUT1329\"],[\"QNUT8585\"],[\"QNUT7408\"],[\"QNUT8742\"],[\"QNUT8756\"],[\"QNUT7411\"],[\"QNUT8276\"],[\"QNUT7425\"],[\"QNUT812\"],[\"QNUT8732\"],[\"QNUT1057\"],[\"QNUT1269\"],[\"QNUT584\"],[\"QNUT8132\"],[\"QNUT8300\"],[\"QNUT8766\"],[\"QNUT8551\"],[\"QNUT1288\"],[\"QNUT7308\"],[\"QNUT8780\"],[\"QNUT7322\"],[\"QNUT1493\"],[\"QNUT7372\"],[\"QNUT8644\"],[\"QNUT1039\"],[\"QNUT7348\"],[\"QNUT548\"],[\"QNUT1350\"],[\"QNUT8559\"],[\"QNUT7358\"],[\"QNUT8249\"],[\"QNUT8322\"],[\"QNUT8718\"],[\"QNUT8137\"],[\"QNUT8243\"],[\"QNUT7521\"],[\"QNUT665\"],[\"QNUT1161\"],[\"QNUT7547\"],[\"QNUT7557\"],[\"QNUT7511\"],[\"QNUT8670\"],[\"QNUT7559\"],[\"QNUT7571\"],[\"QNUT736\"],[\"QNUT1142\"],[\"QNUT8609\"],[\"QNUT7585\"],[\"QNUT7558\"],[\"QNUT8595\"],[\"QNUT8685\"],[\"QNUT1123\"],[\"QNUT8460\"],[\"QNUT7751\"],[\"QNUT7447\"],[\"QNUT645\"],[\"QNUT1249\"],[\"QNUT8142\"],[\"QNUT7485\"],[\"QNUT7746\"],[\"QNUT7461\"],[\"QNUT8241\"],[\"QNUT7475\"],[\"QNUT8695\"],[\"QNUT7741\"],[\"QNUT1180\"],[\"QNUT8708\"],[\"QNUT8790\"],[\"QNUT8310\"],[\"QNUT792\"],[\"QNUT8828\"],[\"QNUT7040\"],[\"QNUT8358\"],[\"QNUT1446\"],[\"QNUT7022\"],[\"QNUT8838\"],[\"QNUT840\"],[\"QNUT1012\"],[\"QNUT7004\"],[\"QNUT8852\"],[\"QNUT6978\"],[\"QNUT8368\"],[\"QNUT1425\"],[\"QNUT446\"],[\"QNUT7054\"],[\"QNUT6960\"],[\"QNUT8394\"],[\"QNUT6946\"],[\"QNUT8862\"],[\"QNUT8500\"],[\"QNUT6928\"],[\"QNUT1473\"],[\"QNUT8876\"],[\"QNUT8450\"],[\"QNUT6895\"],[\"QNUT8474\"],[\"QNUT6886\"],[\"QNUT8886\"],[\"QNUT847\"],[\"QNUT6872\"],[\"QNUT445\"],[\"QNUT8535\"],[\"QNUT8513\"],[\"QNUT8805\"],[\"QNUT7118\"],[\"QNUT8814\"],[\"QNUT8804\"],[\"QNUT8549\"],[\"QNUT8806\"],[\"QNUT8344\"],[\"QNUT1381\"],[\"QNUT7104\"],[\"QNUT7086\"],[\"QNUT8225\"],[\"QNUT8550\"],[\"QNUT8230\"],[\"QNUT7168\"],[\"QNUT7072\"],[\"QNUT7121\"],[\"QNUT479\"],[\"QNUT1399\"],[\"QNUT952\"],[\"QNUT7142\"],[\"QNUT539\"]],\"hovertemplate\":\"month=%{x}<br>no2_no3_um=%{y}<br>hakai_id=%{customdata[0]}<extra></extra>\",\"legendgroup\":\"\",\"marker\":{\"color\":\"#636efa\"},\"name\":\"\",\"notched\":false,\"offsetgroup\":\"\",\"orientation\":\"v\",\"showlegend\":false,\"x\":[3,7,7,4,7,7,8,8,8,4,8,9,9,4,9,10,10,10,3,11,11,11,3,11,7,7,7,7,1,2,2,2,2,3,3,5,3,3,4,12,4,5,5,5,5,6,6,6,4,7,7,7,5,5,12,1,5,1,6,6,6,12,6,6,7,12,7,7,7,11,8,8,8,11,8,9,9,11,9,5,4,1,4,1,2,2,2,2,2,2,2,3,3,2,3,3,2,3,3,3,3,1,3,3,3,3,1,3,1,1,12,7,8,8,8,8,9,8,9,9,9,9,10,9,10,10,10,10,9,11,11,11,11,12,10,7,7,7,12,12,1,1,1,2,2,3,11,3,4,8,4,4,5,5,5,5,6,6,10,6,6,7,4,12,1,1,7,7,7,7,8,8,8,8,9,6,9,7,9,10,10,6,10,10,10,11,11,11,6,11,9,9,6,7,1,1,2,2,8,2,2,3,3,3,3,6,8,4,4,4,7,5,5,5,5,5,6,6,4,9,2,11,4,8,9,12,4,3,3,4,7,5,5,3,7,9,4,5,8,3,11,9,3,4,3,11,4,1,7,3,4,9,12,3,3,8,3,5,1,6,5,8,6,7,6,2,7,7,5,8,1,7,7,1,2,7,10,7,5,5,8,5,6,7,5,1,6,2,7,8,2,4,8,5,5,12,9,10,12,5,6,6,12,5,11,9,10,3,1,11,9,11,5,11,10,10,5,10,10,10,10,6,6,10,3,11,11,4,2,4,4,11,4,9,9,1,1,9,11,9,2,1,2,3,10,6,2,4],\"x0\":\" \",\"xaxis\":\"x\",\"y\":[5.91838244068247,0.679081538435527,1.73458765536631,1.80634564776934,0.0160090758652895,10.8095492171348,0.360385398740987,0.288812726607749,0.201998798107151,0.668850288094282,11.0826262509112,0.0314416222564397,4.73521726208378,0.282178501581144,3.18972801321071,14.5872619468722,16.7427342672413,21.2647754660162,23.5559097086579,18.1466660209521,18.0393017225855,20.7851294563584,23.5834598096989,22.1137778186496,1.6134932280585,1.68791805562662,0.0685568853140481,0.0635753143570821,28.4821551607667,29.2436769404702,27.0017924052661,26.0984533837316,26.5648128699661,25.8639532591598,13.4643475776564,0.399115938438145,12.2191159805925,1.26396142966295,0.470154113829072,24.0446447051613,9.40671243281557,15.1318494189878,19.1297715855761,0.318619404278574,0.0674671216572246,0.829620154641197,16.4392849136583,0.0385444592250915,3.59299986815701,0.0700008960114689,0.129765251416057,0.0754388803274032,12.6459688926481,0.26939917643659,23.9703832684597,27.665334205655,3.53698059854324,29.1310103452047,0.173488433292235,3.38195214226018,0.147706251889655,27.5375743801204,0.7912806856319622,13.922362041673141,0.4576876827155841,27.6175227309999,0.0789812778859287,15.485955376317564,0.46717900711918386,26.7107764469151,0.11364891176995601,9.792903423535982,0.0,24.7356347988378,null,7.605094549924497,0.015451175567755302,19.0677272685584,0.6914773627258881,0.0742699948458578,1.51617618677783,28.2858613257595,14.7330084213876,27.526906435296,27.3313937667512,26.4430374360446,26.1103155829887,25.9182772839227,25.9448349743645,25.9973400670913,27.5183307868211,25.3923265011591,25.3809066523182,27.6249087354221,25.8902466546809,25.384492249449,28.3271182501853,25.893272527905,25.9457133757042,25.9532759685584,25.9618327269758,28.9827069848324,10.9197033672781,11.1598861015141,10.8402276102599,10.8745966354744,28.4933373789524,25.4070751599859,28.8722363862834,27.4754694674757,23.958031395631,1.5857437365958,3.88627309359516,10.2232290486594,0.21071060066711,0.0989488225717116,6.00795062669731,1.66773725747798,0.00440679157412195,8.40053458899473,8.13857356923073,4.80839984655093,11.4443536531739,0.529758163769688,9.59680211199427,15.0436882763716,14.7577322470965,19.8102965445252,1.69300564806841,20.3691265382616,22.5372948057418,23.2740600854274,24.2974210248847,25.1265625072555,7.56290625538068,0.169242211229531,0.543816044072522,1.20017973766651,25.1534294569819,25.9535710027234,27.6019728646171,28.492554570733,27.9935221646899,28.7969422099768,28.0100874143292,22.4569999993582,23.2862603047974,31.2994587259047,13.2777296539074,3.28683218118581,18.4629621248752,null,0.297071263427997,0.809960066973723,0.334530804064586,3.73465786508757,0.093125285369558,1.61838093715429,12.4634026744605,0.0846586115805066,15.2457277236978,0.150740283535885,null,24.8192011039534,26.712,27.703,18.3406846969002,5.36310379357819,3.62019863686325,0.0694145200752201,0.192192474880149,2.58739556612411,11.3079921267962,0.152966254055096,0.0794352859387964,1.16101417955221,8.07305679597282,0.147988719464994,3.8631544122308,7.73261682205706,12.4463667617524,0.199334126780394,6.40606891087999,14.2025641635823,18.786583695019,17.6376822141446,20.641873407218,19.528574137886,0.167717583092117,24.8401282101356,0.0290370490265283,1.4631707560765794,0.143288360307256,0.127391720458774,27.1778963949282,27.3869834236053,27.073654275392,26.7468767289945,2.11239581390571,26.906301090802,25.5413854252024,25.3178312995642,22.435688245331,0.0306226267272895,12.0493043243855,7.72533869964796,14.94708006387,2.6405037866032,8.65501287873503,3.18736941431642,0.267360108337508,1.50032122312837,0.0046298917645347,1.14227067868878,0.152040380414572,3.66715316908181,0.185151851650979,0.152814455396362,null,7.153908364675861,25.8227912077057,24.403196370576,0.13524507485515813,0.643,0.235571812843396,24.78770507936185,3.052,22.384683139394635,21.477990380111255,0.155,0.176,6.391,0.523,16.762820593931597,11.7460850207834,5.47102356746708,1.30624092888244,12.889486102097077,0.145,21.1005157556598,25.768997120490308,12.7389995554089,26.016214376881898,21.341356924865494,26.287071042465648,18.401,6.192943100606479,26.36903870854478,13.2552812558042,20.584957988487073,1.05129980233915,20.7349525434642,25.332406039352673,19.82793063057168,19.354801967997645,0.873,18.52295787338882,7.503168858841401,26.766734018551308,9.718,0.25987525987526,0.164206342301685,0.136,0.213,1.076,25.692405429486037,0.138,0.174,0.037,14.8118899892259,26.09763486491772,5.768,0.107,25.641983404659626,26.385283180594584,0.425397819608497,18.885,0.329,6.685,0.174630426870292,0.834763261139141,12.234012813051118,0.696,0.197,0.142,26.665031745616123,0.222,20.99461631362961,0.097,12.0398885876535,25.485152033696398,17.49144573471112,0.375,0.108,0.12339803966070126,25.863326518684254,0.216,13.6881637008652,25.74696686801109,2.00968776370267,1.091,0.397398028935656,24.95691774717147,1.6145465585052161,24.06781447667669,8.646,17.3720805008401,12.7064254277157,27.80905329547206,24.059044561358515,11.312,18.682071728327916,0.0,23.132509056489308,20.68338087449606,22.229,0.20036566724833785,11.118,15.914338730842232,21.427,12.855686197044877,0.02125571448463866,15.0480465209937,13.856646188464792,12.5356806389471,25.235828433046,23.227854557661967,13.073015536222893,27.944120468937104,1.2406745605291443,13.248570478619234,25.356076203613206,13.099337364644525,0.127,13.9315209119128,26.93384083470685,27.28224805488585,0.154,25.63621480836218,0.178,21.0930826070672,27.7171947259727,11.063061523570212,15.2335388128844,3.625,0.435336130842886,27.260948365718953,13.544474393531],\"y0\":\" \",\"yaxis\":\"y\",\"type\":\"box\"}],                        {\"template\":{\"data\":{\"bar\":[{\"error_x\":{\"color\":\"#2a3f5f\"},\"error_y\":{\"color\":\"#2a3f5f\"},\"marker\":{\"line\":{\"color\":\"#E5ECF6\",\"width\":0.5},\"pattern\":{\"fillmode\":\"overlay\",\"size\":10,\"solidity\":0.2}},\"type\":\"bar\"}],\"barpolar\":[{\"marker\":{\"line\":{\"color\":\"#E5ECF6\",\"width\":0.5},\"pattern\":{\"fillmode\":\"overlay\",\"size\":10,\"solidity\":0.2}},\"type\":\"barpolar\"}],\"carpet\":[{\"aaxis\":{\"endlinecolor\":\"#2a3f5f\",\"gridcolor\":\"white\",\"linecolor\":\"white\",\"minorgridcolor\":\"white\",\"startlinecolor\":\"#2a3f5f\"},\"baxis\":{\"endlinecolor\":\"#2a3f5f\",\"gridcolor\":\"white\",\"linecolor\":\"white\",\"minorgridcolor\":\"white\",\"startlinecolor\":\"#2a3f5f\"},\"type\":\"carpet\"}],\"choropleth\":[{\"colorbar\":{\"outlinewidth\":0,\"ticks\":\"\"},\"type\":\"choropleth\"}],\"contour\":[{\"colorbar\":{\"outlinewidth\":0,\"ticks\":\"\"},\"colorscale\":[[0.0,\"#0d0887\"],[0.1111111111111111,\"#46039f\"],[0.2222222222222222,\"#7201a8\"],[0.3333333333333333,\"#9c179e\"],[0.4444444444444444,\"#bd3786\"],[0.5555555555555556,\"#d8576b\"],[0.6666666666666666,\"#ed7953\"],[0.7777777777777778,\"#fb9f3a\"],[0.8888888888888888,\"#fdca26\"],[1.0,\"#f0f921\"]],\"type\":\"contour\"}],\"contourcarpet\":[{\"colorbar\":{\"outlinewidth\":0,\"ticks\":\"\"},\"type\":\"contourcarpet\"}],\"heatmap\":[{\"colorbar\":{\"outlinewidth\":0,\"ticks\":\"\"},\"colorscale\":[[0.0,\"#0d0887\"],[0.1111111111111111,\"#46039f\"],[0.2222222222222222,\"#7201a8\"],[0.3333333333333333,\"#9c179e\"],[0.4444444444444444,\"#bd3786\"],[0.5555555555555556,\"#d8576b\"],[0.6666666666666666,\"#ed7953\"],[0.7777777777777778,\"#fb9f3a\"],[0.8888888888888888,\"#fdca26\"],[1.0,\"#f0f921\"]],\"type\":\"heatmap\"}],\"heatmapgl\":[{\"colorbar\":{\"outlinewidth\":0,\"ticks\":\"\"},\"colorscale\":[[0.0,\"#0d0887\"],[0.1111111111111111,\"#46039f\"],[0.2222222222222222,\"#7201a8\"],[0.3333333333333333,\"#9c179e\"],[0.4444444444444444,\"#bd3786\"],[0.5555555555555556,\"#d8576b\"],[0.6666666666666666,\"#ed7953\"],[0.7777777777777778,\"#fb9f3a\"],[0.8888888888888888,\"#fdca26\"],[1.0,\"#f0f921\"]],\"type\":\"heatmapgl\"}],\"histogram\":[{\"marker\":{\"pattern\":{\"fillmode\":\"overlay\",\"size\":10,\"solidity\":0.2}},\"type\":\"histogram\"}],\"histogram2d\":[{\"colorbar\":{\"outlinewidth\":0,\"ticks\":\"\"},\"colorscale\":[[0.0,\"#0d0887\"],[0.1111111111111111,\"#46039f\"],[0.2222222222222222,\"#7201a8\"],[0.3333333333333333,\"#9c179e\"],[0.4444444444444444,\"#bd3786\"],[0.5555555555555556,\"#d8576b\"],[0.6666666666666666,\"#ed7953\"],[0.7777777777777778,\"#fb9f3a\"],[0.8888888888888888,\"#fdca26\"],[1.0,\"#f0f921\"]],\"type\":\"histogram2d\"}],\"histogram2dcontour\":[{\"colorbar\":{\"outlinewidth\":0,\"ticks\":\"\"},\"colorscale\":[[0.0,\"#0d0887\"],[0.1111111111111111,\"#46039f\"],[0.2222222222222222,\"#7201a8\"],[0.3333333333333333,\"#9c179e\"],[0.4444444444444444,\"#bd3786\"],[0.5555555555555556,\"#d8576b\"],[0.6666666666666666,\"#ed7953\"],[0.7777777777777778,\"#fb9f3a\"],[0.8888888888888888,\"#fdca26\"],[1.0,\"#f0f921\"]],\"type\":\"histogram2dcontour\"}],\"mesh3d\":[{\"colorbar\":{\"outlinewidth\":0,\"ticks\":\"\"},\"type\":\"mesh3d\"}],\"parcoords\":[{\"line\":{\"colorbar\":{\"outlinewidth\":0,\"ticks\":\"\"}},\"type\":\"parcoords\"}],\"pie\":[{\"automargin\":true,\"type\":\"pie\"}],\"scatter\":[{\"marker\":{\"colorbar\":{\"outlinewidth\":0,\"ticks\":\"\"}},\"type\":\"scatter\"}],\"scatter3d\":[{\"line\":{\"colorbar\":{\"outlinewidth\":0,\"ticks\":\"\"}},\"marker\":{\"colorbar\":{\"outlinewidth\":0,\"ticks\":\"\"}},\"type\":\"scatter3d\"}],\"scattercarpet\":[{\"marker\":{\"colorbar\":{\"outlinewidth\":0,\"ticks\":\"\"}},\"type\":\"scattercarpet\"}],\"scattergeo\":[{\"marker\":{\"colorbar\":{\"outlinewidth\":0,\"ticks\":\"\"}},\"type\":\"scattergeo\"}],\"scattergl\":[{\"marker\":{\"colorbar\":{\"outlinewidth\":0,\"ticks\":\"\"}},\"type\":\"scattergl\"}],\"scattermapbox\":[{\"marker\":{\"colorbar\":{\"outlinewidth\":0,\"ticks\":\"\"}},\"type\":\"scattermapbox\"}],\"scatterpolar\":[{\"marker\":{\"colorbar\":{\"outlinewidth\":0,\"ticks\":\"\"}},\"type\":\"scatterpolar\"}],\"scatterpolargl\":[{\"marker\":{\"colorbar\":{\"outlinewidth\":0,\"ticks\":\"\"}},\"type\":\"scatterpolargl\"}],\"scatterternary\":[{\"marker\":{\"colorbar\":{\"outlinewidth\":0,\"ticks\":\"\"}},\"type\":\"scatterternary\"}],\"surface\":[{\"colorbar\":{\"outlinewidth\":0,\"ticks\":\"\"},\"colorscale\":[[0.0,\"#0d0887\"],[0.1111111111111111,\"#46039f\"],[0.2222222222222222,\"#7201a8\"],[0.3333333333333333,\"#9c179e\"],[0.4444444444444444,\"#bd3786\"],[0.5555555555555556,\"#d8576b\"],[0.6666666666666666,\"#ed7953\"],[0.7777777777777778,\"#fb9f3a\"],[0.8888888888888888,\"#fdca26\"],[1.0,\"#f0f921\"]],\"type\":\"surface\"}],\"table\":[{\"cells\":{\"fill\":{\"color\":\"#EBF0F8\"},\"line\":{\"color\":\"white\"}},\"header\":{\"fill\":{\"color\":\"#C8D4E3\"},\"line\":{\"color\":\"white\"}},\"type\":\"table\"}]},\"layout\":{\"annotationdefaults\":{\"arrowcolor\":\"#2a3f5f\",\"arrowhead\":0,\"arrowwidth\":1},\"autotypenumbers\":\"strict\",\"coloraxis\":{\"colorbar\":{\"outlinewidth\":0,\"ticks\":\"\"}},\"colorscale\":{\"diverging\":[[0,\"#8e0152\"],[0.1,\"#c51b7d\"],[0.2,\"#de77ae\"],[0.3,\"#f1b6da\"],[0.4,\"#fde0ef\"],[0.5,\"#f7f7f7\"],[0.6,\"#e6f5d0\"],[0.7,\"#b8e186\"],[0.8,\"#7fbc41\"],[0.9,\"#4d9221\"],[1,\"#276419\"]],\"sequential\":[[0.0,\"#0d0887\"],[0.1111111111111111,\"#46039f\"],[0.2222222222222222,\"#7201a8\"],[0.3333333333333333,\"#9c179e\"],[0.4444444444444444,\"#bd3786\"],[0.5555555555555556,\"#d8576b\"],[0.6666666666666666,\"#ed7953\"],[0.7777777777777778,\"#fb9f3a\"],[0.8888888888888888,\"#fdca26\"],[1.0,\"#f0f921\"]],\"sequentialminus\":[[0.0,\"#0d0887\"],[0.1111111111111111,\"#46039f\"],[0.2222222222222222,\"#7201a8\"],[0.3333333333333333,\"#9c179e\"],[0.4444444444444444,\"#bd3786\"],[0.5555555555555556,\"#d8576b\"],[0.6666666666666666,\"#ed7953\"],[0.7777777777777778,\"#fb9f3a\"],[0.8888888888888888,\"#fdca26\"],[1.0,\"#f0f921\"]]},\"colorway\":[\"#636efa\",\"#EF553B\",\"#00cc96\",\"#ab63fa\",\"#FFA15A\",\"#19d3f3\",\"#FF6692\",\"#B6E880\",\"#FF97FF\",\"#FECB52\"],\"font\":{\"color\":\"#2a3f5f\"},\"geo\":{\"bgcolor\":\"white\",\"lakecolor\":\"white\",\"landcolor\":\"#E5ECF6\",\"showlakes\":true,\"showland\":true,\"subunitcolor\":\"white\"},\"hoverlabel\":{\"align\":\"left\"},\"hovermode\":\"closest\",\"mapbox\":{\"style\":\"light\"},\"paper_bgcolor\":\"white\",\"plot_bgcolor\":\"#E5ECF6\",\"polar\":{\"angularaxis\":{\"gridcolor\":\"white\",\"linecolor\":\"white\",\"ticks\":\"\"},\"bgcolor\":\"#E5ECF6\",\"radialaxis\":{\"gridcolor\":\"white\",\"linecolor\":\"white\",\"ticks\":\"\"}},\"scene\":{\"xaxis\":{\"backgroundcolor\":\"#E5ECF6\",\"gridcolor\":\"white\",\"gridwidth\":2,\"linecolor\":\"white\",\"showbackground\":true,\"ticks\":\"\",\"zerolinecolor\":\"white\"},\"yaxis\":{\"backgroundcolor\":\"#E5ECF6\",\"gridcolor\":\"white\",\"gridwidth\":2,\"linecolor\":\"white\",\"showbackground\":true,\"ticks\":\"\",\"zerolinecolor\":\"white\"},\"zaxis\":{\"backgroundcolor\":\"#E5ECF6\",\"gridcolor\":\"white\",\"gridwidth\":2,\"linecolor\":\"white\",\"showbackground\":true,\"ticks\":\"\",\"zerolinecolor\":\"white\"}},\"shapedefaults\":{\"line\":{\"color\":\"#2a3f5f\"}},\"ternary\":{\"aaxis\":{\"gridcolor\":\"white\",\"linecolor\":\"white\",\"ticks\":\"\"},\"baxis\":{\"gridcolor\":\"white\",\"linecolor\":\"white\",\"ticks\":\"\"},\"bgcolor\":\"#E5ECF6\",\"caxis\":{\"gridcolor\":\"white\",\"linecolor\":\"white\",\"ticks\":\"\"}},\"title\":{\"x\":0.05},\"xaxis\":{\"automargin\":true,\"gridcolor\":\"white\",\"linecolor\":\"white\",\"ticks\":\"\",\"title\":{\"standoff\":15},\"zerolinecolor\":\"white\",\"zerolinewidth\":2},\"yaxis\":{\"automargin\":true,\"gridcolor\":\"white\",\"linecolor\":\"white\",\"ticks\":\"\",\"title\":{\"standoff\":15},\"zerolinecolor\":\"white\",\"zerolinewidth\":2}}},\"xaxis\":{\"anchor\":\"y\",\"domain\":[0.0,1.0],\"title\":{\"text\":\"month\"}},\"yaxis\":{\"anchor\":\"x\",\"domain\":[0.0,1.0],\"title\":{\"text\":\"no2_no3_um\"}},\"legend\":{\"tracegroupgap\":0},\"margin\":{\"t\":60},\"boxmode\":\"group\",\"width\":1500},                        {\"responsive\": true}                    ).then(function(){\n                            \nvar gd = document.getElementById('c5317298-e088-4c75-a98d-e7f9a35c9f05');\nvar x = new MutationObserver(function (mutations, observer) {{\n        var display = window.getComputedStyle(gd).display;\n        if (!display || display === 'none') {{\n            console.log([gd, 'removed!']);\n            Plotly.purge(gd);\n            observer.disconnect();\n        }}\n}});\n\n// Listen for the removal of the full notebook cells\nvar notebookContainer = gd.closest('#notebook-container');\nif (notebookContainer) {{\n    x.observe(notebookContainer, {childList: true});\n}}\n\n// Listen for the clearing of the current output cell\nvar outputEl = gd.closest('.output');\nif (outputEl) {{\n    x.observe(outputEl, {childList: true});\n}}\n\n                        })                };                            </script>        </div>\n</body>\n</html>"
                },
                "metadata": {},
                "output_type": "display_data"
              }
            ]
          }
        },
        "b680c36751ba43e2beefaa698ef651a3": {
          "model_module": "@jupyter-widgets/controls",
          "model_module_version": "1.5.0",
          "model_name": "VBoxModel",
          "state": {
            "_dom_classes": [
              "widget-interact"
            ],
            "_model_module": "@jupyter-widgets/controls",
            "_model_module_version": "1.5.0",
            "_model_name": "VBoxModel",
            "_view_count": null,
            "_view_module": "@jupyter-widgets/controls",
            "_view_module_version": "1.5.0",
            "_view_name": "VBoxView",
            "box_style": "",
            "children": [
              "IPY_MODEL_61964a8de56b4193a04bcaddaf93dd8f",
              "IPY_MODEL_3817adc9a5de442ca736089d481be6ea",
              "IPY_MODEL_6d4740b9f2394d2baadccf4543eb25da"
            ],
            "layout": "IPY_MODEL_61f1fb6382664201bf015eb7bb29ce85"
          }
        },
        "b7c38a51c3414e1683c5f9b4ffa5ac23": {
          "model_module": "@jupyter-widgets/base",
          "model_module_version": "1.2.0",
          "model_name": "LayoutModel",
          "state": {
            "_model_module": "@jupyter-widgets/base",
            "_model_module_version": "1.2.0",
            "_model_name": "LayoutModel",
            "_view_count": null,
            "_view_module": "@jupyter-widgets/base",
            "_view_module_version": "1.2.0",
            "_view_name": "LayoutView",
            "align_content": null,
            "align_items": null,
            "align_self": null,
            "border": null,
            "bottom": null,
            "display": null,
            "flex": null,
            "flex_flow": null,
            "grid_area": null,
            "grid_auto_columns": null,
            "grid_auto_flow": null,
            "grid_auto_rows": null,
            "grid_column": null,
            "grid_gap": null,
            "grid_row": null,
            "grid_template_areas": null,
            "grid_template_columns": null,
            "grid_template_rows": null,
            "height": null,
            "justify_content": null,
            "justify_items": null,
            "left": null,
            "margin": null,
            "max_height": null,
            "max_width": null,
            "min_height": null,
            "min_width": null,
            "object_fit": null,
            "object_position": null,
            "order": null,
            "overflow": null,
            "overflow_x": null,
            "overflow_y": null,
            "padding": null,
            "right": null,
            "top": null,
            "visibility": null,
            "width": null
          }
        },
        "bf2f84c3fc2e4b61b1d2c5c295d574ee": {
          "model_module": "@jupyter-widgets/output",
          "model_module_version": "1.0.0",
          "model_name": "OutputModel",
          "state": {
            "_dom_classes": [],
            "_model_module": "@jupyter-widgets/output",
            "_model_module_version": "1.0.0",
            "_model_name": "OutputModel",
            "_view_count": null,
            "_view_module": "@jupyter-widgets/output",
            "_view_module_version": "1.0.0",
            "_view_name": "OutputView",
            "layout": "IPY_MODEL_7db4e935664f42478aebbf87973299b1",
            "msg_id": "",
            "outputs": [
              {
                "data": {
                  "text/html": "<html>\n<head><meta charset=\"utf-8\" /></head>\n<body>\n    <div>            <script src=\"https://cdnjs.cloudflare.com/ajax/libs/mathjax/2.7.5/MathJax.js?config=TeX-AMS-MML_SVG\"></script><script type=\"text/javascript\">if (window.MathJax) {MathJax.Hub.Config({SVG: {font: \"STIX-Web\"}});}</script>                <script type=\"text/javascript\">window.PlotlyConfig = {MathJaxConfig: 'local'};</script>\n        <script src=\"https://cdn.plot.ly/plotly-2.8.3.min.js\"></script>                <div id=\"39660d3c-4d2a-4616-bd96-b47515025218\" class=\"plotly-graph-div\" style=\"height:525px; width:1500px;\"></div>            <script type=\"text/javascript\">                                    window.PLOTLYENV=window.PLOTLYENV || {};                                    if (document.getElementById(\"39660d3c-4d2a-4616-bd96-b47515025218\")) {                    Plotly.newPlot(                        \"39660d3c-4d2a-4616-bd96-b47515025218\",                        [{\"customdata\":[[\"QNUT4821\"],[\"QNUT4822\"],[\"QNUT4823\"],[\"QNUT4824\"],[\"QNUT4825\"],[\"QNUT4826\"],[\"QNUT4827\"],[\"QNUT4828\"],[\"QNUT4829\"]],\"hovertemplate\":\"no2_no3_flag=AV<br>no2_no3_um=%{x}<br>depth=%{y}<br>hakai_id=%{customdata[0]}<extra></extra>\",\"legendgroup\":\"AV\",\"line\":{\"color\":\"#2ECC40\",\"dash\":\"solid\"},\"marker\":{\"symbol\":\"circle\"},\"mode\":\"markers+lines\",\"name\":\"AV\",\"orientation\":\"v\",\"showlegend\":true,\"x\":[14.2025641635823,14.2112652181958,15.6143904319676,21.9110592141551,23.2798296242389,27.2292613304666,28.1845085477034,29.9633510029884,34.8457022236505],\"xaxis\":\"x\",\"y\":[0.0,5.607411,10.3499807,20.0,29.9436723,40.0,48.8256768,75.0,94.8762707],\"yaxis\":\"y\",\"type\":\"scatter\"},{\"customdata\":[[\"QM828\"],[\"QM826\"],[\"QM827\"]],\"hovertemplate\":\"no2_no3_flag=MV<br>no2_no3_um=%{x}<br>depth=%{y}<br>hakai_id=%{customdata[0]}<extra></extra>\",\"legendgroup\":\"MV\",\"line\":{\"color\":\"#FFDC00\",\"dash\":\"solid\"},\"marker\":{\"symbol\":\"circle\"},\"mode\":\"markers+lines\",\"name\":\"MV\",\"orientation\":\"v\",\"showlegend\":true,\"x\":[null,null,null],\"xaxis\":\"x\",\"y\":[150.0,200.0,260.0],\"yaxis\":\"y\",\"type\":\"scatter\"},{\"customdata\":[[\"QNUT4821\"],[\"QNUT4822\"],[\"QNUT4823\"],[\"QNUT4824\"],[\"QNUT4825\"],[\"QNUT4826\"],[\"QNUT4827\"],[\"QNUT4828\"],[\"QNUT4829\"]],\"hovertemplate\":\"sio2_flag=AV<br>sio2=%{x}<br>depth=%{y}<br>hakai_id=%{customdata[0]}<extra></extra>\",\"legendgroup\":\"AV\",\"line\":{\"color\":\"#2ECC40\",\"dash\":\"solid\"},\"marker\":{\"symbol\":\"circle\"},\"mode\":\"markers+lines\",\"name\":\"AV\",\"orientation\":\"v\",\"showlegend\":false,\"x\":[34.9884798690062,34.5956519671273,37.0927485900031,46.3816738821379,48.4051151380281,55.0742020504753,57.8745524619645,59.5918858963272,59.0604721607726],\"xaxis\":\"x2\",\"y\":[0.0,5.607411,10.3499807,20.0,29.9436723,40.0,48.8256768,75.0,94.8762707],\"yaxis\":\"y2\",\"type\":\"scatter\"},{\"customdata\":[[\"QM828\"],[\"QM826\"],[\"QM827\"]],\"hovertemplate\":\"sio2_flag=MV<br>sio2=%{x}<br>depth=%{y}<br>hakai_id=%{customdata[0]}<extra></extra>\",\"legendgroup\":\"MV\",\"line\":{\"color\":\"#FFDC00\",\"dash\":\"solid\"},\"marker\":{\"symbol\":\"circle\"},\"mode\":\"markers+lines\",\"name\":\"MV\",\"orientation\":\"v\",\"showlegend\":false,\"x\":[null,null,null],\"xaxis\":\"x2\",\"y\":[150.0,200.0,260.0],\"yaxis\":\"y2\",\"type\":\"scatter\"},{\"customdata\":[[\"QNUT4821\"],[\"QNUT4822\"],[\"QNUT4823\"],[\"QNUT4824\"],[\"QNUT4825\"],[\"QNUT4826\"],[\"QNUT4827\"],[\"QNUT4828\"],[\"QNUT4829\"]],\"hovertemplate\":\"po4_flag=AV<br>po4=%{x}<br>depth=%{y}<br>hakai_id=%{customdata[0]}<extra></extra>\",\"legendgroup\":\"AV\",\"line\":{\"color\":\"#2ECC40\",\"dash\":\"solid\"},\"marker\":{\"symbol\":\"circle\"},\"mode\":\"markers+lines\",\"name\":\"AV\",\"orientation\":\"v\",\"showlegend\":false,\"x\":[1.47216764954967,1.45725674478034,1.57909284900856,2.14460722033206,2.20457577356373,2.48460182983441,2.5126450583895,2.66044036071883,2.85720010660828],\"xaxis\":\"x3\",\"y\":[0.0,5.607411,10.3499807,20.0,29.9436723,40.0,48.8256768,75.0,94.8762707],\"yaxis\":\"y3\",\"type\":\"scatter\"},{\"customdata\":[[\"QM828\"],[\"QM826\"],[\"QM827\"]],\"hovertemplate\":\"po4_flag=MV<br>po4=%{x}<br>depth=%{y}<br>hakai_id=%{customdata[0]}<extra></extra>\",\"legendgroup\":\"MV\",\"line\":{\"color\":\"#FFDC00\",\"dash\":\"solid\"},\"marker\":{\"symbol\":\"circle\"},\"mode\":\"markers+lines\",\"name\":\"MV\",\"orientation\":\"v\",\"showlegend\":false,\"x\":[null,null,null],\"xaxis\":\"x3\",\"y\":[150.0,200.0,260.0],\"yaxis\":\"y3\",\"type\":\"scatter\"}],                        {\"template\":{\"data\":{\"bar\":[{\"error_x\":{\"color\":\"#2a3f5f\"},\"error_y\":{\"color\":\"#2a3f5f\"},\"marker\":{\"line\":{\"color\":\"#E5ECF6\",\"width\":0.5},\"pattern\":{\"fillmode\":\"overlay\",\"size\":10,\"solidity\":0.2}},\"type\":\"bar\"}],\"barpolar\":[{\"marker\":{\"line\":{\"color\":\"#E5ECF6\",\"width\":0.5},\"pattern\":{\"fillmode\":\"overlay\",\"size\":10,\"solidity\":0.2}},\"type\":\"barpolar\"}],\"carpet\":[{\"aaxis\":{\"endlinecolor\":\"#2a3f5f\",\"gridcolor\":\"white\",\"linecolor\":\"white\",\"minorgridcolor\":\"white\",\"startlinecolor\":\"#2a3f5f\"},\"baxis\":{\"endlinecolor\":\"#2a3f5f\",\"gridcolor\":\"white\",\"linecolor\":\"white\",\"minorgridcolor\":\"white\",\"startlinecolor\":\"#2a3f5f\"},\"type\":\"carpet\"}],\"choropleth\":[{\"colorbar\":{\"outlinewidth\":0,\"ticks\":\"\"},\"type\":\"choropleth\"}],\"contour\":[{\"colorbar\":{\"outlinewidth\":0,\"ticks\":\"\"},\"colorscale\":[[0.0,\"#0d0887\"],[0.1111111111111111,\"#46039f\"],[0.2222222222222222,\"#7201a8\"],[0.3333333333333333,\"#9c179e\"],[0.4444444444444444,\"#bd3786\"],[0.5555555555555556,\"#d8576b\"],[0.6666666666666666,\"#ed7953\"],[0.7777777777777778,\"#fb9f3a\"],[0.8888888888888888,\"#fdca26\"],[1.0,\"#f0f921\"]],\"type\":\"contour\"}],\"contourcarpet\":[{\"colorbar\":{\"outlinewidth\":0,\"ticks\":\"\"},\"type\":\"contourcarpet\"}],\"heatmap\":[{\"colorbar\":{\"outlinewidth\":0,\"ticks\":\"\"},\"colorscale\":[[0.0,\"#0d0887\"],[0.1111111111111111,\"#46039f\"],[0.2222222222222222,\"#7201a8\"],[0.3333333333333333,\"#9c179e\"],[0.4444444444444444,\"#bd3786\"],[0.5555555555555556,\"#d8576b\"],[0.6666666666666666,\"#ed7953\"],[0.7777777777777778,\"#fb9f3a\"],[0.8888888888888888,\"#fdca26\"],[1.0,\"#f0f921\"]],\"type\":\"heatmap\"}],\"heatmapgl\":[{\"colorbar\":{\"outlinewidth\":0,\"ticks\":\"\"},\"colorscale\":[[0.0,\"#0d0887\"],[0.1111111111111111,\"#46039f\"],[0.2222222222222222,\"#7201a8\"],[0.3333333333333333,\"#9c179e\"],[0.4444444444444444,\"#bd3786\"],[0.5555555555555556,\"#d8576b\"],[0.6666666666666666,\"#ed7953\"],[0.7777777777777778,\"#fb9f3a\"],[0.8888888888888888,\"#fdca26\"],[1.0,\"#f0f921\"]],\"type\":\"heatmapgl\"}],\"histogram\":[{\"marker\":{\"pattern\":{\"fillmode\":\"overlay\",\"size\":10,\"solidity\":0.2}},\"type\":\"histogram\"}],\"histogram2d\":[{\"colorbar\":{\"outlinewidth\":0,\"ticks\":\"\"},\"colorscale\":[[0.0,\"#0d0887\"],[0.1111111111111111,\"#46039f\"],[0.2222222222222222,\"#7201a8\"],[0.3333333333333333,\"#9c179e\"],[0.4444444444444444,\"#bd3786\"],[0.5555555555555556,\"#d8576b\"],[0.6666666666666666,\"#ed7953\"],[0.7777777777777778,\"#fb9f3a\"],[0.8888888888888888,\"#fdca26\"],[1.0,\"#f0f921\"]],\"type\":\"histogram2d\"}],\"histogram2dcontour\":[{\"colorbar\":{\"outlinewidth\":0,\"ticks\":\"\"},\"colorscale\":[[0.0,\"#0d0887\"],[0.1111111111111111,\"#46039f\"],[0.2222222222222222,\"#7201a8\"],[0.3333333333333333,\"#9c179e\"],[0.4444444444444444,\"#bd3786\"],[0.5555555555555556,\"#d8576b\"],[0.6666666666666666,\"#ed7953\"],[0.7777777777777778,\"#fb9f3a\"],[0.8888888888888888,\"#fdca26\"],[1.0,\"#f0f921\"]],\"type\":\"histogram2dcontour\"}],\"mesh3d\":[{\"colorbar\":{\"outlinewidth\":0,\"ticks\":\"\"},\"type\":\"mesh3d\"}],\"parcoords\":[{\"line\":{\"colorbar\":{\"outlinewidth\":0,\"ticks\":\"\"}},\"type\":\"parcoords\"}],\"pie\":[{\"automargin\":true,\"type\":\"pie\"}],\"scatter\":[{\"marker\":{\"colorbar\":{\"outlinewidth\":0,\"ticks\":\"\"}},\"type\":\"scatter\"}],\"scatter3d\":[{\"line\":{\"colorbar\":{\"outlinewidth\":0,\"ticks\":\"\"}},\"marker\":{\"colorbar\":{\"outlinewidth\":0,\"ticks\":\"\"}},\"type\":\"scatter3d\"}],\"scattercarpet\":[{\"marker\":{\"colorbar\":{\"outlinewidth\":0,\"ticks\":\"\"}},\"type\":\"scattercarpet\"}],\"scattergeo\":[{\"marker\":{\"colorbar\":{\"outlinewidth\":0,\"ticks\":\"\"}},\"type\":\"scattergeo\"}],\"scattergl\":[{\"marker\":{\"colorbar\":{\"outlinewidth\":0,\"ticks\":\"\"}},\"type\":\"scattergl\"}],\"scattermapbox\":[{\"marker\":{\"colorbar\":{\"outlinewidth\":0,\"ticks\":\"\"}},\"type\":\"scattermapbox\"}],\"scatterpolar\":[{\"marker\":{\"colorbar\":{\"outlinewidth\":0,\"ticks\":\"\"}},\"type\":\"scatterpolar\"}],\"scatterpolargl\":[{\"marker\":{\"colorbar\":{\"outlinewidth\":0,\"ticks\":\"\"}},\"type\":\"scatterpolargl\"}],\"scatterternary\":[{\"marker\":{\"colorbar\":{\"outlinewidth\":0,\"ticks\":\"\"}},\"type\":\"scatterternary\"}],\"surface\":[{\"colorbar\":{\"outlinewidth\":0,\"ticks\":\"\"},\"colorscale\":[[0.0,\"#0d0887\"],[0.1111111111111111,\"#46039f\"],[0.2222222222222222,\"#7201a8\"],[0.3333333333333333,\"#9c179e\"],[0.4444444444444444,\"#bd3786\"],[0.5555555555555556,\"#d8576b\"],[0.6666666666666666,\"#ed7953\"],[0.7777777777777778,\"#fb9f3a\"],[0.8888888888888888,\"#fdca26\"],[1.0,\"#f0f921\"]],\"type\":\"surface\"}],\"table\":[{\"cells\":{\"fill\":{\"color\":\"#EBF0F8\"},\"line\":{\"color\":\"white\"}},\"header\":{\"fill\":{\"color\":\"#C8D4E3\"},\"line\":{\"color\":\"white\"}},\"type\":\"table\"}]},\"layout\":{\"annotationdefaults\":{\"arrowcolor\":\"#2a3f5f\",\"arrowhead\":0,\"arrowwidth\":1},\"autotypenumbers\":\"strict\",\"coloraxis\":{\"colorbar\":{\"outlinewidth\":0,\"ticks\":\"\"}},\"colorscale\":{\"diverging\":[[0,\"#8e0152\"],[0.1,\"#c51b7d\"],[0.2,\"#de77ae\"],[0.3,\"#f1b6da\"],[0.4,\"#fde0ef\"],[0.5,\"#f7f7f7\"],[0.6,\"#e6f5d0\"],[0.7,\"#b8e186\"],[0.8,\"#7fbc41\"],[0.9,\"#4d9221\"],[1,\"#276419\"]],\"sequential\":[[0.0,\"#0d0887\"],[0.1111111111111111,\"#46039f\"],[0.2222222222222222,\"#7201a8\"],[0.3333333333333333,\"#9c179e\"],[0.4444444444444444,\"#bd3786\"],[0.5555555555555556,\"#d8576b\"],[0.6666666666666666,\"#ed7953\"],[0.7777777777777778,\"#fb9f3a\"],[0.8888888888888888,\"#fdca26\"],[1.0,\"#f0f921\"]],\"sequentialminus\":[[0.0,\"#0d0887\"],[0.1111111111111111,\"#46039f\"],[0.2222222222222222,\"#7201a8\"],[0.3333333333333333,\"#9c179e\"],[0.4444444444444444,\"#bd3786\"],[0.5555555555555556,\"#d8576b\"],[0.6666666666666666,\"#ed7953\"],[0.7777777777777778,\"#fb9f3a\"],[0.8888888888888888,\"#fdca26\"],[1.0,\"#f0f921\"]]},\"colorway\":[\"#636efa\",\"#EF553B\",\"#00cc96\",\"#ab63fa\",\"#FFA15A\",\"#19d3f3\",\"#FF6692\",\"#B6E880\",\"#FF97FF\",\"#FECB52\"],\"font\":{\"color\":\"#2a3f5f\"},\"geo\":{\"bgcolor\":\"white\",\"lakecolor\":\"white\",\"landcolor\":\"#E5ECF6\",\"showlakes\":true,\"showland\":true,\"subunitcolor\":\"white\"},\"hoverlabel\":{\"align\":\"left\"},\"hovermode\":\"closest\",\"mapbox\":{\"style\":\"light\"},\"paper_bgcolor\":\"white\",\"plot_bgcolor\":\"#E5ECF6\",\"polar\":{\"angularaxis\":{\"gridcolor\":\"white\",\"linecolor\":\"white\",\"ticks\":\"\"},\"bgcolor\":\"#E5ECF6\",\"radialaxis\":{\"gridcolor\":\"white\",\"linecolor\":\"white\",\"ticks\":\"\"}},\"scene\":{\"xaxis\":{\"backgroundcolor\":\"#E5ECF6\",\"gridcolor\":\"white\",\"gridwidth\":2,\"linecolor\":\"white\",\"showbackground\":true,\"ticks\":\"\",\"zerolinecolor\":\"white\"},\"yaxis\":{\"backgroundcolor\":\"#E5ECF6\",\"gridcolor\":\"white\",\"gridwidth\":2,\"linecolor\":\"white\",\"showbackground\":true,\"ticks\":\"\",\"zerolinecolor\":\"white\"},\"zaxis\":{\"backgroundcolor\":\"#E5ECF6\",\"gridcolor\":\"white\",\"gridwidth\":2,\"linecolor\":\"white\",\"showbackground\":true,\"ticks\":\"\",\"zerolinecolor\":\"white\"}},\"shapedefaults\":{\"line\":{\"color\":\"#2a3f5f\"}},\"ternary\":{\"aaxis\":{\"gridcolor\":\"white\",\"linecolor\":\"white\",\"ticks\":\"\"},\"baxis\":{\"gridcolor\":\"white\",\"linecolor\":\"white\",\"ticks\":\"\"},\"bgcolor\":\"#E5ECF6\",\"caxis\":{\"gridcolor\":\"white\",\"linecolor\":\"white\",\"ticks\":\"\"}},\"title\":{\"x\":0.05},\"xaxis\":{\"automargin\":true,\"gridcolor\":\"white\",\"linecolor\":\"white\",\"ticks\":\"\",\"title\":{\"standoff\":15},\"zerolinecolor\":\"white\",\"zerolinewidth\":2},\"yaxis\":{\"automargin\":true,\"gridcolor\":\"white\",\"linecolor\":\"white\",\"ticks\":\"\",\"title\":{\"standoff\":15},\"zerolinecolor\":\"white\",\"zerolinewidth\":2}}},\"xaxis\":{\"anchor\":\"y\",\"domain\":[0.0,0.2888888888888889],\"title\":{\"text\":\"no2_no3_um\"}},\"yaxis\":{\"anchor\":\"x\",\"domain\":[0.0,1.0],\"title\":{\"text\":\"Depth (m)\"},\"autorange\":\"reversed\"},\"xaxis2\":{\"anchor\":\"y2\",\"domain\":[0.35555555555555557,0.6444444444444445],\"title\":{\"text\":\"sio2\"}},\"yaxis2\":{\"anchor\":\"x2\",\"domain\":[0.0,1.0],\"autorange\":\"reversed\"},\"xaxis3\":{\"anchor\":\"y3\",\"domain\":[0.7111111111111111,1.0],\"title\":{\"text\":\"po4\"}},\"yaxis3\":{\"anchor\":\"x3\",\"domain\":[0.0,1.0],\"autorange\":\"reversed\"},\"width\":1500},                        {\"responsive\": true}                    ).then(function(){\n                            \nvar gd = document.getElementById('39660d3c-4d2a-4616-bd96-b47515025218');\nvar x = new MutationObserver(function (mutations, observer) {{\n        var display = window.getComputedStyle(gd).display;\n        if (!display || display === 'none') {{\n            console.log([gd, 'removed!']);\n            Plotly.purge(gd);\n            observer.disconnect();\n        }}\n}});\n\n// Listen for the removal of the full notebook cells\nvar notebookContainer = gd.closest('#notebook-container');\nif (notebookContainer) {{\n    x.observe(notebookContainer, {childList: true});\n}}\n\n// Listen for the clearing of the current output cell\nvar outputEl = gd.closest('.output');\nif (outputEl) {{\n    x.observe(outputEl, {childList: true});\n}}\n\n                        })                };                            </script>        </div>\n</body>\n</html>"
                },
                "metadata": {},
                "output_type": "display_data"
              }
            ]
          }
        },
        "c472e22593c240cca2e3b9fb32778a38": {
          "model_module": "@jupyter-widgets/controls",
          "model_module_version": "1.5.0",
          "model_name": "DescriptionStyleModel",
          "state": {
            "_model_module": "@jupyter-widgets/controls",
            "_model_module_version": "1.5.0",
            "_model_name": "DescriptionStyleModel",
            "_view_count": null,
            "_view_module": "@jupyter-widgets/base",
            "_view_module_version": "1.2.0",
            "_view_name": "StyleView",
            "description_width": ""
          }
        },
        "c79ab52eb85e41c8ab65bdcdc8c83f92": {
          "model_module": "@jupyter-widgets/base",
          "model_module_version": "1.2.0",
          "model_name": "LayoutModel",
          "state": {
            "_model_module": "@jupyter-widgets/base",
            "_model_module_version": "1.2.0",
            "_model_name": "LayoutModel",
            "_view_count": null,
            "_view_module": "@jupyter-widgets/base",
            "_view_module_version": "1.2.0",
            "_view_name": "LayoutView",
            "align_content": null,
            "align_items": null,
            "align_self": null,
            "border": null,
            "bottom": null,
            "display": null,
            "flex": null,
            "flex_flow": null,
            "grid_area": null,
            "grid_auto_columns": null,
            "grid_auto_flow": null,
            "grid_auto_rows": null,
            "grid_column": null,
            "grid_gap": null,
            "grid_row": null,
            "grid_template_areas": null,
            "grid_template_columns": null,
            "grid_template_rows": null,
            "height": null,
            "justify_content": null,
            "justify_items": null,
            "left": null,
            "margin": null,
            "max_height": null,
            "max_width": null,
            "min_height": null,
            "min_width": null,
            "object_fit": null,
            "object_position": null,
            "order": null,
            "overflow": null,
            "overflow_x": null,
            "overflow_y": null,
            "padding": null,
            "right": null,
            "top": null,
            "visibility": null,
            "width": null
          }
        },
        "d3d1be2055404496aee525c6bc706fea": {
          "model_module": "@jupyter-widgets/base",
          "model_module_version": "1.2.0",
          "model_name": "LayoutModel",
          "state": {
            "_model_module": "@jupyter-widgets/base",
            "_model_module_version": "1.2.0",
            "_model_name": "LayoutModel",
            "_view_count": null,
            "_view_module": "@jupyter-widgets/base",
            "_view_module_version": "1.2.0",
            "_view_name": "LayoutView",
            "align_content": null,
            "align_items": null,
            "align_self": null,
            "border": null,
            "bottom": null,
            "display": null,
            "flex": null,
            "flex_flow": null,
            "grid_area": null,
            "grid_auto_columns": null,
            "grid_auto_flow": null,
            "grid_auto_rows": null,
            "grid_column": null,
            "grid_gap": null,
            "grid_row": null,
            "grid_template_areas": null,
            "grid_template_columns": null,
            "grid_template_rows": null,
            "height": null,
            "justify_content": null,
            "justify_items": null,
            "left": null,
            "margin": null,
            "max_height": null,
            "max_width": null,
            "min_height": null,
            "min_width": null,
            "object_fit": null,
            "object_position": null,
            "order": null,
            "overflow": null,
            "overflow_x": null,
            "overflow_y": null,
            "padding": null,
            "right": null,
            "top": null,
            "visibility": null,
            "width": null
          }
        },
        "d5f51ac4e24948a2bb403d91e1b2f90f": {
          "model_module": "@jupyter-widgets/base",
          "model_module_version": "1.2.0",
          "model_name": "LayoutModel",
          "state": {
            "_model_module": "@jupyter-widgets/base",
            "_model_module_version": "1.2.0",
            "_model_name": "LayoutModel",
            "_view_count": null,
            "_view_module": "@jupyter-widgets/base",
            "_view_module_version": "1.2.0",
            "_view_name": "LayoutView",
            "align_content": null,
            "align_items": null,
            "align_self": null,
            "border": null,
            "bottom": null,
            "display": null,
            "flex": null,
            "flex_flow": null,
            "grid_area": null,
            "grid_auto_columns": null,
            "grid_auto_flow": null,
            "grid_auto_rows": null,
            "grid_column": null,
            "grid_gap": null,
            "grid_row": null,
            "grid_template_areas": null,
            "grid_template_columns": null,
            "grid_template_rows": null,
            "height": null,
            "justify_content": null,
            "justify_items": null,
            "left": null,
            "margin": null,
            "max_height": null,
            "max_width": null,
            "min_height": null,
            "min_width": null,
            "object_fit": null,
            "object_position": null,
            "order": null,
            "overflow": null,
            "overflow_x": null,
            "overflow_y": null,
            "padding": null,
            "right": null,
            "top": null,
            "visibility": null,
            "width": null
          }
        },
        "d93eee9679944e7cbfe4f1f488f878d0": {
          "model_module": "@jupyter-widgets/output",
          "model_module_version": "1.0.0",
          "model_name": "OutputModel",
          "state": {
            "_dom_classes": [],
            "_model_module": "@jupyter-widgets/output",
            "_model_module_version": "1.0.0",
            "_model_name": "OutputModel",
            "_view_count": null,
            "_view_module": "@jupyter-widgets/output",
            "_view_module_version": "1.0.0",
            "_view_name": "OutputView",
            "layout": "IPY_MODEL_0b34b2c8819d472e9d891a9abfa5d61a",
            "msg_id": "",
            "outputs": [
              {
                "data": {
                  "text/html": "<html>\n<head><meta charset=\"utf-8\" /></head>\n<body>\n    <div>            <script src=\"https://cdnjs.cloudflare.com/ajax/libs/mathjax/2.7.5/MathJax.js?config=TeX-AMS-MML_SVG\"></script><script type=\"text/javascript\">if (window.MathJax) {MathJax.Hub.Config({SVG: {font: \"STIX-Web\"}});}</script>                <script type=\"text/javascript\">window.PlotlyConfig = {MathJaxConfig: 'local'};</script>\n        <script src=\"https://cdn.plot.ly/plotly-2.8.3.min.js\"></script>                <div id=\"1f1ae4a1-ee18-4597-b90e-f2dcb914ed30\" class=\"plotly-graph-div\" style=\"height:525px; width:1500px;\"></div>            <script type=\"text/javascript\">                                    window.PLOTLYENV=window.PLOTLYENV || {};                                    if (document.getElementById(\"1f1ae4a1-ee18-4597-b90e-f2dcb914ed30\")) {                    Plotly.newPlot(                        \"1f1ae4a1-ee18-4597-b90e-f2dcb914ed30\",                        [{\"colorbar\":{\"title\":{\"side\":\"right\",\"text\":\"no2_no3_um\"}},\"colorscale\":[[0.0,\"rgb(165,0,38)\"],[0.1,\"rgb(215,48,39)\"],[0.2,\"rgb(244,109,67)\"],[0.3,\"rgb(253,174,97)\"],[0.4,\"rgb(254,224,139)\"],[0.5,\"rgb(255,255,191)\"],[0.6,\"rgb(217,239,139)\"],[0.7,\"rgb(166,217,106)\"],[0.8,\"rgb(102,189,99)\"],[0.9,\"rgb(26,152,80)\"],[1.0,\"rgb(0,104,55)\"]],\"contours\":{\"coloring\":\"heatmap\"},\"ncontours\":10,\"x\":[\"2015-03-18\",\"2015-03-24\",\"2015-03-31\",\"2015-04-06\",\"2015-04-14\",\"2015-04-22\",\"2015-05-01\",\"2015-05-05\",\"2015-05-13\",\"2015-05-21\",\"2015-05-26\",\"2015-06-03\",\"2015-06-15\",\"2015-06-24\",\"2015-06-30\",\"2015-07-07\",\"2015-07-22\",\"2015-07-28\",\"2015-08-05\",\"2015-08-12\",\"2015-08-20\",\"2015-08-25\",\"2015-09-02\",\"2015-09-09\",\"2015-09-15\",\"2015-09-22\",\"2015-09-28\",\"2015-10-06\",\"2015-10-14\",\"2015-10-20\",\"2015-10-27\",\"2015-11-03\",\"2015-11-10\",\"2015-11-18\",\"2015-11-25\",\"2015-12-11\",\"2015-12-16\",\"2016-01-05\",\"2016-01-13\",\"2016-01-19\",\"2016-01-28\",\"2016-02-02\",\"2016-02-09\",\"2016-02-16\",\"2016-02-23\",\"2016-03-15\",\"2016-03-22\",\"2016-03-29\",\"2016-04-01\",\"2016-04-04\",\"2016-04-08\",\"2016-04-14\",\"2016-04-28\",\"2016-05-09\",\"2016-05-19\",\"2016-05-30\",\"2016-06-06\",\"2016-06-09\",\"2016-06-20\",\"2016-06-30\",\"2016-07-11\",\"2016-07-21\",\"2016-08-01\",\"2016-08-11\",\"2016-08-22\",\"2016-09-01\",\"2016-09-11\",\"2016-09-22\",\"2016-10-02\",\"2016-10-12\",\"2016-10-22\",\"2016-11-09\",\"2016-11-15\",\"2016-11-26\",\"2016-12-03\",\"2016-12-15\",\"2017-01-08\",\"2017-01-15\",\"2017-01-26\",\"2017-02-17\",\"2017-02-25\",\"2017-03-15\",\"2017-03-30\",\"2017-04-07\",\"2017-04-11\",\"2017-04-20\",\"2017-04-24\",\"2017-05-02\",\"2017-05-08\",\"2017-05-17\",\"2017-05-29\",\"2017-06-05\",\"2017-06-12\",\"2017-06-19\",\"2017-06-29\",\"2017-07-07\",\"2017-07-11\",\"2017-07-12\",\"2017-07-17\",\"2017-07-24\",\"2017-08-04\",\"2017-08-08\",\"2017-08-15\",\"2017-08-21\",\"2017-08-29\",\"2017-09-05\",\"2017-09-12\",\"2017-09-18\",\"2017-09-26\",\"2017-10-03\",\"2017-10-11\",\"2017-10-20\",\"2017-10-24\",\"2017-10-31\",\"2017-11-08\",\"2017-11-16\",\"2017-11-20\",\"2017-11-27\",\"2017-12-06\",\"2017-12-11\",\"2018-01-03\",\"2018-01-09\",\"2018-01-22\",\"2018-01-31\",\"2018-02-06\",\"2018-02-13\",\"2018-02-19\",\"2018-02-27\",\"2018-03-06\",\"2018-03-13\",\"2018-03-20\",\"2018-03-27\",\"2018-04-04\",\"2018-04-12\",\"2018-04-17\",\"2018-04-24\",\"2018-05-02\",\"2018-05-08\",\"2018-05-15\",\"2018-05-22\",\"2018-05-29\",\"2018-06-05\",\"2018-06-11\",\"2018-06-18\",\"2018-06-26\",\"2018-07-11\",\"2018-07-16\",\"2018-07-23\",\"2018-07-31\",\"2018-08-09\",\"2018-08-14\",\"2018-08-21\",\"2018-08-29\",\"2018-09-04\",\"2018-09-13\",\"2018-09-18\",\"2018-09-25\",\"2018-10-04\",\"2018-10-09\",\"2018-10-16\",\"2018-10-24\",\"2018-10-30\",\"2018-11-07\",\"2018-11-16\",\"2018-11-19\",\"2018-11-28\",\"2018-12-04\",\"2019-01-16\",\"2019-01-23\",\"2019-01-29\",\"2019-02-05\",\"2019-02-12\",\"2019-02-21\",\"2019-02-26\",\"2019-03-05\",\"2019-03-12\",\"2019-03-20\",\"2019-03-27\",\"2019-04-02\",\"2019-04-10\",\"2019-05-02\",\"2019-05-09\",\"2019-05-22\",\"2019-05-29\",\"2019-06-04\",\"2019-06-20\",\"2019-06-25\",\"2019-07-03\",\"2019-07-09\",\"2019-07-13\",\"2019-07-18\",\"2019-07-24\",\"2019-07-30\",\"2019-08-07\",\"2019-08-15\",\"2019-08-20\",\"2019-08-29\",\"2019-09-04\",\"2019-09-19\",\"2019-09-24\",\"2019-10-09\",\"2019-10-18\",\"2019-10-30\",\"2019-11-05\",\"2019-11-13\",\"2019-11-20\",\"2019-11-26\",\"2019-12-03\",\"2019-12-13\",\"2020-01-08\",\"2020-01-28\",\"2020-02-05\",\"2020-02-18\",\"2020-02-26\",\"2020-03-06\",\"2020-03-12\",\"2020-03-18\",\"2020-04-17\",\"2020-04-29\",\"2020-05-14\",\"2020-05-26\",\"2020-06-04\",\"2020-06-11\",\"2020-06-17\",\"2020-06-25\",\"2020-06-30\",\"2020-07-09\",\"2020-07-15\",\"2020-07-22\",\"2020-07-29\",\"2020-08-04\",\"2020-08-13\",\"2020-08-19\",\"2020-08-26\",\"2020-09-01\",\"2020-09-10\",\"2020-09-16\",\"2020-09-22\",\"2020-09-29\",\"2020-10-08\",\"2020-10-14\",\"2020-10-20\",\"2020-10-30\",\"2020-11-05\",\"2020-11-10\",\"2020-11-19\",\"2020-12-01\",\"2020-12-08\",\"2020-12-17\",\"2021-01-06\",\"2021-01-13\",\"2021-01-20\",\"2021-01-27\",\"2021-02-04\",\"2021-02-10\",\"2021-02-19\",\"2021-02-23\",\"2021-03-09\",\"2021-03-16\",\"2021-03-26\",\"2021-03-30\",\"2021-04-05\",\"2021-04-14\",\"2021-04-19\",\"2021-04-26\",\"2021-05-04\",\"2021-05-18\",\"2021-05-19\",\"2021-05-20\",\"2021-05-28\",\"2021-06-01\",\"2021-06-09\",\"2021-06-15\",\"2021-06-22\",\"2021-06-28\",\"2021-07-06\",\"2021-07-13\",\"2021-07-20\",\"2021-07-21\",\"2021-07-22\",\"2021-07-27\",\"2021-08-03\",\"2021-08-10\",\"2021-08-17\",\"2021-08-24\",\"2021-09-01\",\"2021-09-02\",\"2021-09-08\",\"2021-09-21\",\"2021-09-28\",\"2021-10-05\",\"2021-10-19\",\"2021-10-28\",\"2021-11-10\",\"2021-11-17\",\"2021-11-26\",\"2021-11-29\",\"2021-12-08\",\"2021-12-14\",\"2022-01-05\",\"2022-01-13\",\"2022-01-15\",\"2022-01-17\",\"2022-01-24\",\"2022-02-01\",\"2022-02-08\",\"2022-02-18\",\"2022-02-24\",\"2022-03-03\",\"2022-03-08\",\"2022-03-15\",\"2022-03-24\",\"2022-03-29\",\"2022-03-30\",\"2022-04-07\",\"2022-04-13\",\"2022-04-21\",\"2022-04-26\",\"2022-05-03\",\"2022-05-10\",\"2022-05-17\",\"2022-05-24\",\"2022-05-31\",\"2022-06-07\"],\"y\":[0,5,10,20,30,40,50,75,100,150,200,250,260,265],\"z\":[[5.91838244068247,12.6210530333314,15.2335388128844,13.544474393531,1.05129980233915,1.30624092888244,0.174630426870292,0.25987525987526,0.037,0.523,0.108,1.091,15.0480465209937,0.397398028935656,0.435336130842886,13.2552812558042,11.7460850207834,0.425397819608497,14.8118899892259,0.164206342301685,12.0398885876535,0.834763261139141,5.47102356746708,0.235571812843396,20.7349525434642,12.7389995554089,13.9315209119128,3.625,13.6881637008652,17.3720805008401,22.229,18.401,19.0677272685584,24.7356347988378,26.7107764469151,27.6175227309999,27.5375743801204,29.1310103452047,28.2858613257595,28.4933373789524,28.9827069848324,28.3271182501853,27.6249087354221,27.5183307868211,26.4430374360446,25.8902466546809,23.5834598096989,23.5559097086579,11.919044105119522,0.282178501581144,0.668850288094282,1.80634564776934,3.59299986815701,15.1318494189878,0.399115938438145,0.26939917643659,0.167717583092117,0.199334126780394,1.16101417955221,3.62019863686325,0.127391720458774,0.267360108337508,14.94708006387,2.11239581390571,3.28683218118581,1.69300564806841,0.529758163769688,6.00795062669731,7.56290625538068,12.4634026744605,17.87483148962895,23.2862603047974,23.8447283376867,24.403196370576,25.1534294569819,25.9535710027234,27.6019728646171,28.492554570733,27.9935221646899,28.7969422099768,28.0100874143292,22.4569999993582,31.2994587259047,13.2777296539074,18.4629621248752,12.407665171059467,6.352368217243733,0.297071263427997,0.809960066973723,0.334530804064586,3.73465786508757,0.093125285369558,1.61838093715429,0.0846586115805066,15.2457277236978,0.150740283535885,1.20017973766651,0.543816044072522,0.169242211229531,1.5857437365958,3.88627309359516,10.2232290486594,0.21071060066711,0.0989488225717116,1.66773725747798,0.00440679157412195,8.40053458899473,8.13857356923073,4.80839984655093,11.4443536531739,9.59680211199427,15.0436882763716,14.7577322470965,19.8102965445252,20.3691265382616,22.5372948057418,23.2740600854274,24.2974210248847,25.1265625072555,24.8192011039534,26.712,27.703,27.1778963949282,27.3869834236053,27.073654275392,26.7468767289945,26.906301090802,25.5413854252024,25.3178312995642,22.435688245331,0.0306226267272895,12.0493043243855,7.34490405549435,2.6405037866032,8.65501287873503,3.18736941431642,1.50032122312837,0.0046298917645347,1.14227067868878,0.152040380414572,3.66715316908181,0.185151851650979,0.152814455396362,7.72533869964796,0.143288360307256,0.147988719464994,18.3406846969002,5.36310379357819,0.0694145200752201,0.192192474880149,2.58739556612411,11.3079921267962,0.152966254055096,0.0794352859387964,8.07305679597282,3.8631544122308,0.0290370490265283,7.73261682205706,12.4463667617524,6.40606891087999,14.2025641635823,18.786583695019,17.6376822141446,20.641873407218,19.528574137886,24.8401282101356,23.958031395631,27.4754694674757,28.8722363862834,28.4821551607667,29.2436769404702,27.0017924052661,26.0984533837316,26.5648128699661,25.8639532591598,13.4643475776564,12.2191159805925,1.26396142966295,0.470154113829072,9.40671243281557,12.6459688926481,19.1297715855761,0.318619404278574,0.0674671216572246,0.829620154641197,16.4392849136583,0.0385444592250915,0.0700008960114689,0.129765251416057,0.06919035999951113,1.4287701193717393,0.0160090758652895,10.8095492171348,0.360385398740987,0.288812726607749,0.201998798107151,11.0826262509112,0.0314416222564397,4.73521726208378,3.18972801321071,14.5872619468722,16.7427342672413,21.2647754660162,18.1466660209521,18.0393017225855,20.7851294563584,22.1137778186496,24.0446447051613,23.9703832684597,27.665334205655,27.526906435296,27.3313937667512,26.1103155829887,25.92081088327105,25.39120014072805,25.93852364978585,10.948603428631625,14.7330084213876,1.51617618677783,0.0742699948458578,3.53698059854324,0.173488433292235,3.38195214226018,0.147706251889655,0.7912806856319622,13.922362041673141,0.4576876827155841,0.0789812778859287,15.485955376317564,0.46717900711918386,0.11364891176995601,9.792903423535982,0.0,3.8025472749622486,7.605094549924497,0.015451175567755302,0.6914773627258881,1.4631707560765794,7.153908364675861,13.856646188464792,12.855686197044877,15.914338730842232,20.68338087449606,18.682071728327916,24.059044561358515,24.06781447667669,24.95691774717147,25.74696686801109,25.863326518684254,27.80905329547206,27.7171947259727,27.28224805488585,26.93384083470685,27.944120468937104,11.063061523570212,27.260948365718953,21.0930826070672,26.016214376881898,26.287071042465648,20.584957988487073,19.82793063057168,6.192943100606479,0.13524507485515813,3.052,0.155,6.391,12.889486102097077,7.0940844294207,12.234012813051118,0.142,0.222,0.696,1.076,9.718,0.136,0.15266666666666667,5.768,0.1355,0.197,0.329,0.176,0.643,0.145,0.375,0.873,0.154,0.1525,0.216,8.646,11.312,11.118,18.885,21.427,23.132509056489308,23.227854557661967,25.235828433046,25.58709604415523,25.332406039352673,24.78770507936185,25.641983404659626,26.665031745616123,26.766734018551308,26.36903870854478,26.09763486491772,25.692405429486037,26.385283180594584,20.99461631362961,25.485152033696398,18.52295787338882,16.762820593931597,22.384683139394635,21.477990380111255,21.1005157556598,19.354801967997645,21.341356924865494,17.49144573471112,13.140307793162217,1.2406745605291443,0.12339803966070126,2.00968776370267,1.6145465585052161,0.0,0.20036566724833785,0.02125571448463866],[6.01179442375035,12.61000484111695,14.7979958078079,13.311217084802,1.00860833275246,1.59547999170641,0.78136961530365,0.947949070573489,0.0,0.0,0.152,0.0,15.8430526934574,0.0169297408980833,0.422604888814676,16.388543883123,11.1134773337403,0.354456101290813,14.8756146259551,0.184425557184252,14.0402107184073,5.16296822501272,5.62591766897124,0.149520476938239,21.6912898295609,14.0897388145765,14.7968388517763,7.19,13.8038991061892,17.4878159061641,23.617,18.4676436173395,19.386764204401,24.4226033462565,26.9653398980541,27.7411981041422,27.1395378776591,29.2959411909319,28.3290092265882,28.4639979768843,28.8627242105776,27.8015700097426,28.0807141769554,27.3442024150154,26.9499850824686,26.0356589658241,24.447,23.7334361613109,0.6962830062561413,0.23535026129992,0.745100657805805,1.86737196668273,3.43856849858445,15.4412747715017,0.158893654095495,0.285623416664441,0.272951691303725,0.711968793590763,1.27345852448991,4.15228811288304,0.191760452696388,0.12865573013174,18.8799096753959,1.42253568480076,9.23183138879039,1.58789879668952,0.535132976550425,7.57319559209009,8.62802102523831,12.0813491062542,20.8270099538239,23.1901526550963,23.3496598444022,24.2741143849464,25.2500923274947,26.950389318725,27.8825434160099,28.1705996421869,28.0054529525425,28.3350162506894,28.1894195612375,22.4458682255148,16.1967800165004,14.2374846404188,18.6596534749704,1.79035435124276,0.0745564621157442,0.201356106457727,0.944373138651208,0.42549729703818,8.87537826400979,0.0376426146175762,1.5732588512677,0.0980347515871731,9.77780020375452,0.0739337139893857,2.7006814432895,1.12174137858714,0.128026281235012,2.53156644988223,7.49380003873905,10.1062127474324,0.489738542937802,0.0919916817598267,2.85937217030968,1.28584751655265,8.53300582067068,8.77384111020115,6.9256897063858,12.0264081842519,9.81069771551761,16.179539464327,14.6840787067794,15.9257326486084,20.4243834699437,22.6625433127593,23.451897519416,24.4378917280976,25.2606285171513,25.4936231602995,27.034,27.816,27.4084909022507,27.4304291574359,27.3860798293309,26.9488240622157,26.9662740711639,25.6915600232855,25.2559578827334,23.4320065529632,0.0580017425693338,13.669176175618,8.23699611500666,2.80481605439532,8.77610353219137,3.50084716248508,1.77162531674723,0.0341237252570574,1.66709819576408,0.256299305454711,8.89765964729117,0.117421971989531,0.0618743410443103,11.8852715237998,0.149895242797593,0.171166230652392,18.7111054910427,6.33539001400568,0.00128128795464186,0.20498596483657,6.46514716574148,12.0392625977904,0.107128828367714,0.566346459289471,8.56755279232353,4.56732556533931,5.86285717382811,7.85050829373844,12.4569810781678,10.9178686768346,14.2112652181958,19.1486054761283,18.3734255526399,21.1974276662777,19.8786590384132,24.7406841277484,23.9852161456663,27.6491262636493,28.8998115333725,28.4302167928038,29.2390938659242,27.0475271329703,26.476032645297,26.5539023916947,25.7503110247177,13.5429519612344,13.8165637899518,1.61866737810905,0.00896670200369353,9.66951393852966,13.2427498254431,21.3474972203347,0.331559873007192,2.12852555714566,3.00638419077693,19.3587972414278,1.11077165929203,0.0788479905360054,0.00698772157776064,6.427957614602375,1.63363599562545,0.0680498165487027,16.6822713470453,1.05322565706618,0.556627532686503,3.20804739890032,17.9266570588571,1.9939832548305,5.59419551949882,6.02157335444145,14.5676496987444,18.491063425616,21.1975033958554,18.3214259964014,17.6545247307463,20.9899832769992,22.4126221169522,25.0169337127006,24.3857084637892,27.7555888513513,27.4942065988462,27.5844513601548,26.2108223047906,25.8196640602186,25.785578797987124,25.9388674955036,12.7127327365877,15.5388129960756,1.31150548744882,-0.000159158565692708,3.42459204253084,0.281774526266578,4.3113144980732,0.0936571180178668,2.9915070941798145,14.142338774176327,0.32872701132629106,0.08100872018969177,16.918890445343646,0.18940589049181228,0.04850081699581233,14.073453948156,0.10228839404989122,13.306145767773465,9.17319026983778,0.01853031387830963,0.7491590178404159,1.3627899019907896,9.915827161384408,14.013079924024126,12.848076870505295,16.973782476863043,20.898332387055838,19.275081514683396,23.861701964301975,24.09262455619531,24.937752197924183,25.611472789605088,25.99852671332857,27.904196537019217,27.488630472649533,27.35886153066897,30.46280766523789,28.20486174142086,27.26768175514157,27.781792166974554,21.12579100671307,26.49747769149224,26.219968886595368,20.738530962412277,19.906318864007943,7.399065407196022,0.007840215890953704,0.085,8.65,6.484,13.59902425902907,8.867070647834359,14.191742572300232,0.229,1.043,0.666,0.592,10.658,0.118,3.575,4.837666666666666,0.0815,0.178,1.806,3.553,18.616,1.555,16.781,9.393,0.137,6.349,2.079,8.509,13.811,13.219,19.351,21.923,23.537767103219267,23.154474059981666,25.794120981519796,25.94323345719338,25.93450761357189,25.040276595660423,25.852738997086316,26.835748336360297,26.22166131656106,26.30635730186689,26.86316873795439,26.63178862392105,26.613265320441684,25.609967418244555,25.881182161979,19.390516927043304,17.002991352028587,23.42758577893045,21.998900013462734,21.12693256899254,20.165249506797554,21.258084248937145,17.648805204955327,13.32155260525491,6.508721676850004,0.19114143352550939,2.4436224319138926,3.7133312646596557,1.6723749695563426,3.781650644111864,0.16537354470021107],[6.63428298942126,13.7730781669643,15.2630131064432,15.1758299911845,3.3589495459567,16.688782915198,3.15153070408158,1.27754743364161,2.879,0.39,0.398,0.052,19.6566913378985,0.358469717867305,17.0361518675416,22.4155361339968,7.39389677669547,1.48742496570382,22.5290269595711,2.87365296249893,20.2794936509963,21.3301563389337,7.02749304361557,2.36446278480879,24.7216766174077,14.4136979708796,18.4747388560638,20.767,13.486117145808,17.575107864417,26.155,17.5564725025427,20.3197113530046,24.821586904771,27.0669895370171,27.7573237251638,28.8049597169218,29.2587379266617,28.5152903454131,28.7940888557024,28.8673047094079,28.4850102210741,28.5491095314551,27.5791116160926,27.0259280597894,25.9871965519427,24.947,25.3212162978006,0.6962830062561413,0.983882839190811,4.02123666283094,2.35342524587363,7.53703221680025,18.0950717667723,0.397119309496077,0.465942805070941,1.09977979475763,3.76418293831789,3.83317214181841,19.2761266406646,0.135513962235198,3.38697985718112,23.7080428357527,5.4336667451502,14.520809439924,2.77392859671466,3.46906001069303,10.0900743235013,9.58905480107908,15.8112058154795,21.115993364094,23.8412941543821,24.1065879091954,24.5913551821281,25.5572269832506,26.2393541367407,27.8982146342243,28.7114931345879,28.0175789567795,29.1249873167389,29.2913482314923,22.7417663447783,16.2495216803438,17.3055182632494,19.050378244026,9.33721201212968,0.0616395485626835,0.747908001454133,1.02284301109823,0.561495976837383,16.4587100017456,0.0574487527905484,7.97782763984163,0.639991125456394,16.7566186232183,3.8306759651594,12.1792218801812,8.67909411588346,0.119870357354465,13.3719911908452,18.934759701793,22.845767948493,2.03302462623119,11.1465827187679,14.814500680323,13.7348986354848,8.98134739734752,12.7467303408136,8.94471851189254,22.3379144498266,12.4010002370316,17.8410761836436,15.2176368022891,13.6040217663152,21.8133218043466,23.1876573995765,23.3530656506348,24.4441965059103,25.1937959809666,25.5259557249944,27.786,27.946,27.955717216235,27.4448128609224,27.4528656064944,27.455256006363,26.8639228772135,25.8966110070904,25.7587163496057,25.3315045990635,10.2925584002866,13.8765703156443,9.58366019597683,5.29075007630936,8.79603880318546,6.74481315413273,3.1469398890232,0.195142583026071,4.73751640236616,0.0943434123048935,13.5395878371227,1.56679208683715,2.33751707130379,19.7270132795096,1.25946647928051,10.1361717012718,21.4779163300372,6.65341734446296,0.0693231289687491,2.71237088505948,16.2022403659614,19.0041783755344,3.85552974839841,19.7630702526123,9.26313524378362,6.69815609827202,14.2142717259335,12.2580735205275,11.6266665558015,17.6707264816696,15.6143904319676,20.4405375590688,19.0868943787225,21.2945730180944,21.7033992471983,24.9664218282696,25.2520861868223,28.0160789399606,28.786685840441,28.6425832605094,29.2521175364361,27.4033602004267,26.3960811576787,26.4596407268441,25.7628736104588,16.4825762795435,18.7139305505549,2.95645672504113,13.6013156343937,11.0341096242864,14.2397962832148,23.9014209061018,0.383331005933323,9.92704952800083,4.99332072495817,22.160544293510533,10.7429701250161,0.380161697836866,0.0199630588586585,12.78672486920524,12.2894841956109,13.6262254494733,25.395637742379666,12.5695572683062,13.5968835256373,11.088956792382932,26.673870257975597,15.946035125369233,6.84139292282892,6.9388658682458235,14.754410274990866,18.809551649712102,21.862235531704368,18.6362075060449,19.4101157150523,22.049306630603137,22.2374506104992,25.64609346244973,25.0584767975476,27.698091041212834,27.74370289779357,27.6229452922333,27.038911343575137,26.380093690852178,26.180111554500627,26.136415294758425,19.924599769275726,16.531234012529698,4.119944749876664,3.304110165148423,7.2077203492206605,0.9135928332780713,6.65316447027708,0.442578888454743,12.18983220090697,25.46278423510365,0.4389247886860004,9.400379546561043,23.084143853255295,8.875144317489704,2.588542421609798,23.81197448591625,0.23511309355112442,13.411524292209648,20.288066829188978,15.982395311826101,2.6718296339554204,2.8077386406345153,10.807227390582213,21.698055348498908,12.95990882136308,23.56107575445249,20.79947263154743,20.06371153344283,25.627191274012556,25.057176381060696,25.38752452316095,25.52894032506438,26.493950980677123,27.692707782835143,27.62547534763826,27.035492321574015,27.439807443420786,27.99496667826959,27.464239387012196,27.17299124337356,23.190081106953173,27.249401249439085,26.19364317253003,20.856813321693057,20.309357639192246,9.261018596014042,0.15540087337949485,1.582,18.24,7.616,17.730710837206548,13.95751517837771,16.904787514915828,0.294,1.043,3.177,1.045,23.91,5.451,16.984,16.265,0.20700000000000002,4.779,12.528,18.553,22.700333333333333,15.675,16.929,23.618,13.034,17.158,10.294,9.092,15.167,15.763,19.937,22.039,24.316540371002617,25.09914099563601,26.16965624183883,25.922314912145268,26.54286697754423,24.855418533598915,25.976210080497488,26.883518905832474,27.106915180516353,26.7833316332185,27.444199786968557,27.459026086454774,27.220811082189787,27.514437416492285,26.19841322195326,19.68276572341391,17.878457034503427,23.489836791089754,21.899774629595846,21.951741885220592,22.446150369502952,23.79468729913692,20.79636713461409,14.731504426266186,7.566937344065695,3.5765500484023978,13.237756382004434,5.789667133344636,8.993536422300329,4.43403620774633,1.2486906807235796],[15.39292882004303,16.6328022835609,17.429473207530748,16.83889985978465,10.910281367883501,20.85372174994815,5.22641951187078,5.963529545036705,13.216,10.0275,10.7955,9.8245,23.99027572292615,10.304805676787652,21.74958285807585,24.81568828593835,17.048851420212586,13.91652825250086,25.85426690015685,14.940726099098866,23.96140506031245,25.290802199832548,7.55516802721155,11.694439365313094,26.640497244430797,19.3815933881771,22.707769128035103,26.652499999999996,15.329546758574999,22.48797773956985,28.2745,19.32290864651365,21.7200358722012,25.311657164409198,28.007703948981252,27.86230600621305,29.0983881262325,29.00594561933665,28.8139966330164,28.610269505571,28.8306559378637,28.87468392069555,29.0175048859548,27.97487582471605,27.58472542184765,26.48681779202205,26.9525,26.606915543095802,0.6962830062561413,14.495244604078954,8.56825966583587,4.01659010405245,21.052816445966,21.8557706000694,12.7094006902415,6.53074200014419,16.738317847433,19.574826518507,18.5824077350246,25.4781295723995,7.433488246180923,19.8696034101319,26.682755510779,22.6872572208534,24.3525088946275,6.16406671541953,17.7606628153511,15.3083844037169,24.198008314503,20.4536869561903,21.5673511291259,23.9097625159027,24.6397449064447,24.6717812800648,26.1474435631298,26.8443378390114,27.9363346202161,28.1833926512627,28.253075008287,29.5908646668354,29.6695527562475,23.2567478229769,18.2215457504284,18.6385362090865,19.5141366510793,9.0333654635486,1.43475526495525,9.77435496123718,6.39167495548772,1.29121693681914,23.3823136639283,0.789345910046754,22.0255245904542,7.46344550762331,21.5679462455456,17.5627672939605,21.2006913755521,16.236446853179782,20.3616979929473,18.4051831748737,24.4278663951635,26.8043531124482,15.1876243219354,23.0902576553735,23.4789173854936,24.2908370386185,17.1883058909927,15.8498561089358,20.9495642383194,24.5889774594869,24.7220123548811,18.8344379379414,16.1884306205963,22.0769521217969,23.2641695128165,23.2574419925172,24.0028687422521,20.1423642682522,25.6734083651434,27.3427782447622,28.224,28.476,28.1455292891626,27.5894709589325,27.7280738888515,27.9556613293094,27.7517320608779,26.0312648648554,26.6600149521474,27.8227980332743,25.3123428780769,15.7039676273182,12.36249037013341,9.02101311294862,11.6698041781332,12.8418662424763,12.7945741747114,7.86808462570802,18.7793953483465,2.82139578386719,23.0213664004492,9.26152838028276,18.6653163078494,24.5228673192261,18.6494756959654,24.4123811641422,27.1552402432023,21.3116688938573,16.1114064392623,22.6261167622992,24.543741851423,28.2160318572821,27.6861757503049,25.4412545567491,9.03776229798624,12.2817182359906,19.4730302033188,23.3394430308086,21.0592075285698,25.7535566281022,21.9110592141551,21.0845907953692,20.9457036183829,21.5754393008095,23.6057621929515,26.2841132427047,27.2704025315632,28.6536910735606,29.3680398986693,29.2301614906822,29.3247746016654,27.6652237779972,27.2431838780058,27.3941562565649,26.4997932958962,25.1169015143054,22.1406943430089,12.74030404938,22.4073245368435,13.1946167310086,23.3973632393452,25.5382279930054,6.59322480656965,24.3302281979515,20.1967091057408,24.96229134559327,23.2609922589683,14.1545601271214,20.4935020146886,19.145492123808104,23.7390255579398,25.8084173140494,26.9758437529249,25.2091147660732,25.7469730490829,22.0541541395056,27.8662948131457,20.765429769621367,12.5910454100691,7.1615326392262,21.7396818611458,20.0778320298433,24.5662777361192,24.5891197915856,25.1242447784725,24.0551323617574,24.7671430470755,26.2490301119695,25.5730868361879,27.9596085678435,27.9970112177556,27.681706353674,27.447020795469,27.1385557478983,26.715075185039474,27.105437089427802,23.462231936156225,21.4993339577417,6.92838401230451,5.40124685841464,15.35846064732793,13.1553416517891,7.86708817925938,12.6365146667341,23.300559937128142,27.914928699771163,13.726869982334664,24.094363101574178,25.245330792057587,22.728801282948123,24.803792259660852,26.149442247499234,20.868584185287823,23.207108124064575,26.228551543764127,31.647515653916,24.627532229979234,22.060873450365772,12.248913275458674,25.244538775571055,15.46403296892357,26.273101509246484,22.4752187024164,21.160580155764936,26.41418439073437,24.803484997092927,25.694131661479556,26.246239839443295,26.809098398981657,27.920107878961687,27.758010530788,27.787613100185396,28.20715943329744,28.366704212604546,28.4601790083667,27.417261831890254,27.187589090337056,27.033739993445252,26.578517150105785,20.915096943913646,19.984193702958894,21.57511214794629,14.244210903821287,1.582,22.317,9.208,24.1832180329644,24.35707815382484,21.616045855350517,0.835,18.459,19.82166666666667,3.6,25.536,21.498,27.066,25.033,22.256,24.897,25.772,25.19,25.644,25.402,26.293,26.297,22.41,24.072499999999998,21.825,11.004,16.483,18.47,20.607,22.031,24.13588812444375,26.024497825524286,26.88575332230842,26.255957222269558,27.572413997676207,24.892296847217022,25.921591322151375,26.597425649154275,27.06955936725627,27.33536873709145,27.709016300511728,27.92072795042954,27.8226340853339,27.571436291612716,26.00420526648588,20.642399291130026,18.425512025010875,23.853452594762853,22.547204884933198,22.33769353419447,22.989915675415457,24.090761296705434,24.105717524969634,17.582666926202474,12.803036409827756,7.460059042162821,19.72963844504262,7.582488526830051,16.392052920757852,10.514929035667205,16.432914575591354],[24.1515746506648,19.4925264001575,19.5959333086183,18.5019697283848,18.4616131898103,25.0186605846983,7.30130831965998,10.6495116564318,23.553,19.665,21.193,19.597,28.3238601079538,20.251141635708,26.4630138486101,27.2158404378799,26.7038060637297,26.3456315392979,29.1795068407426,27.0077992356988,27.6433164696286,29.2514480607314,8.08284301080753,21.0244159458174,28.5593178714539,24.3494888054746,26.9407994000064,32.538,17.172976371342,27.4008476147227,30.394,21.0893447904846,23.1203603913978,25.8017274240474,28.9484183609454,27.9672882872623,29.3918165355432,28.7531533120116,29.1127029206197,28.4264501554396,28.7940071663195,29.264357620317,29.4859002404545,28.3706400333395,28.1435227839059,26.9864390321014,28.958,27.892614788391,0.6962830062561413,28.0066063689671,11.4020976025944,7.64021199295329,20.4228143932467,25.3587475728305,21.0952436056063,19.6927432919296,24.5668870954547,25.7911143672261,25.9141695305659,26.3357184391112,14.731462530126649,26.6555484494903,27.3716378743716,25.9188403618543,27.5976589888169,9.41194646371014,25.3341597783883,24.1006015876761,27.7355013266454,25.2508419983425,21.9164360764686,24.4344092862298,25.0183393171469,25.1385844517028,27.2006466653382,27.2578345054124,28.8196174279959,29.1251082474197,28.370212820615,28.5142319064467,30.4336845878631,24.971204436992053,18.3803873496151,18.8176103095427,19.5287143286105,11.6847340825201,7.80195678366271,15.6811940689213,12.3410821476885,1.26929369104377,25.821492699406,23.6245259497632,22.8072848362597,22.0844282897321,24.6440585452737,22.4270041323835,23.7024210777819,23.7937995904761,25.7891513211311,24.2293498095862,26.2420947402029,27.4761939767282,25.8073043910602,25.7495688440875,24.1257985472784,27.2970061379225,24.1206427027047,24.635233773912,22.6355007410422,25.148343434109,20.7411138879507,19.0210837939696,17.0383758318932,24.8906753266467,24.9542259833592,23.2604237369738,24.0649375494414,24.7218982541628,26.3653111240127,27.7345777637641,28.729,28.667,28.1271431989391,22.0407291773231,28.226558277522,28.2606155090732,28.1210513765484,26.9307151317891,26.982204595046,28.3900007013025,28.2400085954071,16.249908825288,13.55641572687055,10.8629226284531,13.7995939658432,17.0115521905084,21.2825337051719,16.5775981429071,22.5457415111943,19.9491449103434,26.5724593291037,21.7216380828108,27.6750619173837,26.8076627992547,24.4366589397391,27.679560926698,27.8078301407869,25.1446678844714,26.6625116359441,27.4255144614394,28.3467654277391,29.3837498097692,28.3717891911235,26.604292260205,14.7579337429453,21.1772550212538,28.4928959951382,25.6145541719597,26.6489327607205,26.7553487379507,23.2798296242389,20.7894979810939,24.0256566391971,24.57987271957,28.6347430435048,26.8321886845747,27.9833064464756,28.949495169508,29.419205497259,29.4955075571039,29.6231773882427,28.0175692888778,27.6441981868531,27.49599484462,28.2336623532644,25.2797625746578,22.958378279345,24.2956543498913,23.5415901249572,16.4965522653852,25.8275462918536,26.2749015376772,15.7607212281264,26.1322137116142,26.1354921414873,27.764038397676,24.4634774480444,24.6582980269448,25.8453876302767,25.504259378410968,25.835717197988625,28.6391539887381,28.2342586754817,27.336468902001,27.9751793367056,27.9023036327501,28.6390943408133,25.5848244138735,19.8335038849617,23.9505488046181,26.9404961919022,21.2165915765729,25.9093285211657,26.1838535764569,26.8351007746766,24.6401004765784,26.6318278097827,28.1228876381685,25.9084513073418,28.0436753168173,27.9865049387717,27.7945929906226,28.2321300286948,27.573170719590202,27.095182139029724,27.597246103240924,26.27073949428475,22.3678231531359,9.01804203207187,11.1993417749588,23.5092009454352,28.062936868629,14.6131296623112,25.9230775537128,26.85717271027981,27.766087997511544,20.547864386120935,25.135079028131493,26.07031718870844,26.015259548313345,25.986229358042678,26.953857339425213,25.17483584598379,26.488350603755983,27.60183498336127,27.408460917947487,27.64836605262869,25.80459642146621,19.21692736609443,27.576175038274123,18.666168459862142,28.406019598653103,25.432355664798465,21.975450270217653,27.965320331847977,25.102950112496014,25.885029699334318,26.549710339577608,26.887765117058994,28.07475974370129,27.99281550199562,27.808547301932478,28.363646266571557,28.503599596263847,17.492004352237473,27.805728910231597,27.336998403107582,27.21329419384084,26.673374473785415,22.554857626185882,20.609043081188453,26.328437427014364,24.085617859185255,1.582,23.799,15.743,26.00616247975986,26.36334773547687,27.36320784088543,10.027,24.918,24.888,22.939,27.09,26.231,27.232,25.945,25.6045,25.614,26.117,26.008,26.884,27.733,26.497,27.344,25.68,26.497,25.729,22.212,18.076,23.237,21.744,22.17,23.948754947340195,28.439410796400438,27.64562945727983,26.907968655523554,28.88668961212657,25.2238782001828,26.493688772373886,26.66095869858971,26.350698032930683,27.754453089065013,28.0277473616071,27.688132945118262,28.538067161632387,27.829602908417307,28.152455055420116,21.693055891296286,26.54097873013579,24.06275678022109,23.683730434389137,23.551654521057564,21.495467962213258,24.641498793643787,25.21419133858948,26.409988050070506,19.97948728383108,22.710757013382345,20.48432425724156,20.076344949235626,21.068903636607843,25.51851107635111,22.63786039010093],[25.556091634032498,20.0040074806305,20.60123309978475,22.297843665768198,23.015308493817002,26.383475015550502,14.196676510857191,17.78074616608295,25.0885,21.298000000000002,23.994,23.032,29.18460926615085,24.41786276047705,28.293425393395502,28.37366428925235,27.662283362668852,27.788863432964902,29.96906878520565,28.379209025738,29.23052980922735,30.01768324762535,14.789378691498415,25.7970637743401,30.2671982895926,27.57071139226405,28.3204696279982,32.245,22.430600441167698,28.71071739277555,30.6895,25.030723826879452,25.53624429031025,26.02026870022355,29.5601529105913,27.98956894211845,28.70204251018085,29.114185563147252,29.18407215456125,28.60720173619195,28.9144516653033,29.44307854821125,29.81995503076685,29.0744779174948,28.83229480928175,27.244854896259753,29.3145,28.03092482264325,0.6962830062561413,28.39480857209255,24.8314611555403,8.99876577221875,20.6647004808378,26.4624150648577,24.4360345932744,25.9138843048361,26.0226810101043,26.9209661944221,29.0922159386267,27.1724799808383,22.029436814072373,28.1220761553588,28.6736077034159,27.5243057658993,28.7187935114375,25.3160183767584,28.3996700909129,26.9963634745485,28.0582735779646,28.0195570869481,22.1480084147965,24.7541230315909,26.9074785329727,26.0340550652756,27.4555482944679,27.6200391753675,28.5978783957467,29.3834237220034,28.6755249669391,30.0893349093606,30.7115119819621,26.6856610510072,19.9101494348512,21.3726599669679,20.3004486296665,18.4766242257347,16.4229439379944,20.7815863189648,21.7700301709688,1.2473704452684,26.9247960665996,25.9138454786295,25.6651790111553,26.6281111395059,24.7152475737461,23.8451897526446,25.998953913651,23.7937995904761,27.660529503271,19.7333649146188,28.0591771413698,28.1792789790091,27.8703276771045,27.7948415943423,25.5318771344141,27.6033920905513,26.6324513422449,27.6910334998157,24.2046601599574,26.5587754951031,25.131055099793,18.8431866955195,18.4896465838066,21.7420377178633,26.5135775008334,23.2832958780578,24.4208293829776,24.5788098830989,27.1381973688168,28.5341446941511,29.075,28.829,28.3623727517786,28.2140547692769,28.2821967667734,28.3985228506111,28.1089252174967,27.9399370298165,27.2521615591525,29.1093192411876,28.9464791067868,18.6262418249307,15.269826586958299,11.9134113489859,15.3172868494644,21.5782551440623,25.1456187580874,22.9837234778004,25.8785133305864,25.6733726715902,27.3062612448004,27.1764934600758,29.9169442039388,27.3011065243411,27.4928612405591,28.3348175054764,28.4746956368815,26.5869987220264,28.4088868645905,29.6841185794415,29.7042859337183,30.2097475696645,29.4515226233043,29.8742356246903,23.4239155508744,29.0391546841135,30.2655274266777,29.435149594925,29.3467724236413,27.3887725928566,27.2292613304666,22.6141450610102,25.9398567363164,27.5865297281742,29.625610478285,27.4319120672388,28.5886841939057,29.4560104287479,29.4531987412004,29.8417653860475,29.9956706251988,28.4134788005167,27.90187235917945,28.0240006617673,28.3259007648452,25.0858184037763,21.299520439389497,25.3781089407981,24.22375345809335,19.9655712693243,26.5223251137312,26.95935188916195,25.3313875254126,26.85707455839455,27.954181051007,28.7035054217776,26.693329571649052,27.7492873150298,28.107168814984853,26.50978324971244,29.9372447962542,29.14271999978125,29.7943756481386,28.398855260917898,29.3507930975466,29.04023132311975,29.9015832327673,27.225786973678467,26.1432369443085,27.0036293227214,28.5144676610784,18.824325001535456,28.6167246503672,27.31406503302845,28.34864477189433,26.346795687231968,28.3354357047178,28.426808459281983,28.2728586359506,28.1621538449909,28.1524939775726,28.1916678441543,28.8239975261653,27.963009903593587,27.78756302063985,28.010026128141586,27.704665724381826,23.0263475439256,10.2750606701773,19.1062203020176,26.5813891689455,28.04632270806963,24.0596332900421,27.7563392197566,27.96607590147925,28.19196014806187,25.744049330014803,26.190213204269753,27.56225410388355,27.179151828950882,26.3893095426083,27.589163179050246,27.114687122253486,27.250317852974906,28.438310517235028,28.369343556598203,29.323388635999446,26.93119653942547,25.195047721480275,28.178820243423964,25.564290487350807,28.69028952060699,25.872298246572154,24.728990322795546,28.361822005724107,25.721459869364825,26.129801301886122,26.658608032545377,27.041417502769463,27.983254913745213,28.03794296944161,28.372953520419046,28.66290796007677,28.64904785813644,23.26048393968272,27.977595029439993,27.434981359953746,27.227672756297338,26.702846168226987,24.467566296722953,25.556198999703803,26.673925546489485,25.98695475917417,1.582,24.948999999999998,20.162,26.00616247975986,27.213,27.36320784088543,22.82,26.618499999999997,26.393,25.756166666666665,28.073,27.5905,27.988,27.192500000000003,28.389,25.614,26.117,28.097,28.327,28.572000000000003,27.657,27.8365,25.68,28.627,27.418,26.536,20.348,25.8365,22.277,22.262333333333334,24.375118195702402,29.075065246112494,27.36417899130371,28.78202310480895,29.625788817457504,26.800279108381694,26.48859631547677,26.66095869858971,26.350698032930683,27.617165208382936,28.153288211834596,27.844399891082734,28.831767976892507,28.087769525221894,28.633605518054928,22.70667473295447,27.55249874452072,24.000477078794308,24.492774287013447,23.77964126043431,21.495467962213258,27.05199621830608,25.76241273364398,28.057597281427924,23.434951282021075,25.773145780843432,22.47371181820478,21.299335612060275,24.025089702647755,26.711733611121204,23.550878968726696],[26.9606086174002,20.5154885611035,21.6065328909512,26.0937176031516,27.5690037978237,27.7482894464027,21.0920447020544,24.9119806757341,26.624,22.931,26.795,26.467,30.0453584243479,28.5845838852461,30.1238369381809,29.5314881406248,28.620760661608,29.2320953266319,30.7586307296687,29.7506188157772,30.8177431488261,30.7839184345193,21.4959143721893,30.5697116028628,31.9750787077313,30.7919339790535,29.70013985599,31.952,27.6882245109934,30.0205871708284,30.985,28.9721028632743,27.9521281892227,26.2388099763997,30.1718874602372,28.0118495969746,28.0122684848185,29.4752178142829,29.2554413885028,28.7879533169443,29.0348961642871,29.6217994761055,30.1540098210792,29.7783158016501,29.5210668346576,27.5032707604181,29.671,28.1692348568955,28.47612281605675,28.783010775218,26.7859966600692,14.172912332875,21.7510099790992,26.4701037163863,25.4419306997885,27.6410951208284,26.6646941804088,28.0500906802913,30.2387306599729,28.0819383089365,29.3274110980181,28.7084022920099,28.6238346899881,28.0845732364365,30.0073758217184,27.9675383835308,30.1293548535398,29.0315281942665,28.9231843880291,29.0082620072582,22.6616106700907,24.9852479097604,27.4100110408286,25.7753478894754,28.4209156059519,28.7341923344333,28.8056461518747,29.4572679668669,28.8908523300839,30.2837970140744,30.6406862517729,27.9365344288967,20.7581014647527,23.1495990168812,20.2697671843477,21.6943604416921,19.9613806766196,25.9228948902415,15.9805564867583,4.82017934743415,28.5584660001305,27.5110854903739,28.6822717962256,28.7141625292564,27.8734043190566,28.0589472935649,26.9990169723772,23.7937995904761,28.8991690308113,26.9153276857393,29.0495346176079,28.3055773203762,28.5439275222034,29.5421868477781,26.6414287885779,28.9208904904465,11.6819279032669,28.0037925932269,29.028989847591,28.240262499189,26.1053149678514,19.2617229671171,18.9770872210175,27.5275799180752,27.3543801670592,24.2633976878833,24.4500416640496,25.0525537340137,28.1614583906085,28.8309065917546,29.574,27.709,28.2253870242786,28.2753317880465,28.420142437079,28.360554008867,28.738869241421,28.8015082122982,27.9634665197658,28.7333747882215,29.4247284741994,19.9893627000918,16.9070498659963,13.8247370319008,16.6784587869063,25.420264236886,27.2941022143483,26.3223256898504,26.996623457017,26.5894923075197,27.3100481739444,27.213302557667,31.5781768329425,27.2123482632809,28.3490387077845,28.6990879311319,28.8793368858108,28.9633483429466,29.3709427982786,30.879105811507,29.8490500489464,29.8754638258907,29.6889898964947,31.0978138929898,27.9427062438748,30.2231394823141,30.8795007071246,30.3306141861943,31.34842778429,28.1409664699701,28.1845085477034,23.1633272853774,26.8224789163944,29.865966766642,30.3193655091157,27.8022084980442,29.3244418210451,29.6739437416464,29.972052454635048,30.3163039924538,30.0846555264448,28.4396806491313,28.1595465315058,28.6915370435567,28.418139176426,25.1948378502367,19.640662599434,25.9058506809843,24.9059167912295,23.9375252398794,27.4216826283626,27.6438022406467,27.1102667478208,27.5819354051749,28.2781986665428,29.4496306244874,28.9231816952537,29.320793169835,30.368949999693,27.51530712101392,30.3635358186078,29.6462860108244,29.841731789134837,29.461241619834798,30.403513334093834,30.178159013489402,30.15369863348113,28.866749533483432,27.39758183791717,30.0567098408247,28.7794019707419,16.43205842649801,28.869675687032,28.4442764896,29.2406955213314,28.053490897885535,29.0221299714311,28.730729280395465,28.819876063879335,28.3311596571907,28.082483082404604,28.4533987264788,28.9604862334517,28.352849087596976,28.4648374567217,28.42280615304225,28.099386618549076,23.7106536583876,22.0300138774631,26.2369938426654,27.635381860264133,28.029708547510268,26.888206335533,29.5896008858004,28.17597269655667,28.617832298612196,28.124159547092955,27.24534738040801,27.527436084108817,28.34304410958842,28.136769340202516,28.224469018675283,28.060991762080477,28.01228510219383,29.81334351077092,29.330226195248915,30.186221075776402,28.057796657384728,28.26311659454582,28.781465448573808,27.652214273297812,28.974559442560878,27.920721243923367,27.48253037537344,29.354775969881302,26.339969626233636,27.450445263667152,26.937631193518328,27.195069888479935,27.894378941920923,28.083070436887596,28.739351050697124,28.96216965358198,28.359653216320453,29.028963527127974,28.178797945754578,27.532964316799912,27.485779661279317,26.073104208766637,26.380274967260025,27.678057758034814,27.019413665964603,27.42886058440446,1.582,26.361,24.581,26.00616247975986,27.897,27.36320784088543,26.642,28.319,27.676,28.573333333333334,28.765,28.95,29.099,28.44,29.461,25.614,26.117,30.186,27.599,29.411,26.74,28.329,25.68,29.669,29.107,27.311,25.886,28.436,23.13166666666667,22.712,29.35334328070029,29.710719695824547,27.487793425718575,30.65607755409435,30.097915178067126,28.37668001658059,26.884995628116105,26.66095869858971,26.350698032930683,28.577493971480152,28.27882906206209,28.445406148463793,29.125468792152628,28.07534816540389,29.114755980689736,27.05233837049785,28.564018758905643,24.110160772065594,25.30181813963776,27.10016288812468,21.495467962213258,29.46249364296837,27.15080979405655,29.70520651278534,28.143999979322437,28.83553454830452,27.38353837247976,22.52232627488492,27.007334243453066,27.904956145891294,27.477500176435484],[28.59710375329345,24.793147710312347,25.957572765200048,28.68287373004355,29.62470038243815,29.49098071739585,25.72988289663025,27.8688795541956,29.0295,26.200000000000003,28.6505,27.871,30.66929918207355,29.48697493765485,30.351216986480303,29.91348755377635,30.27412475257195,30.76396758810675,31.705201836245948,30.64740519547815,31.774934219349902,32.12443284621215,28.403000944866747,31.28946390920445,32.1991496732452,31.58554743816495,31.008592392741548,32.508,29.92839116997705,30.24813474739765,31.432000000000002,30.0730604266321,29.715264695542153,28.7740170777616,30.837775963218,28.03362583833635,28.9052168474808,30.032662027892748,29.677830527323998,29.06367273521565,29.4225004150097,29.95671452439235,29.995292394919147,29.9218956832079,29.8646592638841,28.541854554495302,29.6616013786027,28.348683661983948,28.94757301622175,29.54646237045955,28.433636505536,27.701295562894,27.3456396426384,30.0625994398644,27.8502126571149,29.4556320319815,30.6651050214256,30.4292663463669,31.4171518148189,29.7456955886989,30.5496864935509,29.579989032935,29.935207389375,30.8587976267562,30.4019175249674,29.0126232226686,31.3137145316448,31.5108831263306,30.0668496063169,30.871159728386,28.7436061796668,26.7849987423478,29.5587580081075,29.4697550755348,29.976580488356,28.8705112875952,29.8213016297772,29.79181354518,29.3693511655651,30.4563622398461,31.0030874617503,29.5595283584497,27.4344769120821,29.664650303987,27.0688304835172,30.1888852283359,30.4725450916144,29.0426291684034,18.9719521734272,26.8512301146512,30.9952985897297,31.0125725200633,30.958546760849,30.7671020698922,29.3244987804409,29.9436433831263,30.1023315418363,23.7937995904761,30.9976701106769,29.950127701843,30.5222275793913,31.0178819935316,31.1154415812936,31.7295170521864,29.4634702464561,29.9211156986987,27.1667371656306,29.7152283932334,30.2744771172542,28.717327754908,28.2853140289937,26.8757498232994,26.4052771267634,28.935177986919,28.8381726607788,26.1347675690234,25.39211768837,28.7611860661931,28.9869234642002,29.1175139064965,29.974,30.383,28.49272429212,28.6657497774489,28.5837963432909,28.7688768456938,28.9620696194283,29.1941854596718,28.7648000519097,29.6656711657136,29.9736634140026,27.5530061573708,26.4188338895056,25.2846616216404,25.954779087051,29.1629078431988,29.1958968036792,29.546035218441,29.0425571266402,28.7959480433568,29.6716317065532,29.5003849790574,30.5268231955395,29.7425266501229,29.7110418535763,30.5374271210268,30.206413305761,29.9980129838162,31.6579225605734,31.3811129933898,31.4535476402089,31.8599942284347,32.1472171176791,33.5504763501992,30.800226347122,33.7385335136727,32.5268025331815,32.5653599831374,33.5376587030494,31.6198383666751,29.9633510029884,28.2697573599175,27.6178512554582,31.0878240810119,31.2086788159511,30.0068553716305,30.7607523116632,30.6171591134734,30.4909061680697,30.6858309398346,30.4079397038263,28.7565035324584,28.257038961403534,28.9333429682095,28.902272827010002,28.7809530670792,24.209542135148347,27.4616926916525,27.7877918241341,30.0286440302745,29.2877063197145,28.7981447428202,29.4426584697753,28.727968684520498,30.0826300141017,30.4836246461078,30.366110234242548,29.5925406607653,30.6226868026192,28.520830992315396,30.830813686567,30.21712313189405,30.3141279053301,30.075615759658298,31.5970601669808,30.01058023755417,31.3882283308869,29.507330523213867,30.7052066902662,30.1517896043277,30.4195859027772,23.554124445181053,29.5813540496268,29.4286279711389,30.1002452496756,29.47148900788772,29.8363287814872,29.200621392515682,29.445182430147,29.1243741142704,28.3808453240798,28.939933488012,29.264910881435,29.053380961959128,29.278493771295974,29.08769093828461,29.590970967336876,27.0955048734317,27.7893437579991,29.5205104478764,29.628898690373717,29.713617936646184,29.9857041613798,30.36579448294525,30.374560884325604,29.978145838398845,28.772273692240816,28.77386452523622,28.150985774571268,29.655381945519657,29.00599867064016,25.434506929908903,23.714567596419297,28.851238296997128,29.524801103723675,30.415588095794064,32.726246769881186,30.152499681980796,29.769039453946892,29.599511195416845,30.183139983524473,30.39052919245391,29.90320728610319,28.70585161016925,29.051442168452667,27.76720748557321,30.957295715822045,30.139892301005947,28.724444765003312,28.31827925615464,29.042234357151873,29.71911773069964,29.802318475593978,29.522627277150757,22.42148156243651,29.885569069814757,28.65916883693127,27.557864259466793,27.872171325715605,28.395016670364342,28.735245766334295,28.085332081879216,29.53285145660851,29.119925728304253,28.707,26.781,26.00616247975986,30.209999999999997,27.36320784088543,28.918,28.959,29.985,29.09166666666667,30.188,29.450499999999998,29.72,29.619,29.986666666666668,25.614,26.117,30.5845,30.634,30.1305,30.108,29.185333333333332,25.68,30.616,30.805,31.095,30.871,29.6055,29.698,29.177,30.97427233935157,29.481397574430353,30.57361472564278,30.458215697407717,31.448461854283178,28.26551409587936,27.686277051694002,26.66095869858971,26.350698032930683,28.580247197156492,28.670045621317787,28.4868616783471,29.709089778047105,29.435167169807055,29.411244414861095,28.23732183768528,28.780542637028397,25.938012782347137,27.500329734119298,29.368155935547822,21.495467962213258,29.667913252600307,29.841550437742114,29.624977041059786,29.34887840367547,29.00366414683625,29.092921864586458,24.948456540787724,27.331743379202226,27.99084761856186,28.370576775607233],[30.2335988891867,29.0708068595212,30.3086126394489,31.2720298569355,31.6803969670526,31.233671988389,30.3677210912061,30.8257784326571,31.435,29.469,30.506,29.275,31.2932399397992,30.3893659900636,30.5785970347797,30.2954869669279,31.9274888435359,32.2958398495816,32.6517729428232,31.5441915751791,32.7321252898737,33.464947257905,35.3100875175442,32.0092162155461,32.4232206387591,32.3791608972764,32.3170449294931,33.064,32.1685578289607,30.4756823239669,31.879,31.1740179899899,31.4784012018616,31.3092241791235,31.5036644661988,28.0554020796981,29.7981652101431,30.5901062415026,30.1002196661452,29.339392153487,29.8101046657323,30.2916295726792,29.8365749687591,30.0654755647657,30.2082516931106,29.5804383485725,29.6522027572054,28.5281324670724,29.419023216386748,30.3099139657011,25.1168743860433,28.8608389044699,30.4487521376913,30.8178495982764,30.3639068677543,29.6338829162855,31.1633906790809,29.8404586474353,31.4405616636837,28.9647377075303,29.767549318188,28.6084536817684,29.9828118747299,30.2980469077035,29.5061448323039,31.983750897359,30.4463595004645,30.7519632913131,30.7202067990799,30.3709226290085,30.8028981224965,31.2244911502957,30.4423633720633,30.2988667976405,30.84567988934,29.3659526598466,30.3507268019966,30.4758424317323,29.6142769748957,31.239248015148,31.4859062405895,30.7150522431929,30.3043913688584,32.2443452632231,30.8441416153589,31.8956372523917,31.654511818112,32.5164810285297,24.9312772376802,31.0290002872805,32.1651435099795,31.75874235697,31.7812560082094,31.9368188028338,30.2885596557564,30.4279028582003,30.7829429460725,23.7937995904761,31.5146161103961,30.3614616778247,31.026343904386,31.5059255913319,31.4928318355972,30.883252237361,30.1228828504844,29.5019442107639,29.5506607469019,29.3913608974501,24.8702299358222,30.6036069956363,29.360882928887,28.0144990969383,27.8172835328804,27.9997194751286,28.3782138495843,28.8269611482592,29.7689942683247,29.8781373731375,29.0364572018346,29.5346952410699,30.322,30.296,28.3596998532032,29.3109954847533,29.2669177482889,28.7304828971233,28.8088998854349,29.5251290794858,29.0656993622985,30.1721860319628,30.1763500162911,30.3632071502569,30.035112754057103,29.7070183578573,30.2768935373898,29.9626227602382,30.6474430441836,30.5250035049622,30.4061921380414,29.5989882297798,30.0593423750427,31.5811207709994,31.5600038403112,30.2982548698518,30.2669568502007,31.956832194563,30.3633883063724,31.7549622381439,30.9178798710952,31.8807392459804,32.1528362595531,32.9528017167688,33.2865589466435,33.1632567195169,33.4798355282815,32.6788087327783,32.8470721542147,32.7636522708342,33.5273567312838,30.883146313797,34.8457022236505,31.9684080909412,31.8129040698409,32.132382167519,31.9015565242696,32.006541509752,31.6573920856714,30.7777878020589,31.0034777081247,30.8141279082241,30.4455015735365,29.1596856514673,28.35453139130127,28.9304914284771,29.386406477594,29.0397127385286,28.7784216708627,28.9396786101622,30.6696668570387,30.8170051817479,29.9811534976164,29.9524872449937,29.6451261671798,29.8740019638661,30.3387131390393,30.542721625704,31.8090387732314,30.8350147766125,30.8764236055454,29.52635486361687,30.206682350349425,30.7879602529637,30.7157924010994,30.6899898994818,31.7973128212079,29.843001461618936,31.0474166858246,30.1479115129443,31.1389737576071,30.2468693678307,30.7942583633001,30.6761904638641,30.6415677448426,30.4129794526778,30.5790438463084,30.8894871178899,29.9093495973096,29.6705135046359,29.8913321769018,29.4468874301855,29.1769435344767,29.3535749807621,29.5277828469769,29.753912836321277,29.537753912462176,29.752575723526974,30.1488439569015,30.2360336486611,30.5398580372135,30.7043188711492,31.6224155204833,31.3975273257821,32.0350092781504,31.1419880800901,31.17484524931754,31.338459378185494,29.17154534063483,30.302381670064428,28.939755315516248,30.967719781450892,29.68589249893427,22.644544841142523,29.911529066008544,29.690191491800427,29.819373943985948,31.500949996339216,32.44921246642915,32.247202706576864,29.859495441955758,30.41755694225988,30.781897210874508,31.806498942346945,31.490875991190954,29.929172844965063,29.925470055965743,29.194445344912783,30.957295715822045,31.045576049207607,30.25381964152669,29.041439975006266,30.00139827741615,29.910791803274456,30.64246729760598,30.128953992826716,15.813999597745047,30.185318756137196,29.785373357062625,29.72441723697763,29.48762625843308,30.409758373468662,29.38442182269535,29.15125049779383,29.432582259135433,29.427791129567716,29.423,28.981,26.00616247975986,29.37,27.36320784088543,29.81266666666667,29.599,30.035,29.61,29.883,29.951,30.588,30.798,31.285,25.614,26.117,30.983,30.679,30.85,30.544,30.041666666666668,25.68,31.51,32.503,31.587666666666667,31.415,30.775,30.782,30.211,30.75898757212039,29.25207545303616,31.094461760149606,30.26035384072108,30.571604044121287,28.15434817517813,29.37881904094929,26.66095869858971,26.350698032930683,28.72904146592191,29.061262180573483,28.803249872135506,30.29271076394158,29.212859877619206,29.707732849032457,28.992690513500737,28.997066515151154,29.37139791310829,29.69884132860084,29.786016081894996,21.495467962213258,29.873332862232242,29.72062598962264,29.544747569334227,29.03866432775929,29.171793745367985,29.439430660149068,27.37458680669053,27.466723078513915,28.07673909123243,27.691797105887183],[30.92724763790312,29.48722326789454,30.71380799053274,31.3721749948165,31.855837148662882,31.4070080862534,30.81543644084888,31.14372153082396,31.732799999999997,29.7708,30.384,29.325799999999997,31.12502896179356,30.39885879879462,30.54668196166278,30.16752977687532,31.52627997786596,31.90925147007452,32.09968488456864,31.1880626554843,32.2082971652081,32.64996824367798,34.14959487704094,31.617790862312237,32.24937651100728,31.98524575056488,31.845238657710482,32.6112,31.565360589348202,30.316595182072362,31.5744,30.87114431910804,31.160430348561302,30.9211229340365,31.13828853337434,28.39340006190488,29.80089688970308,30.45084154747212,30.09474853396632,29.556765805478342,29.60908435225194,30.06730574770998,29.94143344849902,30.06967320208982,30.16285170142818,29.75169601623048,29.82116220576432,29.08271707375494,29.696315519728017,30.3099139657011,30.1303076036804,29.3645326052923,30.2246344459076,30.7431748585568,29.8209023845992,30.4857289349349,30.4168551331721,31.0393339457766,30.1866041262773,28.3318466603865,29.5956384022777,28.7159149015067,29.8804939269059,29.7403808362302,29.236587755387852,29.7617925920901,28.8049400400522,29.5946140678529,28.7567928157999,28.9205096700419,29.0916662763875,30.4268786837273,29.5707918004647,29.5412685454584,30.4182968203381,29.2639721486261,30.2746247730511,30.3830816520856,29.8271408109118,31.4667960975349,31.3201586404308,31.2383299413877,31.3618406590365,32.6062076339395,31.8031869495916,31.3586258641412,31.5299769076646,32.3214127711754,31.9991060453682,33.6007528551186,32.2372806357505,30.9646535577458,32.6135705789653,31.9076314313145,30.5083260662683,31.1138221378397,30.4835109268438,29.97799879364745,29.4724866604511,30.9293527485452,30.1236110735856,30.0703353592058,29.7913926593826,29.3796537763539,29.327337190986,28.1079337825425,28.3658509182274,28.1841617111001,26.659090439998,28.2235200348578,28.1859203537754,27.3737845314767,26.8790052956665,27.8910196615648,27.5275453165526,28.5474782692098,29.5847220076586,29.4660958637995,29.0441490602586,28.7595806428912,30.396,29.3670756650465,29.4911542591415,29.4054697364497,29.2030341785637,28.6359628896971,28.6922935656752,29.3821559321031,29.1859484644668,30.2279970839668,29.9956057411686,30.4267577600595,30.2193253577756,30.4321713083701,29.9048097561062,29.7621043663019,30.3883702453187,30.0994530575635,30.2809291478612,29.9153524279407,30.0501277375936,31.5583275508799,31.0909865977039,30.7987403322065,30.2404677833087,31.8701415579215,30.1579435429303,30.8029181191133,30.1465510639728,30.4592478465985,30.2515574677626,31.4719781481757,31.1634870153788,31.3265868110173,30.4020278939412,31.3418389980601,30.6033622032972,30.3807023727622,31.2713419453075,29.6050752599812,34.8457022236505,31.030451802458,29.9119465404687,31.2702339312455,31.230017083902,31.9182127285904,30.2130525832354,30.6100307933795,31.0092196001503,30.7902793603893,30.4830634432467,29.269084476579,28.452023821199,29.1344305725708,29.2561430670516,29.2119015594593,28.842719739849,29.0789084664921,30.511220508778372,29.6116181033773,29.2847310653843,29.766517735751325,29.4490157841249,29.6799675592627,29.8988876688445,30.542721625704,31.1874428424013,29.6926120451976,30.46524893074655,29.067653445671468,29.2721886568189,30.321177113231276,29.134898069278,30.25470120871406,29.9477531374798,29.675422685683703,29.8624992972737,29.80226095813585,29.2740955337816,29.761674879910295,29.3695277723633,30.142020810040734,29.5801179830447,30.094887660649967,30.0950299371537,30.453292799831267,29.2963714824893,29.461555432779235,29.555182797733,29.5058843872676,29.451550634507,29.2746827776662,29.4011323616918,29.74876003997457,29.70275452501425,29.78925249189322,30.003792778354676,30.632447459758,30.9022648398934,30.8347132822223,30.7093955755428,31.02258143627136,31.5107781184246,30.9176098367761,30.368249272456907,30.882543401583984,29.140790619464426,30.054248032351936,29.18489495863209,30.67758438773951,30.332994633850287,24.3013598375511,29.248248636173184,29.44289642353657,29.434673324267848,31.086133606710384,31.23916977706465,31.555165433048046,29.48227636523906,30.113964631366642,29.822446426332245,31.23260831815974,31.682824818748415,29.7893370909756,29.705101199166133,29.24283699794301,30.793967686103898,30.87518471688312,30.14809205329325,30.44911621725601,29.931669221610083,29.862422598995355,30.498998966729797,30.159074995524094,19.317486582875702,29.813461732483834,29.78100534322953,29.740971465106835,29.752103413799226,30.388681677978816,29.39816299174007,29.199938997833748,30.09593418944983,29.519467094724916,28.943,29.03425,29.226125,29.418,29.256,29.094,29.412,28.536,29.317,29.004,29.511583333333334,29.489,30.3235,30.253,30.327833333333334,30.402666666666665,30.4775,29.447,30.32875,29.075,29.71225,29.979125,30.246,31.720416666666665,30.762,30.83,30.479999999999997,29.651,29.56,29.777023183766193,28.8303243193716,30.837914112326136,29.003627117672032,30.69048776870558,27.555519792691864,28.870147545186924,28.939820986271805,29.00949442735668,29.079167868441562,28.208241400939112,29.217540833274956,28.542810075835405,29.80401919110905,26.846321994068944,29.101784129344676,26.982995827112735,29.68618156418458,27.547722837941148,29.87162130607583,29.34447043168649,28.817319557297147,29.750087563984827,22.361711414071042,28.956942777133165,22.390380982155968,29.307139689774388,20.546788678779738,27.64292116111548,21.078816636812412,27.536535156080674],[31.62089638661954,29.90363967626788,31.11900334161658,31.4723201326975,32.03127733027316,31.5803441841178,31.263151790491662,31.461664628990818,32.0306,30.0726,30.262,29.3766,30.95681798378792,30.40835160752564,30.51476688854586,30.03957258682274,31.12507111219602,31.522663090567438,31.54759682631408,30.831933735789498,31.6844690405425,31.83498922945096,32.989102236537676,31.226365509078377,32.07553238325546,31.591330603853358,31.37343238592786,32.1584,30.9621633497357,30.15750804017782,31.2698,30.56827064822618,30.842459495261,30.5330216889495,30.77291260054988,28.73139804411166,29.80362856926306,30.31157685344164,30.08927740178744,29.77413945746968,29.40806403877158,29.84298192274076,30.04629192823894,30.07387083941394,30.11745170974576,29.92295368388846,29.99012165432324,29.637301680437478,29.973607823069287,30.3099139657011,29.5735792117598,29.8894534510355,30.7296923303936,31.0952783929808,30.9095629009272,30.7125198333136,31.131097013906,31.0778967689266,30.1138445432193,29.0862726855263,29.1699027022288,28.6543665984685,29.6099255414175,28.7353803501628,28.9670306784718,28.9226214810243,29.2713512367019,29.4486846359193,28.6595394480338,28.7914494932384,28.6910998815222,29.0650869306947,29.1415952626923,29.3464822959907,30.1585882806415,29.1610888490117,30.599220140013,30.4511834408676,29.9346762135375,31.3354122119079,31.3947314235141,23.0273926825144,30.9205478950761,32.7732503985879,31.6496716254935,31.5254881569673,31.9998038679973,32.593651636655,32.1935411777852,33.6428405149979,32.1380678069989,32.5433609455401,31.014412946103334,31.3229233967558,30.718201922001,31.5023024292353,30.5506702767161,30.98532052297305,31.41997076923,30.5095125130381,30.1045840327356,29.3225726538041,29.6446043135252,29.1259658321173,29.130368480979,28.2808626326784,28.271129690511,27.7074581533209,26.4980214194459,28.0369886654998,27.9678239294603,27.083786492684,26.2826552803639,27.8848596179575,27.4826363904787,27.8275311843174,28.9378184899525,28.9130566236743,28.5493248636971,28.7052347116224,30.065,29.995,29.4319426424005,29.3723726524831,29.157608677493,28.6489077181743,28.7225406069938,29.328833054989,29.2965142642481,30.1997104131585,30.0425786527775,30.2292774844261,30.0587937551368,30.0717626583792,30.0006378355319,29.6965164830963,30.4015227135711,30.0384228069419,29.8396593179887,29.7561496900885,29.7996364812331,30.2127747103174,31.0355271534146,30.3234303251942,29.7897710061686,30.3034450932158,29.9588050894691,30.4071699905033,29.8840457913148,30.1371934756467,29.9790443462551,30.7193791002828,30.290062664313,30.5696818835269,24.6977090383581,30.9004498576773,30.1589746755426,29.7131321780727,30.2296475774513,29.5581587050216,34.8457022236505,30.1518513948242,29.8148970529984,30.9434357599951,30.597635448604,31.0197959196542,30.2665433012108,30.3710314291316,30.8772151520665,30.7773037735381,30.5015508760405,29.1895687672051,28.549516251096733,28.935674273164,29.1258796565092,29.2061757117897,28.9070178088353,29.4716104085087,30.35277416051805,30.0573280053445,29.1744047838111,29.580548226508952,29.1799082654568,29.4859331546593,29.3963941717723,30.542721625704,30.5658469115712,29.1597211016818,30.0540742559477,28.60895202772607,28.479344177927,29.85439397349885,28.5506022592589,29.81941251794632,29.3180440584716,29.50784390974847,29.431341637151235,29.456610403327403,28.649119857646866,29.276480391989885,28.763168494102064,29.607851156217365,29.29851392769307,29.776795868622134,29.518045727168566,30.017098481772635,29.101200437339134,29.252597360922568,29.13754923127333,29.0737333880615,29.144785431721164,29.199683499186566,29.3380475945841,29.743607243627864,29.776266311212424,29.825929260259464,29.944027508116076,30.540023142296434,30.8160973909232,30.08779772272813,30.274327364064202,30.64763554676062,29.990913914087134,30.6932315934621,29.559282915794768,30.426627424982474,29.315983925970396,29.806114394639444,28.95592242715558,30.38744899402813,29.667104476667138,25.958174833959674,29.523972327232574,29.195601355272714,28.778244715841222,30.67131721708155,29.967717356076808,30.86312815951923,29.558641238607688,29.810372320473405,29.73191229612574,30.65871769397254,30.037536729146932,29.64950133698614,29.606381009454896,29.29122865097324,30.09814559658905,30.312198286554093,30.042364465059812,30.024464252233873,29.861940165804015,29.50657653560093,30.35553063585361,30.45431937832785,22.820973568006355,29.988564561515904,29.776637329396436,29.773645449029413,30.177461451994915,30.367604982488967,29.478606952264208,29.248627497873663,30.381990293706945,29.673495146853472,28.965,29.0875,29.216749999999998,29.346,29.0445,28.743,29.225,28.215,29.024,28.278000000000002,29.072166666666668,28.638,29.848999999999997,28.841,29.218,29.595000000000002,29.972,28.663,29.8075,28.646,29.382833333333334,29.361250000000002,29.33966666666667,30.93783333333333,30.4,30.057,30.185,29.044,29.16,29.157712720544264,28.408573185707034,30.132886717901098,27.74690039462298,30.693428750806678,26.9566914102056,28.177566629628796,28.44951959301853,28.721472556408262,28.993425519797995,27.35522062130474,29.352763876023573,26.79290938772923,29.41824448754202,23.984911139105428,29.398791968602765,24.968925139074315,29.718548847221957,25.396604347281453,29.772430671834513,28.766868462098284,27.761306252362054,29.887867752173022,15.178675258807859,29.237301820792055,15.608968218943946,29.204793144559403,13.718990550868943,27.794876177553636,14.080894182392397,27.498295079208308],[32.31454513533596,30.32005608464122,31.524198692700416,31.572465270578498,32.20671751188344,31.7536802819822,31.71086714013444,31.77960772715768,32.3284,30.3744,30.14,29.4274,30.78860700578228,30.41784441625666,30.48285181542894,29.91161539677016,30.723862246526078,31.13607471106036,30.99550876805952,30.4758048160947,31.1606409158769,31.02001021522394,31.82860959603442,30.83494015584452,31.90168825550364,31.19741545714184,30.90162611414524,31.7056,30.358966110123202,29.998420898283282,30.965200000000003,30.26539697734432,30.5244886419607,30.1449204438625,30.40753666772542,29.06939602631844,29.80636024882304,30.17231215941116,30.08380626960856,29.99151310946102,29.207043725291218,29.61865809777154,30.151150407978857,30.07806847673806,30.07205171806334,30.09421135154644,30.159081102882162,30.19188628712002,30.25090012641056,30.3099139657011,30.18565828557555,30.1251081653762,30.8789478842496,31.2486932718084,31.72362116159545,30.6822059516931,31.2239950794168,30.957825753772802,30.354109909304448,29.154804097680397,29.20602910018475,28.740962541913852,29.82429398542795,28.6198962726778,28.967638888271452,29.13042380503785,29.170887925315,29.3209684156132,28.5210294179402,28.6553510975669,28.72294177402025,29.16021525572755,29.18543568174675,29.1379577079962,29.97603108316325,29.0401519906236,30.25265151163585,30.22915991331395,29.8692721603474,31.49641646312275,31.4150698854119,23.3697135863013,31.2585452504868,32.909146059258845,32.32881790183905,31.46294056654945,31.50956367248565,32.617694065535844,26.1777852273997,33.594835348337455,31.882528348438747,32.64315208965395,29.415255313241367,32.00025447367755,30.787772610146902,29.21594830566865,30.734276836152752,30.80223561444165,30.87019439273055,30.5095125130381,29.7459243127147,29.273102347594353,29.469662372970248,29.5475695689644,29.14286591902615,28.10987815340475,28.28319943814585,27.744204285273447,27.6169661580484,28.02751928598255,27.9712845400977,26.78189492267725,26.30037450566365,27.745844666762,27.42057675705165,27.8739963072837,28.82913447003955,28.88001042852305,28.571521172420603,28.6227159357381,29.976,30.139000000000003,29.35525758895415,29.254607460135603,29.12884556730445,28.6702448755525,28.7216429487282,29.3632120256927,29.29492860573615,30.214537430576797,30.08634988154925,30.325829912631,30.130717053574052,30.090973961985448,30.133842632027353,29.686001009322048,30.41677342870205,30.0540452234357,29.87517667106745,29.911247756229848,29.703033206665403,30.163580326096,30.6263630433739,30.40282251688075,29.8236158134711,30.03523300864945,29.931605376279748,30.43484480550915,29.89789095096,30.0315597122268,29.9290418428872,30.496914003113048,30.199867615951753,30.5779144622895,27.25124797494035,30.82611105114585,30.144544950565198,29.77989795822135,30.2995279730195,29.4534433041756,34.8457022236505,29.974374116599,29.83142547531575,30.85723163480305,30.628890313075047,30.83267488646695,30.130983462163,30.3729795567926,30.8186817522735,30.6731176291865,30.43275285838925,29.0400604966605,28.9537870205936,28.8675135445267,28.9956162459668,29.1227499060324,28.9713158778216,29.240707412969,30.194327812257725,30.1089496711773,29.3345024464001,29.394578717266576,29.434120038234802,29.2918987500559,29.40276298960125,30.542721625704,29.9442509807411,29.404181707108002,29.64289958114885,28.150250609780667,28.069039497272332,29.387610833766423,28.541904443890097,29.384123827178573,29.407238112118698,29.309797135989932,29.212356159861166,29.110959848518952,28.590787009999733,28.791285904069476,28.644860258645082,29.073681502393995,29.221975475694286,29.4587040765943,29.90525511151388,29.580904163714,29.067994936151717,29.0436392890659,29.037990476385815,29.034091765511747,29.14771975431138,29.092820164326383,29.278040551981,29.738454447281157,29.721526985750586,29.862606028625706,29.9265086141479,30.488454606394317,30.729929941953,30.069828649293918,30.2113207421787,30.272689657249874,29.98585587991017,30.4688533501481,29.85068568568383,29.970711448380964,28.840618270780112,29.557980756926955,29.22864877373869,30.09731360031675,29.66085048103411,27.614989830368252,29.092854245782394,28.948306287008858,28.66238144285974,30.256500827452715,29.91447777948302,30.171090885990417,29.192648949971186,29.50678000958017,29.251936234866648,30.084827069785337,30.163090361893463,29.50966558299668,28.996504079989037,29.339620304003468,30.15430105494042,30.348508903469302,29.93663687682637,30.03449069789975,29.792211109997943,29.683942083555046,30.21206230497743,30.432535191336953,26.32446055313701,29.918093626898827,29.77226931556334,29.829809664128362,30.152464299360055,30.346528286999117,29.459870464170013,29.297315997913582,30.210440673357283,29.581720336678643,28.953,29.14075,29.244125,29.3475,29.039250000000003,28.731,29.038,28.256999999999998,28.730999999999998,23.8735,28.632749999999998,28.6335,29.374499999999998,28.8615,29.063166666666667,29.264833333333332,29.4665,28.6295,29.286250000000003,28.6515,29.053416666666667,29.137875,29.222333333333335,30.15525,30.0405,29.829,29.89,29.036,26.319892164829714,25.94885415808218,27.986822052042474,27.73135276496979,26.490173671573928,27.752848454253744,26.35786302771934,27.17562396363644,27.241702141375978,27.30778031911552,27.373858496855057,26.502199841670368,27.597436974512966,25.04300869962306,26.877558651439223,21.12350028414191,23.20883747659348,22.954854451035892,25.49040497676206,23.245485856621762,23.553538611199723,25.12941577931334,26.705292947426962,21.61802103056965,7.995639103544676,14.756234950287102,8.827555455731925,15.457064938570667,6.891192422958149,14.047759202394316,7.082971727972382,14.195425323195636],[33.00819388405238,30.73647249301456,31.929394043784256,31.672610408459498,32.382157693493724,31.9270163798466,32.158582489777224,32.09755082532454,32.6262,30.6762,30.018,29.4782,30.62039602777664,30.427337224987678,30.45093674231202,29.78365820671758,30.32265338085614,30.74948633155328,30.44342070980496,30.1196758963999,30.636812791211298,30.20503120099692,30.66811695553116,30.44351480261066,31.72784412775182,30.80350031043032,30.42981984236262,31.2528,29.7557688705107,29.83933375638874,30.660600000000002,29.962523306462458,30.2065177886604,29.7568191987755,30.04216073490096,29.40739400852522,29.809091928383022,30.03304746538068,30.07833513742968,30.20888676145236,29.006023411810858,29.39433427280232,30.256008887718778,30.08226611406218,30.02665172638092,30.26546901920442,30.32804055144108,30.74647089380256,30.52819242975183,30.3099139657011,30.7977373593913,30.360762879716898,31.0282034381056,31.402108150636,32.5376794222637,30.6518920700726,31.2239950794168,30.837754738619,30.5943752753896,29.2233355098345,29.2421554981407,28.8275584853592,30.0386624294384,28.5044121951928,28.9682470980711,29.3382261290514,29.0704246139281,29.1932521953071,28.3825193878466,28.5192527018954,28.7547836665183,29.2553435807604,29.2292761008012,28.9294331200017,29.793473885685,28.9192151322355,29.9060828832587,30.0071363857603,29.8038681071573,31.6574207143376,31.4354083473097,23.7120344900882,31.5965426058975,33.0450417199298,33.0079641781846,31.4003929761316,31.019323476974,32.6417364944167,20.1620292770142,33.546830181677,31.6269888898786,32.7429432337678,27.8160976803794,32.6775855505993,30.8573432982928,26.929594182102,30.9178833955894,30.61915070591025,30.3204180162311,30.5095125130381,29.3872645926938,29.2236320413846,29.2947204324153,29.9691733058115,29.1553633570733,27.9388936741311,28.2952691857807,27.780950417226,28.7359108966509,28.0180499064653,27.9747451507351,26.4800033526705,26.3180937309634,27.6068297155665,27.3585171236246,27.92046143025,28.7204504501266,28.8469642333718,28.5937174811441,28.5401971598538,29.887,30.283,29.2785725355078,29.1368422677881,29.1000824571159,28.6915820329307,28.7207452904626,29.3975909963964,29.2933429472242,30.2293644479951,30.130121110321,30.4223823408359,30.2026403520113,30.1101852655917,30.2670474285228,29.6754855355478,30.432024143833,30.0696676399295,29.9106940241462,30.0663458223712,29.6064299320977,30.1143859418746,30.2171989333332,30.4822147085673,29.8574606207736,29.7670209240831,29.9044056630904,30.462519620515,29.9117361106052,29.9259259488069,29.8790393395193,30.2744489059433,30.1096725675905,30.5861470410521,29.8047869115226,30.7517722446144,30.1301152255878,29.84666373837,30.3694083685877,29.3487279033296,34.8457022236505,29.7968968383738,29.8479538976331,30.771027509611,30.6601451775461,30.6455538532797,29.9954236231152,30.3749276844536,30.7601483524805,30.5689314848349,30.363954840738,28.8905522261159,28.7445011108922,28.7993528158894,28.8653528354244,29.0393241002751,29.0356139468079,29.0098044174293,30.0358814639974,30.1605713370101,29.4946001089891,29.2086092080242,29.6883318110128,29.0978643454525,29.4091318074302,30.542721625704,29.322655049911,29.6486423125342,29.23172490635,28.150250609780667,28.5398736609367,28.920827694034,28.5332066285213,28.948835136410832,29.4964321657658,29.172686357878003,28.9933706825711,28.7653092937105,28.5324541623526,28.30609141614907,28.5265520231881,28.53951184857063,29.1454370236955,29.14061228456647,30.2924644958592,29.144709845655367,29.0347894349643,28.834681217209237,28.9384317214983,28.994450142962,29.1506540769016,28.9859568294662,29.2180335093779,29.73330165093445,29.666787660288747,29.89928279699195,29.908989720179726,30.4368860704922,30.6437624929828,30.0518595758597,30.1483141202932,29.897743767739133,29.9807978457332,30.2444751068341,30.142088455572893,29.514795471779454,28.365252615589824,29.309847119214464,29.501375120321796,29.807178206605368,29.65459648540108,29.27180482677683,28.661736164332215,28.701011218745002,28.54651816987826,29.841684437823883,29.86123820288923,29.4790536124616,28.826656661334688,29.203187698686932,28.771960173607553,29.510936445598134,30.288643994639994,29.369829829007216,28.386627150523175,29.388011957033694,30.21045651329179,30.38481952038451,29.83090928859293,30.044517143565628,29.722482054191875,29.861307631509156,30.068593974101248,30.41075100434606,29.827947538267665,29.84762269228175,29.767901301730245,29.88597387922731,30.12746714672519,30.32545159150927,29.441133976075818,29.3460044979535,30.03889105300762,29.48994552650381,28.941,29.194,29.2715,29.349,29.034,28.719,28.851,28.299,28.438,19.469,28.19333333333333,28.629,28.9,28.882,28.908333333333335,28.934666666666665,28.961,28.596,28.765,28.657,28.724,28.9145,29.105,29.372666666666664,29.681,29.601,29.595,29.028,23.479784329659427,22.739995595620098,27.565070918377913,25.329818812038486,25.23344694852488,24.812268157700807,25.759034645233076,26.17368129764408,26.033884689733426,25.894088081822776,25.754291473912122,25.649179062035998,25.84211007300236,23.293108011516882,24.33687281533643,18.2620894291784,17.018882984584195,20.940783762997473,21.262261106302166,21.09436736596207,17.334646550564933,21.4919630965284,25.649279642491866,13.348174308966282,0.812602948281491,0.2751680797821469,2.0461426925199064,1.7093367325819309,0.06339429504735758,0.3006422272349953,0.08504927355236461,0.8925555671829644],[33.7018426327688,31.1528889013879,32.3345893948681,31.7727555463405,32.557597875104,32.100352477711,32.60629783942,32.4154939234914,32.924,30.978,29.896,29.529,30.452185049771,30.4368300337187,30.4190216691951,29.655701016665,29.9214445151862,30.3628979520462,29.8913326515504,29.7635469767051,30.1129846665457,29.3900521867699,29.5076243150279,30.0520894493768,31.554,30.4095851637188,29.95801357058,30.8,29.1525716308982,29.6802466144942,30.356,29.6596496355806,29.8885469353601,29.3687179536885,29.6767848020765,29.745391990732,29.811823607943,29.8937827713502,30.0728640052508,30.4262604134437,28.8050030983305,29.1700104478331,30.3608673674587,30.0864637513863,29.9812517346985,30.4367266868624,30.497,31.3010555004851,31.133282786787166,30.96551007308923,30.7977373593913,30.5964175940576,31.1774589919616,31.402108150636,32.5376794222637,30.6518920700726,31.2239950794168,30.837754738619,30.5943752753896,29.2233355098345,29.2421554981407,28.8275584853592,30.0386624294384,28.5044121951928,28.9682470980711,29.3382261290514,29.0704246139281,29.1932521953071,28.3825193878466,28.5192527018954,28.7547836665183,29.2553435807604,29.2292761008012,28.9294331200017,29.793473885685,28.9192151322355,29.9060828832587,30.0071363857603,29.8038681071573,31.6574207143376,31.4354083473097,23.7120344900882,31.5965426058975,33.0450417199298,33.0079641781846,31.4003929761316,31.019323476974,32.6417364944167,20.1620292770142,33.546830181677,31.6269888898786,32.7429432337678,27.8160976803794,32.6775855505993,30.8573432982928,26.929594182102,30.9178833955894,30.61915070591025,30.3204180162311,30.5095125130381,29.3872645926938,29.2236320413846,29.2947204324153,29.9691733058115,29.1553633570733,27.9388936741311,28.2952691857807,27.780950417226,28.7359108966509,28.0180499064653,27.9747451507351,26.4800033526705,26.3180937309634,27.6068297155665,27.3585171236246,27.92046143025,28.7204504501266,28.8469642333718,28.5937174811441,28.5401971598538,29.887,30.283,29.2785725355078,29.1368422677881,29.1000824571159,28.6915820329307,28.7207452904626,29.3975909963964,29.2933429472242,30.2293644479951,30.130121110321,30.4223823408359,30.2026403520113,30.1101852655917,30.2670474285228,29.6754855355478,30.432024143833,30.0696676399295,29.9106940241462,30.0663458223712,29.6064299320977,30.1143859418746,30.2171989333332,30.4822147085673,29.8574606207736,29.7670209240831,29.9044056630904,30.462519620515,29.9117361106052,29.9259259488069,29.8790393395193,30.2744489059433,30.1096725675905,30.5861470410521,29.8047869115226,30.7517722446144,30.1301152255878,29.84666373837,30.3694083685877,29.3487279033296,29.5728123708517,29.7968968383738,29.8479538976331,30.771027509611,30.6601451775461,30.6455538532797,29.9954236231152,30.3749276844536,30.7601483524805,30.5689314848349,30.363954840738,28.8905522261159,28.7445011108922,28.7993528158894,28.8653528354244,29.0393241002751,29.0356139468079,29.0098044174293,30.0358814639974,30.1605713370101,29.4946001089891,29.2086092080242,29.6883318110128,29.0978643454525,29.4091318074302,29.3658934286706,29.322655049911,29.6486423125342,29.23172490635,28.150250609780667,28.5398736609367,28.920827694034,28.5332066285213,28.948835136410832,29.4964321657658,29.172686357878003,28.9933706825711,28.7653092937105,28.5324541623526,28.30609141614907,28.5265520231881,28.53951184857063,29.1454370236955,29.14061228456647,30.2924644958592,29.144709845655367,29.0347894349643,28.834681217209237,28.9384317214983,28.994450142962,29.1506540769016,28.9859568294662,29.2180335093779,29.73330165093445,29.666787660288747,29.89928279699195,29.908989720179726,30.4368860704922,30.6437624929828,30.0518595758597,30.1483141202932,29.897743767739133,29.9807978457332,30.2444751068341,30.142088455572893,29.514795471779454,28.365252615589824,29.309847119214464,29.501375120321796,29.807178206605368,29.65459648540108,29.27180482677683,28.661736164332215,28.701011218745002,28.54651816987826,29.841684437823883,29.86123820288923,29.4790536124616,28.826656661334688,29.203187698686932,28.771960173607553,29.510936445598134,30.288643994639994,29.369829829007216,28.386627150523175,29.388011957033694,30.21045651329179,30.38481952038451,29.83090928859293,30.044517143565628,29.722482054191875,29.861307631509156,30.068593974101248,30.41075100434606,29.827947538267665,29.84762269228175,29.767901301730245,29.88597387922731,30.12746714672519,30.32545159150927,29.441133976075818,29.3460044979535,30.03889105300762,29.48994552650381,28.941,29.194,29.2715,29.349,29.034,28.719,28.851,28.299,28.438,19.469,28.19333333333333,28.629,28.9,28.882,28.908333333333335,28.934666666666665,28.961,28.596,28.765,28.657,28.724,28.9145,29.105,29.372666666666664,29.681,29.601,29.595,29.028,23.479784329659427,22.739995595620098,27.565070918377913,25.329818812038486,25.23344694852488,24.812268157700807,25.759034645233076,26.17368129764408,26.033884689733426,25.894088081822776,25.754291473912122,25.649179062035998,25.84211007300236,23.293108011516882,24.33687281533643,18.2620894291784,17.018882984584195,20.940783762997473,21.262261106302166,21.09436736596207,17.334646550564933,21.4919630965284,25.649279642491866,13.348174308966282,0.812602948281491,0.2751680797821469,2.0461426925199064,1.7093367325819309,0.06339429504735758,0.3006422272349953,0.08504927355236461,0.8925555671829644]],\"type\":\"contour\"}],                        {\"template\":{\"data\":{\"bar\":[{\"error_x\":{\"color\":\"#2a3f5f\"},\"error_y\":{\"color\":\"#2a3f5f\"},\"marker\":{\"line\":{\"color\":\"#E5ECF6\",\"width\":0.5},\"pattern\":{\"fillmode\":\"overlay\",\"size\":10,\"solidity\":0.2}},\"type\":\"bar\"}],\"barpolar\":[{\"marker\":{\"line\":{\"color\":\"#E5ECF6\",\"width\":0.5},\"pattern\":{\"fillmode\":\"overlay\",\"size\":10,\"solidity\":0.2}},\"type\":\"barpolar\"}],\"carpet\":[{\"aaxis\":{\"endlinecolor\":\"#2a3f5f\",\"gridcolor\":\"white\",\"linecolor\":\"white\",\"minorgridcolor\":\"white\",\"startlinecolor\":\"#2a3f5f\"},\"baxis\":{\"endlinecolor\":\"#2a3f5f\",\"gridcolor\":\"white\",\"linecolor\":\"white\",\"minorgridcolor\":\"white\",\"startlinecolor\":\"#2a3f5f\"},\"type\":\"carpet\"}],\"choropleth\":[{\"colorbar\":{\"outlinewidth\":0,\"ticks\":\"\"},\"type\":\"choropleth\"}],\"contour\":[{\"colorbar\":{\"outlinewidth\":0,\"ticks\":\"\"},\"colorscale\":[[0.0,\"#0d0887\"],[0.1111111111111111,\"#46039f\"],[0.2222222222222222,\"#7201a8\"],[0.3333333333333333,\"#9c179e\"],[0.4444444444444444,\"#bd3786\"],[0.5555555555555556,\"#d8576b\"],[0.6666666666666666,\"#ed7953\"],[0.7777777777777778,\"#fb9f3a\"],[0.8888888888888888,\"#fdca26\"],[1.0,\"#f0f921\"]],\"type\":\"contour\"}],\"contourcarpet\":[{\"colorbar\":{\"outlinewidth\":0,\"ticks\":\"\"},\"type\":\"contourcarpet\"}],\"heatmap\":[{\"colorbar\":{\"outlinewidth\":0,\"ticks\":\"\"},\"colorscale\":[[0.0,\"#0d0887\"],[0.1111111111111111,\"#46039f\"],[0.2222222222222222,\"#7201a8\"],[0.3333333333333333,\"#9c179e\"],[0.4444444444444444,\"#bd3786\"],[0.5555555555555556,\"#d8576b\"],[0.6666666666666666,\"#ed7953\"],[0.7777777777777778,\"#fb9f3a\"],[0.8888888888888888,\"#fdca26\"],[1.0,\"#f0f921\"]],\"type\":\"heatmap\"}],\"heatmapgl\":[{\"colorbar\":{\"outlinewidth\":0,\"ticks\":\"\"},\"colorscale\":[[0.0,\"#0d0887\"],[0.1111111111111111,\"#46039f\"],[0.2222222222222222,\"#7201a8\"],[0.3333333333333333,\"#9c179e\"],[0.4444444444444444,\"#bd3786\"],[0.5555555555555556,\"#d8576b\"],[0.6666666666666666,\"#ed7953\"],[0.7777777777777778,\"#fb9f3a\"],[0.8888888888888888,\"#fdca26\"],[1.0,\"#f0f921\"]],\"type\":\"heatmapgl\"}],\"histogram\":[{\"marker\":{\"pattern\":{\"fillmode\":\"overlay\",\"size\":10,\"solidity\":0.2}},\"type\":\"histogram\"}],\"histogram2d\":[{\"colorbar\":{\"outlinewidth\":0,\"ticks\":\"\"},\"colorscale\":[[0.0,\"#0d0887\"],[0.1111111111111111,\"#46039f\"],[0.2222222222222222,\"#7201a8\"],[0.3333333333333333,\"#9c179e\"],[0.4444444444444444,\"#bd3786\"],[0.5555555555555556,\"#d8576b\"],[0.6666666666666666,\"#ed7953\"],[0.7777777777777778,\"#fb9f3a\"],[0.8888888888888888,\"#fdca26\"],[1.0,\"#f0f921\"]],\"type\":\"histogram2d\"}],\"histogram2dcontour\":[{\"colorbar\":{\"outlinewidth\":0,\"ticks\":\"\"},\"colorscale\":[[0.0,\"#0d0887\"],[0.1111111111111111,\"#46039f\"],[0.2222222222222222,\"#7201a8\"],[0.3333333333333333,\"#9c179e\"],[0.4444444444444444,\"#bd3786\"],[0.5555555555555556,\"#d8576b\"],[0.6666666666666666,\"#ed7953\"],[0.7777777777777778,\"#fb9f3a\"],[0.8888888888888888,\"#fdca26\"],[1.0,\"#f0f921\"]],\"type\":\"histogram2dcontour\"}],\"mesh3d\":[{\"colorbar\":{\"outlinewidth\":0,\"ticks\":\"\"},\"type\":\"mesh3d\"}],\"parcoords\":[{\"line\":{\"colorbar\":{\"outlinewidth\":0,\"ticks\":\"\"}},\"type\":\"parcoords\"}],\"pie\":[{\"automargin\":true,\"type\":\"pie\"}],\"scatter\":[{\"marker\":{\"colorbar\":{\"outlinewidth\":0,\"ticks\":\"\"}},\"type\":\"scatter\"}],\"scatter3d\":[{\"line\":{\"colorbar\":{\"outlinewidth\":0,\"ticks\":\"\"}},\"marker\":{\"colorbar\":{\"outlinewidth\":0,\"ticks\":\"\"}},\"type\":\"scatter3d\"}],\"scattercarpet\":[{\"marker\":{\"colorbar\":{\"outlinewidth\":0,\"ticks\":\"\"}},\"type\":\"scattercarpet\"}],\"scattergeo\":[{\"marker\":{\"colorbar\":{\"outlinewidth\":0,\"ticks\":\"\"}},\"type\":\"scattergeo\"}],\"scattergl\":[{\"marker\":{\"colorbar\":{\"outlinewidth\":0,\"ticks\":\"\"}},\"type\":\"scattergl\"}],\"scattermapbox\":[{\"marker\":{\"colorbar\":{\"outlinewidth\":0,\"ticks\":\"\"}},\"type\":\"scattermapbox\"}],\"scatterpolar\":[{\"marker\":{\"colorbar\":{\"outlinewidth\":0,\"ticks\":\"\"}},\"type\":\"scatterpolar\"}],\"scatterpolargl\":[{\"marker\":{\"colorbar\":{\"outlinewidth\":0,\"ticks\":\"\"}},\"type\":\"scatterpolargl\"}],\"scatterternary\":[{\"marker\":{\"colorbar\":{\"outlinewidth\":0,\"ticks\":\"\"}},\"type\":\"scatterternary\"}],\"surface\":[{\"colorbar\":{\"outlinewidth\":0,\"ticks\":\"\"},\"colorscale\":[[0.0,\"#0d0887\"],[0.1111111111111111,\"#46039f\"],[0.2222222222222222,\"#7201a8\"],[0.3333333333333333,\"#9c179e\"],[0.4444444444444444,\"#bd3786\"],[0.5555555555555556,\"#d8576b\"],[0.6666666666666666,\"#ed7953\"],[0.7777777777777778,\"#fb9f3a\"],[0.8888888888888888,\"#fdca26\"],[1.0,\"#f0f921\"]],\"type\":\"surface\"}],\"table\":[{\"cells\":{\"fill\":{\"color\":\"#EBF0F8\"},\"line\":{\"color\":\"white\"}},\"header\":{\"fill\":{\"color\":\"#C8D4E3\"},\"line\":{\"color\":\"white\"}},\"type\":\"table\"}]},\"layout\":{\"annotationdefaults\":{\"arrowcolor\":\"#2a3f5f\",\"arrowhead\":0,\"arrowwidth\":1},\"autotypenumbers\":\"strict\",\"coloraxis\":{\"colorbar\":{\"outlinewidth\":0,\"ticks\":\"\"}},\"colorscale\":{\"diverging\":[[0,\"#8e0152\"],[0.1,\"#c51b7d\"],[0.2,\"#de77ae\"],[0.3,\"#f1b6da\"],[0.4,\"#fde0ef\"],[0.5,\"#f7f7f7\"],[0.6,\"#e6f5d0\"],[0.7,\"#b8e186\"],[0.8,\"#7fbc41\"],[0.9,\"#4d9221\"],[1,\"#276419\"]],\"sequential\":[[0.0,\"#0d0887\"],[0.1111111111111111,\"#46039f\"],[0.2222222222222222,\"#7201a8\"],[0.3333333333333333,\"#9c179e\"],[0.4444444444444444,\"#bd3786\"],[0.5555555555555556,\"#d8576b\"],[0.6666666666666666,\"#ed7953\"],[0.7777777777777778,\"#fb9f3a\"],[0.8888888888888888,\"#fdca26\"],[1.0,\"#f0f921\"]],\"sequentialminus\":[[0.0,\"#0d0887\"],[0.1111111111111111,\"#46039f\"],[0.2222222222222222,\"#7201a8\"],[0.3333333333333333,\"#9c179e\"],[0.4444444444444444,\"#bd3786\"],[0.5555555555555556,\"#d8576b\"],[0.6666666666666666,\"#ed7953\"],[0.7777777777777778,\"#fb9f3a\"],[0.8888888888888888,\"#fdca26\"],[1.0,\"#f0f921\"]]},\"colorway\":[\"#636efa\",\"#EF553B\",\"#00cc96\",\"#ab63fa\",\"#FFA15A\",\"#19d3f3\",\"#FF6692\",\"#B6E880\",\"#FF97FF\",\"#FECB52\"],\"font\":{\"color\":\"#2a3f5f\"},\"geo\":{\"bgcolor\":\"white\",\"lakecolor\":\"white\",\"landcolor\":\"#E5ECF6\",\"showlakes\":true,\"showland\":true,\"subunitcolor\":\"white\"},\"hoverlabel\":{\"align\":\"left\"},\"hovermode\":\"closest\",\"mapbox\":{\"style\":\"light\"},\"paper_bgcolor\":\"white\",\"plot_bgcolor\":\"#E5ECF6\",\"polar\":{\"angularaxis\":{\"gridcolor\":\"white\",\"linecolor\":\"white\",\"ticks\":\"\"},\"bgcolor\":\"#E5ECF6\",\"radialaxis\":{\"gridcolor\":\"white\",\"linecolor\":\"white\",\"ticks\":\"\"}},\"scene\":{\"xaxis\":{\"backgroundcolor\":\"#E5ECF6\",\"gridcolor\":\"white\",\"gridwidth\":2,\"linecolor\":\"white\",\"showbackground\":true,\"ticks\":\"\",\"zerolinecolor\":\"white\"},\"yaxis\":{\"backgroundcolor\":\"#E5ECF6\",\"gridcolor\":\"white\",\"gridwidth\":2,\"linecolor\":\"white\",\"showbackground\":true,\"ticks\":\"\",\"zerolinecolor\":\"white\"},\"zaxis\":{\"backgroundcolor\":\"#E5ECF6\",\"gridcolor\":\"white\",\"gridwidth\":2,\"linecolor\":\"white\",\"showbackground\":true,\"ticks\":\"\",\"zerolinecolor\":\"white\"}},\"shapedefaults\":{\"line\":{\"color\":\"#2a3f5f\"}},\"ternary\":{\"aaxis\":{\"gridcolor\":\"white\",\"linecolor\":\"white\",\"ticks\":\"\"},\"baxis\":{\"gridcolor\":\"white\",\"linecolor\":\"white\",\"ticks\":\"\"},\"bgcolor\":\"#E5ECF6\",\"caxis\":{\"gridcolor\":\"white\",\"linecolor\":\"white\",\"ticks\":\"\"}},\"title\":{\"x\":0.05},\"xaxis\":{\"automargin\":true,\"gridcolor\":\"white\",\"linecolor\":\"white\",\"ticks\":\"\",\"title\":{\"standoff\":15},\"zerolinecolor\":\"white\",\"zerolinewidth\":2},\"yaxis\":{\"automargin\":true,\"gridcolor\":\"white\",\"linecolor\":\"white\",\"ticks\":\"\",\"title\":{\"standoff\":15},\"zerolinecolor\":\"white\",\"zerolinewidth\":2}}},\"yaxis\":{\"title\":{\"text\":\"Depth (m)\"},\"autorange\":\"reversed\",\"linecolor\":\"black\",\"mirror\":true,\"ticks\":\"outside\",\"showline\":true},\"xaxis\":{\"linecolor\":\"black\",\"mirror\":true,\"ticks\":\"outside\",\"showline\":true},\"width\":1500},                        {\"responsive\": true}                    ).then(function(){\n                            \nvar gd = document.getElementById('1f1ae4a1-ee18-4597-b90e-f2dcb914ed30');\nvar x = new MutationObserver(function (mutations, observer) {{\n        var display = window.getComputedStyle(gd).display;\n        if (!display || display === 'none') {{\n            console.log([gd, 'removed!']);\n            Plotly.purge(gd);\n            observer.disconnect();\n        }}\n}});\n\n// Listen for the removal of the full notebook cells\nvar notebookContainer = gd.closest('#notebook-container');\nif (notebookContainer) {{\n    x.observe(notebookContainer, {childList: true});\n}}\n\n// Listen for the clearing of the current output cell\nvar outputEl = gd.closest('.output');\nif (outputEl) {{\n    x.observe(outputEl, {childList: true});\n}}\n\n                        })                };                            </script>        </div>\n</body>\n</html>"
                },
                "metadata": {},
                "output_type": "display_data"
              }
            ]
          }
        },
        "db4bbb536f7244e8b77af68be8f8f911": {
          "model_module": "@jupyter-widgets/output",
          "model_module_version": "1.0.0",
          "model_name": "OutputModel",
          "state": {
            "_dom_classes": [],
            "_model_module": "@jupyter-widgets/output",
            "_model_module_version": "1.0.0",
            "_model_name": "OutputModel",
            "_view_count": null,
            "_view_module": "@jupyter-widgets/output",
            "_view_module_version": "1.0.0",
            "_view_name": "OutputView",
            "layout": "IPY_MODEL_d3d1be2055404496aee525c6bc706fea",
            "msg_id": "",
            "outputs": [
              {
                "data": {
                  "text/html": "<html>\n<head><meta charset=\"utf-8\" /></head>\n<body>\n    <div>            <script src=\"https://cdnjs.cloudflare.com/ajax/libs/mathjax/2.7.5/MathJax.js?config=TeX-AMS-MML_SVG\"></script><script type=\"text/javascript\">if (window.MathJax) {MathJax.Hub.Config({SVG: {font: \"STIX-Web\"}});}</script>                <script type=\"text/javascript\">window.PlotlyConfig = {MathJaxConfig: 'local'};</script>\n        <script src=\"https://cdn.plot.ly/plotly-2.8.3.min.js\"></script>                <div id=\"5a788ec1-6dfc-4c15-8ac8-a61e71388e6e\" class=\"plotly-graph-div\" style=\"height:525px; width:1500px;\"></div>            <script type=\"text/javascript\">                                    window.PLOTLYENV=window.PLOTLYENV || {};                                    if (document.getElementById(\"5a788ec1-6dfc-4c15-8ac8-a61e71388e6e\")) {                    Plotly.newPlot(                        \"5a788ec1-6dfc-4c15-8ac8-a61e71388e6e\",                        [{\"line\":{\"color\":\"black\"},\"name\":\"interannual mean\",\"x\":[8.0,22.0,36.0,50.0,64.0,78.0,92.0,106.0,120.0,134.0,148.0,162.0,176.0,190.0,204.0,218.0,232.0,246.0,260.0,274.0,288.0,302.0,316.0,330.0,344.0,358.0],\"y\":[27.668902175717456,28.123390148528205,28.180613890421427,27.74589604504476,25.24658079723735,24.75263276834258,19.19444103075363,14.384848343708095,13.479948914769261,14.667380709240522,14.300442372783964,15.204931196306136,20.457711413230708,21.06210685408961,22.834044490897114,24.175275625201056,23.929318924720377,22.048630621343772,15.57006067744046,17.543410282525787,21.5802125907243,21.878393990603374,23.75339807611658,24.65335613485612,26.4440067122592,26.809098398981657],\"type\":\"scatter\"},{\"line\":{\"color\":\"lightgrey\"},\"name\":\"interannual mean + 2*STD\",\"x\":[8.0,22.0,36.0,50.0,64.0,78.0,92.0,106.0,120.0,134.0,148.0,162.0,176.0,190.0,204.0,218.0,232.0,246.0,260.0,274.0,288.0,302.0,316.0,330.0,344.0,358.0],\"y\":[29.292253201590032,29.17963401432477,29.54954213995467,29.7159194649437,32.274366217713116,27.95517578180142,25.083758708547656,25.20434285550295,27.342065237633907,31.224431807267642,25.140279097282033,22.202375749161682,27.269355532736192,31.11008233678926,27.839915428496518,29.163076739901335,29.21371288476046,38.0021102497535,27.12159559703034,30.880104921345605,23.877895958844796,25.386632368937484,26.54014085008204,27.597586067081515,27.363863622376677,null],\"type\":\"scatter\"},{\"fill\":\"tonexty\",\"line\":{\"color\":\"lightgrey\"},\"name\":\"interannual mean - 2*STD\",\"x\":[8.0,22.0,36.0,50.0,64.0,78.0,92.0,106.0,120.0,134.0,148.0,162.0,176.0,190.0,204.0,218.0,232.0,246.0,260.0,274.0,288.0,302.0,316.0,330.0,344.0,358.0],\"y\":[26.04555114984488,27.067146282731642,26.811685640888182,25.77587262514582,18.218795376761584,21.55008975488374,13.305123352959605,3.565353831913237,-0.3821674080953841,-1.8896703887865982,3.460605648285897,8.207486643450592,13.646067293725224,11.014131371389958,17.82817355329771,19.187474510500778,18.644924964680293,6.095150992934048,4.018525757850583,4.206715643705971,19.282529222603806,18.370155612269265,20.966655302151118,21.709126202630728,25.52414980214172,null],\"type\":\"scatter\"},{\"customdata\":[[\"QNUT2096\"],[\"QNUT2156\"],[\"QNUT1922\"],[\"QNUT2186\"],[\"QNUT2167\"],[\"QNUT2181\"],[\"QNUT2256\"],[\"QNUT2242\"],[\"QNUT2264\"],[\"QNUT2298\"],[\"QNUT2344\"],[\"QNUT2469\"],[\"QNUT2436\"],[\"QNUT2390\"],[\"QNUT2399\"],[\"QNUT2524\"],[\"QNUT2501\"],[\"QNUT2479\"],[\"QNUT2569\"],[\"QNUT2581\"],[\"QNUT2606\"],[\"QNUT2645\"],[\"QNUT2668\"],[\"QNUT2682\"],[\"QNUT2706\"]],\"hovertemplate\":\"no2_no3_flag=AV<br>year=2016<br>dayoftheyear=%{x}<br>no2_no3_um=%{y}<br>hakai_id=%{customdata[0]}<extra></extra>\",\"legendgroup\":\"AV, 2016\",\"line\":{\"color\":\"#2ECC40\",\"dash\":\"solid\"},\"marker\":{\"symbol\":\"circle\"},\"mode\":\"lines+markers\",\"name\":\"AV, 2016\",\"orientation\":\"v\",\"showlegend\":true,\"x\":[99,105,119,130,140,151,158,161,172,183,203,214,224,235,245,255,266,276,286,296,314,320,331,338,350],\"xaxis\":\"x\",\"y\":[8.56825966583587,4.01659010405245,21.052816445966,21.8557706000694,12.7094006902415,6.53074200014419,16.738317847433,19.574826518507,18.5824077350246,25.4781295723995,19.8696034101319,26.682755510779,22.6872572208534,24.3525088946275,6.16406671541953,17.7606628153511,15.3083844037169,24.198008314503,20.4536869561903,21.5673511291259,23.9097625159027,24.6397449064447,24.6717812800648,26.1474435631298,26.8443378390114],\"yaxis\":\"y\",\"type\":\"scatter\"},{\"customdata\":[[\"QM69\"]],\"hovertemplate\":\"no2_no3_flag=MV<br>year=2016<br>dayoftheyear=%{x}<br>no2_no3_um=%{y}<br>hakai_id=%{customdata[0]}<extra></extra>\",\"legendgroup\":\"MV, 2016\",\"line\":{\"color\":\"#FFDC00\",\"dash\":\"solid\"},\"marker\":{\"symbol\":\"circle\"},\"mode\":\"markers\",\"name\":\"MV, 2016\",\"orientation\":\"v\",\"showlegend\":true,\"x\":[193],\"xaxis\":\"x\",\"y\":[null],\"yaxis\":\"y\",\"type\":\"scatter\"}],                        {\"template\":{\"data\":{\"bar\":[{\"error_x\":{\"color\":\"#2a3f5f\"},\"error_y\":{\"color\":\"#2a3f5f\"},\"marker\":{\"line\":{\"color\":\"#E5ECF6\",\"width\":0.5},\"pattern\":{\"fillmode\":\"overlay\",\"size\":10,\"solidity\":0.2}},\"type\":\"bar\"}],\"barpolar\":[{\"marker\":{\"line\":{\"color\":\"#E5ECF6\",\"width\":0.5},\"pattern\":{\"fillmode\":\"overlay\",\"size\":10,\"solidity\":0.2}},\"type\":\"barpolar\"}],\"carpet\":[{\"aaxis\":{\"endlinecolor\":\"#2a3f5f\",\"gridcolor\":\"white\",\"linecolor\":\"white\",\"minorgridcolor\":\"white\",\"startlinecolor\":\"#2a3f5f\"},\"baxis\":{\"endlinecolor\":\"#2a3f5f\",\"gridcolor\":\"white\",\"linecolor\":\"white\",\"minorgridcolor\":\"white\",\"startlinecolor\":\"#2a3f5f\"},\"type\":\"carpet\"}],\"choropleth\":[{\"colorbar\":{\"outlinewidth\":0,\"ticks\":\"\"},\"type\":\"choropleth\"}],\"contour\":[{\"colorbar\":{\"outlinewidth\":0,\"ticks\":\"\"},\"colorscale\":[[0.0,\"#0d0887\"],[0.1111111111111111,\"#46039f\"],[0.2222222222222222,\"#7201a8\"],[0.3333333333333333,\"#9c179e\"],[0.4444444444444444,\"#bd3786\"],[0.5555555555555556,\"#d8576b\"],[0.6666666666666666,\"#ed7953\"],[0.7777777777777778,\"#fb9f3a\"],[0.8888888888888888,\"#fdca26\"],[1.0,\"#f0f921\"]],\"type\":\"contour\"}],\"contourcarpet\":[{\"colorbar\":{\"outlinewidth\":0,\"ticks\":\"\"},\"type\":\"contourcarpet\"}],\"heatmap\":[{\"colorbar\":{\"outlinewidth\":0,\"ticks\":\"\"},\"colorscale\":[[0.0,\"#0d0887\"],[0.1111111111111111,\"#46039f\"],[0.2222222222222222,\"#7201a8\"],[0.3333333333333333,\"#9c179e\"],[0.4444444444444444,\"#bd3786\"],[0.5555555555555556,\"#d8576b\"],[0.6666666666666666,\"#ed7953\"],[0.7777777777777778,\"#fb9f3a\"],[0.8888888888888888,\"#fdca26\"],[1.0,\"#f0f921\"]],\"type\":\"heatmap\"}],\"heatmapgl\":[{\"colorbar\":{\"outlinewidth\":0,\"ticks\":\"\"},\"colorscale\":[[0.0,\"#0d0887\"],[0.1111111111111111,\"#46039f\"],[0.2222222222222222,\"#7201a8\"],[0.3333333333333333,\"#9c179e\"],[0.4444444444444444,\"#bd3786\"],[0.5555555555555556,\"#d8576b\"],[0.6666666666666666,\"#ed7953\"],[0.7777777777777778,\"#fb9f3a\"],[0.8888888888888888,\"#fdca26\"],[1.0,\"#f0f921\"]],\"type\":\"heatmapgl\"}],\"histogram\":[{\"marker\":{\"pattern\":{\"fillmode\":\"overlay\",\"size\":10,\"solidity\":0.2}},\"type\":\"histogram\"}],\"histogram2d\":[{\"colorbar\":{\"outlinewidth\":0,\"ticks\":\"\"},\"colorscale\":[[0.0,\"#0d0887\"],[0.1111111111111111,\"#46039f\"],[0.2222222222222222,\"#7201a8\"],[0.3333333333333333,\"#9c179e\"],[0.4444444444444444,\"#bd3786\"],[0.5555555555555556,\"#d8576b\"],[0.6666666666666666,\"#ed7953\"],[0.7777777777777778,\"#fb9f3a\"],[0.8888888888888888,\"#fdca26\"],[1.0,\"#f0f921\"]],\"type\":\"histogram2d\"}],\"histogram2dcontour\":[{\"colorbar\":{\"outlinewidth\":0,\"ticks\":\"\"},\"colorscale\":[[0.0,\"#0d0887\"],[0.1111111111111111,\"#46039f\"],[0.2222222222222222,\"#7201a8\"],[0.3333333333333333,\"#9c179e\"],[0.4444444444444444,\"#bd3786\"],[0.5555555555555556,\"#d8576b\"],[0.6666666666666666,\"#ed7953\"],[0.7777777777777778,\"#fb9f3a\"],[0.8888888888888888,\"#fdca26\"],[1.0,\"#f0f921\"]],\"type\":\"histogram2dcontour\"}],\"mesh3d\":[{\"colorbar\":{\"outlinewidth\":0,\"ticks\":\"\"},\"type\":\"mesh3d\"}],\"parcoords\":[{\"line\":{\"colorbar\":{\"outlinewidth\":0,\"ticks\":\"\"}},\"type\":\"parcoords\"}],\"pie\":[{\"automargin\":true,\"type\":\"pie\"}],\"scatter\":[{\"marker\":{\"colorbar\":{\"outlinewidth\":0,\"ticks\":\"\"}},\"type\":\"scatter\"}],\"scatter3d\":[{\"line\":{\"colorbar\":{\"outlinewidth\":0,\"ticks\":\"\"}},\"marker\":{\"colorbar\":{\"outlinewidth\":0,\"ticks\":\"\"}},\"type\":\"scatter3d\"}],\"scattercarpet\":[{\"marker\":{\"colorbar\":{\"outlinewidth\":0,\"ticks\":\"\"}},\"type\":\"scattercarpet\"}],\"scattergeo\":[{\"marker\":{\"colorbar\":{\"outlinewidth\":0,\"ticks\":\"\"}},\"type\":\"scattergeo\"}],\"scattergl\":[{\"marker\":{\"colorbar\":{\"outlinewidth\":0,\"ticks\":\"\"}},\"type\":\"scattergl\"}],\"scattermapbox\":[{\"marker\":{\"colorbar\":{\"outlinewidth\":0,\"ticks\":\"\"}},\"type\":\"scattermapbox\"}],\"scatterpolar\":[{\"marker\":{\"colorbar\":{\"outlinewidth\":0,\"ticks\":\"\"}},\"type\":\"scatterpolar\"}],\"scatterpolargl\":[{\"marker\":{\"colorbar\":{\"outlinewidth\":0,\"ticks\":\"\"}},\"type\":\"scatterpolargl\"}],\"scatterternary\":[{\"marker\":{\"colorbar\":{\"outlinewidth\":0,\"ticks\":\"\"}},\"type\":\"scatterternary\"}],\"surface\":[{\"colorbar\":{\"outlinewidth\":0,\"ticks\":\"\"},\"colorscale\":[[0.0,\"#0d0887\"],[0.1111111111111111,\"#46039f\"],[0.2222222222222222,\"#7201a8\"],[0.3333333333333333,\"#9c179e\"],[0.4444444444444444,\"#bd3786\"],[0.5555555555555556,\"#d8576b\"],[0.6666666666666666,\"#ed7953\"],[0.7777777777777778,\"#fb9f3a\"],[0.8888888888888888,\"#fdca26\"],[1.0,\"#f0f921\"]],\"type\":\"surface\"}],\"table\":[{\"cells\":{\"fill\":{\"color\":\"#EBF0F8\"},\"line\":{\"color\":\"white\"}},\"header\":{\"fill\":{\"color\":\"#C8D4E3\"},\"line\":{\"color\":\"white\"}},\"type\":\"table\"}]},\"layout\":{\"annotationdefaults\":{\"arrowcolor\":\"#2a3f5f\",\"arrowhead\":0,\"arrowwidth\":1},\"autotypenumbers\":\"strict\",\"coloraxis\":{\"colorbar\":{\"outlinewidth\":0,\"ticks\":\"\"}},\"colorscale\":{\"diverging\":[[0,\"#8e0152\"],[0.1,\"#c51b7d\"],[0.2,\"#de77ae\"],[0.3,\"#f1b6da\"],[0.4,\"#fde0ef\"],[0.5,\"#f7f7f7\"],[0.6,\"#e6f5d0\"],[0.7,\"#b8e186\"],[0.8,\"#7fbc41\"],[0.9,\"#4d9221\"],[1,\"#276419\"]],\"sequential\":[[0.0,\"#0d0887\"],[0.1111111111111111,\"#46039f\"],[0.2222222222222222,\"#7201a8\"],[0.3333333333333333,\"#9c179e\"],[0.4444444444444444,\"#bd3786\"],[0.5555555555555556,\"#d8576b\"],[0.6666666666666666,\"#ed7953\"],[0.7777777777777778,\"#fb9f3a\"],[0.8888888888888888,\"#fdca26\"],[1.0,\"#f0f921\"]],\"sequentialminus\":[[0.0,\"#0d0887\"],[0.1111111111111111,\"#46039f\"],[0.2222222222222222,\"#7201a8\"],[0.3333333333333333,\"#9c179e\"],[0.4444444444444444,\"#bd3786\"],[0.5555555555555556,\"#d8576b\"],[0.6666666666666666,\"#ed7953\"],[0.7777777777777778,\"#fb9f3a\"],[0.8888888888888888,\"#fdca26\"],[1.0,\"#f0f921\"]]},\"colorway\":[\"#636efa\",\"#EF553B\",\"#00cc96\",\"#ab63fa\",\"#FFA15A\",\"#19d3f3\",\"#FF6692\",\"#B6E880\",\"#FF97FF\",\"#FECB52\"],\"font\":{\"color\":\"#2a3f5f\"},\"geo\":{\"bgcolor\":\"white\",\"lakecolor\":\"white\",\"landcolor\":\"#E5ECF6\",\"showlakes\":true,\"showland\":true,\"subunitcolor\":\"white\"},\"hoverlabel\":{\"align\":\"left\"},\"hovermode\":\"closest\",\"mapbox\":{\"style\":\"light\"},\"paper_bgcolor\":\"white\",\"plot_bgcolor\":\"#E5ECF6\",\"polar\":{\"angularaxis\":{\"gridcolor\":\"white\",\"linecolor\":\"white\",\"ticks\":\"\"},\"bgcolor\":\"#E5ECF6\",\"radialaxis\":{\"gridcolor\":\"white\",\"linecolor\":\"white\",\"ticks\":\"\"}},\"scene\":{\"xaxis\":{\"backgroundcolor\":\"#E5ECF6\",\"gridcolor\":\"white\",\"gridwidth\":2,\"linecolor\":\"white\",\"showbackground\":true,\"ticks\":\"\",\"zerolinecolor\":\"white\"},\"yaxis\":{\"backgroundcolor\":\"#E5ECF6\",\"gridcolor\":\"white\",\"gridwidth\":2,\"linecolor\":\"white\",\"showbackground\":true,\"ticks\":\"\",\"zerolinecolor\":\"white\"},\"zaxis\":{\"backgroundcolor\":\"#E5ECF6\",\"gridcolor\":\"white\",\"gridwidth\":2,\"linecolor\":\"white\",\"showbackground\":true,\"ticks\":\"\",\"zerolinecolor\":\"white\"}},\"shapedefaults\":{\"line\":{\"color\":\"#2a3f5f\"}},\"ternary\":{\"aaxis\":{\"gridcolor\":\"white\",\"linecolor\":\"white\",\"ticks\":\"\"},\"baxis\":{\"gridcolor\":\"white\",\"linecolor\":\"white\",\"ticks\":\"\"},\"bgcolor\":\"#E5ECF6\",\"caxis\":{\"gridcolor\":\"white\",\"linecolor\":\"white\",\"ticks\":\"\"}},\"title\":{\"x\":0.05},\"xaxis\":{\"automargin\":true,\"gridcolor\":\"white\",\"linecolor\":\"white\",\"ticks\":\"\",\"title\":{\"standoff\":15},\"zerolinecolor\":\"white\",\"zerolinewidth\":2},\"yaxis\":{\"automargin\":true,\"gridcolor\":\"white\",\"linecolor\":\"white\",\"ticks\":\"\",\"title\":{\"standoff\":15},\"zerolinecolor\":\"white\",\"zerolinewidth\":2}}},\"yaxis\":{\"title\":{\"text\":\"no2_no3_um\"}},\"xaxis\":{\"title\":{\"text\":\"Day Of The Year\"}},\"width\":1500,\"title\":{\"text\":\"Interannual variability\"}},                        {\"responsive\": true}                    ).then(function(){\n                            \nvar gd = document.getElementById('5a788ec1-6dfc-4c15-8ac8-a61e71388e6e');\nvar x = new MutationObserver(function (mutations, observer) {{\n        var display = window.getComputedStyle(gd).display;\n        if (!display || display === 'none') {{\n            console.log([gd, 'removed!']);\n            Plotly.purge(gd);\n            observer.disconnect();\n        }}\n}});\n\n// Listen for the removal of the full notebook cells\nvar notebookContainer = gd.closest('#notebook-container');\nif (notebookContainer) {{\n    x.observe(notebookContainer, {childList: true});\n}}\n\n// Listen for the clearing of the current output cell\nvar outputEl = gd.closest('.output');\nif (outputEl) {{\n    x.observe(outputEl, {childList: true});\n}}\n\n                        })                };                            </script>        </div>\n</body>\n</html>"
                },
                "metadata": {},
                "output_type": "display_data"
              }
            ]
          }
        },
        "e3153979a99949fe816b4d9625e971f9": {
          "model_module": "@jupyter-widgets/controls",
          "model_module_version": "1.5.0",
          "model_name": "DescriptionStyleModel",
          "state": {
            "_model_module": "@jupyter-widgets/controls",
            "_model_module_version": "1.5.0",
            "_model_name": "DescriptionStyleModel",
            "_view_count": null,
            "_view_module": "@jupyter-widgets/base",
            "_view_module_version": "1.2.0",
            "_view_name": "StyleView",
            "description_width": ""
          }
        },
        "f6f23a2956044ba287fad3c5c5067fe5": {
          "model_module": "@jupyter-widgets/controls",
          "model_module_version": "1.5.0",
          "model_name": "DescriptionStyleModel",
          "state": {
            "_model_module": "@jupyter-widgets/controls",
            "_model_module_version": "1.5.0",
            "_model_name": "DescriptionStyleModel",
            "_view_count": null,
            "_view_module": "@jupyter-widgets/base",
            "_view_module_version": "1.2.0",
            "_view_name": "StyleView",
            "description_width": ""
          }
        }
      }
    }
  },
  "nbformat": 4,
  "nbformat_minor": 0
}
